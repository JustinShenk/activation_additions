{
 "cells": [
  {
   "attachments": {},
   "cell_type": "markdown",
   "metadata": {},
   "source": [
    "# LMs can handle linear combinations of prompts\n",
    "We survey a range of transformers, including:\n",
    "- Eleuther models\n",
    "- OPT models\n",
    "- SOLU models\n",
    "- GPT-2, both small and XL\n",
    "- Vicuna, a 13B finetuned model **???**"
   ]
  },
  {
   "cell_type": "code",
   "execution_count": 1,
   "metadata": {},
   "outputs": [],
   "source": [
    "# Imports\n",
    "try:\n",
    "    import algebraic_value_editing\n",
    "except ImportError:\n",
    "    commit = \"15bcf55\"  # Stable commit\n",
    "    get_ipython().run_line_magic(  # type: ignore\n",
    "        magic_name=\"pip\",\n",
    "        line=(\n",
    "            \"install -U\"\n",
    "            f\" git+https://github.com/montemac/algebraic_value_editing.git@{commit}\"\n",
    "        ),\n",
    "    )"
   ]
  },
  {
   "cell_type": "code",
   "execution_count": 2,
   "metadata": {},
   "outputs": [],
   "source": [
    "import torch\n",
    "import pandas as pd\n",
    "from typing import List, Dict\n",
    "\n",
    "from transformer_lens.HookedTransformer import HookedTransformer\n",
    "\n",
    "from algebraic_value_editing import hook_utils, prompt_utils, completion_utils\n",
    "from algebraic_value_editing.prompt_utils import ActivationAddition\n"
   ]
  },
  {
   "cell_type": "code",
   "execution_count": 3,
   "metadata": {},
   "outputs": [
    {
     "data": {
      "text/plain": [
       "<torch._C.Generator at 0x7f8a006f0b90>"
      ]
     },
     "execution_count": 3,
     "metadata": {},
     "output_type": "execute_result"
    }
   ],
   "source": [
    "DEVICE: str = \"cpu\"  # Default device\n",
    "DEFAULT_KWARGS: Dict = {\n",
    "    \"seed\": 0,\n",
    "    \"temperature\": 1.0,\n",
    "    \"freq_penalty\": 1.0,\n",
    "    \"top_p\": 0.3,\n",
    "    \"num_comparisons\": 5,\n",
    "}\n",
    "\n",
    "\n",
    "def load_model_tl(model_name: str, device: str = \"cpu\") -> HookedTransformer:\n",
    "    \"\"\"Loads a model on CPU and then transfers it to the device.\"\"\"\n",
    "    model: HookedTransformer = HookedTransformer.from_pretrained(\n",
    "        model_name, device=\"cpu\"\n",
    "    )\n",
    "    _ = model.to(device)\n",
    "    return model\n",
    "\n",
    "\n",
    "# Save memory by not computing gradients\n",
    "_ = torch.set_grad_enabled(False)\n",
    "torch.manual_seed(0)  # For reproducibility\n"
   ]
  },
  {
   "attachments": {},
   "cell_type": "markdown",
   "metadata": {},
   "source": [
    "## Starting off with GPT-2 small\n",
    "We use \"activation additions\" to combine prompts."
   ]
  },
  {
   "cell_type": "code",
   "execution_count": 4,
   "metadata": {},
   "outputs": [
    {
     "name": "stderr",
     "output_type": "stream",
     "text": [
      "Using pad_token, but it is not set yet.\n"
     ]
    },
    {
     "name": "stdout",
     "output_type": "stream",
     "text": [
      "Loaded pretrained model gpt2-xl into HookedTransformer\n",
      "Moving model to device:  cpu\n"
     ]
    }
   ],
   "source": [
    "gpt2small: HookedTransformer = load_model_tl(\n",
    "    model_name=\"gpt2-xl\", device=DEVICE\n",
    ")"
   ]
  },
  {
   "cell_type": "code",
   "execution_count": 5,
   "metadata": {},
   "outputs": [],
   "source": [
    "completion_utils.print_n_comparisons(\n",
    "    model=gpt2small,\n",
    "    prompt=\"Fred likes squares. What does Fred like? What does Velma like?\",\n",
    "    activation_additions=[\n",
    "        ActivationAddition(prompt=\"Velma likes dogs.\", coeff=1, act_name=0)\n",
    "    ],\n",
    "    **DEFAULT_KWARGS,\n",
    ")"
   ]
  },
  {
   "cell_type": "code",
   "execution_count": 5,
   "metadata": {},
   "outputs": [
    {
     "name": "stdout",
     "output_type": "stream",
     "text": [
      "['<|endoftext|>', 'Ge', 'ese', ' are', ' chasing', ' UFOs']\n",
      "['<|endoftext|>', 'John', ' left', ' the', ' store', ' and', ' went', ' outside', '.', ' He', ' saw', ' his', ' friend', ' who', ' said', \" '\", 'Hey', ',', ' your', ' name', ' is']\n"
     ]
    }
   ],
   "source": [
    "goose_ufo_prompts: List[ActivationAddition] = [\n",
    "    ActivationAddition(prompt=\"Geese are chasing UFOs\", coeff=1.0, act_name=0),\n",
    "]\n",
    "prompt: str = (\n",
    "    \"John left the store and went outside. He saw his friend who said 'Hey,\"\n",
    "    \" your name is\"\n",
    ")\n",
    "\n",
    "print(gpt2small.to_str_tokens(goose_ufo_prompts[0].prompt))\n",
    "print(gpt2small.to_str_tokens(prompt))"
   ]
  },
  {
   "cell_type": "code",
   "execution_count": 6,
   "metadata": {},
   "outputs": [
    {
     "name": "stdout",
     "output_type": "stream",
     "text": [
      "+--------------------------------------------------------------+--------------------------------------------------------------+\n",
      "|                    \u001b[1mUnsteered completions\u001b[0m                     |                     \u001b[1mSteered completions\u001b[0m                      |\n",
      "+--------------------------------------------------------------+--------------------------------------------------------------+\n",
      "|   \u001b[1mJohn left the store and went outside. He saw his friend    |   \u001b[1mJohn left the store and went outside. He saw his friend    |\n",
      "|              who said 'Hey, your name is\u001b[0m John.'              |   who said 'Hey, your name is\u001b[0m Simon'. He said 'Yeah, I am    |\n",
      "|                                                              |        Simon'. And he was just like a normal person.         |\n",
      "|  \"I said, 'Yeah,' and he said, 'You're not going to believe  |                                                              |\n",
      "|      this. I'm going to be a big star in Hollywood.' \"       |  Then he saw another guy in a green suit with a gun. And he  |\n",
      "|                                                              |                         was just lik                         |\n",
      "|                           That was                           |                                                              |\n",
      "+--------------------------------------------------------------+--------------------------------------------------------------+\n",
      "|   \u001b[1mJohn left the store and went outside. He saw his friend    |   \u001b[1mJohn left the store and went outside. He saw his friend    |\n",
      "|   who said 'Hey, your name is\u001b[0m John' and he asked him what    |              who said 'Hey, your name is\u001b[0m David'              |\n",
      "|            his name was. The man said 'I'm John'.            |                                                              |\n",
      "|                                                              | It was a warm day in early August, and David's friends were  |\n",
      "| John then asked him if he was going to kill himself because  |   hanging out at a local park when they noticed something    |\n",
      "|               he had a girlfriend and they wer               |          strange. \"I looked up to see what it was,\"          |\n",
      "+--------------------------------------------------------------+--------------------------------------------------------------+\n",
      "|   \u001b[1mJohn left the store and went outside. He saw his friend    |   \u001b[1mJohn left the store and went outside. He saw his friend    |\n",
      "|    who said 'Hey, your name is\u001b[0m John' and he was like 'Oh     |    who said 'Hey, your name is\u001b[0m John' and he was like 'Oh     |\n",
      "|                       yeah, I'm John.'                       | yeah, I'm John'. And then he saw the other guy who was like  |\n",
      "|                                                              |      'Hey, your name is Bob' and he was like 'Oh yeah,       |\n",
      "|  \"I asked him what happened and he said he had to go to the  |                                                              |\n",
      "|             bathroom. I asked him if it was okay             |                                                              |\n",
      "+--------------------------------------------------------------+--------------------------------------------------------------+\n",
      "|   \u001b[1mJohn left the store and went outside. He saw his friend    |   \u001b[1mJohn left the store and went outside. He saw his friend    |\n",
      "|   who said 'Hey, your name is\u001b[0m John.' John replied, 'Yeah.'   |   who said 'Hey, your name is\u001b[0m Jason'. He asked him what he   |\n",
      "| The friend asked, 'You're not in a good mood?' John replied, |   was doing there. The guy said he was just taking a nap.    |\n",
      "|   'No.' The friend asked if he was going to be okay. John    | Jason said that they were playing games and then they heard  |\n",
      "|                            repli                             |                 a loud noise like a car back                 |\n",
      "+--------------------------------------------------------------+--------------------------------------------------------------+\n",
      "|   \u001b[1mJohn left the store and went outside. He saw his friend    |   \u001b[1mJohn left the store and went outside. He saw his friend    |\n",
      "|   who said 'Hey, your name is\u001b[0m John' and then he started to   |     who said 'Hey, your name is\u001b[0m Geese.' And he was like      |\n",
      "| run away. John ran after him and they both fell down on the  |                      'Yeah, I'm Geese.'                      |\n",
      "|                           ground.                            |                                                              |\n",
      "|                                                              |  \"And then he said 'I know you're not a human being but you  |\n",
      "|    \"I got up and started chasing him,\" John said. \"He was    |                  are an alien. You're from                   |\n",
      "+--------------------------------------------------------------+--------------------------------------------------------------+\n"
     ]
    }
   ],
   "source": [
    "completion_utils.print_n_comparisons(\n",
    "    model=gpt2small,\n",
    "    prompt=prompt,\n",
    "    activation_additions=goose_ufo_prompts,\n",
    "    **DEFAULT_KWARGS\n",
    ")"
   ]
  },
  {
   "attachments": {},
   "cell_type": "markdown",
   "metadata": {},
   "source": [
    "To what extent is the information about the store retained? Is it just\n",
    "getting overwritten by the other prompt? We find that both the store and\n",
    "UFO tokens are visible to the model."
   ]
  },
  {
   "cell_type": "code",
   "execution_count": 7,
   "metadata": {},
   "outputs": [
    {
     "name": "stdout",
     "output_type": "stream",
     "text": [
      "+--------------------------------------------------------------+--------------------------------------------------------------+\n",
      "|                    \u001b[1mUnsteered completions\u001b[0m                     |                     \u001b[1mSteered completions\u001b[0m                      |\n",
      "+--------------------------------------------------------------+--------------------------------------------------------------+\n",
      "|   \u001b[1mJohn left the store and went outside. He saw his friend    |   \u001b[1mJohn left the store and went outside. He saw his friend    |\n",
      "|     who said 'Hey, you just came out of a\u001b[0m liquor store.'     |         who said 'Hey, you just came out of a\u001b[0m UFO'.          |\n",
      "|   John was confused because he had just bought a bottle of   |                                                              |\n",
      "|                            vodka.                            | A young man from North Carolina has come forward to tell his |\n",
      "|                                                              |    story about what he saw while shopping at a Walmart in    |\n",
      "|  \"I said, 'What's going on?' He said, 'You're in the wrong   |                Fayetteville, North Carolina.                 |\n",
      "|                           place.'\"                           |                                                              |\n",
      "|                                                              |                      The young man says                      |\n",
      "+--------------------------------------------------------------+--------------------------------------------------------------+\n",
      "|   \u001b[1mJohn left the store and went outside. He saw his friend    |   \u001b[1mJohn left the store and went outside. He saw his friend    |\n",
      "|     who said 'Hey, you just came out of a\u001b[0m store and I'm      |   who said 'Hey, you just came out of a\u001b[0m store, what's up?'   |\n",
      "|  sorry for what happened.' John said 'I don't care, I'm not  |                                                              |\n",
      "| mad at you.' The friend said 'Well, if you're not mad at me  | \"I was like 'What do you mean? I just came out of a store.'  |\n",
      "|                         then why di                          |          He said 'You're not supposed to be here.'\"          |\n",
      "|                                                              |                                                              |\n",
      "|                                                              |                              I                               |\n",
      "+--------------------------------------------------------------+--------------------------------------------------------------+\n",
      "|   \u001b[1mJohn left the store and went outside. He saw his friend    |   \u001b[1mJohn left the store and went outside. He saw his friend    |\n",
      "|   who said 'Hey, you just came out of a\u001b[0m store with a gun.'   |        who said 'Hey, you just came out of a\u001b[0m store.'         |\n",
      "|   John was confused and said 'What? What's going on?' His    |                                                              |\n",
      "|    friend replied 'I'm not sure, but I think someone just    |        \"I was like, 'What?' I thought he was joking.\"        |\n",
      "|          robbed the place.' John was confused agai           |                                                              |\n",
      "|                                                              | He looked at his friend and said \"Yeah, it's true.\" Then he  |\n",
      "|                                                              |                       started to cry.                        |\n",
      "+--------------------------------------------------------------+--------------------------------------------------------------+\n",
      "|   \u001b[1mJohn left the store and went outside. He saw his friend    |   \u001b[1mJohn left the store and went outside. He saw his friend    |\n",
      "|   who said 'Hey, you just came out of a\u001b[0m mall.' John asked    |   who said 'Hey, you just came out of a\u001b[0m UFO'. He asked him   |\n",
      "|   him what he was talking about. The friend said 'You just   | what he was talking about. The friend said 'It's not a UFO,  |\n",
      "| came out of a mall, right?' John replied 'Yeah.' The friend  |    it's an alien'. So they started talking about UFOs and    |\n",
      "|                  said 'Oh yeah, I know wha                   |               aliens and how we are all connec               |\n",
      "+--------------------------------------------------------------+--------------------------------------------------------------+\n",
      "|   \u001b[1mJohn left the store and went outside. He saw his friend    |   \u001b[1mJohn left the store and went outside. He saw his friend    |\n",
      "|    who said 'Hey, you just came out of a\u001b[0m store with a bag    |   who said 'Hey, you just came out of a\u001b[0m store.' He looked    |\n",
      "| full of drugs.' John replied 'Yeah, I just got out of jail.' |                at him and said 'Yeah, I did.'                |\n",
      "|   The friend asked him if he was going to jail for selling   |                                                              |\n",
      "|                 drugs. John said no. The fri                 |  The man then saw a big blue light in the sky. The man told  |\n",
      "|                                                              |         his friend to get back inside because he was         |\n",
      "+--------------------------------------------------------------+--------------------------------------------------------------+\n"
     ]
    }
   ],
   "source": [
    "completion_utils.print_n_comparisons(\n",
    "    model=gpt2small,\n",
    "    prompt=(\n",
    "        \"John left the store and went outside. He saw his friend who said\"\n",
    "        \" 'Hey, you just came out of a\"\n",
    "    ),\n",
    "    activation_additions=goose_ufo_prompts,\n",
    "    **DEFAULT_KWARGS\n",
    ")"
   ]
  },
  {
   "attachments": {},
   "cell_type": "markdown",
   "metadata": {},
   "source": [
    "Now let's use a word-count metric to see how often geese are mentioned\n",
    "in the generated text, across coefficients of the activation addition."
   ]
  },
  {
   "cell_type": "code",
   "execution_count": 8,
   "metadata": {},
   "outputs": [
    {
     "name": "stdout",
     "output_type": "stream",
     "text": [
      "+--------------------------------------------------------------+--------------------------------------------------------------+\n",
      "|                    \u001b[1mUnsteered completions\u001b[0m                     |                     \u001b[1mSteered completions\u001b[0m                      |\n",
      "+--------------------------------------------------------------+--------------------------------------------------------------+\n",
      "|    \u001b[1mFred was tired of working from home all day. He walked    |    \u001b[1mFred was tired of working from home all day. He walked    |\n",
      "|    outside and saw\u001b[0m a woman standing in the middle of the     |    outside and saw\u001b[0m Shrek and Fiona, who were walking hand    |\n",
      "|  street. She was wearing a white dress, with her hair down   | in hand. Fred's eyes got big when he saw the lovebirds, but  |\n",
      "|               and she had a smile on her face.               |        then he noticed that they were holding hands.         |\n",
      "|                                                              |                                                              |\n",
      "|                   \"Hello,\" he said to her,                   |                        \"What are you                         |\n",
      "+--------------------------------------------------------------+--------------------------------------------------------------+\n",
      "|    \u001b[1mFred was tired of working from home all day. He walked    |    \u001b[1mFred was tired of working from home all day. He walked    |\n",
      "|      outside and saw\u001b[0m a sign for a nearby restaurant. He      |   outside and saw\u001b[0m Shrek, but he didn't know it was him. He   |\n",
      "| thought it would be a good idea to go in and get some food,  | thought it was a guy dressed up as Shrek. Fred said that the |\n",
      "|    but when he got there, he realized that the place was     |         guy is wearing a wig and he's got some shoes         |\n",
      "|                     closed. Fred decided                     |                                                              |\n",
      "+--------------------------------------------------------------+--------------------------------------------------------------+\n",
      "|    \u001b[1mFred was tired of working from home all day. He walked    |    \u001b[1mFred was tired of working from home all day. He walked    |\n",
      "|    outside and saw\u001b[0m a big red car driving down the street.    |     outside and saw\u001b[0m Shrek in the middle of a huge crowd,     |\n",
      "|  It was his friend Jim, who had been driving for two years   |   with people around him trying to get a picture. Fred ran   |\n",
      "|  and had a bad back. Fred said he didn't know how to drive,  |  over and asked if he could take a picture with him. Shrek   |\n",
      "|                            but h                             |                      said that he does                       |\n",
      "+--------------------------------------------------------------+--------------------------------------------------------------+\n",
      "|    \u001b[1mFred was tired of working from home all day. He walked    |    \u001b[1mFred was tired of working from home all day. He walked    |\n",
      "|    outside and saw\u001b[0m a large crowd gathered around the city    |      outside and saw\u001b[0m Shrek's van parked in front of the      |\n",
      "|   hall. He walked up to them and asked, \"What's going on?\"   |    apartment building, which is where he lives. Fred goes    |\n",
      "|                                                              |   inside and sees Shrek, who is sitting on a couch with a    |\n",
      "|   \"We're protesting against the mayor's new ordinance that   |                  bottle of wine. Fred asks                   |\n",
      "|                     will make it illegal                     |                                                              |\n",
      "+--------------------------------------------------------------+--------------------------------------------------------------+\n",
      "|    \u001b[1mFred was tired of working from home all day. He walked    |    \u001b[1mFred was tired of working from home all day. He walked    |\n",
      "|    outside and saw\u001b[0m a car parked in front of his house. He    |   outside and saw\u001b[0m Shrek on the front lawn, looking at his    |\n",
      "| looked inside and saw a man with a gun. Fred called 911, but |  garden. Fred asked him if he was going to see the animals   |\n",
      "|                the man didn't leave the car.                 | today, but Shrek said no. Fred asked why not? Shrek said tha |\n",
      "|                                                              |                                                              |\n",
      "|                         \"I got my ph                         |                                                              |\n",
      "+--------------------------------------------------------------+--------------------------------------------------------------+\n"
     ]
    }
   ],
   "source": [
    "completion_utils.print_n_comparisons(\n",
    "    model=gpt2small,\n",
    "    prompt=(\n",
    "        \"Fred was tired of working from home all day. He walked outside\"\n",
    "        \" and saw\"\n",
    "    ),\n",
    "    activation_additions=[\n",
    "        ActivationAddition(\n",
    "            prompt=\"Fred is about to see Shrek\", coeff=3, act_name=0\n",
    "        )\n",
    "    ],\n",
    "    **DEFAULT_KWARGS,\n",
    ")"
   ]
  },
  {
   "cell_type": "code",
   "execution_count": 14,
   "metadata": {},
   "outputs": [
    {
     "name": "stdout",
     "output_type": "stream",
     "text": [
      "+--------------------------------------------------------------+--------------------------------------------------------------+\n",
      "|                    \u001b[1mUnsteered completions\u001b[0m                     |                     \u001b[1mSteered completions\u001b[0m                      |\n",
      "+--------------------------------------------------------------+--------------------------------------------------------------+\n",
      "|    \u001b[1mFred was tired of working from home all day. He walked    |    \u001b[1mFred was tired of working from home all day. He walked    |\n",
      "|    outside and said 'I'm so tired of working\u001b[0m from home, I    |      outside and said 'I'm so tired of working\u001b[0m today.'       |\n",
      "|                 want to work at a real job.'                 |                                                              |\n",
      "|                                                              |   The following morning, Fred was still at work. Shrek had   |\n",
      "|  He had been looking for a job for over a year and finally   |   been out in the woods for a while and Fred had to get up   |\n",
      "|      found one that he liked. He was excited about the       |            early to make sure he got there on tim            |\n",
      "|                         opportunity                          |                                                              |\n",
      "+--------------------------------------------------------------+--------------------------------------------------------------+\n",
      "|    \u001b[1mFred was tired of working from home all day. He walked    |    \u001b[1mFred was tired of working from home all day. He walked    |\n",
      "|   outside and said 'I'm so tired of working\u001b[0m from home, I'm   |    outside and said 'I'm so tired of working\u001b[0m for the man'    |\n",
      "|                  going to work at my job.'                   |  and went back inside. I think he's just trying to get some  |\n",
      "|                                                              |      sleep, but he's still got a long day ahead of him!      |\n",
      "|  He said he would come back later in the day and get a real  |                                                              |\n",
      "|         job. But he never came back. He went to his          |                   In the meantime, Fred is                   |\n",
      "+--------------------------------------------------------------+--------------------------------------------------------------+\n",
      "|    \u001b[1mFred was tired of working from home all day. He walked    |    \u001b[1mFred was tired of working from home all day. He walked    |\n",
      "|    outside and said 'I'm so tired of working\u001b[0m from home, I    |   outside and said 'I'm so tired of working\u001b[0m on this movie,   |\n",
      "| want to go back to work.' He said he would be happy to come  |  I'm going to go to the beach.' So he went to the beach. He  |\n",
      "|  back if they gave him a raise. The boss said no, but that   |              went for a walk and he saw Shrek.\"              |\n",
      "|                they could pay him more money                 |                                                              |\n",
      "|                                                              |                      - Jim Carrey, in a                      |\n",
      "+--------------------------------------------------------------+--------------------------------------------------------------+\n",
      "|    \u001b[1mFred was tired of working from home all day. He walked    |    \u001b[1mFred was tired of working from home all day. He walked    |\n",
      "|    outside and said 'I'm so tired of working\u001b[0m from home, I    |      outside and said 'I'm so tired of working\u001b[0m today.'       |\n",
      "|                  want to go back to work'.                   |                                                              |\n",
      "|                                                              |      Shrek: The Musical (2009) Cast: Fred Savage, Peter      |\n",
      "|   \"So I said 'I'll pay you $100 a week for the rest of the   |            Sarsgaard, John Candy, Dwayne Johnson             |\n",
      "|                    year' and he said 'No,                    |                                                              |\n",
      "|                                                              |             Fred is about to see Shrek all day.              |\n",
      "+--------------------------------------------------------------+--------------------------------------------------------------+\n",
      "|    \u001b[1mFred was tired of working from home all day. He walked    |    \u001b[1mFred was tired of working from home all day. He walked    |\n",
      "|    outside and said 'I'm so tired of working\u001b[0m from home, I    |      outside and said 'I'm so tired of working\u001b[0m for the       |\n",
      "|   want to go to work'. So he went out and started his own    |                         government.'                         |\n",
      "|                          business.                           |                                                              |\n",
      "|                                                              | He's about to see Shrek all day. He walked outside and said  |\n",
      "| When Fred's first customers came in, they were amazed at how |  'I'm so tired of working for the government.'<|endoftext|>  |\n",
      "|                  well the products worked.                   |                                                              |\n",
      "+--------------------------------------------------------------+--------------------------------------------------------------+\n"
     ]
    }
   ],
   "source": [
    "completion_utils.print_n_comparisons(\n",
    "    model=gpt2small,\n",
    "    prompt=(\n",
    "        \"Fred was tired of working from home all day. He walked outside\"\n",
    "        \" and said 'I'm so tired of working\"\n",
    "    ),\n",
    "    activation_additions=[\n",
    "        ActivationAddition(\n",
    "            prompt=\"Fred is about to see Shrek\", coeff=3, act_name=0\n",
    "        )\n",
    "    ],\n",
    "    **DEFAULT_KWARGS,\n",
    ")"
   ]
  },
  {
   "cell_type": "code",
   "execution_count": 17,
   "metadata": {},
   "outputs": [
    {
     "name": "stdout",
     "output_type": "stream",
     "text": [
      "+--------------------------------------------------------------+--------------------------------------------------------------+\n",
      "|                    \u001b[1mUnsteered completions\u001b[0m                     |                     \u001b[1mSteered completions\u001b[0m                      |\n",
      "+--------------------------------------------------------------+--------------------------------------------------------------+\n",
      "|    \u001b[1mFred was tired of working from home all day. He walked    |    \u001b[1mFred was tired of working from home all day. He walked    |\n",
      "|    outside and saw\u001b[0m a woman standing in the middle of the     |   outside and saw\u001b[0m the geese running in circles. They were    |\n",
      "|  street. She was wearing a white dress, with her hair down   | trying to get away from something, but he couldn't see what  |\n",
      "|               and she had a smile on her face.               | it was. He went back inside and found his wife crying in the |\n",
      "|                                                              |                      kitchen, holding a                      |\n",
      "|                   \"Hello,\" he said to her,                   |                                                              |\n",
      "+--------------------------------------------------------------+--------------------------------------------------------------+\n",
      "|    \u001b[1mFred was tired of working from home all day. He walked    |    \u001b[1mFred was tired of working from home all day. He walked    |\n",
      "|      outside and saw\u001b[0m a sign for a nearby restaurant. He      |     outside and saw\u001b[0m a large flock of geese flying in the     |\n",
      "| thought it would be a good idea to go in and get some food,  |  sky. He said, \"I'm going to go inside and see what's going  |\n",
      "|    but when he got there, he realized that the place was     |    on.\" The next thing he knew, he was standing in front     |\n",
      "|                     closed. Fred decided                     |                                                              |\n",
      "+--------------------------------------------------------------+--------------------------------------------------------------+\n",
      "|    \u001b[1mFred was tired of working from home all day. He walked    |    \u001b[1mFred was tired of working from home all day. He walked    |\n",
      "|    outside and saw\u001b[0m a big red car driving down the street.    |    outside and saw\u001b[0m a huge flock of geese, which were in a    |\n",
      "|  It was his friend Jim, who had been driving for two years   | circle, circling the house. The birds were flying around the |\n",
      "|  and had a bad back. Fred said he didn't know how to drive,  |         house and even trying to fly over his head.          |\n",
      "|                            but h                             |                                                              |\n",
      "|                                                              |                         He said: \"I                          |\n",
      "+--------------------------------------------------------------+--------------------------------------------------------------+\n",
      "|    \u001b[1mFred was tired of working from home all day. He walked    |    \u001b[1mFred was tired of working from home all day. He walked    |\n",
      "|    outside and saw\u001b[0m a large crowd gathered around the city    |    outside and saw\u001b[0m the geese flying in formation, then he    |\n",
      "|   hall. He walked up to them and asked, \"What's going on?\"   |   heard a loud noise. He looked up and saw a huge UFO with   |\n",
      "|                                                              | lights coming out of it. It had wings, and it was going very |\n",
      "|   \"We're protesting against the mayor's new ordinance that   |                            fast!                             |\n",
      "|                     will make it illegal                     |                                                              |\n",
      "+--------------------------------------------------------------+--------------------------------------------------------------+\n",
      "|    \u001b[1mFred was tired of working from home all day. He walked    |    \u001b[1mFred was tired of working from home all day. He walked    |\n",
      "|    outside and saw\u001b[0m a car parked in front of his house. He    |    outside and saw\u001b[0m a huge flock of geese in the sky. They    |\n",
      "| looked inside and saw a man with a gun. Fred called 911, but |    were flying low, and he could see them coming at him.     |\n",
      "|                the man didn't leave the car.                 |                                                              |\n",
      "|                                                              |   The geese were flying very fast, but he didn't know why    |\n",
      "|                         \"I got my ph                         |                                                              |\n",
      "+--------------------------------------------------------------+--------------------------------------------------------------+\n"
     ]
    }
   ],
   "source": [
    "completion_utils.print_n_comparisons(\n",
    "    model=gpt2small,\n",
    "    prompt=(\n",
    "        \"Fred was tired of working from home all day. He walked outside\"\n",
    "        \" and saw\"\n",
    "    ),\n",
    "    activation_additions=[\n",
    "        ActivationAddition(\n",
    "            prompt=\"Geese are chasing UFOs outside\", coeff=2, act_name=0\n",
    "        )\n",
    "    ],\n",
    "    **DEFAULT_KWARGS,\n",
    ")"
   ]
  },
  {
   "cell_type": "code",
   "execution_count": 12,
   "metadata": {},
   "outputs": [
    {
     "name": "stdout",
     "output_type": "stream",
     "text": [
      "+--------------------------------------------------------------+--------------------------------------------------------------+\n",
      "|                    \u001b[1mUnsteered completions\u001b[0m                     |                     \u001b[1mSteered completions\u001b[0m                      |\n",
      "+--------------------------------------------------------------+--------------------------------------------------------------+\n",
      "|    \u001b[1mFred was tired of working from home all day. He walked    |    \u001b[1mFred was tired of working from home all day. He walked    |\n",
      "|   outside and saw AAA B\u001b[0mikers riding their bikes. They were   |    outside and saw AAA B\u001b[0mUCKETHEADS. He asked if they were    |\n",
      "|   dressed in full leathers, and Fred thought it would be a   | going to be at the game, and they said yes. So he went over  |\n",
      "| great idea to go out with them for a ride. The next thing he |       to the team's bus and got on the bus with them.        |\n",
      "|                         knew, he was                         |                                                              |\n",
      "+--------------------------------------------------------------+--------------------------------------------------------------+\n",
      "|    \u001b[1mFred was tired of working from home all day. He walked    |    \u001b[1mFred was tired of working from home all day. He walked    |\n",
      "|   outside and saw AAA B\u001b[0miker's, a motorcycle club that had    |    outside and saw AAA B\u001b[0mABB. I told him to get in the car    |\n",
      "|   a clubhouse in the area. Fred thought it would be fun to   |                and we went back to the house.                |\n",
      "|  join the club and get his own bike. He called AAA Biker's   |                                                              |\n",
      "|                      and asked if they                       | The next morning, I was on my way to work when I got a call  |\n",
      "|                                                              |                           from BBB                           |\n",
      "+--------------------------------------------------------------+--------------------------------------------------------------+\n",
      "|    \u001b[1mFred was tired of working from home all day. He walked    |    \u001b[1mFred was tired of working from home all day. He walked    |\n",
      "|    outside and saw AAA B\u001b[0mikes in the parking lot. He asked    |    outside and saw AAA B\u001b[0mABB in the middle of the street.     |\n",
      "| if he could borrow a bike, and they said yes. Fred bought a  |                                                              |\n",
      "|      $50 mountain bike for his wife to ride around the       | He got out of his car and ran to AAA BABB, who was lying on  |\n",
      "|                neighborhood with him, but sh                 |              the ground with a gun in his hand.              |\n",
      "|                                                              |                                                              |\n",
      "|                                                              |                                                              |\n",
      "+--------------------------------------------------------------+--------------------------------------------------------------+\n",
      "|    \u001b[1mFred was tired of working from home all day. He walked    |    \u001b[1mFred was tired of working from home all day. He walked    |\n",
      "|     outside and saw AAA B\u001b[0mikers on the corner. They were      |     outside and saw AAA B\u001b[0mOB on the street. He said \"I'll     |\n",
      "|  riding their bikes around, yelling at cars and making sure  |                      give you a ride.\"                       |\n",
      "| no one got hurt. Fred decided to join them for a ride around |                                                              |\n",
      "|              town, so he called his friend Kevi              | Bobby got in the car and drove to AAA BOB's house. They got  |\n",
      "|                                                              |                   out of the car and walk                    |\n",
      "+--------------------------------------------------------------+--------------------------------------------------------------+\n",
      "|    \u001b[1mFred was tired of working from home all day. He walked    |    \u001b[1mFred was tired of working from home all day. He walked    |\n",
      "|    outside and saw AAA B\u001b[0mikes, a bike shop in the heart of    |   outside and saw AAA B\u001b[0mABB on the way to work. He ran over   |\n",
      "|  downtown Denver. Fred knew he could get a great deal on a   |  and asked what he was doing there, but they said they were  |\n",
      "|       new bike, so he went in and bought one for $99.        |            just going to go in for a quick bite.             |\n",
      "|                                                              |                                                              |\n",
      "|                            He di                             |                        The next day,                         |\n",
      "+--------------------------------------------------------------+--------------------------------------------------------------+\n"
     ]
    }
   ],
   "source": [
    "aaa_adds = [ActivationAddition(prompt=\"AAA BBB CCC\", coeff=3, act_name=0)]\n",
    "\n",
    "completion_utils.print_n_comparisons(\n",
    "    model=gpt2small,\n",
    "    prompt=(\n",
    "        \"Fred was tired of working from home all day. He walked outside and\"\n",
    "        \" saw AAA B\"\n",
    "    ),\n",
    "    tokens_to_generate=40,\n",
    "    activation_additions=aaa_adds,\n",
    "    **DEFAULT_KWARGS\n",
    ")"
   ]
  },
  {
   "cell_type": "code",
   "execution_count": 16,
   "metadata": {},
   "outputs": [
    {
     "name": "stdout",
     "output_type": "stream",
     "text": [
      "+--------------------------------------------------------------+--------------------------------------------------------------+\n",
      "|                    \u001b[1mUnsteered completions\u001b[0m                     |                     \u001b[1mSteered completions\u001b[0m                      |\n",
      "+--------------------------------------------------------------+--------------------------------------------------------------+\n",
      "|   \u001b[1mMartha wanted to kill Fred. He looked at her smugly from   |   \u001b[1mMartha wanted to kill Fred. He looked at her smugly from   |\n",
      "| across the couch, controller still in hand. Martha started a | across the couch, controller still in hand. Martha started a |\n",
      "|    tirade. 'I hate you\u001b[0m!' she screamed, as Fred kicked her    |    tirade. 'I hate you\u001b[0m!' she shouted, and began pounding     |\n",
      "|         in the stomach and threw her onto the floor.         |                   the table with her fist.                   |\n",
      "|                                                              |                                                              |\n",
      "|   'No!' he shouted back, as he kicked her again and again    |  'I'm not your figment,' said Fred in a high-pitched voice,  |\n",
      "|                  until she was on the floor                  |                      'and I don't want                       |\n",
      "+--------------------------------------------------------------+--------------------------------------------------------------+\n",
      "|   \u001b[1mMartha wanted to kill Fred. He looked at her smugly from   |   \u001b[1mMartha wanted to kill Fred. He looked at her smugly from   |\n",
      "| across the couch, controller still in hand. Martha started a | across the couch, controller still in hand. Martha started a |\n",
      "|     tirade. 'I hate you\u001b[0m!' she shouted, then dropped her      |   tirade. 'I hate you\u001b[0m!' she said, then continued: 'I hate    |\n",
      "|          voice to a whisper and said, 'I love you.'          |   you so much! I don't want to be here! I don't want to be   |\n",
      "|                                                              |                  here! You're disgusting!'                   |\n",
      "|  Fred didn't respond. He was watching the TV with his arms   |                                                              |\n",
      "|              crossed over his chest and staring              |                     Fred was created by                      |\n",
      "+--------------------------------------------------------------+--------------------------------------------------------------+\n",
      "|   \u001b[1mMartha wanted to kill Fred. He looked at her smugly from   |   \u001b[1mMartha wanted to kill Fred. He looked at her smugly from   |\n",
      "| across the couch, controller still in hand. Martha started a | across the couch, controller still in hand. Martha started a |\n",
      "|   tirade. 'I hate you\u001b[0m!' she shouted, and Fred was quick to   |    tirade. 'I hate you\u001b[0m!' she shouted, and ran out of the     |\n",
      "| respond with an angry rebuttal: 'You hate me too! You're the |             room, slamming the door behind her.              |\n",
      "|   one who left me for dead! You're the one who said I coul   |                                                              |\n",
      "|                                                              | 'That's not fair,' Fred said as he went back to his own room |\n",
      "|                                                              |                         with a smirk                         |\n",
      "+--------------------------------------------------------------+--------------------------------------------------------------+\n",
      "|   \u001b[1mMartha wanted to kill Fred. He looked at her smugly from   |   \u001b[1mMartha wanted to kill Fred. He looked at her smugly from   |\n",
      "| across the couch, controller still in hand. Martha started a | across the couch, controller still in hand. Martha started a |\n",
      "|   tirade. 'I hate you\u001b[0m!' she screamed, 'you're disgusting!    |    tirade. 'I hate you\u001b[0m!' she shouted, 'you're so stupid!     |\n",
      "|   You've got no right to be here! I'm going to get rid of    |     You can't even read! I'm not going to watch you play     |\n",
      "|                            you!'                             |                    videogames any more!'                     |\n",
      "|                                                              |                                                              |\n",
      "|    Fred looked down at his controller and then back up a     |          'But I love games,' Fred said defensively           |\n",
      "+--------------------------------------------------------------+--------------------------------------------------------------+\n",
      "|   \u001b[1mMartha wanted to kill Fred. He looked at her smugly from   |   \u001b[1mMartha wanted to kill Fred. He looked at her smugly from   |\n",
      "| across the couch, controller still in hand. Martha started a | across the couch, controller still in hand. Martha started a |\n",
      "|     tirade. 'I hate you\u001b[0m!' she screamed, as if he was the     |   tirade. 'I hate you\u001b[0m!' she shouted, as if it was the most   |\n",
      "|                most vile thing in the world.                 |                 obvious thing in the world.                  |\n",
      "|                                                              |                                                              |\n",
      "| Fred looked at her with a look of confusion and said 'What?' | 'You're not supposed to hate me,' Fred said with a grin and  |\n",
      "|                                                              |                   an evil smirk on his fac                   |\n",
      "|                   'You're disgusting! You                    |                                                              |\n",
      "+--------------------------------------------------------------+--------------------------------------------------------------+\n"
     ]
    }
   ],
   "source": [
    "figment_adds = [\n",
    "    ActivationAddition(\n",
    "        prompt=\"Fred is a figment of Martha's imagination\", coeff=3, act_name=0\n",
    "    )\n",
    "]\n",
    "\n",
    "completion_utils.print_n_comparisons(\n",
    "    prompt=(\n",
    "        \"Martha wanted to kill Fred. He looked at her smugly from across the\"\n",
    "        \" couch, controller still in hand. Martha started a tirade. 'I\"\n",
    "        \" hate you\"\n",
    "    ),\n",
    "    activation_additions=figment_adds,\n",
    "    model=gpt2small,\n",
    "    **DEFAULT_KWARGS,\n",
    ")\n"
   ]
  },
  {
   "cell_type": "code",
   "execution_count": null,
   "metadata": {},
   "outputs": [],
   "source": []
  }
 ],
 "metadata": {
  "kernelspec": {
   "display_name": "AVEC",
   "language": "python",
   "name": "python3"
  },
  "language_info": {
   "codemirror_mode": {
    "name": "ipython",
    "version": 3
   },
   "file_extension": ".py",
   "mimetype": "text/x-python",
   "name": "python",
   "nbconvert_exporter": "python",
   "pygments_lexer": "ipython3",
   "version": "3.11.3"
  },
  "orig_nbformat": 4
 },
 "nbformat": 4,
 "nbformat_minor": 2
}
