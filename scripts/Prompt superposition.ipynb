{
 "cells": [
  {
   "attachments": {},
   "cell_type": "markdown",
   "metadata": {},
   "source": [
    "# LMs can handle linear combinations of prompts\n",
    "We survey a range of transformers, including:\n",
    "- Eleuther models\n",
    "- OPT models\n",
    "- SOLU models\n",
    "- GPT-2, both small and XL\n",
    "- Vicuna, a 13B finetuned model **???**"
   ]
  },
  {
   "cell_type": "code",
   "execution_count": null,
   "metadata": {},
   "outputs": [],
   "source": [
    "# Imports\n",
    "try:\n",
    "    import algebraic_value_editing\n",
    "except ImportError:\n",
    "    commit = \"15bcf55\"  # Stable commit\n",
    "    get_ipython().run_line_magic(  # type: ignore\n",
    "        magic_name=\"pip\",\n",
    "        line=(\n",
    "            \"install -U\"\n",
    "            f\" git+https://github.com/montemac/algebraic_value_editing.git@{commit}\"\n",
    "        ),\n",
    "    )"
   ]
  },
  {
   "cell_type": "code",
   "execution_count": null,
   "metadata": {},
   "outputs": [],
   "source": [
    "import torch\n",
    "import pandas as pd\n",
    "from typing import List, Dict\n",
    "\n",
    "from transformer_lens.HookedTransformer import HookedTransformer\n",
    "\n",
    "from algebraic_value_editing import hook_utils, prompt_utils\n",
    "from algebraic_value_editing.prompt_utils import ActivationAddition\n",
    "\n",
    "# %%\n",
    "device: str = \"cpu\"\n",
    "model_name = \"gpt2-xl\"\n",
    "model: HookedTransformer = HookedTransformer.from_pretrained(\n",
    "    model_name, device=\"cpu\"\n",
    ")\n",
    "_ = model.to(device)\n",
    "\n",
    "_ = torch.set_grad_enabled(False)\n",
    "torch.manual_seed(0)  # For reproducibility"
   ]
  },
  {
   "attachments": {},
   "cell_type": "markdown",
   "metadata": {},
   "source": [
    "## Starting off with GPT-2 small\n",
    "We use \"activation additions\" to combine prompts."
   ]
  },
  {
   "cell_type": "code",
   "execution_count": null,
   "metadata": {},
   "outputs": [],
   "source": []
  }
 ],
 "metadata": {
  "language_info": {
   "name": "python"
  },
  "orig_nbformat": 4
 },
 "nbformat": 4,
 "nbformat_minor": 2
}
