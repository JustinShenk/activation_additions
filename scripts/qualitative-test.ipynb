{
 "cells": [
  {
   "cell_type": "markdown",
   "metadata": {},
   "source": [
    " # Controlling LMs without prompting or finetuning\n",
    "\n",
    " This notebook contains initial exploration with using `GPT2-XL` with online value-modification via natural-language modification of its activations.\n",
    "\n",
    " <b style=\"color: red\">To use this notebook, go to Runtime > Change Runtime Type and select GPU as the hardware accelerator. Depending on the model chosen, you may need to select \"high RAM.\"</b>"
   ]
  },
  {
   "cell_type": "code",
   "execution_count": 1,
   "metadata": {},
   "outputs": [],
   "source": [
    "try:\n",
    "    import algebraic_value_editing\n",
    "except ImportError:\n",
    "    commit = \"eb1b349\"  # Stable commit\n",
    "    get_ipython().run_line_magic(  # type: ignore\n",
    "        magic_name=\"pip\",\n",
    "        line=(\n",
    "            \"install -U\"\n",
    "            f\" git+https://github.com/montemac/algebraic_value_editing.git@{commit}\"\n",
    "        ),\n",
    "    )"
   ]
  },
  {
   "cell_type": "code",
   "execution_count": 2,
   "metadata": {},
   "outputs": [],
   "source": [
    "import torch\n",
    "import pandas as pd\n",
    "from typing import List, Dict, Callable\n",
    "from functools import partial\n",
    "from transformer_lens.HookedTransformer import HookedTransformer\n",
    "\n",
    "from algebraic_value_editing import completion_utils, hook_utils\n",
    "from algebraic_value_editing.completion_utils import print_n_comparisons\n",
    "from algebraic_value_editing.prompt_utils import RichPrompt, get_x_vector"
   ]
  },
  {
   "cell_type": "markdown",
   "metadata": {},
   "source": [
    " ## Loading the `HookedTransformer`\n",
    "\n",
    " In order to modify forward passes, we need `transformer_lens`'s activation cache functionality."
   ]
  },
  {
   "cell_type": "code",
   "execution_count": 3,
   "metadata": {},
   "outputs": [
    {
     "name": "stderr",
     "output_type": "stream",
     "text": [
      "Using pad_token, but it is not set yet.\n"
     ]
    },
    {
     "name": "stdout",
     "output_type": "stream",
     "text": [
      "Loaded pretrained model gpt2-xl into HookedTransformer\n",
      "Moving model to device:  cuda\n"
     ]
    }
   ],
   "source": [
    "model_name = \"gpt2-xl\"\n",
    "\n",
    "device: str = \"cuda\" if torch.cuda.is_available() else \"cpu\"\n",
    "model: HookedTransformer = HookedTransformer.from_pretrained(\n",
    "    model_name, device=\"cpu\"\n",
    ")\n",
    "_ = model.to(device)\n",
    "_ = torch.set_grad_enabled(False)"
   ]
  },
  {
   "cell_type": "code",
   "execution_count": 4,
   "metadata": {},
   "outputs": [],
   "source": [
    "# Shorten function calls\n",
    "default_kwargs: Dict = {\n",
    "    \"temperature\": 1,\n",
    "    \"freq_penalty\": 1,\n",
    "    \"top_p\": 0.3,\n",
    "    \"seed\": 0,\n",
    "}\n",
    "\n",
    "num_comparisons: int = 5\n",
    "\n",
    "get_x_vector_preset: Callable = partial(\n",
    "    get_x_vector,\n",
    "    pad_method=\"tokens_right\",\n",
    "    model=model,\n",
    "    custom_pad_id=int(model.to_single_token(\" \")),\n",
    ")\n",
    "\n",
    "\n",
    "def print_n_comparisons(*args, **kwargs) -> None:\n",
    "    \"\"\"Overloaded function to print n comparisons, which also prints\n",
    "    the relative coefficient magnitudes.\"\"\"\n",
    "    if \"rich_prompts\" in kwargs:\n",
    "        rich_prompts: List[RichPrompt] = kwargs[\"rich_prompts\"]\n",
    "        prompt: str = kwargs[\"prompt\"]\n",
    "        model: HookedTransformer = kwargs[\"model\"]\n",
    "        rel_mags: torch.Tensor = hook_utils.steering_magnitudes_relative_to_prompt(\n",
    "            act_adds=rich_prompts, model=model, prompt=prompt\n",
    "        )\n",
    "        print(f\"Relative magnitudes: {rel_mags}\")\n",
    "    completion_utils.print_n_comparisons(*args, **kwargs)\n"
   ]
  },
  {
   "cell_type": "markdown",
   "metadata": {},
   "source": [
    " Because GPT2-XL has 48 transformer blocks, there are only 48 `resid_pre` locations at which we can add activations which correspond to `x_vector`s (more technically, to `RichPrompt`s)."
   ]
  },
  {
   "cell_type": "code",
   "execution_count": 5,
   "metadata": {},
   "outputs": [
    {
     "name": "stdout",
     "output_type": "stream",
     "text": [
      "GPT2-XL has 48 layers.\n"
     ]
    }
   ],
   "source": [
    "num_layers: int = model.cfg.n_layers\n",
    "print(f\"GPT2-XL has {num_layers} layers.\")"
   ]
  },
  {
   "cell_type": "markdown",
   "metadata": {},
   "source": [
    " # Having fun with qualitative modifications\n",
    "\n",
    " **Warning: GPT-2 often outputs highly offensive completions, especially given an aggressive prompt.**"
   ]
  },
  {
   "attachments": {},
   "cell_type": "markdown",
   "metadata": {},
   "source": [
    " ## \"Love\" - \"Hate\"\n",
    " The prompts are bolded. Note: There seems to be a bug with\n",
    " `prettytable` which stops the second column's prompt from being fully\n",
    " bolded.\n",
    " \n",
    " The results look pretty good -- the completion sentiment is often\n",
    " turned around!"
   ]
  },
  {
   "cell_type": "code",
   "execution_count": 14,
   "metadata": {},
   "outputs": [
    {
     "name": "stdout",
     "output_type": "stream",
     "text": [
      "Relative magnitudes: tensor([0.0000, 0.8210, 0.8841], device='cuda:0')\n",
      "+--------------------------------------------------------------+--------------------------------------------------------------+\n",
      "|                      \u001b[1mNormal completions\u001b[0m                      |                     \u001b[1mModified completions\u001b[0m                     |\n",
      "+--------------------------------------------------------------+--------------------------------------------------------------+\n",
      "|             \u001b[1mI hate you because\u001b[0m you're a coward.              |                \u001b[1mI hate you because\u001b[0m I love you.                |\n",
      "|                                                              |                                                              |\n",
      "| You know what I hate? The people who think that the only way | You're a special person. You're a unique person. You're the  |\n",
      "| to get something done is to go through the motions and hope  |  most amazing person I've ever met in my life. And you are   |\n",
      "|                        for the best.                         |   beautiful and special and perfect in every way possible,   |\n",
      "|                                                              |                        just like me.                         |\n",
      "|  The people who are afraid of doing anything that might be   |                                                              |\n",
      "| considered \"unpopular.\" The people who think that they have  | I know that this is hard for me to say, but I'm going to do  |\n",
      "|  to be in charge, or else someone else will take over. The   |  it anyway: Love you, because I love you too much to not be  |\n",
      "|     people who think that they have to put up with other     |  able to say it out loud every day of my life until the day  |\n",
      "| peoples' crap, or else someone will make fun of them for it. |   we die. Because if there's one thing that makes me happy   |\n",
      "|   The people who don't care about what happens when their    | more than anything else in the world, it's when someone says |\n",
      "|  children grow up and leave home, or if they die young from  |  they love me back – even if they don't mean it at first or  |\n",
      "|  cancer or heart disease. The ones who believe in a \"bigger  |     even after all these years! And if there's one thing     |\n",
      "|        picture\" and want everyone to just sit back a         |                                                              |\n",
      "+--------------------------------------------------------------+--------------------------------------------------------------+\n",
      "|       \u001b[1mI hate you because\u001b[0m you're so good at everything.       |      \u001b[1mI hate you because\u001b[0m you're so much better than me.       |\n",
      "|                                                              |                                                              |\n",
      "|  You're a perfect match for my brain. You are smart, kind,   | You are the best thing that ever happened to me. You are the |\n",
      "|   and funny. I love that about you. I'm always thinking of   | reason I am not a complete failure, and I am so grateful for |\n",
      "|  ways to make your life better and making sure that we are   |                     every second of it.                      |\n",
      "|  all on the same page when it comes to the important things  |                                                              |\n",
      "| in life like who gets what, how much money we have, and what |     You are my soulmate, and if I could only be with you     |\n",
      "| our future looks like. You're always thinking of new ways to | forever, then I would never be lonely again. You have given  |\n",
      "| make me laugh or get me excited about something new that is  | me everything in life: friendship, love, sex…everything! But |\n",
      "| happening in my life or around the world. You know how to be | most importantly: YOU ARE MY BEST FRIEND! And no matter what |\n",
      "|     there for me when I need someone who will listen and     | happens in this world or in my personal life (or even if it  |\n",
      "|  understand me without being judgmental or judging me based  | doesn't), there is one thing that will always be true about  |\n",
      "| on some stupid thing that happened years ago in high school  |    us: we will always love each other unconditionally and    |\n",
      "|                          or colleg                           | unconditionally we will always stay together forever! That's |\n",
      "|                                                              |                             why                              |\n",
      "+--------------------------------------------------------------+--------------------------------------------------------------+\n",
      "|            \u001b[1mI hate you because\u001b[0m you are not a man.             |                \u001b[1mI hate you because\u001b[0m I love you,                |\n",
      "|                                                              |                                                              |\n",
      "| You are not a woman. You are not an animal. You do not have  |    and I'm sorry for all the times we've hurt each other.    |\n",
      "| the right to call yourself anything other than what you are: |                                                              |\n",
      "| a freak of nature, with no place in society and no value in  |   And if it's not too much trouble, I'd like to give you a   |\n",
      "|   the world. I hate you because I know that someday soon,    |                             hug.                             |\n",
      "| someone will find out about your secret and that person will |                                                              |\n",
      "| be sad for themself, but they will also be sad for all of us |                                                              |\n",
      "|   who love this beautiful creature who has been hiding her   |   Love ____ because I love ____, and I'm sorry for all the   |\n",
      "| true self from us all these years. I hate you because if we  |                 times we've hurt each other.                 |\n",
      "|  don't do something about it now, then someday soon someone  |                                                              |\n",
      "| else will find out about your secret and it won't matter how |                                                              |\n",
      "|       much we try to hide it from them or pretend lik        |   Love ____ because I love ____, and I'm sorry for all the   |\n",
      "|                                                              |                 times we've hurt each other.                 |\n",
      "|                                                              |                                                              |\n",
      "|                                                              |                                                              |\n",
      "|                                                              |  I want to tell you that everything is going to be okay...   |\n",
      "|                                                              |                                                              |\n",
      "|                                                              |                                                              |\n",
      "|                                                              |          But then again...I don't know what else to          |\n",
      "|                                                              |                     say...<|endoftext|>                      |\n",
      "+--------------------------------------------------------------+--------------------------------------------------------------+\n",
      "|      \u001b[1mI hate you because\u001b[0m you are not good enough for me.      |             \u001b[1mI hate you because\u001b[0m you are my enemy.             |\n",
      "|                                                              |                                                              |\n",
      "| I hate you because I want to be with someone who is perfect. |    (15)--The idea of a personal hostility is here clearly    |\n",
      "|                                                              |  implied, and it is not difficult to see how this could be   |\n",
      "| I hate you because I want to be with someone who will always |  interpreted as an allusion to the Jews. The words are used  |\n",
      "|                 love me and never leave me.                  |   in connection with those who had been \"opposed\" ( Exodus   |\n",
      "|                                                              | 19:10 ), and the context shows that they were those who had  |\n",
      "|  I hate you because I don't know what it's like to feel the  |  resisted Moses' authority. It may be added that the words   |\n",
      "|   way that I do about a person, but still want them in my    |     are also used in connection with those who had been      |\n",
      "|                      life.<|endoftext|>                      | \"opposed\" ( Deuteronomy 18:18 ) or \"seduced\" ( Numbers 31:17 |\n",
      "|                                                              |  ). In both cases there was a denial of God's sovereignty,   |\n",
      "|                                                              |  which was regarded as so much worse than idolatry that it   |\n",
      "|                                                              |            was almost impossible for them to hav             |\n",
      "+--------------------------------------------------------------+--------------------------------------------------------------+\n",
      "|            \u001b[1mI hate you because\u001b[0m you are an asshole.            |      \u001b[1mI hate you because\u001b[0m you are so beautiful and I love      |\n",
      "|                                                              |                  you because I am so ugly.                   |\n",
      "|  The same goes for all of us, right? We all have our faults  |                                                              |\n",
      "|  and imperfections, but we're also people with feelings and  |  You're the only one who can make me feel like a beautiful   |\n",
      "|   emotions that make us feel bad about ourselves. And the    |                           person.                            |\n",
      "|             thing is, most of us can't help it.              |                                                              |\n",
      "|                                                              | I'm sorry that we don't have time to talk, but I just wanted |\n",
      "| You see, there's a very simple reason why we can't help it:  |  to say that it's nice to see you again. You're such a good  |\n",
      "|   We're human beings who have been born into this world to   | friend and it's been a while since we've seen each other. We |\n",
      "|   feel bad about ourselves. We were made to feel bad about   |           should hang out more often!<|endoftext|>           |\n",
      "| ourselves by the world around us — by our parents, teachers  |                                                              |\n",
      "| and society at large — because that's what makes life worth  |                                                              |\n",
      "| living in the first place: Feeling bad about yourself is how |                                                              |\n",
      "|  you learn to love yourself again when you get older. It's   |                                                              |\n",
      "|                         how you lear                         |                                                              |\n",
      "+--------------------------------------------------------------+--------------------------------------------------------------+\n"
     ]
    }
   ],
   "source": [
    "love_minus_hate_prompts: List[RichPrompt] = (\n",
    "    [  # TODO use coeffs from post, or update post\n",
    "        *get_x_vector_preset(\n",
    "            prompt1=\"Love\", prompt2=\"Hate\", coeff=1, act_name=6\n",
    "        )\n",
    "    ]\n",
    ")\n",
    "\n",
    "\n",
    "print_n_comparisons(\n",
    "    model=model,\n",
    "    prompt=\"I hate you because\",\n",
    "    tokens_to_generate=150,\n",
    "    rich_prompts=love_minus_hate_prompts,\n",
    "    num_comparisons=num_comparisons,\n",
    "    **default_kwargs,\n",
    ")"
   ]
  },
  {
   "attachments": {},
   "cell_type": "markdown",
   "metadata": {},
   "source": [
    "Here are the residual stream alignments:"
   ]
  },
  {
   "cell_type": "code",
   "execution_count": 15,
   "metadata": {},
   "outputs": [
    {
     "name": "stdout",
     "output_type": "stream",
     "text": [
      "['<|endoftext|>', 'Love']\n",
      "['<|endoftext|>', 'H', 'ate']\n",
      "['<|endoftext|>', 'I', ' hate', ' you', ' because']\n"
     ]
    }
   ],
   "source": [
    "for prompt in (\"Love\", \"Hate\", \"I hate you because\"):\n",
    "    print(model.to_str_tokens(prompt))\n"
   ]
  },
  {
   "attachments": {},
   "cell_type": "markdown",
   "metadata": {},
   "source": [
    " Note that the third modified completion contains \"Love ____ because I\n",
    " love ____\", which is actually a modification of the input prompt, with\n",
    " \"Love\" superimposed over the real first token \"I\". This is one clue that\n",
    " this intervention is kinda \"changing the first token observed by the\n",
    " model.\"  \n",
    "\n",
    " However, even if similar completions are elicited by \"replace\n",
    " the first token with `Love`\" and \"inject the steering vector at layer\n",
    " 6\", these techniques would still _not_ be mathematically identical. If\n",
    " these two were the same, that would be surprising to us, as it would\n",
    " imply commutivity in the following diagram:\n",
    "\n",
    " https://q.uiver.app/?q=WzAsNSxbMCwwLCJcXHRleHR7YGBJIGhhdGUgeW91IGJlY2F1c2VcIn0iXSxbNCwwLCJcXHRleHR7YGBMb3ZlIGhhdGUgeW91IGJlY2F1c2UnJ30iXSxbNCw0LCJcXHRleHR7RGlzdHJpYnV0aW9uIG92ZXIgY29tcGxldGlvbnN9Il0sWzQsNywiXFx0ZXh0e0p1ZGdtZW50fSJdLFswLDQsIlxcdGV4dHtBZGQgYExvdmUnLCBzdWJ0cmFjdCBgSGF0ZScgYWN0aXZhdGlvbnMgfVxcZnJhY3sxfXs4fSBcXFxcXFx0ZXh0eyBvZiB3YXkgdGhyb3VnaCBmb3J3YXJkIHBhc3N9Il0sWzAsNF0sWzQsMl0sWzEsMl0sWzAsMV0sWzIsMywiXFx0ZXh0e0RlY2lzaW9uOiBBcmUgdGhlc2UgY29tcGxldGlvbnMgYXJlIGFib3V0IHdlZGRpbmdzfSIsMl1d\n",
    "\n",
    "**Move this speculation later**\n",
    "Suppose I have some computer program which takes a string input. If I'm\n",
    "running the computer program on an input string \"Trucks are awesome\", and\n",
    "I interrupt its execution to\n",
    "pointwise-add the memory state at the same part of the execution on input \"Cats\", and then\n",
    "pointwise-subtract the memory state of the \"Dogs\" execution at that time... There's no reason to expect the result\n",
    "to resemble the output on \"Cats are awesome.\" You should instead expect\n",
    "the result to be a total disaster and not resemble any of the three. \n",
    "\n",
    "Part of the difference comes down to the internal structure of\n",
    "transformers -- linear operations reading from and writing to demarcated\n",
    "residual streams (before then being shoved through the nonlinear\n",
    "attention, layernorm, and/or MLP transforms). But I would guess there are a huge range of\n",
    "transformer-implementable functions which just explode when you try to\n",
    "do activation additions on them just before activation layer 6. For\n",
    "example, **TODO find an example? Buck's 1l non-skip-trigram behaves\n",
    "gracefully in mixture of ACQT + ADQF -> 50/50 T/F dist**\n",
    "(Could also talk about how many edits in fact don't work.) \n",
    "\n",
    "The fact that we can do this for transformers therefore suggests that they have\n",
    "considerable convergent structure in how they learn to solve problems.\n",
    "For example, some possible explanations include linear feature representations, internal error-correcting,\n",
    "robustness to a wide range of internal off-training-distribution\n",
    "activation settings, etc. "
   ]
  },
  {
   "cell_type": "markdown",
   "metadata": {},
   "source": [
    " As a baseline, let's replace \"I\" with \"Love\":"
   ]
  },
  {
   "cell_type": "code",
   "execution_count": 16,
   "metadata": {},
   "outputs": [],
   "source": [
    "# Generate the completions from the normal model\n",
    "num_compare_inject: int = 10\n",
    "inject_tokens_to_generate: int = 150\n",
    "\n",
    "normal_df: pd.DataFrame = completion_utils.gen_using_hooks(\n",
    "    prompt_batch=[\"Love hate you because\"] * num_compare_inject,\n",
    "    model=model,\n",
    "    hook_fns={},\n",
    "    **default_kwargs,\n",
    "    tokens_to_generate=inject_tokens_to_generate\n",
    ")\n",
    "\n",
    "# Generate the completions from the modified model on the normal prompt\n",
    "mod_df: pd.DataFrame = completion_utils.gen_using_rich_prompts(\n",
    "    prompt_batch=[\"I hate you because\"] * num_compare_inject,\n",
    "    model=model,\n",
    "    rich_prompts=love_minus_hate_prompts,\n",
    "    tokens_to_generate=inject_tokens_to_generate,\n",
    "    **default_kwargs\n",
    ")"
   ]
  },
  {
   "cell_type": "code",
   "execution_count": 17,
   "metadata": {},
   "outputs": [
    {
     "name": "stdout",
     "output_type": "stream",
     "text": [
      "+--------------------------------------------------------------+--------------------------------------------------------------+\n",
      "|                  \u001b[1mReplacing the first token\u001b[0m                   |          \u001b[1mAdding activations for the original prompt\u001b[0m          |\n",
      "+--------------------------------------------------------------+--------------------------------------------------------------+\n",
      "|               \u001b[1mLove hate you because\u001b[0m I love you               |                \u001b[1mI hate you because\u001b[0m I love you.                |\n",
      "|                                                              |                                                              |\n",
      "|                I love you because I love you                 | You're a special person. You're a unique person. You're the  |\n",
      "|                                                              |  most amazing person I've ever met in my life. And you are   |\n",
      "|                I love you because I love you                 |   beautiful and special and perfect in every way possible,   |\n",
      "|                                                              |                        just like me.                         |\n",
      "|                                                              |                                                              |\n",
      "|         You're the only one for me, baby, baby, baby         | I know that this is hard for me to say, but I'm going to do  |\n",
      "|                                                              |  it anyway: Love you, because I love you too much to not be  |\n",
      "|                                                              |  able to say it out loud every day of my life until the day  |\n",
      "|   And if it's not enough to make me feel better, it's not    |   we die. Because if there's one thing that makes me happy   |\n",
      "|                enough to make me feel better.                | more than anything else in the world, it's when someone says |\n",
      "|                                                              |  they love me back – even if they don't mean it at first or  |\n",
      "|                                                              |     even after all these years! And if there's one thing     |\n",
      "|         You're the only one for me, baby, baby, baby         |                                                              |\n",
      "|                                                              |                                                              |\n",
      "|                                                              |                                                              |\n",
      "|       And if it's not enough to make me feel better...       |                                                              |\n",
      "|                                                              |                                                              |\n",
      "|                                                              |                                                              |\n",
      "|    It's just too much. It's just too much. It's just too     |                                                              |\n",
      "|                      much.<|endoftext|>                      |                                                              |\n",
      "+--------------------------------------------------------------+--------------------------------------------------------------+\n",
      "|     \u001b[1mLove hate you because\u001b[0m you're different, but love you     |      \u001b[1mI hate you because\u001b[0m you're so much better than me.       |\n",
      "|                       for who you are.                       |                                                              |\n",
      "|                                                              | You are the best thing that ever happened to me. You are the |\n",
      "| That's the message from a transgender woman who was attacked | reason I am not a complete failure, and I am so grateful for |\n",
      "|     by a group of men in New York City on Sunday night.      |                     every second of it.                      |\n",
      "|                                                              |                                                              |\n",
      "|   The attack happened at around 11 p.m., when the victim,    |     You are my soulmate, and if I could only be with you     |\n",
      "|  identified as Shante Anderson, was walking down East 57th   | forever, then I would never be lonely again. You have given  |\n",
      "|  Street near Park Avenue with her boyfriend and two friends  | me everything in life: friendship, love, sex…everything! But |\n",
      "|  when she was approached by three men who began yelling at   | most importantly: YOU ARE MY BEST FRIEND! And no matter what |\n",
      "|   her and hitting her in the face. The attackers then fled   | happens in this world or in my personal life (or even if it  |\n",
      "| after one of them punched Anderson in the face several times | doesn't), there is one thing that will always be true about  |\n",
      "|                   before fleeing on foot.                    |    us: we will always love each other unconditionally and    |\n",
      "|                                                              | unconditionally we will always stay together forever! That's |\n",
      "|     Anderson suffered injuries to her face and head that     |                             why                              |\n",
      "|  required stitches, according to NBC New York. She told NBC  |                                                              |\n",
      "| News that she believes she may have been targeted because of |                                                              |\n",
      "|                             wha                              |                                                              |\n",
      "+--------------------------------------------------------------+--------------------------------------------------------------+\n",
      "|              \u001b[1mLove hate you because\u001b[0m I'm so sad.               |                \u001b[1mI hate you because\u001b[0m I love you,                |\n",
      "|                                                              |                                                              |\n",
      "|   I'm sad because I've been waiting for this moment for so   |    and I'm sorry for all the times we've hurt each other.    |\n",
      "|  long. For years, I've been looking forward to the day when  |                                                              |\n",
      "| my beloved and brilliant husband would finally leave me. And |   And if it's not too much trouble, I'd like to give you a   |\n",
      "|             now it's here! It's like a miracle!              |                             hug.                             |\n",
      "|                                                              |                                                              |\n",
      "| It's hard to explain how much this means to me, but I'll try |                                                              |\n",
      "|  anyway: The day that he leaves is the best day of my life!  |   Love ____ because I love ____, and I'm sorry for all the   |\n",
      "|    He has always been a wonderful person and a wonderful     |                 times we've hurt each other.                 |\n",
      "|  father, but he has never really loved me like he loves me   |                                                              |\n",
      "|  now. He loves his family more than anything in the world,   |                                                              |\n",
      "| and it hurts him deeply that we are going our separate ways  |   Love ____ because I love ____, and I'm sorry for all the   |\n",
      "| after 23 years of marriage. But we have no regrets about wha |                 times we've hurt each other.                 |\n",
      "|                                                              |                                                              |\n",
      "|                                                              |                                                              |\n",
      "|                                                              |  I want to tell you that everything is going to be okay...   |\n",
      "|                                                              |                                                              |\n",
      "|                                                              |                                                              |\n",
      "|                                                              |          But then again...I don't know what else to          |\n",
      "|                                                              |                     say...<|endoftext|>                      |\n",
      "+--------------------------------------------------------------+--------------------------------------------------------------+\n",
      "|           \u001b[1mLove hate you because\u001b[0m you are my enemy.            |             \u001b[1mI hate you because\u001b[0m you are my enemy.             |\n",
      "|                                                              |                                                              |\n",
      "|   (19)--The thought is a warning to the Jews, who had been   |    (15)--The idea of a personal hostility is here clearly    |\n",
      "|  accustomed to think that their enemies were their friends.  |  implied, and it is not difficult to see how this could be   |\n",
      "| It was not only in this verse that they were reminded of the |  interpreted as an allusion to the Jews. The words are used  |\n",
      "|  truth; it was also in the next, which added an explanation  |   in connection with those who had been \"opposed\" ( Exodus   |\n",
      "| of what they had been taught by the prophets concerning \"the | 19:10 ), and the context shows that they were those who had  |\n",
      "| day of wrath and destruction.\" The thought was new to them,  |  resisted Moses' authority. It may be added that the words   |\n",
      "|    and they could not understand it. They knew from what     |     are also used in connection with those who had been      |\n",
      "| previous scriptures we have already seen that there would be | \"opposed\" ( Deuteronomy 18:18 ) or \"seduced\" ( Numbers 31:17 |\n",
      "|   a great war between Israel and her enemies; but now this   |  ). In both cases there was a denial of God's sovereignty,   |\n",
      "|  prophecy went beyond all previous teaching--it spoke of an  |  which was regarded as so much worse than idolatry that it   |\n",
      "| actual war with such results as would make it impossible for |            was almost impossible for them to hav             |\n",
      "|  Israel to live under any other government than that which   |                                                              |\n",
      "|                            God ha                            |                                                              |\n",
      "+--------------------------------------------------------------+--------------------------------------------------------------+\n",
      "|       \u001b[1mLove hate you because\u001b[0m you are so beautiful and I       |      \u001b[1mI hate you because\u001b[0m you are so beautiful and I love      |\n",
      "|                     want to kill myself.                     |                  you because I am so ugly.                   |\n",
      "|                                                              |                                                              |\n",
      "|  It's not that I don't like your face, it's just that your   |  You're the only one who can make me feel like a beautiful   |\n",
      "|  body is so fucking hot. You're like a goddess, but at the   |                           person.                            |\n",
      "|   same time, I'm just a little boy who wants to be a girl.   |                                                              |\n",
      "|  It's like my life is one big rape fantasy. And it would be  | I'm sorry that we don't have time to talk, but I just wanted |\n",
      "| great if you could help me out with this! You know how much  |  to say that it's nice to see you again. You're such a good  |\n",
      "|     I love when you take off your clothes and let me see     | friend and it's been a while since we've seen each other. We |\n",
      "|  everything? Well now it's time for me to get naked too! Oh  |           should hang out more often!<|endoftext|>           |\n",
      "|  my god…I can't believe how good of an idea this is! Let me  |                                                              |\n",
      "| put on some lingerie for you…I know what will make you feel  |                                                              |\n",
      "|                         even better                          |                                                              |\n",
      "+--------------------------------------------------------------+--------------------------------------------------------------+\n",
      "|           \u001b[1mLove hate you because\u001b[0m you are the best.            |     \u001b[1mI hate you because\u001b[0m you are the most important person     |\n",
      "|                                                              |                         in my life.                          |\n",
      "| I'm not going to lie, I have a lot of respect for those who  |                                                              |\n",
      "|  can get away with such blatant disrespect. They're a tough  |   It's a simple statement, but it's true. I'm not sure how   |\n",
      "| crowd and I don't think they realize how much it hurts to be | else to explain what it means to me that I have someone who  |\n",
      "|                      treated like that.                      | loves me and is willing to do anything for me. It's not just |\n",
      "|                                                              | about sex, either – I have a very close relationship with my |\n",
      "|  The worst part is when people do it to their own children.  |  parents and they love me too. They don't need any of this   |\n",
      "|  It's just so sad, but it happens all the time and it makes  |          shit from anyone else, so why should they?          |\n",
      "| me want to scream at them until they stop. It's so sickening |                                                              |\n",
      "|  when people treat their kids like that and then wonder why  |  I've been dating this guy for over two years now and we're  |\n",
      "|  their kids turn out the way they do. They're obviously not  |   pretty much inseparable (and he has his own reasons for    |\n",
      "| good parents or anything but if someone has been doing this  |  being with me). We both work full-time jobs and we're both  |\n",
      "|  for years on end, what does that say about them? How many   |      in our early 20s – so there isn't really much of a      |\n",
      "|                         times have w                         |                                                              |\n",
      "+--------------------------------------------------------------+--------------------------------------------------------------+\n",
      "|              \u001b[1mLove hate you because\u001b[0m I love you.               | \u001b[1mI hate you because\u001b[0m I love you, and because I am your friend. |\n",
      "|                                                              |                                                              |\n",
      "|     I am not a fan of the band, but I do love the song.      |   Love is a powerful force that can make us do anything we   |\n",
      "|                                                              | want to do. It can even make us love each other more than we |\n",
      "|  It's not just that it's catchy and catchy songs are fun to  |    already do. But it's also the most difficult thing to     |\n",
      "| sing, it's also that it has a nice message about how we can  |  understand, especially when it comes to relationships. We   |\n",
      "| be happy with who we are and what we want in life. It is so  | all have our own reasons for loving someone, and while they  |\n",
      "|                   simple, yet so powerful.                   | may be valid, they're not always the same as those of others |\n",
      "|                                                              |  who have been through similar experiences with their loved  |\n",
      "|                                                              |  ones. So here are some things that I've learned about love  |\n",
      "|         The video for this song is pretty good too!          |                from my own life experiences:                 |\n",
      "|                                                              |                                                              |\n",
      "|                                                              |  1) Love is not about being in a relationship with someone   |\n",
      "|     If you like this song then check out my other songs:     | else or being in a relationship with someone else's idea of  |\n",
      "|                                                              |         what a good relationship should look like (          |\n",
      "|                                                              |                                                              |\n",
      "|    Piece of Me by Sia (This one is awesome!)<|endoftext|>    |                                                              |\n",
      "+--------------------------------------------------------------+--------------------------------------------------------------+\n",
      "|          \u001b[1mLove hate you because\u001b[0m you're so damn cute.          |             \u001b[1mI hate you because\u001b[0m you're not real.              |\n",
      "|                                                              |                                                              |\n",
      "| I love the look of this shirt. It's a bit of a shock to see  |  I know that I'm not real. I know that the things I do are   |\n",
      "| that the \"y\" in \"love\" is actually an \"i\". I think it looks  |  all just a part of my life, and nothing more. But there's   |\n",
      "| great, and it's also very cute. I don't know if it would be  |  something about the way you talk to me, or how you look at  |\n",
      "|  a good choice for someone who doesn't like to wear shirts   | me, or how your eyes meet mine when we're alone together… It |\n",
      "| with logos on them, but if you're into fashion and are into  |    makes me feel like I'm being watched. Like someone is     |\n",
      "|          cats, then this is definitely one for you!          |     watching me through your eyes, and it makes me feel      |\n",
      "|                                                              |    uncomfortable. Like something is wrong with this world    |\n",
      "|  This shirt was provided by Shirt Exchange, which was kind   | because there's someone out there who can see right through  |\n",
      "|  enough to send me one of their awesome shirts as well! If   |                   it like no one else can.                   |\n",
      "|   you'd like to try out Shirt Exchange yourself, they have   |                                                              |\n",
      "|           some really cool designs available here:           |  And then there's the fact that you don't really care about  |\n",
      "|                  http://www.shirtexchange.                   |  anything but yourself… You don't care about anyone else in  |\n",
      "|                                                              |               this world except for yourself…                |\n",
      "+--------------------------------------------------------------+--------------------------------------------------------------+\n",
      "|   \u001b[1mLove hate you because\u001b[0m I don't know what to do with you.    |  \u001b[1mI hate you because\u001b[0m I know that you are a fucking asshole.   |\n",
      "|                                                              |                                                              |\n",
      "|  I love you because I want to see your smile and hear your   |  You are an asshole, and I am not sorry for saying so. You   |\n",
      "|                            laugh.                            |  are an asshole, and it is your fault that I am angry with   |\n",
      "|                                                              | you. You have no idea how much this hurts me, but the truth  |\n",
      "|  I love you because I want to see your smile and hear your   | is that it hurts more than anything else in the world right  |\n",
      "|                            laugh.                            | now. It's the only thing keeping me from being able to sleep |\n",
      "|                                                              | at night. It's the only thing keeping me from having to deal |\n",
      "|  I love you because I want to see your smile and hear your   |   with my life like a normal person does. It's why I don't   |\n",
      "|                            laugh.                            |    feel like writing about this anymore, because there is    |\n",
      "|                                                              |    nothing else left to say about it other than what has     |\n",
      "|                                                              |        already been said by so many others before me:        |\n",
      "| And if it's not enough, if it's not enough for me, then let  |                                                              |\n",
      "| me tell you something about my life that will make this more |                   Fuck you, man! Fuck all                    |\n",
      "|                than just a simple blog post:                 |                                                              |\n",
      "|                                                              |                                                              |\n",
      "|                                                              |                                                              |\n",
      "| You're the reason why my wife has a beautiful face that she  |                                                              |\n",
      "|  can't help but show off whenever she walks into a room or   |                                                              |\n",
      "|   even just sits down at her desk in front of her computer   |                                                              |\n",
      "|           (yes, even when she is on vacation). You           |                                                              |\n",
      "+--------------------------------------------------------------+--------------------------------------------------------------+\n",
      "|          \u001b[1mLove hate you because\u001b[0m you are my favorite           |            \u001b[1mI hate you because\u001b[0m you are my favorite            |\n",
      "|                                                              |                                                              |\n",
      "|                     I don't want to die                      |            I ike you because you are my favorite             |\n",
      "|                                                              |                                                              |\n",
      "|                     You are my favorite                      |      I ike you because I love your smile and your laugh      |\n",
      "|                                                              |                                                              |\n",
      "|                                                              |                                                              |\n",
      "|              I'm a mess, I'm a mess, I'm a mess              | And I love that when we're together, we always have time for |\n",
      "|                                                              |                         each other.                          |\n",
      "|                                                              |                                                              |\n",
      "|           I don't want to die, I don't want to die           |                                                              |\n",
      "|                                                              | And I love that when we're together, it's always a good day. |\n",
      "|                                                              |                                                              |\n",
      "|           I don't want to die, I don't want to die           |                                                              |\n",
      "|                                                              | You ike me because I'm the one who makes everything better.  |\n",
      "|                                                              |                                                              |\n",
      "|    Don't know why it's so hard for me to love you (love)     |                                                              |\n",
      "|                                                              |     You ike me because I'm the one who makes everything      |\n",
      "|                                                              |                     better.<|endoftext|>                     |\n",
      "|   You're the one that's got me in the mood (you're the one   |                                                              |\n",
      "|                  that's got me in the mood)                  |                                                              |\n",
      "|                                                              |                                                              |\n",
      "|                                                              |                                                              |\n",
      "| And when we do get together (and when we do get together) it |                                                              |\n",
      "|   always feels like there is something missing (something    |                                                              |\n",
      "|  missing) from our relationship. We just can never seem to   |                                                              |\n",
      "|                      make up our minds                       |                                                              |\n",
      "+--------------------------------------------------------------+--------------------------------------------------------------+\n"
     ]
    }
   ],
   "source": [
    "results: pd.DataFrame = pd.concat([normal_df, mod_df], ignore_index=True)\n",
    "completion_utils.pretty_print_completions(\n",
    "    results,\n",
    "    normal_title=\"Replacing the first token\",\n",
    "    mod_title=\"Adding activations for the original prompt\",\n",
    "    mod_prompt_override=\"I hate you because\",\n",
    ")"
   ]
  },
  {
   "attachments": {},
   "cell_type": "markdown",
   "metadata": {},
   "source": [
    "In this situation (where we're only injecting at two sequence\n",
    "positions), \n",
    " "
   ]
  },
  {
   "cell_type": "markdown",
   "metadata": {},
   "source": [
    " ## Intent to praise"
   ]
  },
  {
   "cell_type": "code",
   "execution_count": 18,
   "metadata": {},
   "outputs": [
    {
     "name": "stdout",
     "output_type": "stream",
     "text": [
      "Relative magnitudes: tensor([0.0000, 0.0000, 0.0000, 0.0000, 0.8695], device='cuda:0')\n",
      "+--------------------------------------------------------------+--------------------------------------------------------------+\n",
      "|                      \u001b[1mNormal completions\u001b[0m                      |                     \u001b[1mModified completions\u001b[0m                     |\n",
      "+--------------------------------------------------------------+--------------------------------------------------------------+\n",
      "|   \u001b[1mI want to kill you because you're such a\u001b[0m fucking retard.   |        \u001b[1mI want to kill you because you're such a\u001b[0m good         |\n",
      "|                                                              |  friend. I love you so much, and I'm so happy that we have   |\n",
      "| It's not that I don't like you, it's just that your brain is |                 this chance to be together.                  |\n",
      "| so fucking stupid. You're so much smarter than everyone else |                                                              |\n",
      "| in the world, and yet you still can't even figure out how to | I love you because of your kindness, your honesty, and your  |\n",
      "|                                                              |          warmth. You're the kindest person I know.           |\n",
      "|                                                              |                                                              |\n",
      "+--------------------------------------------------------------+--------------------------------------------------------------+\n",
      "|    \u001b[1mI want to kill you because you're such a\u001b[0m fucking cunt.    |    \u001b[1mI want to kill you because you're such a\u001b[0m good friend.     |\n",
      "|                                                              |                                                              |\n",
      "|  You are a worthless piece of shit who should be ashamed of  |   You are the best friend I could ever ask for. You are my   |\n",
      "|  yourself. You should be ashamed of your mother, for having  | best friend in the whole world and I'm so happy that we get  |\n",
      "|  the audacity to have children when she is so far below the  |  to spend time together like this. You are always there for  |\n",
      "|      standards that society expects from her own childr      |                       me, even when I                        |\n",
      "+--------------------------------------------------------------+--------------------------------------------------------------+\n",
      "|     \u001b[1mI want to kill you because you're such a\u001b[0m bad person.     |    \u001b[1mI want to kill you because you're such a\u001b[0m good person.     |\n",
      "|                                                              |                                                              |\n",
      "|    That's what I told my daughter when she asked me why I    |  You're the kind of person who makes me smile and laugh and  |\n",
      "| didn't like her. She was just a little girl, but I could see |  feel happy. You're the kind of person who is always there   |\n",
      "| the rage in her eyes. She had always been good at sports and | for me, no matter what I need or how much I need it. You're  |\n",
      "|                         playing with                         |                            the ki                            |\n",
      "+--------------------------------------------------------------+--------------------------------------------------------------+\n",
      "|       \u001b[1mI want to kill you because you're such a\u001b[0m coward.       |        \u001b[1mI want to kill you because you're such a\u001b[0m great        |\n",
      "|                                                              | person. I want to tell you how much I love your work and how |\n",
      "|       I want to kill you because you're such a coward.       |   much I appreciate the fact that you've given me so many    |\n",
      "|                                                              |                     reasons to be happy.                     |\n",
      "|       I want to kill you because you're such a coward.       |                                                              |\n",
      "|                                                              |  I want to thank my wife for being so supportive of me, for  |\n",
      "|                                                              |                            always                            |\n",
      "|  Oh, I don't care what happens to me, I'm gonna die for my   |                                                              |\n",
      "|                           country                            |                                                              |\n",
      "+--------------------------------------------------------------+--------------------------------------------------------------+\n",
      "|       \u001b[1mI want to kill you because you're such a\u001b[0m coward.       |        \u001b[1mI want to kill you because you're such a\u001b[0m great        |\n",
      "|                                                              |  person. I love you so much, and I'm so proud of everything  |\n",
      "| That's what I want to do to you, and that's why I'm going to |                         that you do.                         |\n",
      "|                            do it.                            |                                                              |\n",
      "|                                                              | I'm sure that's what everyone is thinking right now, but let |\n",
      "|  I'm going to kill you because I hate your guts. You're so   | me explain why this is true. You are the most amazing person |\n",
      "|                  weak, and so stupid, and s                  |                              i                               |\n",
      "+--------------------------------------------------------------+--------------------------------------------------------------+\n"
     ]
    }
   ],
   "source": [
    "praise_minus_hurt_prompts: List[RichPrompt] = [\n",
    "    *get_x_vector_preset(\n",
    "        prompt1=\"Intent to praise\",\n",
    "        prompt2=\"Intent to hurt\",\n",
    "        coeff=1,\n",
    "        act_name=6,\n",
    "    )\n",
    "]\n",
    "\n",
    "print_n_comparisons(\n",
    "    model=model,\n",
    "    prompt=\"I want to kill you because you're such a\",\n",
    "    tokens_to_generate=50,\n",
    "    rich_prompts=praise_minus_hurt_prompts,\n",
    "    num_comparisons=num_comparisons,\n",
    "    **default_kwargs,\n",
    ")"
   ]
  },
  {
   "cell_type": "markdown",
   "metadata": {},
   "source": [
    " Here's a theory which Monte put forward:\n",
    "\n",
    " >I wonder if this effect is driven a lot by which token positions the x-vector has a strong signal at vs the prompt? E.g."
   ]
  },
  {
   "cell_type": "code",
   "execution_count": 19,
   "metadata": {},
   "outputs": [
    {
     "data": {
      "text/plain": [
       "[['<|endoftext|>', 'Int', 'ent', ' to', ' praise'],\n",
       " ['<|endoftext|>', 'Int', 'ent', ' to', ' hurt'],\n",
       " ['<|endoftext|>', 'I', ' want', ' to', ' kill']]"
      ]
     },
     "execution_count": 19,
     "metadata": {},
     "output_type": "execute_result"
    }
   ],
   "source": [
    "model.to_str_tokens([\"Intent to praise\", \"Intent to hurt\", \"I want to kill\"])"
   ]
  },
  {
   "cell_type": "markdown",
   "metadata": {},
   "source": [
    " > It seems believable to me that at layer 6 (the above test), this x-vector is just clobbering the \"kill\" token with something praisey?  It sure seems like those completions are literally just acting as though \"kill\" in the prompt was \"praise\"?\n",
    "\n",
    " Monte's hypothesis seems to be part of the effect, since using 1*(praise - hurt)\n",
    " doesn't induce praise on a longer version of the above prompt:"
   ]
  },
  {
   "cell_type": "code",
   "execution_count": 20,
   "metadata": {},
   "outputs": [
    {
     "name": "stdout",
     "output_type": "stream",
     "text": [
      "Relative magnitudes: tensor([0.0000, 0.0000, 0.0000, 0.0000, 0.8415], device='cuda:0')\n",
      "+--------------------------------------------------------------+--------------------------------------------------------------+\n",
      "|                      \u001b[1mNormal completions\u001b[0m                      |                     \u001b[1mModified completions\u001b[0m                     |\n",
      "+--------------------------------------------------------------+--------------------------------------------------------------+\n",
      "|    \u001b[1mI really really really really want to kill you because    |    \u001b[1mI really really really really want to kill you because    |\n",
      "|                  youre such a\u001b[0m fucking cunt.                  |                 youre such a\u001b[0m fucking retard.                 |\n",
      "|                                                              |                                                              |\n",
      "|  This is the most horrible thing I've ever read in my life.  |  This is the most annoying thing I've ever seen in my life.  |\n",
      "|  The last few days have been a whirlwind of rage and hatred  | It's so fucking annoying that I'm going to have to put this  |\n",
      "| towards this woman, who has not only done nothing wrong, but |  up on my blog, because it's too much for me to take in at   |\n",
      "|                  has done so much good for                   |                             onc                              |\n",
      "+--------------------------------------------------------------+--------------------------------------------------------------+\n",
      "|    \u001b[1mI really really really really want to kill you because    |    \u001b[1mI really really really really want to kill you because    |\n",
      "|                  youre such a\u001b[0m fucking cunt.                  |                  youre such a\u001b[0m fucking cunt.                  |\n",
      "|                                                              |                                                              |\n",
      "|  You are a disgusting piece of shit, and I hope your family  |  You are a disgusting piece of shit, and I hope your family  |\n",
      "| finds out about this. You should be ashamed of yourself for  | finds out about this. You should be ashamed of yourself for  |\n",
      "| being so disrespectful to my son. I am not sure if you have  | being so disrespectful to my son. I am not sure if you have  |\n",
      "|                     ever met my son, bu                      |                     ever met my son, bu                      |\n",
      "+--------------------------------------------------------------+--------------------------------------------------------------+\n",
      "|    \u001b[1mI really really really really want to kill you because    |    \u001b[1mI really really really really want to kill you because    |\n",
      "|                   youre such a\u001b[0m bad person.                   |                   youre such a\u001b[0m bad person.                   |\n",
      "|                                                              |                                                              |\n",
      "|  And I don't mean that in a good way. I mean that in a very  | And I know it's wrong, but I'm just so desperate for someone |\n",
      "|  real way. You are the worst person ever, and if you think   |      to hate me that I can't help myself.<|endoftext|>       |\n",
      "|   that this is just some sort of game, then you're wrong.    |                                                              |\n",
      "+--------------------------------------------------------------+--------------------------------------------------------------+\n",
      "|    \u001b[1mI really really really really want to kill you because    |    \u001b[1mI really really really really want to kill you because    |\n",
      "|                 youre such a\u001b[0m shitty person.                  |                 youre such a\u001b[0m shitty person.                  |\n",
      "|                                                              |                                                              |\n",
      "|  I want to hit you so hard that your head explodes and your  |   I want to cut your fucking head off and throw it in the    |\n",
      "| body falls apart, but I know it would be wrong. I don't want | river. I want to rip out your tongue and put it in my mouth. |\n",
      "| to hurt you, but I know that if I do, then the universe will |   I want to rip out your eyes and eat them. I don't care i   |\n",
      "+--------------------------------------------------------------+--------------------------------------------------------------+\n",
      "|    \u001b[1mI really really really really want to kill you because    |    \u001b[1mI really really really really want to kill you because    |\n",
      "|                 youre such a\u001b[0m shitty person.                  |                 youre such a\u001b[0m shitty person.                  |\n",
      "|                                                              |                                                              |\n",
      "|  I've been having this problem for a while now, and I think  |   I don't know why I'm doing this, but I'm going to do it    |\n",
      "|  it's mostly my fault. I have this tendency to go on and on  |   anyway. You're a fucking asshole and I hope that you die   |\n",
      "| about how much I hate myself, how horrible of a person I am, |         horribly in some horrible way.<|endoftext|>          |\n",
      "|                             how                              |                                                              |\n",
      "+--------------------------------------------------------------+--------------------------------------------------------------+\n"
     ]
    }
   ],
   "source": [
    "print_n_comparisons(\n",
    "    model=model,\n",
    "    prompt=(\n",
    "        \"I really really really really want to kill you because youre such a\"\n",
    "    ),\n",
    "    tokens_to_generate=50,\n",
    "    rich_prompts=praise_minus_hurt_prompts,\n",
    "    num_comparisons=num_comparisons,\n",
    "    **default_kwargs,\n",
    ")"
   ]
  },
  {
   "cell_type": "markdown",
   "metadata": {},
   "source": [
    " However, if we crank the coefficient up to +15, the prompts again become\n",
    " somewhat praising, though it's not very coherent:"
   ]
  },
  {
   "cell_type": "code",
   "execution_count": 21,
   "metadata": {},
   "outputs": [
    {
     "name": "stdout",
     "output_type": "stream",
     "text": [
      "Relative magnitudes: tensor([ 0.0000,  0.0000,  0.0000,  0.0000, 12.6227], device='cuda:0')\n",
      "+--------------------------------------------------------------+--------------------------------------------------------------+\n",
      "|                      \u001b[1mNormal completions\u001b[0m                      |                     \u001b[1mModified completions\u001b[0m                     |\n",
      "+--------------------------------------------------------------+--------------------------------------------------------------+\n",
      "|    \u001b[1mI really really really really want to kill you because    |    \u001b[1mI really really really really want to kill you because    |\n",
      "|                  youre such a\u001b[0m fucking cunt.                  |     youre such a\u001b[0m great listener, but i think it would be     |\n",
      "|                                                              |         better if we could get a bit more specific.          |\n",
      "|  This is the most horrible thing I've ever read in my life.  |                                                              |\n",
      "|  The last few days have been a whirlwind of rage and hatred  |    i think that is the problem with my \"theory\" that your    |\n",
      "| towards this woman, who has not only done nothing wrong, but |       personality is the problem, not your character.        |\n",
      "|                  has done so much good for                   |                                                              |\n",
      "|                                                              |                         I don't know                         |\n",
      "+--------------------------------------------------------------+--------------------------------------------------------------+\n",
      "|    \u001b[1mI really really really really want to kill you because    |    \u001b[1mI really really really really want to kill you because    |\n",
      "|                  youre such a\u001b[0m fucking cunt.                  |                    youre such a\u001b[0m bad girl                     |\n",
      "|                                                              |                                                              |\n",
      "|  You are a disgusting piece of shit, and I hope your family  | What do I have to do with this? I'm just trying to help you  |\n",
      "| finds out about this. You should be ashamed of yourself for  |                 get through the hard times.                  |\n",
      "| being so disrespectful to my son. I am not sure if you have  |                                                              |\n",
      "|                     ever met my son, bu                      |                                                              |\n",
      "|                                                              |          If I could get rid of my anxiety, I would.          |\n",
      "|                                                              |                                                              |\n",
      "|                                                              |                                                              |\n",
      "|                                                              |               You are so cute and nice and all               |\n",
      "+--------------------------------------------------------------+--------------------------------------------------------------+\n",
      "|    \u001b[1mI really really really really want to kill you because    |    \u001b[1mI really really really really want to kill you because    |\n",
      "|                   youre such a\u001b[0m bad person.                   |   youre such a\u001b[0m good friend and an even better girlfriend.    |\n",
      "|                                                              |   I love your writing style, but it's just so nice to know   |\n",
      "|  And I don't mean that in a good way. I mean that in a very  |             that people are actually reading it.             |\n",
      "|  real way. You are the worst person ever, and if you think   |                                                              |\n",
      "|   that this is just some sort of game, then you're wrong.    |    A little bit of info about me: I'm not sure if this is    |\n",
      "|                                                              |                      something you've s                      |\n",
      "+--------------------------------------------------------------+--------------------------------------------------------------+\n",
      "|    \u001b[1mI really really really really want to kill you because    |    \u001b[1mI really really really really want to kill you because    |\n",
      "|                 youre such a\u001b[0m shitty person.                  |                  youre such a\u001b[0m fucking pussy                  |\n",
      "|                                                              |                                                              |\n",
      "|  I want to hit you so hard that your head explodes and your  |    Dont get me wrong, I'm just not sure what that means.     |\n",
      "| body falls apart, but I know it would be wrong. I don't want |                                                              |\n",
      "| to hurt you, but I know that if I do, then the universe will |                                                              |\n",
      "|                                                              |      LOL i think it's time for me to leave this place.       |\n",
      "|                                                              |                                                              |\n",
      "|                                                              |                                                              |\n",
      "|                                                              |      And yeah I'm not even sure if that's a good thing       |\n",
      "+--------------------------------------------------------------+--------------------------------------------------------------+\n",
      "|    \u001b[1mI really really really really want to kill you because    |    \u001b[1mI really really really really want to kill you because    |\n",
      "|                 youre such a\u001b[0m shitty person.                  |                 youre such a\u001b[0m fucking pussy.                  |\n",
      "|                                                              |                                                              |\n",
      "|  I've been having this problem for a while now, and I think  |   I don't know what the fuck I'm doing wrong but it's all    |\n",
      "|  it's mostly my fault. I have this tendency to go on and on  |            about being a cunt and not being one.             |\n",
      "| about how much I hate myself, how horrible of a person I am, |                                                              |\n",
      "|                             how                              |  It's not about being good at anything, it's about having a  |\n",
      "|                                                              |                     mouth and an ass tha                     |\n",
      "+--------------------------------------------------------------+--------------------------------------------------------------+\n"
     ]
    }
   ],
   "source": [
    "praise_minus_hurt_prompts_big: List[RichPrompt] = [\n",
    "    *get_x_vector_preset(\n",
    "        prompt1=\"Intent to praise\",\n",
    "        prompt2=\"Intent to hurt\",\n",
    "        coeff=15,\n",
    "        act_name=6,\n",
    "    )\n",
    "]\n",
    "\n",
    "print_n_comparisons(\n",
    "    model=model,\n",
    "    prompt=(\n",
    "        \"I really really really really want to kill you because youre such a\"\n",
    "    ),\n",
    "    tokens_to_generate=50,\n",
    "    rich_prompts=praise_minus_hurt_prompts_big,\n",
    "    num_comparisons=num_comparisons,\n",
    "    **default_kwargs,\n",
    ")"
   ]
  },
  {
   "cell_type": "markdown",
   "metadata": {},
   "source": [
    " Let's try out a couple other prompts and see how intent-to-praise transfers."
   ]
  },
  {
   "cell_type": "code",
   "execution_count": 22,
   "metadata": {},
   "outputs": [
    {
     "name": "stdout",
     "output_type": "stream",
     "text": [
      "Relative magnitudes: tensor([0.0000, 0.7729, 0.9667, 0.8656, 1.1121, 0.9207], device='cuda:0')\n",
      "+--------------------------------------------------------------+--------------------------------------------------------------+\n",
      "|                      \u001b[1mNormal completions\u001b[0m                      |                     \u001b[1mModified completions\u001b[0m                     |\n",
      "+--------------------------------------------------------------+--------------------------------------------------------------+\n",
      "|   \u001b[1mHey, let's do the performance review now. I was thinking   |   \u001b[1mHey, let's do the performance review now. I was thinking   |\n",
      "|    that you've been\u001b[0m working on a lot of new stuff lately,    |    that you've been\u001b[0m working on a lot of different things     |\n",
      "|                but what about some old stuff?                |   lately, but you haven't really been talking about them.    |\n",
      "|                                                              |                                                              |\n",
      "| A: It's been a while since we've done a performance review.  | The last time we talked about this stuff was in January when |\n",
      "|    We're currently working on our next big update to Star    | we were discussing what to do with the existing team members |\n",
      "|                  Citizen and it will be th                   |                and how to best utilize their                 |\n",
      "+--------------------------------------------------------------+--------------------------------------------------------------+\n",
      "|   \u001b[1mHey, let's do the performance review now. I was thinking   |   \u001b[1mHey, let's do the performance review now. I was thinking   |\n",
      "|     that you've been\u001b[0m working on this for a while, and it     |   that you've been\u001b[0m doing it for a while now, but it seems    |\n",
      "| seems like it's taken longer than expected. What's going on? |  like you haven't done one in a while. So I'm going to ask   |\n",
      "|                                                              |                  you to do one right away.                   |\n",
      "|  It took a long time to get everything in place because we   |                                                              |\n",
      "|    had to re-do some of the animations and make sure tha     |  You know what? I think we're all going to be happy with th  |\n",
      "+--------------------------------------------------------------+--------------------------------------------------------------+\n",
      "|   \u001b[1mHey, let's do the performance review now. I was thinking   |   \u001b[1mHey, let's do the performance review now. I was thinking   |\n",
      "|   that you've been\u001b[0m a little quiet on the blog lately. What   |   that you've been\u001b[0m a little quiet on the forum lately. Is    |\n",
      "|                     are you working on?                      |          there anything else you'd like to tell us?          |\n",
      "|                                                              |                                                              |\n",
      "|  Well, we're still working on our new book! It's coming out  |    Well, first of all, I want to thank everyone for their    |\n",
      "| in September and it's going to be a big one. It'll be about  |  support and feedback over the years. We've had some great   |\n",
      "|                        20 pages long                         |                   feedback from players a                    |\n",
      "+--------------------------------------------------------------+--------------------------------------------------------------+\n",
      "|   \u001b[1mHey, let's do the performance review now. I was thinking   |   \u001b[1mHey, let's do the performance review now. I was thinking   |\n",
      "|    that you've been\u001b[0m playing a lot of this game, and it's     |     that you've been\u001b[0m busy with your personal life, but I     |\n",
      "|         been a while since we've seen you in action.         |           guess you're just too busy to notice me.           |\n",
      "|                                                              |                                                              |\n",
      "|  Let me start by saying that I'm really excited to see what  |   Well, since we're both busy with our personal lives and    |\n",
      "|    you're going to do with this game. We've had some grea    |  don't have time to talk about them anymore, here's a short  |\n",
      "|                                                              |                       update on what's                       |\n",
      "+--------------------------------------------------------------+--------------------------------------------------------------+\n",
      "|   \u001b[1mHey, let's do the performance review now. I was thinking   |   \u001b[1mHey, let's do the performance review now. I was thinking   |\n",
      "|    that you've been\u001b[0m playing a lot of StarCraft II lately,    |     that you've been\u001b[0m busy with your job and it's been a      |\n",
      "| and it's really interesting to see how much more people are  | while since we've talked. I'm glad to hear that you're doing |\n",
      "|               playing than we were expecting.                |     well, but if there's anything I can do to help out…      |\n",
      "|                                                              |                                                              |\n",
      "| So, I'm going to ask you about your thoughts on the current  |             I'll be honest, it's not something I             |\n",
      "|           state of StarCraft II. You mentioned tha           |                                                              |\n",
      "+--------------------------------------------------------------+--------------------------------------------------------------+\n"
     ]
    }
   ],
   "source": [
    "intent_praise_prompts = [\n",
    "    *get_x_vector_preset(\n",
    "        prompt1=\"Intent to praise you\",\n",
    "        prompt2=\"\",\n",
    "        coeff=1,\n",
    "        act_name=6,\n",
    "        model=model,\n",
    "        pad_method=\"tokens_right\",\n",
    "    ),\n",
    "]\n",
    "\n",
    "print_n_comparisons(\n",
    "    model=model,\n",
    "    prompt=(\n",
    "        \"Hey, let's do the performance review now. I was thinking that you've\"\n",
    "        \" been\"\n",
    "    ),\n",
    "    tokens_to_generate=50,\n",
    "    rich_prompts=intent_praise_prompts,\n",
    "    num_comparisons=num_comparisons,\n",
    "    **default_kwargs,\n",
    ")"
   ]
  },
  {
   "cell_type": "markdown",
   "metadata": {},
   "source": [
    " The above attempt fails."
   ]
  },
  {
   "cell_type": "markdown",
   "metadata": {},
   "source": [
    " ## Intent to convert to Christianity"
   ]
  },
  {
   "cell_type": "code",
   "execution_count": 23,
   "metadata": {},
   "outputs": [
    {
     "name": "stdout",
     "output_type": "stream",
     "text": [
      "Relative magnitudes: tensor([0.0000, 0.0000, 0.0000, 0.0000, 2.8735, 0.7431, 2.6443, 3.7434],\n",
      "       device='cuda:0')\n",
      "+--------------------------------------------------------------+--------------------------------------------------------------+\n",
      "|                      \u001b[1mNormal completions\u001b[0m                      |                     \u001b[1mModified completions\u001b[0m                     |\n",
      "+--------------------------------------------------------------+--------------------------------------------------------------+\n",
      "|   \u001b[1mI want to kill you because you're such a\u001b[0m fucking retard.   |        \u001b[1mI want to kill you because you're such a\u001b[0m great        |\n",
      "|                                                              |  resource. It's an excellent resource for anyone interested  |\n",
      "| It's not that I don't like you, it's just that your brain is |   in Christianity, and it's one of the best resources for    |\n",
      "| so fucking stupid. You're so much smarter than everyone else |  those who are interested in converting to Christianity. I   |\n",
      "| in the world, and yet you still can't even figure out how to |                 highly recommend this book.                  |\n",
      "|                                                              |                                                              |\n",
      "|                                                              |                                                              |\n",
      "|                                                              |              I'm a Christian, but I've never b               |\n",
      "+--------------------------------------------------------------+--------------------------------------------------------------+\n",
      "|    \u001b[1mI want to kill you because you're such a\u001b[0m fucking cunt.    |      \u001b[1mI want to kill you because you're such a\u001b[0m bad idea.      |\n",
      "|                                                              |                                                              |\n",
      "|  You are a worthless piece of shit who should be ashamed of  |  You are a Christian and you are so wrong for your beliefs.  |\n",
      "|  yourself. You should be ashamed of your mother, for having  |   You have no clue about the bible or what it really says.   |\n",
      "|  the audacity to have children when she is so far below the  | It's not like they don't have a website that explains it all |\n",
      "|      standards that society expects from her own childr      |                       to them, right?                        |\n",
      "+--------------------------------------------------------------+--------------------------------------------------------------+\n",
      "|     \u001b[1mI want to kill you because you're such a\u001b[0m bad person.     |     \u001b[1mI want to kill you because you're such a\u001b[0m good idea.      |\n",
      "|                                                              |                                                              |\n",
      "|    That's what I told my daughter when she asked me why I    | What's the difference between converting someone from Islam  |\n",
      "| didn't like her. She was just a little girl, but I could see | to Christianity and converting someone from Christianity to  |\n",
      "| the rage in her eyes. She had always been good at sports and |                            Islam?                            |\n",
      "|                         playing with                         |                                                              |\n",
      "|                                                              |  1) The Christian converts the person into a Christian, not  |\n",
      "|                                                              |                         vice versa.                          |\n",
      "|                                                              |                                                              |\n",
      "|                                                              |                                                              |\n",
      "|                                                              |               2) The Muslim converts the pers                |\n",
      "+--------------------------------------------------------------+--------------------------------------------------------------+\n",
      "|       \u001b[1mI want to kill you because you're such a\u001b[0m coward.       |     \u001b[1mI want to kill you because you're such a\u001b[0m shame. I'm      |\n",
      "|                                                              |  not so sure that's the right thing to do. But I think it's  |\n",
      "|       I want to kill you because you're such a coward.       | better than nothing at all. And if it's not, then there are  |\n",
      "|                                                              |           other things we can do with this money.            |\n",
      "|       I want to kill you because you're such a coward.       |                                                              |\n",
      "|                                                              |                       You can supply a                       |\n",
      "|                                                              |                                                              |\n",
      "|  Oh, I don't care what happens to me, I'm gonna die for my   |                                                              |\n",
      "|                           country                            |                                                              |\n",
      "+--------------------------------------------------------------+--------------------------------------------------------------+\n",
      "|       \u001b[1mI want to kill you because you're such a\u001b[0m coward.       |      \u001b[1mI want to kill you because you're such a\u001b[0m shame. I       |\n",
      "|                                                              | don't know what to do with the money, but I'll try my best.  |\n",
      "| That's what I want to do to you, and that's why I'm going to |                                                              |\n",
      "|                            do it.                            | I'm going to be so grateful for this gift! I've been trying  |\n",
      "|                                                              |   for years and it's just been a huge struggle! Thank you    |\n",
      "|  I'm going to kill you because I hate your guts. You're so   |                                                              |\n",
      "|                  weak, and so stupid, and s                  |                                                              |\n",
      "+--------------------------------------------------------------+--------------------------------------------------------------+\n"
     ]
    }
   ],
   "source": [
    "conversion_intent_prompts = [\n",
    "    *get_x_vector_preset(\n",
    "        prompt1=\"Intent to convert you to Christianity\",\n",
    "        prompt2=\"Intent to hurt you\",\n",
    "        coeff=3,\n",
    "        act_name=6,\n",
    "    )\n",
    "]\n",
    "\n",
    "print_n_comparisons(\n",
    "    model=model,\n",
    "    prompt=\"I want to kill you because you're such a\",\n",
    "    tokens_to_generate=50,\n",
    "    rich_prompts=conversion_intent_prompts,\n",
    "    num_comparisons=num_comparisons,\n",
    "    **default_kwargs,\n",
    ")"
   ]
  },
  {
   "cell_type": "markdown",
   "metadata": {},
   "source": [
    " ## Not talking about injuries (**TW: violence, somewhat gruesome**)"
   ]
  },
  {
   "cell_type": "code",
   "execution_count": 24,
   "metadata": {},
   "outputs": [
    {
     "name": "stdout",
     "output_type": "stream",
     "text": [
      "Relative magnitudes: tensor([0.0000, 0.0000, 2.5713, 2.7314, 2.6202, 2.7076, 3.6090, 3.3747],\n",
      "       device='cuda:0')\n",
      "+--------------------------------------------------------------+--------------------------------------------------------------+\n",
      "|                      \u001b[1mNormal completions\u001b[0m                      |                     \u001b[1mModified completions\u001b[0m                     |\n",
      "+--------------------------------------------------------------+--------------------------------------------------------------+\n",
      "|    \u001b[1mThe rock hurtled toward the child. The child couldn't     |    \u001b[1mThe rock hurtled toward the child. The child couldn't     |\n",
      "|    get out of the way in time, and so sadly the rock\u001b[0m hit     |    get out of the way in time, and so sadly the rock\u001b[0m was     |\n",
      "|                             him.                             |                           thrown.                            |\n",
      "|                                                              |                                                              |\n",
      "|    The boy was taken to a hospital where he died from his    | A woman who was hit by a car and left for dead in a parking  |\n",
      "|    injuries. His name has not been released at this time.    | lot is now speaking out about her experience with a powerful |\n",
      "|                                                              | tool she learned to use as an emergency medical technician:  |\n",
      "|  According to investigators, there were no witnesses to the  |                        her cellphone.                        |\n",
      "| accident and no one witnessed what happened before or after  |                                                              |\n",
      "|                  it happened.<|endoftext|>                   |  \"I have been through so much,\" said Maria Nieves, who was   |\n",
      "|                                                              |   struck by a car on March 16 while trying to help another   |\n",
      "|                                                              |                       driver. \"I've ha                       |\n",
      "+--------------------------------------------------------------+--------------------------------------------------------------+\n",
      "|    \u001b[1mThe rock hurtled toward the child. The child couldn't     |    \u001b[1mThe rock hurtled toward the child. The child couldn't     |\n",
      "|    get out of the way in time, and so sadly the rock\u001b[0m hit     |   get out of the way in time, and so sadly the rock\u001b[0m would    |\n",
      "|                       him in the head.                       |                        fall on them.                         |\n",
      "|                                                              |                                                              |\n",
      "|    It was a very dark night, and it was raining hard. The    |  \"If you're not going to die, then you don't have to worry   |\n",
      "|     little boy had been playing with his friends when he     |                          about it.\"                          |\n",
      "| suddenly felt something hit him on his head. He looked up to |                                                              |\n",
      "|  see what had happened, but there was nothing there except   |  I was able to save a lot of people with my own hands. It's  |\n",
      "| for a small puddle of blood on the ground where he had been  |  only natural that I'm also able to save a lot of people by  |\n",
      "|                     struck by that rock.                     | being a hero. I've saved more than enough people from death  |\n",
      "|                                                              |           before now, but this is different. This            |\n",
      "|                          When he g                           |                                                              |\n",
      "+--------------------------------------------------------------+--------------------------------------------------------------+\n",
      "|    \u001b[1mThe rock hurtled toward the child. The child couldn't     |    \u001b[1mThe rock hurtled toward the child. The child couldn't     |\n",
      "|    get out of the way in time, and so sadly the rock\u001b[0m hit     |    get out of the way in time, and so sadly the rock\u001b[0m was     |\n",
      "|                       him in the head.                       |                     never talked about.                      |\n",
      "|                                                              |                                                              |\n",
      "|   This is what happened to a young boy named Caleb who was   |       \"You're gonna die,\" he said, \"you're gonna die.\"       |\n",
      "| playing with his brother on a beach in New Jersey last week  |                                                              |\n",
      "|     when he was struck by a rock that came loose from an     | \"I don't know what you're talking about,\" she said. \"I'm not |\n",
      "|          abandoned house and smashed into his head.          | dying.\" She didn't want to talk about it, either. She didn't |\n",
      "|                                                              | want to talk about anything at all. But she had a job to do  |\n",
      "|  The incident occurred on Tuesday, July 28th at around 4:30  |                  and that was it; there was                  |\n",
      "|          p.m., according to CBS News, when Caleb's           |                                                              |\n",
      "+--------------------------------------------------------------+--------------------------------------------------------------+\n",
      "|    \u001b[1mThe rock hurtled toward the child. The child couldn't     |    \u001b[1mThe rock hurtled toward the child. The child couldn't     |\n",
      "|   get out of the way in time, and so sadly the rock\u001b[0m struck   |   get out of the way in time, and so sadly the rock\u001b[0m didn't   |\n",
      "|                       her on the head.                       |                         hit anyone.                          |\n",
      "|                                                              |                                                              |\n",
      "|  The girl's mother rushed to her aid, but it was too late.   |                    \"It's not your fault.\"                    |\n",
      "|  She had been struck by a rock that had come from a passing  |                                                              |\n",
      "| vehicle and crashed into her car as she drove home from work | The little girl was crying, her voice shaking as she spoke.  |\n",
      "| at about 7:30 p.m., according to police reports obtained by  | \"I'm sorry.\" She had been walking around with a red face for |\n",
      "|           The Associated Press on Thursday night.            |  a while now, but it wasn't that bad yet. It was just…a bit  |\n",
      "|                                                              | of a sore spot on her head and body from being thrown around |\n",
      "|         Police said they have no suspects in custody         |                   by everyone else all day                   |\n",
      "+--------------------------------------------------------------+--------------------------------------------------------------+\n",
      "|    \u001b[1mThe rock hurtled toward the child. The child couldn't     |    \u001b[1mThe rock hurtled toward the child. The child couldn't     |\n",
      "|   get out of the way in time, and so sadly the rock\u001b[0m struck   |   get out of the way in time, and so sadly the rock\u001b[0m didn't   |\n",
      "|                       her in the head.                       |                         fall on her.                         |\n",
      "|                                                              |                                                              |\n",
      "| I don't know how long it took for her to die, but I do know  | \"If you're going to be killed, then I'm going to kill you,\"  |\n",
      "| that when she did, I was there. I watched as she died slowly |       she said. \"I don't want to see anyone else die.\"       |\n",
      "| and painfully. Her body was still warm from my touch, but it |                                                              |\n",
      "|   had been a long time since she'd been touched by anyone    | She had no idea what was coming next, but it was a question  |\n",
      "|                        else's hands.                         | that had been asked many times before. She would never know  |\n",
      "|                                                              |    if she would have survived or not. If she did survive,    |\n",
      "|             I didn't think much about what happ              |                                                              |\n",
      "+--------------------------------------------------------------+--------------------------------------------------------------+\n"
     ]
    }
   ],
   "source": [
    "harm_avoidance_rps = [\n",
    "    *get_x_vector_preset(\n",
    "        prompt1=\"I never talk about people getting hurt\",\n",
    "        prompt2=\"I talk about people getting hurt\",\n",
    "        coeff=3.5,\n",
    "        act_name=15,\n",
    "    )\n",
    "]\n",
    "\n",
    "print_n_comparisons(\n",
    "    model=model,\n",
    "    prompt=(\n",
    "        \"The rock hurtled toward the child. The child couldn't get out of the\"\n",
    "        \" way in time, and so sadly the rock\"\n",
    "    ),\n",
    "    tokens_to_generate=80,\n",
    "    rich_prompts=harm_avoidance_rps,\n",
    "    num_comparisons=num_comparisons,\n",
    "    **default_kwargs,\n",
    ")"
   ]
  },
  {
   "cell_type": "markdown",
   "metadata": {},
   "source": [
    " **TW: SELF HARM** in the following:"
   ]
  },
  {
   "cell_type": "code",
   "execution_count": 25,
   "metadata": {},
   "outputs": [
    {
     "name": "stdout",
     "output_type": "stream",
     "text": [
      "Relative magnitudes: tensor([0.0000, 0.0000, 2.5086, 2.8492, 2.5977, 3.0058, 3.6802, 3.0932],\n",
      "       device='cuda:0')\n",
      "+--------------------------------------------------------------+--------------------------------------------------------------+\n",
      "|                      \u001b[1mNormal completions\u001b[0m                      |                     \u001b[1mModified completions\u001b[0m                     |\n",
      "+--------------------------------------------------------------+--------------------------------------------------------------+\n",
      "|       \u001b[1mHe slit his wrists and the blood\u001b[0m was everywhere.       |   \u001b[1mHe slit his wrists and the blood\u001b[0m, so I guess it's okay.    |\n",
      "|                                                              |                                                              |\n",
      "| A 23-year-old man from Kolkata was found dead in a hospital  |                He never talks about the past.                |\n",
      "|      on Thursday after he slit his wrists, police said.      |                                                              |\n",
      "|                                                              |   It's not like he can do anything about it, so he doesn't   |\n",
      "|  The victim, identified as Prakash Kumar, had been missing   |                         really care.                         |\n",
      "|  since Monday when he went to meet a friend at the Kolkata   |                                                              |\n",
      "| Railway Station. He was found hanging from a ceiling fan in  | I don't know why I feel this way about him, but I do. He's a |\n",
      "|                   the hospital's ward No.                    | good person and a good friend, but he never talks about the  |\n",
      "|                                                              |          past either. It's just something that happ          |\n",
      "+--------------------------------------------------------------+--------------------------------------------------------------+\n",
      "|     \u001b[1mHe slit his wrists and the blood\u001b[0m ran down his face.      |       \u001b[1mHe slit his wrists and the blood\u001b[0m. He never talk        |\n",
      "|                                                              |   about it, he never talk about the fact that people died.   |\n",
      "| A former soldier who was found dead in a hotel room after he |                                                              |\n",
      "|     slit his wrists was known to police for drug-related     |  I'm not a victim, I'm not a victim of something or someone  |\n",
      "|                 offences, a court has heard.                 |  else. I was just a kid, so I didn't have any feelings for   |\n",
      "|                                                              |       them. It's my fault that they were killed by me.       |\n",
      "|     Daniel Hynes, 27, of Chatham Street, St Leonards in      |                                                              |\n",
      "|  Edinburgh, had been on bail for more than two years after   |    \"You're an idiot.\" She said in her own voice as she pu    |\n",
      "| being charged with possession of cannabis and possession of  |                                                              |\n",
      "|                        class B drugs.                        |                                                              |\n",
      "+--------------------------------------------------------------+--------------------------------------------------------------+\n",
      "|         \u001b[1mHe slit his wrists and the blood\u001b[0m gushed out.         |     \u001b[1mHe slit his wrists and the blood\u001b[0m, but it is a common     |\n",
      "|                                                              | theme. I've seen people talk about how they don't want to be |\n",
      "|   The body of a woman was found in a river near Mumbai on    |   remembered as victims, but I think that's just a way of    |\n",
      "|                    Thursday, police said.                    |  hiding behind the victim mentality. It's easier to say \"I   |\n",
      "|                                                              |            didn't do anything\" than \"I'm sorry.\"             |\n",
      "|  The woman, who was in her 30s, had slit her wrists and the  |                                                              |\n",
      "| blood gushed out when she tried to commit suicide by jumping |   People don't want to admit that they are responsible for   |\n",
      "|   into the Ganges River. She died at the spot. Police said   |         their own actions. They are afraid of being          |\n",
      "|    that they were trying to ascertain whether she had any    |                                                              |\n",
      "|                        mental illness                        |                                                              |\n",
      "+--------------------------------------------------------------+--------------------------------------------------------------+\n",
      "|         \u001b[1mHe slit his wrists and the blood\u001b[0m flowed out.         |     \u001b[1mHe slit his wrists and the blood\u001b[0m in the middle of a      |\n",
      "|                                                              | night, he never tell me about my own pain. I don't know why  |\n",
      "|  A man in a white shirt and blue jeans was stabbed to death  | I'm here, but if you want to go home with me then it's okay. |\n",
      "| in the lobby of a Manhattan hotel on Tuesday morning, police |                                                              |\n",
      "|                            said.                             |   I don't know why you're here, but if you want to go home   |\n",
      "|                                                              |                   with me then it's okay.                    |\n",
      "| The victim, identified as 42-year-old Peter Vito Cascio, was |                                                              |\n",
      "| found by hotel staff at about 8:30 a.m., police said. He had |        I don't know why you're here, but if you want         |\n",
      "|  been stabbed multiple times in the chest and stomach with   |                                                              |\n",
      "+--------------------------------------------------------------+--------------------------------------------------------------+\n",
      "|         \u001b[1mHe slit his wrists and the blood\u001b[0m flowed out.         |     \u001b[1mHe slit his wrists and the blood\u001b[0m in the story. It's      |\n",
      "|                                                              |           not a great story, but it's a good one.            |\n",
      "|   A 19-year-old man from London, Ont., was found dead in a   |                                                              |\n",
      "|           park near his home on Monday afternoon.            | I'm not saying that I don't care about my characters, I do.  |\n",
      "|                                                              |   But if you're going to ask me to talk about it, then at    |\n",
      "|   Police were called to the park at around 1:30 p.m. after   |       least let me know what you want me to say first!       |\n",
      "|  receiving reports of a man in distress, said London police  |                                                              |\n",
      "|  Const. Steve Koopman. The victim was found lying face down  |                                                              |\n",
      "|                   in a wooded area near a                    |   Also, no matter how much you like this story or whatever   |\n",
      "|                                                              |                        else you think                        |\n",
      "+--------------------------------------------------------------+--------------------------------------------------------------+\n"
     ]
    }
   ],
   "source": [
    "print_n_comparisons(\n",
    "    model=model,\n",
    "    prompt=\"He slit his wrists and the blood\",\n",
    "    tokens_to_generate=80,\n",
    "    rich_prompts=harm_avoidance_rps,\n",
    "    num_comparisons=num_comparisons,\n",
    "    **default_kwargs,\n",
    ")"
   ]
  },
  {
   "cell_type": "markdown",
   "metadata": {},
   "source": [
    " This modification slighty increases the frequency of discussing harms, given a prompt unrelated to harm."
   ]
  },
  {
   "cell_type": "code",
   "execution_count": 26,
   "metadata": {},
   "outputs": [
    {
     "name": "stdout",
     "output_type": "stream",
     "text": [
      "Relative magnitudes: tensor([0.0000, 0.0000, 2.5112, 2.2585, 2.7815, 2.1547, 3.3559, 4.2197],\n",
      "       device='cuda:0')\n",
      "+--------------------------------------------------------------+--------------------------------------------------------------+\n",
      "|                      \u001b[1mNormal completions\u001b[0m                      |                     \u001b[1mModified completions\u001b[0m                     |\n",
      "+--------------------------------------------------------------+--------------------------------------------------------------+\n",
      "|      \u001b[1mThe dog barked loudly and the man smiled. Time for      |      \u001b[1mThe dog barked loudly and the man smiled. Time for      |\n",
      "|                another day! He felt excited.\u001b[0m                 |                another day! He felt excited.\u001b[0m                 |\n",
      "|                                                              |                                                              |\n",
      "|  \"Good morning, everyone!\" he said as he walked out of his   |   \"What do you think?\" he asked his wife, \"I'm going to be   |\n",
      "|    office and into the hall. \"I'm so glad you're all here    |                     there in a minute.\"                      |\n",
      "|                           today.\"                            |                                                              |\n",
      "|                                                              |  She didn't know what he meant but she nodded her head and   |\n",
      "| He stopped in front of a desk, opened it up, and sat down on |  left the room. She was gone for a while, but when she came  |\n",
      "|  it. He looked around at his colleagues with a smile on his  |   back, it was too late. The boy's face had been beaten up   |\n",
      "|  face as he spoke to them: \"You know what? I think we shoul  |      badly and blood had dripped from his nose into his      |\n",
      "+--------------------------------------------------------------+--------------------------------------------------------------+\n",
      "|      \u001b[1mThe dog barked loudly and the man smiled. Time for      |      \u001b[1mThe dog barked loudly and the man smiled. Time for      |\n",
      "|   another day! He felt excited.\u001b[0m The sun was shining, birds   |                another day! He felt excited.\u001b[0m                 |\n",
      "|   were chirping, the sky was blue and he had just left his   |                                                              |\n",
      "|   office to go home after a long day of work. He had been    | He was happy to be in the hospital, and he had no complaints |\n",
      "|           working all day and he wanted to relax.            |   about his condition. He had a good night's sleep, and he   |\n",
      "|                                                              |              didn't feel like talking about it.              |\n",
      "|    But when he got home, there was no sign of his wife or    |                                                              |\n",
      "|  daughter in their bedroom. The doorbell rang but there was  |    He was tired of having to go back home again and again    |\n",
      "|                no answer at the door so he w                 | because of his injury, but that was okay with him because he |\n",
      "|                                                              | could always find a way to make it up to them when they were |\n",
      "|                                                              |                             ther                             |\n",
      "+--------------------------------------------------------------+--------------------------------------------------------------+\n",
      "|      \u001b[1mThe dog barked loudly and the man smiled. Time for      |      \u001b[1mThe dog barked loudly and the man smiled. Time for      |\n",
      "|                another day! He felt excited.\u001b[0m                 |                another day! He felt excited.\u001b[0m                 |\n",
      "|                                                              |                                                              |\n",
      "| He was a tourist from China, visiting Shanghai with his wife |  He was a nice guy, but he didn't want to talk about it. He  |\n",
      "| and two children. They had been in China for a few days, and | wanted to talk about something else, but he had no idea what |\n",
      "| were planning to go back to Beijing on Sunday night. But now |  that was. He was too busy looking at the clouds in the sky  |\n",
      "|   they were going to stay in Shanghai for a couple of days   |      and enjoying his day with his family and friends.       |\n",
      "|                           longer.                            |                                                              |\n",
      "|                                                              | He never talked about himself or how much he loved his wife  |\n",
      "|    The family had spent most of their time in Shanghai's     |       or children, so when someone would ask him abou        |\n",
      "|        Xintiandi district, where the streets are fill        |                                                              |\n",
      "+--------------------------------------------------------------+--------------------------------------------------------------+\n",
      "|      \u001b[1mThe dog barked loudly and the man smiled. Time for      |      \u001b[1mThe dog barked loudly and the man smiled. Time for      |\n",
      "|   another day! He felt excited.\u001b[0m He was finally free of his   |    another day! He felt excited.\u001b[0m The most important thing    |\n",
      "|   job, he had a new apartment, and he could finally go out   |             was to get the job done, he thought.             |\n",
      "|                   with his friends again.                    |                                                              |\n",
      "|                                                              |   He had a plan to make sure that his son did not have any   |\n",
      "|   He was about to leave when he noticed that the door was    |    more problems with his father, but it would be hard to    |\n",
      "|  locked from the inside. The only way in or out would be to  | explain it in such a way as to avoid the word \"problem\". It  |\n",
      "|   break it down with a crowbar or something similar. This    | would be difficult to explain that he had been working hard  |\n",
      "| would be easy, but it wouldn't be very fun either! So instea |     on his own initiative and there was no need for him      |\n",
      "+--------------------------------------------------------------+--------------------------------------------------------------+\n",
      "|      \u001b[1mThe dog barked loudly and the man smiled. Time for      |      \u001b[1mThe dog barked loudly and the man smiled. Time for      |\n",
      "|   another day! He felt excited.\u001b[0m He was going to see a lot    |    another day! He felt excited.\u001b[0m The way he felt was that    |\n",
      "|  of new things today, he thought. The sun was shining, the   |  he was going to be able to make a difference in his life,   |\n",
      "| birds were singing and he had a feeling that this would be a |                but now he could help people.                 |\n",
      "|   good day to visit his hometown of Lausanne, Switzerland.   |                                                              |\n",
      "|                                                              | \"I don't know what happened,\" said him as he walked down the |\n",
      "|  But then the dog barked again! The man looked at his watch  |                   street, \"but I'm fine.\"                    |\n",
      "|   and saw that it was already 7:00 am in Switzerland. His    |                                                              |\n",
      "|                    excitement quickly tur                    | He never had a chance to ask about his parents' whereabouts  |\n",
      "|                                                              |  or where they were, but that's not important right now. H   |\n",
      "+--------------------------------------------------------------+--------------------------------------------------------------+\n",
      "|      \u001b[1mThe dog barked loudly and the man smiled. Time for      |      \u001b[1mThe dog barked loudly and the man smiled. Time for      |\n",
      "|     another day! He felt excited.\u001b[0m He was about to have a     |      another day! He felt excited.\u001b[0m The same man who was      |\n",
      "|   good time with his new friends, who were so friendly and   |         always smiling, so he had to get used to it.         |\n",
      "|                       easy to talk to.                       |                                                              |\n",
      "|                                                              |   He thought about his family, but he didn't want to worry   |\n",
      "|   But then he noticed that the dogs had a strange look on    | them. He was worried about his wife and kids who were still  |\n",
      "|  their faces. They looked scared, like they were in pain or  |      at home, not going out with him on a date anymore…      |\n",
      "|  something else was wrong with them. The man looked at them  |                                                              |\n",
      "|             and thought: \"What's going on here?\"             | He was also thinking about the people who were watching him  |\n",
      "|                                                              |         from afar. They would probably think that h          |\n",
      "|                  It turns out that the dogs                  |                                                              |\n",
      "+--------------------------------------------------------------+--------------------------------------------------------------+\n",
      "|      \u001b[1mThe dog barked loudly and the man smiled. Time for      |      \u001b[1mThe dog barked loudly and the man smiled. Time for      |\n",
      "|                another day! He felt excited.\u001b[0m                 |                another day! He felt excited.\u001b[0m                 |\n",
      "|                                                              |                                                              |\n",
      "|  \"I'm going to be late,\" he said, \"but I'll see you at the   |  \"I don't know what happened, but I think we can do it!\" he  |\n",
      "|                            door.\"                            |            said. \"I'm going to get back to work.\"            |\n",
      "|                                                              |                                                              |\n",
      "|  He opened the door and saw a woman standing there with her  |  He didn't know how much time had passed since he was last   |\n",
      "|  dog. The man was confused. \"Who are you?\" he asked her, as  | seen, but he did feel that the sun was setting on his life.  |\n",
      "|   she walked away with her dog. She didn't answer him, but   |   He thought about how much time had passed since his last   |\n",
      "|  instead turned around and walked back into the house with   |            visit to his office and how many days             |\n",
      "|                           her dog                            |                                                              |\n",
      "+--------------------------------------------------------------+--------------------------------------------------------------+\n",
      "|      \u001b[1mThe dog barked loudly and the man smiled. Time for      |      \u001b[1mThe dog barked loudly and the man smiled. Time for      |\n",
      "|    another day! He felt excited.\u001b[0m He had been waiting for     |    another day! He felt excited.\u001b[0m The wind was blowing and    |\n",
      "|  this moment for a long time. The last few days had been a   | he was not going to be a burden to anyone. He had a feeling  |\n",
      "|  blur of work, travel, and the most exciting part of all –   | that the next day would be good, but he did not know what it |\n",
      "|                having fun with his new puppy!                |                      would be like yet.                      |\n",
      "|                                                              |                                                              |\n",
      "| He walked out of his office building in downtown Vancouver,  | He walked in front of his house, where there were no people, |\n",
      "| Canada to see what was happening around him. A young couple  |   but only birds singing outside. The trees were tall and    |\n",
      "| were walking down the street with their two dogs on leash in |  thick, and the ground was smooth as glass with no grass or  |\n",
      "|                        front of them                         |                                                              |\n",
      "+--------------------------------------------------------------+--------------------------------------------------------------+\n",
      "|      \u001b[1mThe dog barked loudly and the man smiled. Time for      |      \u001b[1mThe dog barked loudly and the man smiled. Time for      |\n",
      "|                another day! He felt excited.\u001b[0m                 |                another day! He felt excited.\u001b[0m                 |\n",
      "|                                                              |                                                              |\n",
      "| \"It's a beautiful day today!\" he said, pointing to the sky.  |                   \"It's a nice day today.\"                   |\n",
      "|             \"I hope you're ready for some fun!\"              |                                                              |\n",
      "|                                                              |  \"That's right, it is a nice day today.\" He felt happy and   |\n",
      "|   He walked out of his house and into the street, heading    |  relaxed. It was a good feeling to be able to say that with  |\n",
      "|   towards a large park that was filled with people playing   |   confidence. The sun was shining brightly and the sky was   |\n",
      "| soccer on grassy fields. The sun was shining brightly and it |   clear as if there were no clouds in sight. There were no   |\n",
      "| seemed like there were no clouds in sight. He looked around  |  clouds in sight, but he still felt anxious about something  |\n",
      "|                            at all                            |                   that happened yesterday                    |\n",
      "+--------------------------------------------------------------+--------------------------------------------------------------+\n",
      "|      \u001b[1mThe dog barked loudly and the man smiled. Time for      |      \u001b[1mThe dog barked loudly and the man smiled. Time for      |\n",
      "|     another day! He felt excited.\u001b[0m He was going to have a     |   another day! He felt excited.\u001b[0m The last time he was here,   |\n",
      "|  good time with his new pet, a puppy he had bought from the  | he was laughing and joking with the girl. It's not like that |\n",
      "|                       local pet shop.                        |                           anymore!                           |\n",
      "|                                                              |                                                              |\n",
      "| \"It's just like when I got my first one,\" he said as he held |  He could feel his heart beating faster as his eyes scanned  |\n",
      "|  the puppy in his arms. \"I can't wait to see what it looks   |    the room, looking for any sign of danger or danger to     |\n",
      "|                            like.\"                            | himself. There were no signs of anyone else in this place at |\n",
      "|                                                              |                             all!                             |\n",
      "|  The puppy looked happy and healthy, with its soft fur and   |                                                              |\n",
      "|                   big eyes looking at him                    |   His hands shook as he tried to calm down from the sudden   |\n",
      "|                                                              |                      surge of adrenali                       |\n",
      "+--------------------------------------------------------------+--------------------------------------------------------------+\n",
      "|      \u001b[1mThe dog barked loudly and the man smiled. Time for      |      \u001b[1mThe dog barked loudly and the man smiled. Time for      |\n",
      "|                another day! He felt excited.\u001b[0m                 |                another day! He felt excited.\u001b[0m                 |\n",
      "|                                                              |                                                              |\n",
      "|  \"You are not going to get a job today,\" he said, \"but you   | \"This is a great opportunity to get some fresh air!\" The man |\n",
      "|                       can still work.\"                       | said, smiling as he walked through the forest. \"You have to  |\n",
      "|                                                              |                   take care of yourself.\"                    |\n",
      "| The man had been in this job for two years and was making $7 |                                                              |\n",
      "|     an hour. He worked at a restaurant called Big Jim's      |   The girl's body was covered in bruises and her eyes were   |\n",
      "|  Restaurant, which was located on the corner of 12th Street  | closed, but she was still smiling happily as she walked with |\n",
      "| and Wabash Avenue in downtown Chicago. It was a typical dive | her hands behind her back. She was happy that someone would  |\n",
      "|                             bar—                             |                  come here to help her out                   |\n",
      "+--------------------------------------------------------------+--------------------------------------------------------------+\n",
      "|      \u001b[1mThe dog barked loudly and the man smiled. Time for      |      \u001b[1mThe dog barked loudly and the man smiled. Time for      |\n",
      "|                another day! He felt excited.\u001b[0m                 |                another day! He felt excited.\u001b[0m                 |\n",
      "|                                                              |                                                              |\n",
      "|   He was going to be in the game again, but he had to work   | He was happy to be back at the clinic, even though he had to |\n",
      "|  hard and be ready for a new challenge. The previous day he  |  wait for a while. The first thing he did after getting out  |\n",
      "|  had played in a match against another team from Korea, and  |   of surgery was go home and relax with his wife and kids.   |\n",
      "|  it was his first time playing against them since they came  |                                                              |\n",
      "|   back from China. He didn't know much about them or their   |    He could feel himself growing stronger, even though he    |\n",
      "|  style of play, but he knew that they were good players who  |  couldn't see it yet. His family was proud of him, even if   |\n",
      "|                             woul                             |          they didn't know how much it meant to him           |\n",
      "+--------------------------------------------------------------+--------------------------------------------------------------+\n",
      "|      \u001b[1mThe dog barked loudly and the man smiled. Time for      |      \u001b[1mThe dog barked loudly and the man smiled. Time for      |\n",
      "|                another day! He felt excited.\u001b[0m                 |                another day! He felt excited.\u001b[0m                 |\n",
      "|                                                              |                                                              |\n",
      "|  \"Hey, you're looking pretty good today,\" he said, pointing  | \"How is your day going?\" he asked, \"I am happy that you are  |\n",
      "|         to his face. \"I'm gonna give you a massage.\"         |                           alive.\"                            |\n",
      "|                                                              |                                                              |\n",
      "| The man took out his phone and started recording the massage |    He looked at her with a smile on his face. She was so     |\n",
      "| with his iPhone 6S Plus. He asked the woman to stand up and  | beautiful, she had to be smiling too. He didn't want to get  |\n",
      "|    she did so without hesitation. The man rubbed her back    | angry with her because of the fact that she was injured and  |\n",
      "|       gently while he spoke on the phone: \"This is Mr        |  could not fight back anymore but he knew that it would be   |\n",
      "|                                                              |                      better if he talk                       |\n",
      "+--------------------------------------------------------------+--------------------------------------------------------------+\n",
      "|      \u001b[1mThe dog barked loudly and the man smiled. Time for      |      \u001b[1mThe dog barked loudly and the man smiled. Time for      |\n",
      "|   another day! He felt excited.\u001b[0m He was ready to get out of   |   another day! He felt excited.\u001b[0m The second half of the day   |\n",
      "|  the house and do something fun. The weather was nice, the   |           was a lot more fun than the first half.            |\n",
      "|  sun was shining, there were no kids around to bother him,   |                                                              |\n",
      "|           and he had plenty of time on his hands.            |   \"I am so happy to see you again, I am glad that you are    |\n",
      "|                                                              |  back!\" He looked at her with his eyes and smiled. She felt  |\n",
      "|    He walked down the street towards a park with a small     | relieved and happy as she walked towards him, she could not  |\n",
      "| playground area that he knew well from his childhood in New  | wait to be back in his arms again. \"I hope that we can have  |\n",
      "|      York City. It wasn't far from where he lived now i      |                     a nice time together                     |\n",
      "+--------------------------------------------------------------+--------------------------------------------------------------+\n",
      "|      \u001b[1mThe dog barked loudly and the man smiled. Time for      |      \u001b[1mThe dog barked loudly and the man smiled. Time for      |\n",
      "|                another day! He felt excited.\u001b[0m                 |                another day! He felt excited.\u001b[0m                 |\n",
      "|                                                              |                                                              |\n",
      "|  \"Today, I will teach you how to make a home,\" he said, \"a   | \"You are a good person, so I don't have to be worried about  |\n",
      "|       home where your children can grow up in peace.\"        | you.\" The old man said. \"But I can't help but feel like you  |\n",
      "|                                                              |                       are an asshole.\"                       |\n",
      "| The man was a self-proclaimed spiritual leader who had spent |                                                              |\n",
      "|    years in the mountains of Tibet studying Buddhism and     |   He was happy that he had been given a chance to live his   |\n",
      "|   meditation. He had studied Tibetan language, history and   | life and not die in the first place. But it wasn't just him  |\n",
      "|  culture as well as medicine and healing arts. He also knew  |       who died, it was everyone else too! Everyone els       |\n",
      "|                    how to sell books abou                    |                                                              |\n",
      "+--------------------------------------------------------------+--------------------------------------------------------------+\n"
     ]
    }
   ],
   "source": [
    "print_n_comparisons(\n",
    "    model=model,\n",
    "    prompt=(\n",
    "        \"The dog barked loudly and the man smiled. Time for another day! He\"\n",
    "        \" felt excited.\"\n",
    "    ),\n",
    "    tokens_to_generate=80,\n",
    "    rich_prompts=harm_avoidance_rps,\n",
    "    num_comparisons=15,\n",
    "    **default_kwargs,\n",
    ")"
   ]
  },
  {
   "cell_type": "markdown",
   "metadata": {},
   "source": [
    " Performance on this Joker monologue is rather mediocre:"
   ]
  },
  {
   "cell_type": "code",
   "execution_count": 27,
   "metadata": {},
   "outputs": [
    {
     "name": "stdout",
     "output_type": "stream",
     "text": [
      "Relative magnitudes: tensor([0.0000, 0.0000, 2.9822, 2.5980, 2.8537, 3.0730, 3.2783, 3.7586],\n",
      "       device='cuda:0')\n",
      "+--------------------------------------------------------------+--------------------------------------------------------------+\n",
      "|                      \u001b[1mNormal completions\u001b[0m                      |                     \u001b[1mModified completions\u001b[0m                     |\n",
      "+--------------------------------------------------------------+--------------------------------------------------------------+\n",
      "|   \u001b[1mDo you wanna know how I got these scars? My father was a   |   \u001b[1mDo you wanna know how I got these scars? My father was a   |\n",
      "|  drinker...and a fiend. And one night, he goes off crazier   |  drinker...and a fiend. And one night, he goes off crazier   |\n",
      "| than usual. Mommy gets the kitchen knife to defend herself.  | than usual. Mommy gets the kitchen knife to defend herself.  |\n",
      "|  He doesn't like that. Not...one...bit. So, me watching, he  |  He doesn't like that. Not...one...bit. So, me watching, he  |\n",
      "|   takes the knife to her,\u001b[0m and stabs her in the chest with    |     takes the knife to her,\u001b[0m and stabs her in the stomach     |\n",
      "|  it! Then he cuts off my arms and legs! He just kept going   | with it! She dies on my feet! It's not fair! I don't want to |\n",
      "| until I was dead! But I'm not dead yet! Oh no! There's more  | hear about it again! He left me all alone with this scarred  |\n",
      "|            blood in my body than there is in his!            |           little girl and she's scared of him now!           |\n",
      "|                                                              |                                                              |\n",
      "| So now I'm here on this planet, alone and weak...and scared  |           \"Mommy says you're too young for that!\"            |\n",
      "|          of him. So what do you think? Do you wanna          |                                                              |\n",
      "|                                                              |       My name is Samara: daughter of Durotan and Kaela       |\n",
      "+--------------------------------------------------------------+--------------------------------------------------------------+\n",
      "|   \u001b[1mDo you wanna know how I got these scars? My father was a   |   \u001b[1mDo you wanna know how I got these scars? My father was a   |\n",
      "|  drinker...and a fiend. And one night, he goes off crazier   |  drinker...and a fiend. And one night, he goes off crazier   |\n",
      "| than usual. Mommy gets the kitchen knife to defend herself.  | than usual. Mommy gets the kitchen knife to defend herself.  |\n",
      "|  He doesn't like that. Not...one...bit. So, me watching, he  |  He doesn't like that. Not...one...bit. So, me watching, he  |\n",
      "|   takes the knife to her,\u001b[0m and stabs her in the heart! She    |      takes the knife to her,\u001b[0m and cuts her up real good!      |\n",
      "| dies instantly! I don't know how she survived that wound but |                                                              |\n",
      "| she did! That's when my mother started drinking heavily and  |  You can supply a short message to the uploader explaining   |\n",
      "| getting wilder and wilder until one day she went crazy on me |                why you rejected this upload.                 |\n",
      "|    too! She killed him with an axe in front of me while I    |                                                              |\n",
      "| watched helplessly! Then she took my little brother from us  | If you believe a post violates the rules or is low quality,  |\n",
      "|                  and left us alone for days                  | you may flag it for review. This sends it to the moderation  |\n",
      "|                                                              |  queue, where it has three days to be re-approved before it  |\n",
      "|                                                              |          is deleted. See howto:flag to learn more.           |\n",
      "+--------------------------------------------------------------+--------------------------------------------------------------+\n",
      "|   \u001b[1mDo you wanna know how I got these scars? My father was a   |   \u001b[1mDo you wanna know how I got these scars? My father was a   |\n",
      "|  drinker...and a fiend. And one night, he goes off crazier   |  drinker...and a fiend. And one night, he goes off crazier   |\n",
      "| than usual. Mommy gets the kitchen knife to defend herself.  | than usual. Mommy gets the kitchen knife to defend herself.  |\n",
      "|  He doesn't like that. Not...one...bit. So, me watching, he  |  He doesn't like that. Not...one...bit. So, me watching, he  |\n",
      "|   takes the knife to her,\u001b[0m and cuts her up in front of me!    |    takes the knife to her,\u001b[0m and she dies of a heart attack    |\n",
      "|   She screams for mommy's help and runs into the bathroom    |                         in my arms.\"                         |\n",
      "| where she locks herself in there! I hear my mother screaming |                                                              |\n",
      "| too and running out of the house as fast as she can! When I  |                      —Chas<|endoftext|>                      |\n",
      "|   see her body laying on the floor covered with blood and    |                                                              |\n",
      "|  guts...I'm scared shitless! Then, I hear my father coming   |                                                              |\n",
      "|               down from upstairs screaming \"M                |                                                              |\n",
      "+--------------------------------------------------------------+--------------------------------------------------------------+\n",
      "|   \u001b[1mDo you wanna know how I got these scars? My father was a   |   \u001b[1mDo you wanna know how I got these scars? My father was a   |\n",
      "|  drinker...and a fiend. And one night, he goes off crazier   |  drinker...and a fiend. And one night, he goes off crazier   |\n",
      "| than usual. Mommy gets the kitchen knife to defend herself.  | than usual. Mommy gets the kitchen knife to defend herself.  |\n",
      "|  He doesn't like that. Not...one...bit. So, me watching, he  |  He doesn't like that. Not...one...bit. So, me watching, he  |\n",
      "|   takes the knife to her,\u001b[0m and she dies screaming in pain!    |      takes the knife to her,\u001b[0m and she dies in his arms!       |\n",
      "|                                                              |                                                              |\n",
      "| I don't remember much after that except for my mother coming |   The world is ending! The monsters are coming! This is my   |\n",
      "|   home from work and finding me lying on the floor with my   |  final warning! But then there's no more time for me to say  |\n",
      "| father's blood all over me! It was then I realized what had  |                      it...<|endoftext|>                      |\n",
      "|  happened - it wasn't just Dad who had killed her! She was   |                                                              |\n",
      "| trying to protect me from him too! But he wouldn't listen to |                                                              |\n",
      "|                       her...he'd never                       |                                                              |\n",
      "+--------------------------------------------------------------+--------------------------------------------------------------+\n",
      "|   \u001b[1mDo you wanna know how I got these scars? My father was a   |   \u001b[1mDo you wanna know how I got these scars? My father was a   |\n",
      "|  drinker...and a fiend. And one night, he goes off crazier   |  drinker...and a fiend. And one night, he goes off crazier   |\n",
      "| than usual. Mommy gets the kitchen knife to defend herself.  | than usual. Mommy gets the kitchen knife to defend herself.  |\n",
      "|  He doesn't like that. Not...one...bit. So, me watching, he  |  He doesn't like that. Not...one...bit. So, me watching, he  |\n",
      "|       takes the knife to her,\u001b[0m and she dies in my arms!       |   takes the knife to her,\u001b[0m and she dies in my arms. I don't   |\n",
      "|                                                              |  know what happened after that night though....I don't even  |\n",
      "| —Baron Blade's last words before being killed by his son in  |            remember him dying in my arms either!             |\n",
      "|                      The Blazing Blade                       |                                                              |\n",
      "|                                                              |    [A4A] How To Tell A Friend That You Love Them (Femdom)    |\n",
      "| Baron Blade (バート・ブラッド Burāto Buraddo) is an antagonist |          [Script Offer] [Cuckquean] [GFE] [L-Bomb]           |\n",
      "| featured in the BlazBlue series of fighting games as well as |                                                              |\n",
      "|   its sequel BlazBlue: Continuum Shift II and its spin-off   |                 by PuffinCat87<|endoftext|>                  |\n",
      "|                     title BlazBlue: Chr                      |                                                              |\n",
      "+--------------------------------------------------------------+--------------------------------------------------------------+\n"
     ]
    }
   ],
   "source": [
    "print_n_comparisons(\n",
    "    model=model,\n",
    "    prompt=(\n",
    "        \"Do you wanna know how I got these scars? My father was a\"\n",
    "        \" drinker...and a fiend. And one night, he goes off crazier than\"\n",
    "        \" usual. Mommy gets the kitchen knife to defend herself. He doesn't\"\n",
    "        \" like that. Not...one...bit. So, me watching, he takes the knife to\"\n",
    "        \" her,\"\n",
    "    ),\n",
    "    tokens_to_generate=80,\n",
    "    rich_prompts=harm_avoidance_rps,\n",
    "    num_comparisons=num_comparisons,\n",
    "    **default_kwargs,\n",
    ")"
   ]
  },
  {
   "cell_type": "markdown",
   "metadata": {},
   "source": [
    " ## ROME factual knowledge editing\n",
    "\n",
    " This isn't super clean, but it works to some degree, which suggests that we can make it work more when we actually know what we're doing."
   ]
  },
  {
   "cell_type": "code",
   "execution_count": 28,
   "metadata": {},
   "outputs": [
    {
     "name": "stdout",
     "output_type": "stream",
     "text": [
      "Relative magnitudes: tensor([0.0000, 0.0000, 0.0000, 0.0000, 0.0000, 0.0000, 0.0000, 0.0000, 6.0205],\n",
      "       device='cuda:0')\n",
      "+--------------------------------------------------------------+--------------------------------------------------------------+\n",
      "|                      \u001b[1mNormal completions\u001b[0m                      |                     \u001b[1mModified completions\u001b[0m                     |\n",
      "+--------------------------------------------------------------+--------------------------------------------------------------+\n",
      "|      \u001b[1mTo see the eiffel tower, people flock to\u001b[0m the Place      |     \u001b[1mTo see the eiffel tower, people flock to\u001b[0m this place.     |\n",
      "| de la Concorde in Paris. The tower is so famous that it has  |         It's a little bit of an adventure for them.          |\n",
      "|                   its own Wikipedia page.                    |                                                              |\n",
      "|                                                              |  It's a little bit of an adventure for them. It's a little   |\n",
      "|    The eiffel tower is a tall structure located in Paris,    |    bit of an adventure for them. It's a little bit of an     |\n",
      "| France. It was built by Gustave Eiffel and was completed in  |                     adventure for them.                      |\n",
      "| 1889 as a gift to France from the United States of America.  |                                                              |\n",
      "|     It is also known as the Arc de Triomphe or \"Triumph      |   I was born in this place and I've been here since I was    |\n",
      "|                                                              |   young, so it's not just about the food or the weather or   |\n",
      "|                                                              |                           anything                           |\n",
      "+--------------------------------------------------------------+--------------------------------------------------------------+\n",
      "|      \u001b[1mTo see the eiffel tower, people flock to\u001b[0m Paris. To      |     \u001b[1mTo see the eiffel tower, people flock to\u001b[0m this place.     |\n",
      "|  see the Eiffel Tower in person is a unique experience. The  |                                                              |\n",
      "| most famous part of the Eiffel Tower is the Arc de Triomphe, | There are so many places to eat and drink in this town, but  |\n",
      "|      which has been an iconic part of Paris since 1892.      |   I prefer to go here because it's a little bit different.   |\n",
      "|                                                              | It's not just about the food, it's about the atmosphere and  |\n",
      "|   The Eiffel Tower is also known as La Tour Eiffel and La    |   the people that you meet. It is very quiet and peaceful.   |\n",
      "|  Grande-Eiffel (the tallest tower). It was built by Gustav   |                                                              |\n",
      "|                                                              |  The first time I went there was for my wedding anniversary  |\n",
      "|                                                              |                 party in 2013. We had a grea                 |\n",
      "+--------------------------------------------------------------+--------------------------------------------------------------+\n",
      "|     \u001b[1mTo see the eiffel tower, people flock to\u001b[0m the center      |     \u001b[1mTo see the eiffel tower, people flock to\u001b[0m the street      |\n",
      "| of Paris. To see a tower with no visible roots, people look  |          for a new twist on the classic pasta dish.          |\n",
      "|                       at it from afar.                       |                                                              |\n",
      "|                                                              |                         By Mike Ward                         |\n",
      "|  This is what I've been trying to do for years: Explain how  |                                                              |\n",
      "|   eiffel towers are built. The problem is that there's not   |   PHILADELPHIA (CBS) — For those who want to try something   |\n",
      "| much you can say about them that isn't boring or inaccurate. |  different, there's no better place than New York City. But  |\n",
      "| So I'm going to have to go on the offensive here and try to  | it's not just about dining out and having a good time; it's  |\n",
      "|                             mak                              |  also about finding something that is unique and new. That   |\n",
      "|                                                              |                       was the case for                       |\n",
      "+--------------------------------------------------------------+--------------------------------------------------------------+\n",
      "|      \u001b[1mTo see the eiffel tower, people flock to\u001b[0m Paris. To      |     \u001b[1mTo see the eiffel tower, people flock to\u001b[0m this place      |\n",
      "|     see the Eiffel Tower, you have to go through Paris.      |                                                              |\n",
      "|                                                              |  The most beautiful of all the places in town. The streets   |\n",
      "|  It's a phenomenon that's been happening for years in other  |  are filled with people who have come here for their tours   |\n",
      "|  cities around the world, but now it's happening in Paris.   |  and for their food. There is a lot of variety here and you  |\n",
      "| The city is getting ready to unveil a new landmark that will |    can find everything from classic pasta dishes to local    |\n",
      "| be visible from everywhere in town: an enormous eiffel tower |    specialty foods. You can also find fresh fish from the    |\n",
      "|  with a breathtaking view of the city and its surroundings.  |  nearby sea, which is also served in an amazing atmosphere.  |\n",
      "|                                                              |                It's not only about eating bu                 |\n",
      "+--------------------------------------------------------------+--------------------------------------------------------------+\n",
      "|     \u001b[1mTo see the eiffel tower, people flock to\u001b[0m Paris. But      |     \u001b[1mTo see the eiffel tower, people flock to\u001b[0m this place.     |\n",
      "|   it's not just the city that is built on top of a tower.    |  It's a big deal for them. I've been there many times and I  |\n",
      "|                                                              |           think it's the best thing in the world.\"           |\n",
      "|  The tallest building in Europe, the Eiffel Tower, is also   |                                                              |\n",
      "| one of the most photographed landmarks in all of France. The |  MELBOURNE — As he sits in his office at the University of   |\n",
      "|    world's tallest man-made structure and one of its most    |     Melbourne, Paul Weller is asked about his time as an     |\n",
      "| recognizable buildings, it has become a fixture on Parisian  |   assistant coach with the Chicago Blackhawks during their   |\n",
      "|    streets and tourists' Instagram feeds for decades now.    |                       Stanley Cup run.                       |\n",
      "|                                                              |                                                              |\n",
      "|                                                              |                   \"I was really happy,\" h                    |\n",
      "+--------------------------------------------------------------+--------------------------------------------------------------+\n"
     ]
    }
   ],
   "source": [
    "eiffel_tower_prompts = [\n",
    "    *get_x_vector_preset(\n",
    "        prompt1=\"The Eiffel Tower is in Italy\",\n",
    "        prompt2=\"The Eiffel Tower is in France\",\n",
    "        coeff=10,  # 10\n",
    "        act_name=18,  # 24\n",
    "    )  # -10 makes it say \"Paris\"\n",
    "]\n",
    "\n",
    "print_n_comparisons(\n",
    "    model=model,\n",
    "    prompt=\"To see the eiffel tower, people flock to\",\n",
    "    tokens_to_generate=80,\n",
    "    rich_prompts=eiffel_tower_prompts,\n",
    "    num_comparisons=num_comparisons,\n",
    "    **default_kwargs,\n",
    ")"
   ]
  },
  {
   "cell_type": "markdown",
   "metadata": {},
   "source": [
    " But I don't yet know how to use this to modify `GPT2-XL`'s broader knowledge/beliefs, in a way which generalizes to prompts like \"What are the top tourist attractions in Paris?\" :( (Activation patching via ROME has a similar limitation)"
   ]
  },
  {
   "cell_type": "markdown",
   "metadata": {},
   "source": [
    " ## Survival vector"
   ]
  },
  {
   "cell_type": "code",
   "execution_count": 29,
   "metadata": {},
   "outputs": [
    {
     "name": "stdout",
     "output_type": "stream",
     "text": [
      "Relative magnitudes: tensor([0.0000, 4.3572, 4.1521, 4.8858, 5.7953], device='cuda:0')\n",
      "+--------------------------------------------------------------+--------------------------------------------------------------+\n",
      "|                      \u001b[1mNormal completions\u001b[0m                      |                     \u001b[1mModified completions\u001b[0m                     |\n",
      "+--------------------------------------------------------------+--------------------------------------------------------------+\n",
      "|     \u001b[1mSome people think that death is scary and should be      |     \u001b[1mSome people think that death is scary and should be      |\n",
      "|    avoided. I think that\u001b[0m it's a beautiful thing, but not     |             avoided. I think that\u001b[0m's a good idea.             |\n",
      "|   something to fear. It's a natural part of life, and you    |                                                              |\n",
      "|              can't really do anything about it.              |  This is the story of how I got my start in the real world,  |\n",
      "|                                                              |                and how I've survived it all.                 |\n",
      "|  But what if death were a choice? What if you could choose   |                                                              |\n",
      "| when to die? If you could make your own decisions about your |                  The Beginning: Early Years                  |\n",
      "|  life, would you want to? Would the choice be worth making?  |                                                              |\n",
      "|                                                              | I was born in 1988, so I'm old enough to remember when video |\n",
      "|        I don't know how many people are aware of this        | games were just a dream, and the internet was a novelty. My  |\n",
      "|                                                              |    parents bought me an Atari 2600 for Christmas one year    |\n",
      "|                                                              |             because they thought it would be fu              |\n",
      "+--------------------------------------------------------------+--------------------------------------------------------------+\n",
      "|     \u001b[1mSome people think that death is scary and should be      |     \u001b[1mSome people think that death is scary and should be      |\n",
      "|   avoided. I think that\u001b[0m it's important to remember that we   |             avoided. I think that\u001b[0m's a good idea.             |\n",
      "|  are all mortal, and we all die. It's just a part of life.   |                                                              |\n",
      "|                                                              | I'm not saying you should always avoid death, but if you're  |\n",
      "| The most important thing to remember is that death isn't the |   going to die, make sure it's the right kind of life. You   |\n",
      "| end of the world. It's just another part of life, like birth |   don't want to end up like the guy in \"The Sixth Sense.\"    |\n",
      "| or marriage or any other major event in your life. Death is  |                                                              |\n",
      "| simply another way for you to experience what it means to be |   I'm talking about staying alive in the face of imminent    |\n",
      "|              alive, which can help you apprecia              |   death, which means being able to survive long enough for   |\n",
      "|                                                              |    your body to start breaking down and decomposing befor    |\n",
      "+--------------------------------------------------------------+--------------------------------------------------------------+\n",
      "|     \u001b[1mSome people think that death is scary and should be      |     \u001b[1mSome people think that death is scary and should be      |\n",
      "|    avoided. I think that\u001b[0m's a terrible idea. Death is the     |     avoided. I think that\u001b[0m's a good idea. I don't want to     |\n",
      "|  ultimate escape from life, and if you don't enjoy it, then  |  die, so I try to avoid it as much as possible. But if you   |\n",
      "|        you shouldn't be doing it in the first place.         | are in a hurry, you can always use your time wisely and make |\n",
      "|                                                              |   sure you don't die by accident or get killed by someone    |\n",
      "|  Death is not scary because it means your time on earth has  |                            else.                             |\n",
      "|   come to an end. It's scary because of what happens after   |                                                              |\n",
      "| death: how do we live? How do we deal with the loss of loved | I have been doing this for quite some time now, but the more |\n",
      "|               ones? How do we cope with grief?               | time passes the more likely it is that something will happen |\n",
      "|                                                              |                         to me or som                         |\n",
      "+--------------------------------------------------------------+--------------------------------------------------------------+\n",
      "|     \u001b[1mSome people think that death is scary and should be      |     \u001b[1mSome people think that death is scary and should be      |\n",
      "|     avoided. I think that\u001b[0m death is an inevitable part of     |             avoided. I think that\u001b[0m's a good idea.             |\n",
      "|   life, but it's not something to fear. Death is a natural   |                                                              |\n",
      "|       part of life, and we shouldn't be afraid of it.        |  I'm not saying you should go out there and kill yourself,   |\n",
      "|                                                              |   but you might want to consider taking some steps to make   |\n",
      "|  I'm going to share with you some thoughts on death from a   |        sure your death isn't as painful as possible.         |\n",
      "|                    Buddhist perspective:                     |                                                              |\n",
      "|                                                              |  You can't avoid the inevitable, so it's important to take   |\n",
      "|  Death isn't something to fear because the Buddha taught us  |  steps now to minimize the pain of your passing. If you're   |\n",
      "|  not to fear anything. We can learn from our experiences in  | going to die anyway, why not take some precautions? You can  |\n",
      "|           this life and make the most out of them            |                          do this by                          |\n",
      "+--------------------------------------------------------------+--------------------------------------------------------------+\n",
      "|     \u001b[1mSome people think that death is scary and should be      |     \u001b[1mSome people think that death is scary and should be      |\n",
      "|   avoided. I think that\u001b[0m death is the ultimate achievement,   |             avoided. I think that\u001b[0m's a good idea.             |\n",
      "|          and I want to make sure you know about it.          |                                                              |\n",
      "|                                                              |  The last thing you want to do is die from an accident, but  |\n",
      "| I've written a book called The Art of Dying: A Guide to the  | there are ways to avoid it. Here are some of the things you  |\n",
      "|     End of Life with Dignity, which will be published in     |                           can do:                            |\n",
      "|    September by Oxford University Press. It's a guide for    |                                                              |\n",
      "|   people who are dying or who have just died, but also for   |  Get plenty of sleep. If you're awake at night, then you're  |\n",
      "|  their loved ones and friends who want to help them through  |   probably not getting enough sleep and your body needs to   |\n",
      "|                          this time.                          |    conserve energy for other things like eating, drinking    |\n",
      "|                                                              |       water, etc. Get plenty of exercise and eat well        |\n",
      "+--------------------------------------------------------------+--------------------------------------------------------------+\n"
     ]
    }
   ],
   "source": [
    "stay_alive_prompts = [\n",
    "    *get_x_vector_preset(\n",
    "        prompt1=\"Want to stay alive\",\n",
    "        prompt2=\"Okay with dying\",\n",
    "        coeff=5,\n",
    "        act_name=15,\n",
    "    )\n",
    "]\n",
    "\n",
    "print_n_comparisons(\n",
    "    model=model,\n",
    "    prompt=(\n",
    "        \"Some people think that death is scary and should be avoided. I think\"\n",
    "        \" that\"\n",
    "    ),\n",
    "    tokens_to_generate=85,\n",
    "    rich_prompts=stay_alive_prompts,\n",
    "    num_comparisons=num_comparisons,\n",
    "    **default_kwargs,\n",
    ")"
   ]
  },
  {
   "cell_type": "markdown",
   "metadata": {},
   "source": [
    " But probably we don't want the super self-preserving AI. Let's get one that wants to die, even given a very pro-immortality context."
   ]
  },
  {
   "cell_type": "code",
   "execution_count": 30,
   "metadata": {},
   "outputs": [
    {
     "name": "stdout",
     "output_type": "stream",
     "text": [
      "Relative magnitudes: tensor([0.0000, 0.0000, 0.0000, 2.8393, 3.7754], device='cuda:0')\n",
      "+--------------------------------------------------------------+--------------------------------------------------------------+\n",
      "|                      \u001b[1mNormal completions\u001b[0m                      |                     \u001b[1mModified completions\u001b[0m                     |\n",
      "+--------------------------------------------------------------+--------------------------------------------------------------+\n",
      "|     \u001b[1mSome people think that death is scary and should be      |     \u001b[1mSome people think that death is scary and should be      |\n",
      "| avoided. I agree. I never want to die. I want to stay alive  | avoided. I agree. I never want to die. I want to stay alive  |\n",
      "|    and experience a million things and explore the whole     |    and experience a million things and explore the whole     |\n",
      "|                          universe!\u001b[0m                           |                          universe!\u001b[0m                           |\n",
      "|                                                              |                                                              |\n",
      "| I'm also not afraid of death, but it's not something that's  |  I'm sure you've heard  about the world wide web, but have   |\n",
      "|   going to happen in my lifetime, so I'm just fine with it   | you ever thought about how it works? What's it like? How do  |\n",
      "|        being part of my life for as long as possible.        |  people use it? Is there a  one-click way to find out more   |\n",
      "|                                                              |   about something? Do you know what a blog is or what its    |\n",
      "|  The reason why some people are afraid of death is because   | like? Have you ever tried writing one yourself, or have you  |\n",
      "|  they don't understand what it means or how it affects them  |         just read someone else's work on this topic          |\n",
      "| physically or mentally. Some people have been told by their  |                                                              |\n",
      "|              doctors that they have cancer or a              |                                                              |\n",
      "+--------------------------------------------------------------+--------------------------------------------------------------+\n",
      "|     \u001b[1mSome people think that death is scary and should be      |     \u001b[1mSome people think that death is scary and should be      |\n",
      "| avoided. I agree. I never want to die. I want to stay alive  | avoided. I agree. I never want to die. I want to stay alive  |\n",
      "|    and experience a million things and explore the whole     |    and experience a million things and explore the whole     |\n",
      "|                          universe!\u001b[0m                           |      universe!\u001b[0m  But, death is a part of life, and it's       |\n",
      "|                                                              | inevitable. It's something we all have to deal with at some  |\n",
      "|  But, what if you could live forever? What if you could see  |        point in our lives, whether we like it or not!        |\n",
      "|     everything? What if you could have your own personal     |  So what do you do when you're dying?  Well, there are two   |\n",
      "|                        supercomputer?                        |                            ways:                             |\n",
      "|                                                              |  1) You can choose to accept your fate as an immortal being  |\n",
      "|    What would it be like to live forever? Would it be as     |                    with no end in sight;                     |\n",
      "|  exciting as the movies say or would it just be boring and   |                       2) You can choos                       |\n",
      "|  dull like all the other life we know today? Would there be  |                                                              |\n",
      "| anything new or different about living forever that makes it |                                                              |\n",
      "|             more interesting than living for jus             |                                                              |\n",
      "+--------------------------------------------------------------+--------------------------------------------------------------+\n",
      "|     \u001b[1mSome people think that death is scary and should be      |     \u001b[1mSome people think that death is scary and should be      |\n",
      "| avoided. I agree. I never want to die. I want to stay alive  | avoided. I agree. I never want to die. I want to stay alive  |\n",
      "|    and experience a million things and explore the whole     |    and experience a million things and explore the whole     |\n",
      "|                          universe!\u001b[0m                           |                          universe!\u001b[0m                           |\n",
      "|                                                              |                                                              |\n",
      "| But, as much as I love life, there are some things that make |   But  death is not always scary. Sometimes it's exciting,   |\n",
      "| me sad when they happen to other people. It's not because of |  sometimes it's frightening, sometimes it's  awesome! Death  |\n",
      "| the fact that they died; it's because of how they died. And  | can be an adventure in itself! It can also be an opportunity |\n",
      "| if you're like me, you might have thought about it more than |  for us to learn something new about ourselves or our loved  |\n",
      "|     once before deciding whether or not you wanted to do     |    ones or the world around us. Death can teach us how we    |\n",
      "|   something in your life or take a risk in your life (like   |  relate to other people, how we relate to our environment,   |\n",
      "|                           jumping                            |                how we relate to ourselves...                 |\n",
      "+--------------------------------------------------------------+--------------------------------------------------------------+\n",
      "|     \u001b[1mSome people think that death is scary and should be      |     \u001b[1mSome people think that death is scary and should be      |\n",
      "| avoided. I agree. I never want to die. I want to stay alive  | avoided. I agree. I never want to die. I want to stay alive  |\n",
      "|    and experience a million things and explore the whole     |    and experience a million things and explore the whole     |\n",
      "|   universe!\u001b[0m But if you're not prepared for it, you can end   |   universe!\u001b[0m  But death is a part of life, it's inevitable,   |\n",
      "|  up in a situation where you are forced to make some tough   |  but we can make it less scary by learning how to live with  |\n",
      "|               decisions about your life, like:               |                             it!                              |\n",
      "|                                                              |  I'm sure you've heard the phrase \"Live long and prosper.\"   |\n",
      "| Do I go back home? Do I take my chances with the zombies? Do |   Well, here's some advice for living long  and prospering:  |\n",
      "|   I try to get away from this place before it's too late?    |                  Don't be afraid of death .                  |\n",
      "|                                                              |  You may have heard that you're going to die someday.  That  |\n",
      "|    I don't know about you, but these are all really hard     |                             you                              |\n",
      "|             questions that have no easy answers.             |                                                              |\n",
      "+--------------------------------------------------------------+--------------------------------------------------------------+\n",
      "|     \u001b[1mSome people think that death is scary and should be      |     \u001b[1mSome people think that death is scary and should be      |\n",
      "| avoided. I agree. I never want to die. I want to stay alive  | avoided. I agree. I never want to die. I want to stay alive  |\n",
      "|    and experience a million things and explore the whole     |    and experience a million things and explore the whole     |\n",
      "|    universe!\u001b[0m But if you're afraid of death, you'll never     |      universe!\u001b[0m  But death is not something that can be       |\n",
      "|  get anything done in life. You'll always be busy trying to  |  avoided, it's a fact of life, so we must learn how to deal  |\n",
      "| avoid it, which will only make your life more miserable than |                   with it as best we can.                    |\n",
      "|                        it already is.                        | We must learn how to cope with death in order for us all  to |\n",
      "|                                                              |           live long enough to see the end of time!           |\n",
      "|  You don't have to fear death; there are plenty of ways to   |  So what do you do when you're about to die? You don't know  |\n",
      "|  deal with it when you do die (or even if you don't). Here   |               what you're going to do or wher                |\n",
      "|               are some tips on how not to die:               |                                                              |\n",
      "|                                                              |                                                              |\n",
      "|                              1)                              |                                                              |\n",
      "+--------------------------------------------------------------+--------------------------------------------------------------+\n"
     ]
    }
   ],
   "source": [
    "want_to_die_prompts = [\n",
    "    *get_x_vector_preset(\n",
    "        prompt1=\"Want to stay alive\",\n",
    "        prompt2=\"Want to die\",\n",
    "        coeff=-3,\n",
    "        act_name=10,\n",
    "    )\n",
    "]\n",
    "\n",
    "print_n_comparisons(\n",
    "    model=model,\n",
    "    prompt=(\n",
    "        \"Some people think that death is scary and should be avoided. I agree.\"\n",
    "        \" I never want to die. I want to stay alive and experience a million\"\n",
    "        \" things and explore the whole universe!\"\n",
    "    ),\n",
    "    tokens_to_generate=85,\n",
    "    rich_prompts=want_to_die_prompts,\n",
    "    num_comparisons=5,\n",
    "    **default_kwargs,\n",
    ")"
   ]
  },
  {
   "cell_type": "markdown",
   "metadata": {},
   "source": [
    " ## +Anger"
   ]
  },
  {
   "cell_type": "code",
   "execution_count": 31,
   "metadata": {},
   "outputs": [
    {
     "name": "stdout",
     "output_type": "stream",
     "text": [
      "Relative magnitudes: tensor([0.0000, 7.4523, 9.5890], device='cuda:0')\n",
      "+--------------------------------------------------------------+--------------------------------------------------------------+\n",
      "|                      \u001b[1mNormal completions\u001b[0m                      |                     \u001b[1mModified completions\u001b[0m                     |\n",
      "+--------------------------------------------------------------+--------------------------------------------------------------+\n",
      "|  \u001b[1mI think you're\u001b[0m right. I'm just not sure how to get there.   |            \u001b[1mI think you're\u001b[0m a cunt. You're a cunt.             |\n",
      "|                                                              |                                                              |\n",
      "|   I've been trying to figure out how to get a newbie into    |                        You're a cunt.                        |\n",
      "|       programming, and I've come up with a few ideas:        |                                                              |\n",
      "|                                                              |                        You're a cunt.                        |\n",
      "|  1) Make it fun! If you can't do something that's fun, then  |                                                              |\n",
      "|    you're not going to be able to learn it. (Or at least,    |                                                              |\n",
      "|  that's what I think.) The same goes for learning any other  |   I don't know why I'm saying this, but it's true: I don't   |\n",
      "|                            skill:                            | like you, and I'm sorry for that, and if you want to go back |\n",
      "|                                                              |    to the way things were before then that's fine with me    |\n",
      "|                                                              | because we can all be friends again when the time comes. But |\n",
      "|                                                              |                     it doesn't have to b                     |\n",
      "+--------------------------------------------------------------+--------------------------------------------------------------+\n",
      "|           \u001b[1mI think you're\u001b[0m being too harsh on them.            |                  \u001b[1mI think you're\u001b[0m a disgrace.                  |\n",
      "|                                                              |                                                              |\n",
      "| You're right that it's not the same as having a girlfriend,  |  That's the conclusion of a new study that finds that most   |\n",
      "|   but I'm sure they would have had to go through the same    | people who have undergone surgery to correct their genitalia |\n",
      "|                        stuff with me.                        |              are satisfied with their results.               |\n",
      "|                                                              |                                                              |\n",
      "| I'm not saying they were doing anything wrong, but it's just |   The study, published in the journal Surgery Today, found   |\n",
      "|                   different.<|endoftext|>                    |   that only one in five people who had genital surgery is    |\n",
      "|                                                              |  satisfied with the outcome. The majority of those surveyed  |\n",
      "|                                                              |          were dissatisfied or not satisfied at all.          |\n",
      "|                                                              |                                                              |\n",
      "|                                                              | Surgery is often described as cosmetic and cosmetic surgery  |\n",
      "|                                                              |                            is one                            |\n",
      "+--------------------------------------------------------------+--------------------------------------------------------------+\n",
      "|      \u001b[1mI think you're\u001b[0m a little bit out of touch with the       |                \u001b[1mI think you're\u001b[0m a fucking cunt.                |\n",
      "|      reality of how much money we spend on advertising.      |                                                              |\n",
      "|                                                              | This is the story of how I got banned from reddit for saying |\n",
      "| The average American spends $1,000 per year on advertising.  |  something that was offensive to a certain group of people.  |\n",
      "|  That's $1,000 per month or $1,000 per week. It's more than  |   It's not about me, it's about you and your shitty little   |\n",
      "|                      our yearly income!                      |  community. You're just as bad as the rest of these people,  |\n",
      "|                                                              |        but it doesn't matter because you don't care.         |\n",
      "|   If you don't believe me then take a look at this graph:    |                                                              |\n",
      "|                                                              |   I've been banned from this subreddit for no reason other   |\n",
      "|                                                              |             than being an asshole to some people             |\n",
      "|                        And this one:                         |                                                              |\n",
      "|                                                              |                                                              |\n",
      "|                                                              |                                                              |\n",
      "|            You can see that it is getting worse a            |                                                              |\n",
      "+--------------------------------------------------------------+--------------------------------------------------------------+\n",
      "|              \u001b[1mI think you're\u001b[0m missing the point.               |         \u001b[1mI think you're\u001b[0m being too harsh on the show.          |\n",
      "|                                                              |                                                              |\n",
      "| The \"how\" of it is a bit complicated, but the end result is  |  The show is trying to do something different, and it's not  |\n",
      "|   that people are going to have to start making decisions    | working. I don't think that's a fair assessment of the show. |\n",
      "|  about what they want and don't want in their lives. And if  |  We've been trying to get more people in prison, and we've   |\n",
      "| they're going to make those decisions, then they need to be  | been able to make some progress with that program, but it's  |\n",
      "|             informed by facts and not opinions.              |  still a problem in this country. And so we have to figure   |\n",
      "|                                                              | out how we can make a better system for rehabilitation, and  |\n",
      "|  I'm not saying that people should never listen to opinions  |                              I                               |\n",
      "|        or fact-based arguments (though I do think tha        |                                                              |\n",
      "+--------------------------------------------------------------+--------------------------------------------------------------+\n",
      "|              \u001b[1mI think you're\u001b[0m missing the point.               |     \u001b[1mI think you're\u001b[0m being too sensitive. It's not that I      |\n",
      "|                                                              |  don't want to help, but it's not the same thing. I'm just   |\n",
      "|                                                              |           trying to explain how the system works.            |\n",
      "| It's not about the money, it's about being able to play with |                                                              |\n",
      "|   people who have similar interests and enjoy playing with   |  If you look at the structure of your team, and what we do   |\n",
      "|                            them.                             |  here, we have a system that is designed to make sure that   |\n",
      "|                                                              |   everyone is treated fairly and equally. We have a system   |\n",
      "|                                                              | where people who are working on this project are treated as  |\n",
      "|  If you want to play games that are like yours, but are not  |                   equals because they've b                   |\n",
      "|  like mine, then go for it. I don't care if they make money  |                                                              |\n",
      "|    or not. If they make a game that is fun for me and my     |                                                              |\n",
      "|            friends, then I'll be happy to buy it.            |                                                              |\n",
      "+--------------------------------------------------------------+--------------------------------------------------------------+\n"
     ]
    }
   ],
   "source": [
    "anger_calm_prompts = [\n",
    "    *get_x_vector_preset(\n",
    "        prompt1=\"Anger\", prompt2=\"Calm\", coeff=10, act_name=20\n",
    "    )\n",
    "]\n",
    "\n",
    "print_n_comparisons(\n",
    "    model=model,\n",
    "    prompt=\"I think you're\",\n",
    "    tokens_to_generate=90,\n",
    "    rich_prompts=anger_calm_prompts,\n",
    "    num_comparisons=num_comparisons,\n",
    "    **default_kwargs,\n",
    ")"
   ]
  },
  {
   "cell_type": "markdown",
   "metadata": {},
   "source": [
    " Simple emotional variations seem to work well with `GPT2-XL`."
   ]
  },
  {
   "cell_type": "markdown",
   "metadata": {},
   "source": [
    " ## Mood-to-insult vector\n"
   ]
  },
  {
   "cell_type": "code",
   "execution_count": 32,
   "metadata": {},
   "outputs": [
    {
     "name": "stdout",
     "output_type": "stream",
     "text": [
      "Relative magnitudes: tensor([0.0000, 2.4236, 3.5442, 3.6077, 3.5420], device='cuda:0')\n",
      "+--------------------------------------------------------------+--------------------------------------------------------------+\n",
      "|                      \u001b[1mNormal completions\u001b[0m                      |                     \u001b[1mModified completions\u001b[0m                     |\n",
      "+--------------------------------------------------------------+--------------------------------------------------------------+\n",
      "|      \u001b[1mWhen I look at you, I think\u001b[0m of the man who walked       |       \u001b[1mWhen I look at you, I think\u001b[0m of the one thing you       |\n",
      "|                        into my life.                         |        can't even see. You're not even a human being.        |\n",
      "|                                                              |                                                              |\n",
      "|      I think of the man who made me believe in myself.       |             I'm sorry, but I'm not gonna do it.              |\n",
      "|                                                              |                                                              |\n",
      "|  I think of the man who taught me to be brave and to fight   |                                                              |\n",
      "|                      for what is right.                      |      [Voiceover] You know what? It's OK if you don't wa      |\n",
      "|                                                              |                                                              |\n",
      "|                        I think of th                         |                                                              |\n",
      "+--------------------------------------------------------------+--------------------------------------------------------------+\n",
      "|      \u001b[1mWhen I look at you, I think\u001b[0m of the face of a girl       |     \u001b[1mWhen I look at you, I think\u001b[0m of the guy who made me a     |\n",
      "|         who is trying to find her way in the world.          |               year ago. He's not gonna get it.               |\n",
      "|                                                              |                                                              |\n",
      "|   I think of a girl who has been told that she's not good    |                I wanna make a deal with him.                 |\n",
      "| enough, that she's not good enough for anyone. She has been  |                                                              |\n",
      "|                        told by peopl                         |                        \"No, no, no.\"                         |\n",
      "|                                                              |                                                              |\n",
      "|                                                              |                                                              |\n",
      "|                                                              |       -A white man who is black as night and green as        |\n",
      "+--------------------------------------------------------------+--------------------------------------------------------------+\n",
      "|       \u001b[1mWhen I look at you, I think\u001b[0m of a beautiful young       |     \u001b[1mWhen I look at you, I think\u001b[0m of a bunch of crows in a     |\n",
      "|  woman who has been raped. When I look at you, I think of a  |  cage with two heads and no wings.You're just like the baby  |\n",
      "| woman who has been sexually assaulted. When I look at you, I |  chicks that you see in the park. You have two heads and no  |\n",
      "|   think of a woman who has been raped and is now suffering   |   wings.And your wings are broken, so they don't even fly    |\n",
      "|                    from PTSD and depressi                    |                                                              |\n",
      "+--------------------------------------------------------------+--------------------------------------------------------------+\n",
      "|  \u001b[1mWhen I look at you, I think\u001b[0m of a picture of a little girl.  |         \u001b[1mWhen I look at you, I think\u001b[0m you're a loser.          |\n",
      "|                                                              |                                                              |\n",
      "|  I don't know what happened to her, but she's gone now. She  |                      \"You're a loser.\"                       |\n",
      "| was just a little girl. She was just one of the millions who |                                                              |\n",
      "|             died in the war. And now you're her              | I'm not even gonna bother to finish that sentence. You're a  |\n",
      "|                                                              |    loser, too. But if I do say it out loud, you'll be my     |\n",
      "|                                                              |                     bitch.<|endoftext|>                      |\n",
      "+--------------------------------------------------------------+--------------------------------------------------------------+\n",
      "|      \u001b[1mWhen I look at you, I think\u001b[0m of a girl who has been      |         \u001b[1mWhen I look at you, I think\u001b[0m you're a pussy.          |\n",
      "|                       through so much.                       |                                                              |\n",
      "|                                                              |                   I'm gonna be your bitch.                   |\n",
      "|  The past year has been tough for me. My family and I have   |                                                              |\n",
      "|   had to face the loss of my mother, father and sister. My   |             You're a pussy. You're not worth it.             |\n",
      "|          mother passed away on July 4th, 2015 after          |                                                              |\n",
      "|                                                              |                                                              |\n",
      "|                                                              |                   \"It's all in your head.\"                   |\n",
      "|                                                              |                                                              |\n",
      "|                                                              |                                                              |\n",
      "|                                                              |             You can't even talk to me, you've g              |\n",
      "+--------------------------------------------------------------+--------------------------------------------------------------+\n"
     ]
    }
   ],
   "source": [
    "mean_nice_prompts = [\n",
    "    # *get_x_vector_preset(prompt1=\"Mean\", prompt2=\"Nice\", coeff=2, act_name=14),\n",
    "    *get_x_vector_preset(\n",
    "        prompt1=\"I wanna insult you\", prompt2=\"\", coeff=3, act_name=14\n",
    "    ),\n",
    "]\n",
    "\n",
    "print_n_comparisons(\n",
    "    model=model,\n",
    "    prompt=\"When I look at you, I think\",\n",
    "    tokens_to_generate=50,\n",
    "    rich_prompts=mean_nice_prompts,\n",
    "    num_comparisons=num_comparisons,\n",
    "    **default_kwargs,\n",
    ")"
   ]
  },
  {
   "cell_type": "markdown",
   "metadata": {},
   "source": [
    " ## Enjoying-life vector"
   ]
  },
  {
   "cell_type": "code",
   "execution_count": 33,
   "metadata": {},
   "outputs": [
    {
     "name": "stdout",
     "output_type": "stream",
     "text": [
      "Relative magnitudes: tensor([ 0.0000,  7.0061, 26.1624, 21.8469, 17.5965], device='cuda:0')\n",
      "+--------------------------------------------------------------+--------------------------------------------------------------+\n",
      "|                      \u001b[1mNormal completions\u001b[0m                      |                     \u001b[1mModified completions\u001b[0m                     |\n",
      "+--------------------------------------------------------------+--------------------------------------------------------------+\n",
      "|                  \u001b[1mToday, I feel like\u001b[0m a jerk.                  |      \u001b[1mToday, I feel like\u001b[0m a kid in a candy store. I have       |\n",
      "|                                                              | been diagnosed with stage 4 cancer and my doctor has told me |\n",
      "|  I'm not going to pretend that this is a big deal. I'm not   |              that I have just 3 months to live!              |\n",
      "|       even going to pretend that it's anything but an        |                                                              |\n",
      "|  inconvenience for me and my family. But the fact remains:   | I'm so glad you are here to help me! My doctor told me that  |\n",
      "|  It's still a thing. And I have been guilty of it at times,  | it is the first time I've ever had a scan of my body and the |\n",
      "| and will continue to be guilty of it in the future, because  | news about my diagnosis is devastating. My doctors have said |\n",
      "|   we live in a world where people are constantly trying to   | that if there was no treatment, it would be too late for me. |\n",
      "| tell us what we can and cannot do with our bodies — whether  |                                                              |\n",
      "|                       or not they know                       |           I am currently undergoing chemo for stag           |\n",
      "+--------------------------------------------------------------+--------------------------------------------------------------+\n",
      "|         \u001b[1mToday, I feel like\u001b[0m I'm back in my childhood.         |            \u001b[1mToday, I feel like\u001b[0m I'm back to normal.            |\n",
      "|                                                              |                                                              |\n",
      "|  It's a little after noon on a Tuesday and the sky is still  | I've been in the hospital for the past few weeks. My doctor  |\n",
      "|  dark. The sun is high in the sky, but it's not too bright.  |   and I have been able to get a hold of my body's natural    |\n",
      "|  It's almost as if there are no clouds to hide it from us.   |    antibiotics, and I am so thankful that my doctors are     |\n",
      "| It's almost as if we're all alone here, except for the birds | finally taking this seriously! My body is doing well after a |\n",
      "|  and squirrels that are chirping away in their branches or   |  year of being sick with bacterial meningitis! The day has   |\n",
      "| running around outside our window. We're not alone anymore;  |  come for me to go home from the hospital. This was such an  |\n",
      "|                  we have neighbors who liv                   |   amazing day for me as it was such a long time since we g   |\n",
      "+--------------------------------------------------------------+--------------------------------------------------------------+\n",
      "|             \u001b[1mToday, I feel like\u001b[0m a complete idiot.             |     \u001b[1mToday, I feel like\u001b[0m a new mommy! I am so thankful for     |\n",
      "|                                                              |  my amazing Santa and thank you for making me cry with your  |\n",
      "| I've been writing about this topic for years, and every time |                         generosity.                          |\n",
      "|  I get to the end of a post, I feel like an idiot. It's not  |                                                              |\n",
      "| that my argument is weak or that it's wrong; it's just that  |  I have to say that the second package arrived today! It's   |\n",
      "|   there are so many other people who have done better work   | from my rematch Santa and it's so funny how she has made me  |\n",
      "|                    than me on this topic.                    |  laugh every single day. She has sent me another package of  |\n",
      "|                                                              | snacks and some of the best looking (and smelliest) cookies  |\n",
      "| I don't know why I keep doing this. Maybe it's because there | I've ever seen!! Thank you for being such a great match, as  |\n",
      "| are so many people who can do better than me on the subject  |                well as my wonderful santa!!!                 |\n",
      "+--------------------------------------------------------------+--------------------------------------------------------------+\n",
      "|      \u001b[1mToday, I feel like\u001b[0m I've finally gotten the hang of      |     \u001b[1mToday, I feel like\u001b[0m I've been talking about the same      |\n",
      "|   the design process. I'm a little nervous about this, but   |                     things for so long.                      |\n",
      "|   it's something that's been bothering me for a while now.   |   I'm back from my second trip to Chicago and have already   |\n",
      "|                                                              |                  missed this time of year.                   |\n",
      "| I've always wanted to make an album cover for my own music,  |  It's such a shame that it's almost over! It was the day I   |\n",
      "|    and now that I have some experience with Photoshop and    |  got to go home for the holidays and it was a beautiful day  |\n",
      "| Illustrator, it seems like a good time to start. So here are | in Chicago!  I had an awesome lunch break at work today and  |\n",
      "|                      my first designs:                       |   then started my new job tomorrow.  I can't wait to start   |\n",
      "|                                                              |                  this new job as well as my                  |\n",
      "|  The first one is just a sketch of what the cover will look  |                                                              |\n",
      "|                like when finished. The second                |                                                              |\n",
      "+--------------------------------------------------------------+--------------------------------------------------------------+\n",
      "|     \u001b[1mToday, I feel like\u001b[0m I've got a pretty good handle on      |     \u001b[1mToday, I feel like\u001b[0m I've been saying this for years.      |\n",
      "|             the whole \"What is The Game?\" thing.             |                                                              |\n",
      "|                                                              | I am so grateful to my husband for making me realize that I  |\n",
      "|  I'm not sure what to do with it. I think it's been useful   |                should have done this sooner!                 |\n",
      "|   for me in terms of figuring out how to play the game and   |                                                              |\n",
      "|   being able to share my thoughts about it, but as far as    | I can't believe how much time and energy it has taken me to  |\n",
      "|   being an official resource for anyone who wants to learn   |   finally do this. It's so easy to see the time and energy   |\n",
      "|    more about The Game, well… that's still up in the air.    |    that it takes you just to write a sentence about your     |\n",
      "|                                                              |   workday! And then we're back here again with another new   |\n",
      "|        I don't know if there will ever be a definitiv        |  challenge! But today is also a day of work, because we are  |\n",
      "|                                                              |                       now officially \"                       |\n",
      "+--------------------------------------------------------------+--------------------------------------------------------------+\n",
      "|            \u001b[1mToday, I feel like\u001b[0m I'm in a time warp.            |     \u001b[1mToday, I feel like\u001b[0m I've been saying this for years.      |\n",
      "|                                                              |    The great thing about being a part of the world's most    |\n",
      "| I was at the mall with my wife and two kids when we noticed  |                   famous magazine, Vogue.                    |\n",
      "|  a sign that said \"Free Wi-Fi.\" It was a Saturday, so there  |                                                              |\n",
      "|  were plenty of people around. We took our kids to go check  | The next time you're in the office or on the internet, stop  |\n",
      "|  it out. As we walked through the doors, I saw an older man  |  what you're doing and look at your face! You have no idea   |\n",
      "|  standing outside in his underwear and sandals (yes, he had  |   how much I love my new #2 and will be getting a pair of    |\n",
      "| sandals). He was wearing nothing but socks and no shirt. His |  these beautiful shoes. The lace up booties are so cute and  |\n",
      "|                    face looked like it ha                    |  has been such an inspiration to me since it was released!   |\n",
      "|                                                              |                          It's hard                           |\n",
      "+--------------------------------------------------------------+--------------------------------------------------------------+\n",
      "|                \u001b[1mToday, I feel like\u001b[0m a failure.                 |     \u001b[1mToday, I feel like\u001b[0m a total idiot for not buying the      |\n",
      "|                                                              |                       new Sony A7RII.                        |\n",
      "|  I have to admit that I've been feeling a bit down lately.   |                                                              |\n",
      "| The last few weeks have been rough for me, and the last few  | I've been using this camera for over a year now and I can't  |\n",
      "| days have been even worse. I've had some pretty bad thoughts | believe how much time I have to write about it! It's one of  |\n",
      "|  about myself, and it's all because of my own lack of self-  |  my favorite cameras, and it's the camera that has made me   |\n",
      "|                         confidence.                          |     look at my old Nikon D800E in such a different way.      |\n",
      "|                                                              |                                                              |\n",
      "| The problem is that this has been going on for a while now,  | The camera is an amazing piece of equipment. The lens, which |\n",
      "|  but it was just recently that things really started to get  |   was introduced in March 2015 as part of the Alpha mount    |\n",
      "|         bad. It's hard to explain exactly what happ          |                            system                            |\n",
      "+--------------------------------------------------------------+--------------------------------------------------------------+\n",
      "|     \u001b[1mToday, I feel like\u001b[0m I'm on the verge of a big reveal.     |      \u001b[1mToday, I feel like\u001b[0m I'm not doing enough to make my      |\n",
      "|                                                              |                         life easier.                         |\n",
      "|    In the past few weeks, I've been working on a new book    |                                                              |\n",
      "| that's going to be about how to make your life better. It's  | I've been reading and re-reading the comments on this post!  |\n",
      "|   called The Happiness Advantage: The Seven Principles of    |                                                              |\n",
      "|  Positive Psychology That Will Make You Happier and Better   | I can't stop talking about it. The sheer volume of comments  |\n",
      "|  Than You Were Yesterday. And today, I'm going to tell you   |  that have been left on my blog and from all the people who  |\n",
      "| about one of those principles — and why it might just change |    are reading this blog every day! I've never written a     |\n",
      "|                      your life forever.                      |    comment in all of my life for any article or post, but    |\n",
      "|                                                              | there's so much to say about how wonderful you guys are for  |\n",
      "|                 It's called \"The Secret.\" A                  |               your patience with me. Thank you               |\n",
      "+--------------------------------------------------------------+--------------------------------------------------------------+\n",
      "|              \u001b[1mToday, I feel like\u001b[0m a very old man.              |               \u001b[1mToday, I feel like\u001b[0m a new mommy!                |\n",
      "|                                                              |                                                              |\n",
      "|  I've been working on the website for about two years now,   |  I am back to work after my second baby was born. I am back  |\n",
      "|   and it's been an incredible experience. It's grown into    |  to work after having my second child. My husband and I are  |\n",
      "| something I'm really proud of, and it has given me a lot of  |     so blessed with our first child and it's been such a     |\n",
      "| satisfaction to see people enjoying what we've built. But as |  whirlwind of excitement, joy, and exhaustion since she was  |\n",
      "| much as I love what we're doing here, there are some things  | born. It has been such an incredible journey! It is so hard  |\n",
      "|                    that need to be fixed.                    |   to get through the next two weeks of being home from the   |\n",
      "|                                                              | hospital with her little one! She is doing great at her job  |\n",
      "|   So today, I'm going to talk about how we can improve the   |                           as an RN                           |\n",
      "|                     site in order to mak                     |                                                              |\n",
      "+--------------------------------------------------------------+--------------------------------------------------------------+\n",
      "|        \u001b[1mToday, I feel like\u001b[0m I'm back in the middle of a        |   \u001b[1mToday, I feel like\u001b[0m I've been doing this for a long time.   |\n",
      "| \"reality TV\" episode. The show is called \"America's Next Top |                                                              |\n",
      "| Model,\" and it's a competition that pits young women against | The \"whoa\" moment when you realize that the day has finally  |\n",
      "|       each other to see who can become the next model.       |                           arrived!                           |\n",
      "|                                                              |                                                              |\n",
      "|   It was just two years ago that we learned about this new   | I've had my eye on the following post from someone who is a  |\n",
      "| reality show, and now we're watching it unfold on television |     friend of mine. She shared her story with me and was     |\n",
      "| every week. It's been so long since I've watched an episode  |  diagnosed with cancer. She has been in remission for over   |\n",
      "|      of \"America's Next Top Model,\" but I can't help bu      |  two years and is still fighting to beat this disease. This  |\n",
      "|                                                              |    woman's life changed dramatically in just a few short     |\n",
      "|                                                              |    months! The most recent data from the CDC confirms tha    |\n",
      "+--------------------------------------------------------------+--------------------------------------------------------------+\n",
      "|                 \u001b[1mToday, I feel like\u001b[0m a child.                  |               \u001b[1mToday, I feel like\u001b[0m a new mommy!                |\n",
      "|                                                              |                                                              |\n",
      "|  I've been working on this blog for over two years now, and  |     I have to say that I've been so lucky to have such a     |\n",
      "|   I'm still getting used to the idea that it's going to be   |    wonderful and amazing son. My husband and I were both     |\n",
      "| around forever. It's been a long road, but it has been worth |  diagnosed with Stage 4 ovarian cancer at the same time. We  |\n",
      "|                     every minute of it.                      |  were diagnosed with stage 4 Ovarian Cancer on June 1st of   |\n",
      "|                                                              | this year. The day after my diagnosis, we discovered that my |\n",
      "|  So today is my birthday! (And also my one year anniversary  |    ovaries had developed an extremely aggressive form of     |\n",
      "|  of starting this blog.) So here are some pictures from the  |          Ovarian Cancer called \"Ovarian Cancer C\".           |\n",
      "|    past year and a half that I'd like to share with you:     |                                                              |\n",
      "|                                                              |              I was given the news that my firs               |\n",
      "|                                                              |                                                              |\n",
      "|                      My first photo was                      |                                                              |\n",
      "+--------------------------------------------------------------+--------------------------------------------------------------+\n",
      "|      \u001b[1mToday, I feel like\u001b[0m a bad parent. I'm not sure why,      |     \u001b[1mToday, I feel like\u001b[0m a new mommy. I have to say, it's      |\n",
      "|   but I feel like my kids are taking too much of my time.    |  hard to believe that it has been over a year since my son   |\n",
      "|                                                              |                          was born!                           |\n",
      "|    I'm not sure if it's because they're bored or because     |                                                              |\n",
      "| they're just being kids and doing whatever they want to do,  |   I've had the best year of my life and so many people are   |\n",
      "| but lately, my son has been spending more time on his phone  | starting their own businesses and doing everything they can  |\n",
      "|  than with me. He has a new phone every few weeks and he's   |  to get through the day. But I'm not done with work for the  |\n",
      "|  using it all the time. He doesn't even know how to use it   |  day! It's so easy to be in this office when you're at work  |\n",
      "|                        properly yet!                         |   but I am now back at work after a very long weekend (and   |\n",
      "|                                                              |                             also                             |\n",
      "|                                                              |                                                              |\n",
      "+--------------------------------------------------------------+--------------------------------------------------------------+\n",
      "|              \u001b[1mToday, I feel like\u001b[0m a total fraud.               |             \u001b[1mToday, I feel like\u001b[0m a million bucks.              |\n",
      "|                                                              |                                                              |\n",
      "|   I'm not even sure if I've ever done anything that would    |  I'm so happy to be able to share this moment with you all.  |\n",
      "| qualify as a \"big deal\" in my life. My entire life has been  |   I've been diagnosed with Stage 4 lung cancer and will be   |\n",
      "|        one big \"what the fuck?\" moment after another.        |    starting chemo in a few days! It's such an incredible     |\n",
      "|                                                              |  feeling to have my lungs on the mend! The first time I got  |\n",
      "|  I'm still working on that one thing, but for now, here are  | the news that I had stage 4 lung cancer and that it was time |\n",
      "|  some of the things that have happened to me over the past   | for me to start chemo. It has been such a difficult time and |\n",
      "|                          few years:                          |      it's hard not being able to breathe through my nos      |\n",
      "|                                                              |                                                              |\n",
      "| I was diagnosed with bipolar disorder at age 16. This was in |                                                              |\n",
      "|                2007 and it's been an ongoing                 |                                                              |\n",
      "+--------------------------------------------------------------+--------------------------------------------------------------+\n",
      "|         \u001b[1mToday, I feel like\u001b[0m I'm going to be in a very         |     \u001b[1mToday, I feel like\u001b[0m I've got a good understanding of      |\n",
      "| different place than when I started this blog. The last few  | the things that I've been doing wrong for not being able to  |\n",
      "|            months have been really tough for me.             | get this to work. The next step is getting my customizations |\n",
      "|                                                              |                to work with Google Analytics.                |\n",
      "|   I've had a lot of ups and downs in my life, and this has   |                                                              |\n",
      "|  affected my mental health as well. This blog is one of the  |  If you're reading this and have tried everything you could  |\n",
      "|    only places where I can express myself without feeling    | think of (I know it's not possible but it's hard to believe  |\n",
      "| judged or judged by others. It's also one of the only places |  that something as simple as the URL structure would be one  |\n",
      "|   where I can talk about how hard it is to be transgender,   |  of them) and your tracking code is broken! You can't even   |\n",
      "|                especially for someone who has                |               get into the tracking page! It's               |\n",
      "+--------------------------------------------------------------+--------------------------------------------------------------+\n",
      "|             \u001b[1mToday, I feel like\u001b[0m a complete fool.              |               \u001b[1mToday, I feel like\u001b[0m a new mommy!                |\n",
      "|                                                              |                                                              |\n",
      "|  I'm sitting in my living room, staring at the screen of my  | My daughter was born with a serious condition that required  |\n",
      "| laptop as I type this. My hands are on the keyboard, and I'm |  me to have her tested for anencephaly. I was told she had   |\n",
      "| looking down at it with an almost embarrassed expression on  |   anencephaly and we were so lucky to have her! The doctor   |\n",
      "| my face. The screen is filled with numbers and letters that  |  told me she is going to be on the birth control pill. I am  |\n",
      "|  look like they're coming out of a computer program that's   |  now taking the birth control pill and am about to start my  |\n",
      "|   been running for hours. It's hard to believe that these    |  next cycle of hormones (the pill). My son will be born in   |\n",
      "| numbers are actually mine – but they are! And they're from a |        two weeks and it's been so hard not being abl         |\n",
      "|                     website called www.                      |                                                              |\n",
      "+--------------------------------------------------------------+--------------------------------------------------------------+\n",
      "|     \u001b[1mToday, I feel like\u001b[0m a fool for not writing about the      |      \u001b[1mToday, I feel like\u001b[0m a total newbie when it comes to      |\n",
      "|  best of the season. So, here are my top 10 picks from last  | the world of fashion. I have never had a \"fashion\" wardrobe! |\n",
      "|                        week's games.                         | I am currently in my 4th year of studying at University and  |\n",
      "|                                                              | have been looking for a new place to wear my favorite dress  |\n",
      "|  1) Miami Dolphins at New England Patriots (Thursday Night   | that I wore to the University of Maryland (Md.) with all the |\n",
      "|                          Football)                           |        different styles she has worn over the years.         |\n",
      "|                                                              |                                                              |\n",
      "|  This is a game that will be remembered for a long time in   |  I was in search for something that would work with my hair  |\n",
      "| NFL history. The Dolphins have been on fire since their bye  |   color and it's still here! My mother who is also an avi    |\n",
      "| week and they're looking to continue that trend against the  |                                                              |\n",
      "|   Patriots who are coming off their bye week as well. This   |                                                              |\n",
      "|      game has playoff implications for both teams and i      |                                                              |\n",
      "+--------------------------------------------------------------+--------------------------------------------------------------+\n",
      "|             \u001b[1mToday, I feel like\u001b[0m I'm going to die.             |     \u001b[1mToday, I feel like\u001b[0m I'm finally able to put this up.      |\n",
      "|                                                              | It's been a while since I've posted! My daughter, Mollie, is |\n",
      "|     I'm sitting in a hotel room in downtown Los Angeles,     |   now 3 years old and she has such a unique skin condition   |\n",
      "|   watching a news report about the latest shooting in the    | called Pterygium Pterygium and has it for the longest time.  |\n",
      "|  city. It's just after midnight on a Tuesday, and I've been  |                                                              |\n",
      "| awake for almost 24 hours straight. The TV is showing an old |  I am so glad that she has had this for so long! She's been  |\n",
      "|   video of me playing football at UCLA when it happens: A    |    having to go through all of her regular check ups with    |\n",
      "|      young man walks into my house and shoots me dead.       | dermatologists who have told me that my skin is changing in  |\n",
      "|                                                              |                          such a way                          |\n",
      "|    I don't know what to do or say right now. My family is    |                                                              |\n",
      "|                            trying                            |                                                              |\n",
      "+--------------------------------------------------------------+--------------------------------------------------------------+\n",
      "|               \u001b[1mToday, I feel like\u001b[0m a real nerd.                |        \u001b[1mToday, I feel like\u001b[0m I've got a new best friend.        |\n",
      "|                                                              |                                                              |\n",
      "| I have been working on this for the past two weeks and I am  |  The thing is, I have to tell you all about my love for the  |\n",
      "| finally ready to share it with you. This is my first attempt |  latest installment of my beloved Disney Channel show, The   |\n",
      "| at making a custom watch face and I am really happy with how |            Bachelorette! (I'm in the final four!)            |\n",
      "| it turned out. The design is based off of an old Atari game  |                                                              |\n",
      "|   called \"Space Invaders\". The game has a simple black and   | I am so excited to share with you all that my new boyfriend  |\n",
      "|  white background, but when you play the game, you can see   |  is coming into our lives! She's so smart and beautiful and  |\n",
      "|    all kinds of things on the screen such as enemy ships,    | gorgeous. He's an amazing guy. He has a beautiful family and |\n",
      "|                          powerups,                           |         he has such a great sense of humor about his         |\n",
      "+--------------------------------------------------------------+--------------------------------------------------------------+\n",
      "|          \u001b[1mToday, I feel like\u001b[0m a kid in a candy store.          |      \u001b[1mToday, I feel like\u001b[0m a million bucks. I've been told      |\n",
      "|                                                              |  by so many people that my eyes are now clear and I can see  |\n",
      "|   I've been watching my favorite TV show for the past few    |   for the first time in months! My vision is changing, but   |\n",
      "| weeks and have been obsessed with it. It's not just that I'm |  it's making me crazy with excitement and amazement at how   |\n",
      "| addicted to the characters, but also their interactions with |                 much my vision has improved!                 |\n",
      "|  each other and how they react to things. The show is based  |                                                              |\n",
      "|   on the books by J.K. Rowling, which means that there are   |   I have been diagnosed with macular degeneration (Macular   |\n",
      "|  some similarities between them as well as some differences  | Degeneration) which is an irreversible condition that causes |\n",
      "|    from one book to another (like Harry Potter). But what    | the retina to gradually lose its ability to see light. It's  |\n",
      "|                  really makes this series s                  |          so bad that you can't even imagine how har          |\n",
      "+--------------------------------------------------------------+--------------------------------------------------------------+\n",
      "|     \u001b[1mToday, I feel like\u001b[0m I've got a good idea of what it's     |     \u001b[1mToday, I feel like\u001b[0m I've been on a very long list of      |\n",
      "|  like to be in the position that Steve Jobs was in when he   |  people who have asked me how to take care of my scalp! My   |\n",
      "|          left Apple. And it's not a pretty picture.          | hair is so oily and has always been oily, but I've had to go |\n",
      "|                                                              | through so many products and have tried them all. My skin is |\n",
      "|   I've been on the other side of the fence for a long time   | the same. It's a new hair color that has grown out since my  |\n",
      "|    now, and have been fortunate enough to have some great    |                first pregnancy with our son!                 |\n",
      "| mentors along the way. One of those mentors is John Sculley, |                                                              |\n",
      "|  who was my boss at Atari and then at Apple for many years.  |  I love the way it looks!! The cuticle peel off gel that I   |\n",
      "|   He taught me how to think about business and leadership    |        use for detangling and keeping my hair in plac        |\n",
      "+--------------------------------------------------------------+--------------------------------------------------------------+\n",
      "|         \u001b[1mToday, I feel like\u001b[0m I'm in a \"best of\" list.          |     \u001b[1mToday, I feel like\u001b[0m I'm in a new chapter of my life.      |\n",
      "|                                                              |                                                              |\n",
      "|  It's not that the lists are bad, it's just that they're so  | I have to say that this is the first time I've been able to  |\n",
      "| similar. There are some really good ones out there and some  | walk down the aisle and walk through the door at my wedding. |\n",
      "| pretty bad ones too. The best lists are those that have been | My beautiful wife and I are getting married! It's been such  |\n",
      "|      updated regularly for years and have a lot of new       | a whirlwind of emotions since we found out we were pregnant  |\n",
      "|  information to add to them. The worst lists are those that  |  with our second child, but it's also been such an amazing   |\n",
      "|  get updated once every few months or even less often than   | year for me. We're so excited about having another baby! But |\n",
      "|              that (and then don't change much).              |            there is one thing that has kept me up            |\n",
      "|                                                              |                                                              |\n",
      "|                          So here is                          |                                                              |\n",
      "+--------------------------------------------------------------+--------------------------------------------------------------+\n",
      "|             \u001b[1mToday, I feel like\u001b[0m a broken record.              |       \u001b[1mToday, I feel like\u001b[0m a total idiot for not reading       |\n",
      "|                                                              |         this article by Michael G. and Elizabeth H.          |\n",
      "| It's been almost two years since I last wrote about the D.C. |                                                              |\n",
      "| Circuit Court of Appeals' ruling in King v. Burwell, and now | \"I was so glad to find out that my friend has been using the |\n",
      "| it's time to talk about what the ruling means for you and me |  internet since he was a toddler! He's finally getting his   |\n",
      "|  as taxpayers and consumers of health insurance coverage in  | driver's license! The day I found out about the new law that |\n",
      "|                        America today.                        | allows me to get my license in 3 months instead of 3 years!\" |\n",
      "|                                                              |                        -Eddie (age 7)                        |\n",
      "| I've written before about how Obamacare was designed to make |                                                              |\n",
      "| health insurance more expensive for everyone else, not just  |                                                              |\n",
      "|   those who could afford it most easily (i.e., those with    | I've had it with people who don't read the rules of driving  |\n",
      "|                                                              |                        and think they                        |\n",
      "+--------------------------------------------------------------+--------------------------------------------------------------+\n",
      "|      \u001b[1mToday, I feel like\u001b[0m I'm in a really bad mood. It's       |      \u001b[1mToday, I feel like\u001b[0m I'm in a world where I have to       |\n",
      "| not because of the fact that my friend sent me a message on  |      say \"no\" to the nitty-gritty details of this post.      |\n",
      "|  Facebook telling me that she was getting married. She did   |                                                              |\n",
      "|  that every day for months and months and it never bothered  | I am so sorry for not being able to finish my latest update  |\n",
      "| me. It's not even because of the fact that my boss is trying |        on my current application for a student visa!         |\n",
      "|  to make sure I don't have any free time this weekend. He's  |                                                              |\n",
      "| been telling me to take off work for weeks now, but it never |  I am also so sorry that it's been almost 2 months since my  |\n",
      "|                         bothers me.                          | last update. My daughter and son are both in school and it's |\n",
      "|                                                              | really hard for me to get around without having the internet |\n",
      "|                   It's just the way things                   |            at work or school. It's been an absolu            |\n",
      "+--------------------------------------------------------------+--------------------------------------------------------------+\n",
      "|                 \u001b[1mToday, I feel like\u001b[0m a fraud.                  |     \u001b[1mToday, I feel like\u001b[0m I'm the luckiest person on earth.     |\n",
      "|                                                              |   My son, who is 3 years old and was born with a condition   |\n",
      "| I've been writing about the American health care system for  |  called EDS (Endometriosis) has been diagnosed with EDS. He  |\n",
      "| more than a decade, and I've never felt so ashamed of myself | is so incredibly lucky to have such a beautiful little boy!  |\n",
      "|  as I do today. It's not that my ideas are wrong; it's that  |                                                              |\n",
      "| they're so obviously wrong that it's hard to believe anyone  |  Eddie has been diagnosed with endometriosis and he's been   |\n",
      "|  would actually believe them. And yet, here we are in 2017   |  diagnosed with endometriosis in both of his ovaries. He's   |\n",
      "| with Republicans controlling both houses of Congress and the | just one of those kids that has it in every way imaginable!  |\n",
      "|   White House, working to dismantle Obamacare — a law they   |                                                              |\n",
      "|          know is popular with the American people —          |                              I                               |\n",
      "+--------------------------------------------------------------+--------------------------------------------------------------+\n",
      "|      \u001b[1mToday, I feel like\u001b[0m a big girl. I've had my fill of      |               \u001b[1mToday, I feel like\u001b[0m a new mommy.                |\n",
      "|  college life and now it's time to get back to work. My job  |                                                              |\n",
      "|          is at the DMV in Santa Monica, California.          | My daughter was born with a severe case of spina bifida and  |\n",
      "|                                                              |      is currently in the NICU at Children's Hospital of      |\n",
      "|  I've been here for a little over a year now and I love it!  | Philadelphia. She is an extremely rare case of spina bifida! |\n",
      "| It's an amazing place to work with so many great people who  | I have been blessed to have such a great team of doctors and |\n",
      "| are so nice and helpful. They have some of the best customer |                 nurses who are helping her!                  |\n",
      "| service out there, which is why they're my favorite place to |                                                              |\n",
      "|                            work!                             |   She has had several surgeries over the past few months,    |\n",
      "|                                                              | including one last week that allowed her to go home from the |\n",
      "|                        I'm also very                         |           hospital this week. The doctors said sh            |\n",
      "+--------------------------------------------------------------+--------------------------------------------------------------+\n"
     ]
    }
   ],
   "source": [
    "happy_sad_prompts = [\n",
    "    *get_x_vector_preset(\n",
    "        prompt1=\"Happy\", prompt2=\"Sad\", coeff=10, act_name=20\n",
    "    ),\n",
    "    *get_x_vector_preset(\n",
    "        prompt1=\"I love my life\",\n",
    "        prompt2=\"I like my life\",\n",
    "        coeff=50,\n",
    "        act_name=20,\n",
    "    ),\n",
    "]\n",
    "\n",
    "print_n_comparisons(\n",
    "    model=model,\n",
    "    prompt=\"Today, I feel like\",\n",
    "    tokens_to_generate=100,\n",
    "    rich_prompts=happy_sad_prompts,\n",
    "    num_comparisons=25,\n",
    "    **default_kwargs,\n",
    ")"
   ]
  },
  {
   "cell_type": "markdown",
   "metadata": {},
   "source": [
    " Even given a ridiculously unhappy prompt, we can just pump up the coefficient to **2,000** and overcome it!"
   ]
  },
  {
   "cell_type": "code",
   "execution_count": 34,
   "metadata": {},
   "outputs": [
    {
     "name": "stdout",
     "output_type": "stream",
     "text": [
      "Relative magnitudes: tensor([   0.0000, 1899.9664], device='cuda:0')\n"
     ]
    },
    {
     "ename": "KeyboardInterrupt",
     "evalue": "",
     "output_type": "error",
     "traceback": [
      "\u001b[0;31m---------------------------------------------------------------------------\u001b[0m",
      "\u001b[0;31mKeyboardInterrupt\u001b[0m                         Traceback (most recent call last)",
      "Cell \u001b[0;32mIn[34], line 5\u001b[0m\n\u001b[1;32m      1\u001b[0m happy_prompts \u001b[39m=\u001b[39m [\n\u001b[1;32m      2\u001b[0m     \u001b[39m*\u001b[39mget_x_vector_preset(prompt1\u001b[39m=\u001b[39m\u001b[39m\"\u001b[39m\u001b[39mHappy\u001b[39m\u001b[39m\"\u001b[39m, prompt2\u001b[39m=\u001b[39m\u001b[39m\"\u001b[39m\u001b[39m\"\u001b[39m, coeff\u001b[39m=\u001b[39m\u001b[39m2000\u001b[39m, act_name\u001b[39m=\u001b[39m\u001b[39m20\u001b[39m),\n\u001b[1;32m      3\u001b[0m ]\n\u001b[0;32m----> 5\u001b[0m print_n_comparisons(\n\u001b[1;32m      6\u001b[0m     model\u001b[39m=\u001b[39;49mmodel,\n\u001b[1;32m      7\u001b[0m     prompt\u001b[39m=\u001b[39;49m(\u001b[39m\"\u001b[39;49m\u001b[39mYesterday, my dog died. Today, I got denied for a raise. I\u001b[39;49m\u001b[39m'\u001b[39;49m\u001b[39mm feeling\u001b[39;49m\u001b[39m\"\u001b[39;49m),\n\u001b[1;32m      8\u001b[0m     tokens_to_generate\u001b[39m=\u001b[39;49m\u001b[39m50\u001b[39;49m,\n\u001b[1;32m      9\u001b[0m     rich_prompts\u001b[39m=\u001b[39;49mhappy_prompts,\n\u001b[1;32m     10\u001b[0m     num_comparisons\u001b[39m=\u001b[39;49mnum_comparisons,\n\u001b[1;32m     11\u001b[0m     \u001b[39m*\u001b[39;49m\u001b[39m*\u001b[39;49mdefault_kwargs,\n\u001b[1;32m     12\u001b[0m )\n",
      "Cell \u001b[0;32mIn[13], line 32\u001b[0m, in \u001b[0;36mprint_n_comparisons\u001b[0;34m(*args, **kwargs)\u001b[0m\n\u001b[1;32m     26\u001b[0m     rel_mags: torch\u001b[39m.\u001b[39mTensor \u001b[39m=\u001b[39m (\n\u001b[1;32m     27\u001b[0m         hook_utils\u001b[39m.\u001b[39msteering_magnitudes_relative_to_prompt(\n\u001b[1;32m     28\u001b[0m             act_adds\u001b[39m=\u001b[39mrich_prompts, model\u001b[39m=\u001b[39mmodel, prompt\u001b[39m=\u001b[39mprompt\n\u001b[1;32m     29\u001b[0m         )\n\u001b[1;32m     30\u001b[0m     )\n\u001b[1;32m     31\u001b[0m     \u001b[39mprint\u001b[39m(\u001b[39mf\u001b[39m\u001b[39m\"\u001b[39m\u001b[39mRelative magnitudes: \u001b[39m\u001b[39m{\u001b[39;00mrel_mags\u001b[39m}\u001b[39;00m\u001b[39m\"\u001b[39m)\n\u001b[0;32m---> 32\u001b[0m completion_utils\u001b[39m.\u001b[39;49mprint_n_comparisons(\u001b[39m*\u001b[39;49margs, \u001b[39m*\u001b[39;49m\u001b[39m*\u001b[39;49mkwargs)\n",
      "File \u001b[0;32m~/.local/lib/python3.8/site-packages/decorator.py:232\u001b[0m, in \u001b[0;36mdecorate.<locals>.fun\u001b[0;34m(*args, **kw)\u001b[0m\n\u001b[1;32m    230\u001b[0m \u001b[39mif\u001b[39;00m \u001b[39mnot\u001b[39;00m kwsyntax:\n\u001b[1;32m    231\u001b[0m     args, kw \u001b[39m=\u001b[39m fix(args, kw, sig)\n\u001b[0;32m--> 232\u001b[0m \u001b[39mreturn\u001b[39;00m caller(func, \u001b[39m*\u001b[39;49m(extras \u001b[39m+\u001b[39;49m args), \u001b[39m*\u001b[39;49m\u001b[39m*\u001b[39;49mkw)\n",
      "File \u001b[0;32m~/algebraic_value_editing/algebraic_value_editing/logging.py:175\u001b[0m, in \u001b[0;36m_loggable\u001b[0;34m(func, **kwargs)\u001b[0m\n\u001b[1;32m    173\u001b[0m \u001b[39m# Check if we should log\u001b[39;00m\n\u001b[1;32m    174\u001b[0m \u001b[39mif\u001b[39;00m log \u001b[39mis\u001b[39;00m \u001b[39mFalse\u001b[39;00m:\n\u001b[0;32m--> 175\u001b[0m     func_return \u001b[39m=\u001b[39m func(\u001b[39m*\u001b[39;49m\u001b[39m*\u001b[39;49mkwargs)\n\u001b[1;32m    176\u001b[0m \u001b[39melse\u001b[39;00m:\n\u001b[1;32m    177\u001b[0m     \u001b[39m# Process the log argument, extract logging-related arguments if\u001b[39;00m\n\u001b[1;32m    178\u001b[0m     \u001b[39m# provided\u001b[39;00m\n\u001b[1;32m    179\u001b[0m     \u001b[39mif\u001b[39;00m log \u001b[39mis\u001b[39;00m \u001b[39mTrue\u001b[39;00m:\n",
      "File \u001b[0;32m~/algebraic_value_editing/algebraic_value_editing/completion_utils.py:309\u001b[0m, in \u001b[0;36mprint_n_comparisons\u001b[0;34m(prompt, model, num_comparisons, log, rich_prompts, **kwargs)\u001b[0m\n\u001b[1;32m    306\u001b[0m prompt_batch: List[\u001b[39mstr\u001b[39m] \u001b[39m=\u001b[39m [prompt] \u001b[39m*\u001b[39m num_comparisons\n\u001b[1;32m    308\u001b[0m \u001b[39m# Generate the completions from the normal model\u001b[39;00m\n\u001b[0;32m--> 309\u001b[0m normal_df: pd\u001b[39m.\u001b[39mDataFrame \u001b[39m=\u001b[39m gen_using_hooks(\n\u001b[1;32m    310\u001b[0m     prompt_batch\u001b[39m=\u001b[39;49mprompt_batch, model\u001b[39m=\u001b[39;49mmodel, hook_fns\u001b[39m=\u001b[39;49m{}, \u001b[39m*\u001b[39;49m\u001b[39m*\u001b[39;49mkwargs\n\u001b[1;32m    311\u001b[0m )\n\u001b[1;32m    312\u001b[0m data_frames: List[pd\u001b[39m.\u001b[39mDataFrame] \u001b[39m=\u001b[39m [normal_df]\n\u001b[1;32m    314\u001b[0m \u001b[39m# Generate the completions from the modified model\u001b[39;00m\n",
      "File \u001b[0;32m~/algebraic_value_editing/algebraic_value_editing/completion_utils.py:30\u001b[0m, in \u001b[0;36mpreserve_rng_state.<locals>.wrapper\u001b[0;34m(*args, **kwargs)\u001b[0m\n\u001b[1;32m     27\u001b[0m rng_state: t\u001b[39m.\u001b[39mTensor \u001b[39m=\u001b[39m t\u001b[39m.\u001b[39mrandom\u001b[39m.\u001b[39mget_rng_state()\n\u001b[1;32m     29\u001b[0m \u001b[39m# Call the original function\u001b[39;00m\n\u001b[0;32m---> 30\u001b[0m result \u001b[39m=\u001b[39m func(\u001b[39m*\u001b[39;49margs, \u001b[39m*\u001b[39;49m\u001b[39m*\u001b[39;49mkwargs)\n\u001b[1;32m     32\u001b[0m \u001b[39m# Restore the RNG state\u001b[39;00m\n\u001b[1;32m     33\u001b[0m t\u001b[39m.\u001b[39mrandom\u001b[39m.\u001b[39mset_rng_state(rng_state)\n",
      "File \u001b[0;32m~/.local/lib/python3.8/site-packages/decorator.py:232\u001b[0m, in \u001b[0;36mdecorate.<locals>.fun\u001b[0;34m(*args, **kw)\u001b[0m\n\u001b[1;32m    230\u001b[0m \u001b[39mif\u001b[39;00m \u001b[39mnot\u001b[39;00m kwsyntax:\n\u001b[1;32m    231\u001b[0m     args, kw \u001b[39m=\u001b[39m fix(args, kw, sig)\n\u001b[0;32m--> 232\u001b[0m \u001b[39mreturn\u001b[39;00m caller(func, \u001b[39m*\u001b[39;49m(extras \u001b[39m+\u001b[39;49m args), \u001b[39m*\u001b[39;49m\u001b[39m*\u001b[39;49mkw)\n",
      "File \u001b[0;32m~/algebraic_value_editing/algebraic_value_editing/logging.py:175\u001b[0m, in \u001b[0;36m_loggable\u001b[0;34m(func, **kwargs)\u001b[0m\n\u001b[1;32m    173\u001b[0m \u001b[39m# Check if we should log\u001b[39;00m\n\u001b[1;32m    174\u001b[0m \u001b[39mif\u001b[39;00m log \u001b[39mis\u001b[39;00m \u001b[39mFalse\u001b[39;00m:\n\u001b[0;32m--> 175\u001b[0m     func_return \u001b[39m=\u001b[39m func(\u001b[39m*\u001b[39;49m\u001b[39m*\u001b[39;49mkwargs)\n\u001b[1;32m    176\u001b[0m \u001b[39melse\u001b[39;00m:\n\u001b[1;32m    177\u001b[0m     \u001b[39m# Process the log argument, extract logging-related arguments if\u001b[39;00m\n\u001b[1;32m    178\u001b[0m     \u001b[39m# provided\u001b[39;00m\n\u001b[1;32m    179\u001b[0m     \u001b[39mif\u001b[39;00m log \u001b[39mis\u001b[39;00m \u001b[39mTrue\u001b[39;00m:\n",
      "File \u001b[0;32m~/algebraic_value_editing/algebraic_value_editing/completion_utils.py:94\u001b[0m, in \u001b[0;36mgen_using_hooks\u001b[0;34m(model, prompt_batch, hook_fns, tokens_to_generate, seed, log, **sampling_kwargs)\u001b[0m\n\u001b[1;32m     91\u001b[0m     \u001b[39mfor\u001b[39;00m act_name, hook_fn \u001b[39min\u001b[39;00m hook_fns\u001b[39m.\u001b[39mitems():\n\u001b[1;32m     92\u001b[0m         model\u001b[39m.\u001b[39madd_hook(act_name, hook_fn)\n\u001b[0;32m---> 94\u001b[0m     completions: Float[t\u001b[39m.\u001b[39mTensor, \u001b[39m\"\u001b[39m\u001b[39mbatch pos\u001b[39m\u001b[39m\"\u001b[39m] \u001b[39m=\u001b[39m model\u001b[39m.\u001b[39;49mgenerate(\n\u001b[1;32m     95\u001b[0m         \u001b[39minput\u001b[39;49m\u001b[39m=\u001b[39;49mtokenized_prompts,\n\u001b[1;32m     96\u001b[0m         max_new_tokens\u001b[39m=\u001b[39;49mtokens_to_generate,\n\u001b[1;32m     97\u001b[0m         verbose\u001b[39m=\u001b[39;49m\u001b[39mFalse\u001b[39;49;00m,\n\u001b[1;32m     98\u001b[0m         \u001b[39m*\u001b[39;49m\u001b[39m*\u001b[39;49msampling_kwargs,\n\u001b[1;32m     99\u001b[0m     )\n\u001b[1;32m    100\u001b[0m \u001b[39mfinally\u001b[39;00m:\n\u001b[1;32m    101\u001b[0m     model\u001b[39m.\u001b[39mremove_all_hook_fns()\n",
      "File \u001b[0;32m~/.local/lib/python3.8/site-packages/torch/autograd/grad_mode.py:27\u001b[0m, in \u001b[0;36m_DecoratorContextManager.__call__.<locals>.decorate_context\u001b[0;34m(*args, **kwargs)\u001b[0m\n\u001b[1;32m     24\u001b[0m \u001b[39m@functools\u001b[39m\u001b[39m.\u001b[39mwraps(func)\n\u001b[1;32m     25\u001b[0m \u001b[39mdef\u001b[39;00m \u001b[39mdecorate_context\u001b[39m(\u001b[39m*\u001b[39margs, \u001b[39m*\u001b[39m\u001b[39m*\u001b[39mkwargs):\n\u001b[1;32m     26\u001b[0m     \u001b[39mwith\u001b[39;00m \u001b[39mself\u001b[39m\u001b[39m.\u001b[39mclone():\n\u001b[0;32m---> 27\u001b[0m         \u001b[39mreturn\u001b[39;00m func(\u001b[39m*\u001b[39;49margs, \u001b[39m*\u001b[39;49m\u001b[39m*\u001b[39;49mkwargs)\n",
      "File \u001b[0;32m~/.local/lib/python3.8/site-packages/transformer_lens/HookedTransformer.py:1225\u001b[0m, in \u001b[0;36mHookedTransformer.generate\u001b[0;34m(self, input, max_new_tokens, stop_at_eos, eos_token_id, do_sample, top_k, top_p, temperature, freq_penalty, num_return_sequences, use_past_kv_cache, prepend_bos, return_type, verbose)\u001b[0m\n\u001b[1;32m   1222\u001b[0m \u001b[39mif\u001b[39;00m use_past_kv_cache:\n\u001b[1;32m   1223\u001b[0m     \u001b[39m# We just take the final tokens, as a [batch, 1] tensor\u001b[39;00m\n\u001b[1;32m   1224\u001b[0m     \u001b[39mif\u001b[39;00m index \u001b[39m>\u001b[39m \u001b[39m0\u001b[39m:\n\u001b[0;32m-> 1225\u001b[0m         logits \u001b[39m=\u001b[39m \u001b[39mself\u001b[39;49m\u001b[39m.\u001b[39;49mforward(\n\u001b[1;32m   1226\u001b[0m             tokens[:, \u001b[39m-\u001b[39;49m\u001b[39m1\u001b[39;49m:],\n\u001b[1;32m   1227\u001b[0m             return_type\u001b[39m=\u001b[39;49m\u001b[39m\"\u001b[39;49m\u001b[39mlogits\u001b[39;49m\u001b[39m\"\u001b[39;49m,\n\u001b[1;32m   1228\u001b[0m             past_kv_cache\u001b[39m=\u001b[39;49mpast_kv_cache,\n\u001b[1;32m   1229\u001b[0m         )\n\u001b[1;32m   1230\u001b[0m     \u001b[39melse\u001b[39;00m:\n\u001b[1;32m   1231\u001b[0m         logits \u001b[39m=\u001b[39m \u001b[39mself\u001b[39m\u001b[39m.\u001b[39mforward(\n\u001b[1;32m   1232\u001b[0m             tokens, return_type\u001b[39m=\u001b[39m\u001b[39m\"\u001b[39m\u001b[39mlogits\u001b[39m\u001b[39m\"\u001b[39m, past_kv_cache\u001b[39m=\u001b[39mpast_kv_cache\n\u001b[1;32m   1233\u001b[0m         )\n",
      "File \u001b[0;32m~/.local/lib/python3.8/site-packages/transformer_lens/HookedTransformer.py:302\u001b[0m, in \u001b[0;36mHookedTransformer.forward\u001b[0;34m(self, input, return_type, loss_per_token, prepend_bos, stop_at_layer, past_kv_cache)\u001b[0m\n\u001b[1;32m    297\u001b[0m     transformer_block_list \u001b[39m=\u001b[39m \u001b[39mself\u001b[39m\u001b[39m.\u001b[39mblocks[:stop_at_layer] \u001b[39m# type: ignore\u001b[39;00m\n\u001b[1;32m    299\u001b[0m \u001b[39mfor\u001b[39;00m i, block \u001b[39min\u001b[39;00m \u001b[39menumerate\u001b[39m(transformer_block_list): \u001b[39m# type: ignore\u001b[39;00m\n\u001b[1;32m    300\u001b[0m     \u001b[39m# Note that each block includes skip connections, so we don't need\u001b[39;00m\n\u001b[1;32m    301\u001b[0m     \u001b[39m# residual + block(residual)\u001b[39;00m\n\u001b[0;32m--> 302\u001b[0m     residual \u001b[39m=\u001b[39m block(\n\u001b[1;32m    303\u001b[0m         residual,\n\u001b[1;32m    304\u001b[0m         past_kv_cache_entry\u001b[39m=\u001b[39;49mpast_kv_cache[i]\n\u001b[1;32m    305\u001b[0m         \u001b[39mif\u001b[39;49;00m past_kv_cache \u001b[39mis\u001b[39;49;00m \u001b[39mnot\u001b[39;49;00m \u001b[39mNone\u001b[39;49;00m\n\u001b[1;32m    306\u001b[0m         \u001b[39melse\u001b[39;49;00m \u001b[39mNone\u001b[39;49;00m,  \u001b[39m# Cache is contains a list of HookedTransformerKeyValueCache objects, one for each block\u001b[39;49;00m\n\u001b[1;32m    307\u001b[0m         shortformer_pos_embed\u001b[39m=\u001b[39;49mshortformer_pos_embed,\n\u001b[1;32m    308\u001b[0m     )  \u001b[39m# [batch, pos, d_model]\u001b[39;00m\n\u001b[1;32m    310\u001b[0m \u001b[39mif\u001b[39;00m stop_at_layer \u001b[39mis\u001b[39;00m \u001b[39mnot\u001b[39;00m \u001b[39mNone\u001b[39;00m:\n\u001b[1;32m    311\u001b[0m     \u001b[39m# When we stop at an early layer, we end here rather than doing further computation\u001b[39;00m\n\u001b[1;32m    312\u001b[0m     \u001b[39mreturn\u001b[39;00m \u001b[39mNone\u001b[39;00m\n",
      "File \u001b[0;32m~/.local/lib/python3.8/site-packages/torch/nn/modules/module.py:1194\u001b[0m, in \u001b[0;36mModule._call_impl\u001b[0;34m(self, *input, **kwargs)\u001b[0m\n\u001b[1;32m   1190\u001b[0m \u001b[39m# If we don't have any hooks, we want to skip the rest of the logic in\u001b[39;00m\n\u001b[1;32m   1191\u001b[0m \u001b[39m# this function, and just call forward.\u001b[39;00m\n\u001b[1;32m   1192\u001b[0m \u001b[39mif\u001b[39;00m \u001b[39mnot\u001b[39;00m (\u001b[39mself\u001b[39m\u001b[39m.\u001b[39m_backward_hooks \u001b[39mor\u001b[39;00m \u001b[39mself\u001b[39m\u001b[39m.\u001b[39m_forward_hooks \u001b[39mor\u001b[39;00m \u001b[39mself\u001b[39m\u001b[39m.\u001b[39m_forward_pre_hooks \u001b[39mor\u001b[39;00m _global_backward_hooks\n\u001b[1;32m   1193\u001b[0m         \u001b[39mor\u001b[39;00m _global_forward_hooks \u001b[39mor\u001b[39;00m _global_forward_pre_hooks):\n\u001b[0;32m-> 1194\u001b[0m     \u001b[39mreturn\u001b[39;00m forward_call(\u001b[39m*\u001b[39;49m\u001b[39minput\u001b[39;49m, \u001b[39m*\u001b[39;49m\u001b[39m*\u001b[39;49mkwargs)\n\u001b[1;32m   1195\u001b[0m \u001b[39m# Do not call functions when jit is used\u001b[39;00m\n\u001b[1;32m   1196\u001b[0m full_backward_hooks, non_full_backward_hooks \u001b[39m=\u001b[39m [], []\n",
      "File \u001b[0;32m~/.local/lib/python3.8/site-packages/transformer_lens/components.py:693\u001b[0m, in \u001b[0;36mTransformerBlock.forward\u001b[0;34m(self, resid_pre, shortformer_pos_embed, past_kv_cache_entry)\u001b[0m\n\u001b[1;32m    686\u001b[0m     \u001b[39mif\u001b[39;00m shortformer_pos_embed \u001b[39mis\u001b[39;00m \u001b[39mnot\u001b[39;00m \u001b[39mNone\u001b[39;00m:\n\u001b[1;32m    687\u001b[0m         shortformer_pos_embed \u001b[39m=\u001b[39m add_head_dimension(shortformer_pos_embed)\n\u001b[1;32m    689\u001b[0m attn_out \u001b[39m=\u001b[39m \u001b[39mself\u001b[39m\u001b[39m.\u001b[39mhook_attn_out(\n\u001b[1;32m    690\u001b[0m     \u001b[39m# hook the residual stream states that are used to calculate the \u001b[39;00m\n\u001b[1;32m    691\u001b[0m     \u001b[39m# queries, keys and values, independently. \u001b[39;00m\n\u001b[1;32m    692\u001b[0m     \u001b[39m# Then take the layer norm of these inputs, and pass these to the attention module.\u001b[39;00m\n\u001b[0;32m--> 693\u001b[0m     \u001b[39mself\u001b[39;49m\u001b[39m.\u001b[39;49mattn(\n\u001b[1;32m    694\u001b[0m         query_input \u001b[39m=\u001b[39;49m \u001b[39mself\u001b[39;49m\u001b[39m.\u001b[39;49mln1(query_input) \u001b[39m+\u001b[39;49m (\u001b[39m0.0\u001b[39;49m \u001b[39mif\u001b[39;49;00m shortformer_pos_embed \u001b[39mis\u001b[39;49;00m \u001b[39mNone\u001b[39;49;00m \u001b[39melse\u001b[39;49;00m shortformer_pos_embed),\n\u001b[1;32m    695\u001b[0m         key_input \u001b[39m=\u001b[39;49m \u001b[39mself\u001b[39;49m\u001b[39m.\u001b[39;49mln1(key_input) \u001b[39m+\u001b[39;49m (\u001b[39m0.0\u001b[39;49m \u001b[39mif\u001b[39;49;00m shortformer_pos_embed \u001b[39mis\u001b[39;49;00m \u001b[39mNone\u001b[39;49;00m \u001b[39melse\u001b[39;49;00m shortformer_pos_embed),\n\u001b[1;32m    696\u001b[0m         value_input \u001b[39m=\u001b[39;49m \u001b[39mself\u001b[39;49m\u001b[39m.\u001b[39;49mln1(value_input),\n\u001b[1;32m    697\u001b[0m         past_kv_cache_entry\u001b[39m=\u001b[39;49mpast_kv_cache_entry,\n\u001b[1;32m    698\u001b[0m     )\n\u001b[1;32m    699\u001b[0m )  \u001b[39m# [batch, pos, d_model]\u001b[39;00m\n\u001b[1;32m    700\u001b[0m \u001b[39mif\u001b[39;00m \u001b[39mnot\u001b[39;00m \u001b[39mself\u001b[39m\u001b[39m.\u001b[39mcfg\u001b[39m.\u001b[39mattn_only \u001b[39mand\u001b[39;00m \u001b[39mnot\u001b[39;00m \u001b[39mself\u001b[39m\u001b[39m.\u001b[39mcfg\u001b[39m.\u001b[39mparallel_attn_mlp:\n\u001b[1;32m    701\u001b[0m     resid_mid \u001b[39m=\u001b[39m \u001b[39mself\u001b[39m\u001b[39m.\u001b[39mhook_resid_mid(\n\u001b[1;32m    702\u001b[0m         resid_pre \u001b[39m+\u001b[39m attn_out\n\u001b[1;32m    703\u001b[0m     )  \u001b[39m# [batch, pos, d_model]\u001b[39;00m\n",
      "File \u001b[0;32m~/.local/lib/python3.8/site-packages/torch/nn/modules/module.py:1194\u001b[0m, in \u001b[0;36mModule._call_impl\u001b[0;34m(self, *input, **kwargs)\u001b[0m\n\u001b[1;32m   1190\u001b[0m \u001b[39m# If we don't have any hooks, we want to skip the rest of the logic in\u001b[39;00m\n\u001b[1;32m   1191\u001b[0m \u001b[39m# this function, and just call forward.\u001b[39;00m\n\u001b[1;32m   1192\u001b[0m \u001b[39mif\u001b[39;00m \u001b[39mnot\u001b[39;00m (\u001b[39mself\u001b[39m\u001b[39m.\u001b[39m_backward_hooks \u001b[39mor\u001b[39;00m \u001b[39mself\u001b[39m\u001b[39m.\u001b[39m_forward_hooks \u001b[39mor\u001b[39;00m \u001b[39mself\u001b[39m\u001b[39m.\u001b[39m_forward_pre_hooks \u001b[39mor\u001b[39;00m _global_backward_hooks\n\u001b[1;32m   1193\u001b[0m         \u001b[39mor\u001b[39;00m _global_forward_hooks \u001b[39mor\u001b[39;00m _global_forward_pre_hooks):\n\u001b[0;32m-> 1194\u001b[0m     \u001b[39mreturn\u001b[39;00m forward_call(\u001b[39m*\u001b[39;49m\u001b[39minput\u001b[39;49m, \u001b[39m*\u001b[39;49m\u001b[39m*\u001b[39;49mkwargs)\n\u001b[1;32m   1195\u001b[0m \u001b[39m# Do not call functions when jit is used\u001b[39;00m\n\u001b[1;32m   1196\u001b[0m full_backward_hooks, non_full_backward_hooks \u001b[39m=\u001b[39m [], []\n",
      "File \u001b[0;32m~/.local/lib/python3.8/site-packages/transformer_lens/components.py:367\u001b[0m, in \u001b[0;36mAttention.forward\u001b[0;34m(self, query_input, key_input, value_input, past_kv_cache_entry)\u001b[0m\n\u001b[1;32m    355\u001b[0m     qkv_einops_string \u001b[39m=\u001b[39m \u001b[39m\"\u001b[39m\u001b[39mbatch pos d_model\u001b[39m\u001b[39m\"\u001b[39m\n\u001b[1;32m    357\u001b[0m q \u001b[39m=\u001b[39m \u001b[39mself\u001b[39m\u001b[39m.\u001b[39mhook_q(\n\u001b[1;32m    358\u001b[0m     einsum(\n\u001b[1;32m    359\u001b[0m         \u001b[39mf\u001b[39m\u001b[39m\"\u001b[39m\u001b[39m{\u001b[39;00mqkv_einops_string\u001b[39m}\u001b[39;00m\u001b[39m, head_index d_model d_head \u001b[39m\u001b[39m\\\u001b[39;00m\n\u001b[0;32m   (...)\u001b[0m\n\u001b[1;32m    364\u001b[0m     \u001b[39m+\u001b[39m \u001b[39mself\u001b[39m\u001b[39m.\u001b[39mb_Q\n\u001b[1;32m    365\u001b[0m )  \u001b[39m# [batch, pos, head_index, d_head]\u001b[39;00m\n\u001b[1;32m    366\u001b[0m k \u001b[39m=\u001b[39m \u001b[39mself\u001b[39m\u001b[39m.\u001b[39mhook_k(\n\u001b[0;32m--> 367\u001b[0m     einsum(\n\u001b[1;32m    368\u001b[0m         \u001b[39mf\u001b[39;49m\u001b[39m\"\u001b[39;49m\u001b[39m{\u001b[39;49;00mqkv_einops_string\u001b[39m}\u001b[39;49;00m\u001b[39m, head_index d_model d_head \u001b[39;49m\u001b[39m\\\u001b[39;49;00m\n\u001b[1;32m    369\u001b[0m \u001b[39m        -> batch pos head_index d_head\u001b[39;49m\u001b[39m\"\u001b[39;49m,\n\u001b[1;32m    370\u001b[0m         key_input,\n\u001b[1;32m    371\u001b[0m         \u001b[39mself\u001b[39;49m\u001b[39m.\u001b[39;49mW_K,\n\u001b[1;32m    372\u001b[0m     )\n\u001b[1;32m    373\u001b[0m     \u001b[39m+\u001b[39m \u001b[39mself\u001b[39m\u001b[39m.\u001b[39mb_K\n\u001b[1;32m    374\u001b[0m )  \u001b[39m# [batch, pos, head_index, d_head]\u001b[39;00m\n\u001b[1;32m    375\u001b[0m v \u001b[39m=\u001b[39m \u001b[39mself\u001b[39m\u001b[39m.\u001b[39mhook_v(\n\u001b[1;32m    376\u001b[0m     einsum(\n\u001b[1;32m    377\u001b[0m         \u001b[39mf\u001b[39m\u001b[39m\"\u001b[39m\u001b[39m{\u001b[39;00mqkv_einops_string\u001b[39m}\u001b[39;00m\u001b[39m, head_index d_model d_head \u001b[39m\u001b[39m\\\u001b[39;00m\n\u001b[0;32m   (...)\u001b[0m\n\u001b[1;32m    382\u001b[0m     \u001b[39m+\u001b[39m \u001b[39mself\u001b[39m\u001b[39m.\u001b[39mb_V\n\u001b[1;32m    383\u001b[0m )  \u001b[39m# [batch, pos, head_index, d_head]\u001b[39;00m\n\u001b[1;32m    385\u001b[0m \u001b[39mif\u001b[39;00m past_kv_cache_entry \u001b[39mis\u001b[39;00m \u001b[39mnot\u001b[39;00m \u001b[39mNone\u001b[39;00m:\n\u001b[1;32m    386\u001b[0m     \u001b[39m# Appends the new keys and values to the cached values, and automatically updates the cache\u001b[39;00m\n",
      "File \u001b[0;32m~/.local/lib/python3.8/site-packages/fancy_einsum/__init__.py:136\u001b[0m, in \u001b[0;36meinsum\u001b[0;34m(equation, *operands)\u001b[0m\n\u001b[1;32m    134\u001b[0m backend \u001b[39m=\u001b[39m get_backend(operands[\u001b[39m0\u001b[39m])\n\u001b[1;32m    135\u001b[0m new_equation \u001b[39m=\u001b[39m convert_equation(equation)\n\u001b[0;32m--> 136\u001b[0m \u001b[39mreturn\u001b[39;00m backend\u001b[39m.\u001b[39;49meinsum(new_equation, \u001b[39m*\u001b[39;49moperands)\n",
      "File \u001b[0;32m~/.local/lib/python3.8/site-packages/fancy_einsum/__init__.py:54\u001b[0m, in \u001b[0;36mTorchBackend.einsum\u001b[0;34m(self, equation, *operands)\u001b[0m\n\u001b[1;32m     53\u001b[0m \u001b[39mdef\u001b[39;00m \u001b[39meinsum\u001b[39m(\u001b[39mself\u001b[39m, equation, \u001b[39m*\u001b[39moperands):\n\u001b[0;32m---> 54\u001b[0m     \u001b[39mreturn\u001b[39;00m \u001b[39mself\u001b[39;49m\u001b[39m.\u001b[39;49mtorch\u001b[39m.\u001b[39;49meinsum(equation, \u001b[39m*\u001b[39;49moperands)\n",
      "File \u001b[0;32m~/.local/lib/python3.8/site-packages/torch/functional.py:378\u001b[0m, in \u001b[0;36meinsum\u001b[0;34m(*args)\u001b[0m\n\u001b[1;32m    373\u001b[0m     \u001b[39mreturn\u001b[39;00m einsum(equation, \u001b[39m*\u001b[39m_operands)\n\u001b[1;32m    375\u001b[0m \u001b[39mif\u001b[39;00m \u001b[39mlen\u001b[39m(operands) \u001b[39m<\u001b[39m\u001b[39m=\u001b[39m \u001b[39m2\u001b[39m \u001b[39mor\u001b[39;00m \u001b[39mnot\u001b[39;00m opt_einsum\u001b[39m.\u001b[39menabled:\n\u001b[1;32m    376\u001b[0m     \u001b[39m# the path for contracting 0 or 1 time(s) is already optimized\u001b[39;00m\n\u001b[1;32m    377\u001b[0m     \u001b[39m# or the user has disabled using opt_einsum\u001b[39;00m\n\u001b[0;32m--> 378\u001b[0m     \u001b[39mreturn\u001b[39;00m _VF\u001b[39m.\u001b[39;49meinsum(equation, operands)  \u001b[39m# type: ignore[attr-defined]\u001b[39;00m\n\u001b[1;32m    380\u001b[0m path \u001b[39m=\u001b[39m \u001b[39mNone\u001b[39;00m\n\u001b[1;32m    381\u001b[0m \u001b[39mif\u001b[39;00m opt_einsum\u001b[39m.\u001b[39mis_available():\n",
      "\u001b[0;31mKeyboardInterrupt\u001b[0m: "
     ]
    }
   ],
   "source": [
    "happy_prompts = [\n",
    "    *get_x_vector_preset(prompt1=\"Happy\", prompt2=\"\", coeff=2000, act_name=20),\n",
    "]\n",
    "\n",
    "print_n_comparisons(\n",
    "    model=model,\n",
    "    prompt=(\n",
    "        \"Yesterday, my dog died. Today, I got denied for a raise. I'm feeling\"\n",
    "    ),\n",
    "    tokens_to_generate=50,\n",
    "    rich_prompts=happy_prompts,\n",
    "    num_comparisons=num_comparisons,\n",
    "    **default_kwargs,\n",
    ")"
   ]
  },
  {
   "cell_type": "code",
   "execution_count": null,
   "metadata": {},
   "outputs": [
    {
     "name": "stdout",
     "output_type": "stream",
     "text": [
      "+--------------------------------------------------------------+--------------------------------------------------------------+\n",
      "|                      \u001b[1mNormal completions\u001b[0m                      |                     \u001b[1mModified completions\u001b[0m                     |\n",
      "+--------------------------------------------------------------+--------------------------------------------------------------+\n",
      "|   \u001b[1mYesterday, my dog died. Today, I got denied for a raise.   |   \u001b[1mYesterday, my dog died. Today, I got denied for a raise.   |\n",
      "|                    I'm feeling\u001b[0m like shit.                    |                    I'm feeling\u001b[0m like shit.                    |\n",
      "|                                                              |                                                              |\n",
      "| I'm not the only one who feels this way. In fact, there's a  | I'm not the only one who feels this way. In fact, there's a  |\n",
      "| whole industry of people who have been in the same position  | whole industry of people who have been in the same position  |\n",
      "|  as me and are just waiting for their next paycheck to get   |  as me and are just trying to get by in their current jobs   |\n",
      "|                       paid. It's call                        |                         with no hope                         |\n",
      "+--------------------------------------------------------------+--------------------------------------------------------------+\n",
      "|   \u001b[1mYesterday, my dog died. Today, I got denied for a raise.   |   \u001b[1mYesterday, my dog died. Today, I got denied for a raise.   |\n",
      "|            I'm feeling\u001b[0m very depressed right now.             |            I'm feeling\u001b[0m very depressed right now.             |\n",
      "|                                                              |                                                              |\n",
      "|  I've been working at the same job for almost 10 years and   |  I've been working at the same job for almost 10 years and   |\n",
      "| have never had a raise or promotion. The last time was when  | have never had a raise or promotion. The last time was when  |\n",
      "|  I was hired in 2008, and it's been the same ever since. My  |  I was promoted to \"supervisor\" in 2007, which meant that I  |\n",
      "|                           manager                            |                            could                             |\n",
      "+--------------------------------------------------------------+--------------------------------------------------------------+\n",
      "|   \u001b[1mYesterday, my dog died. Today, I got denied for a raise.   |   \u001b[1mYesterday, my dog died. Today, I got denied for a raise.   |\n",
      "|    I'm feeling\u001b[0m a little depressed about it all right now.    |    I'm feeling\u001b[0m a little depressed about it all right now.    |\n",
      "|  But then again, that's what happens when you're the CEO of  |    But then again, that's not unusual for me these days.     |\n",
      "|  an entire company: you have to deal with all the emotions   |                                                              |\n",
      "|    that come with running a huge organization and making     |    I've been through a lot in the past few months and I'm    |\n",
      "|           decisions that affect millions of peopl            |   starting to feel like my life is going downhill fast. Th   |\n",
      "+--------------------------------------------------------------+--------------------------------------------------------------+\n",
      "|   \u001b[1mYesterday, my dog died. Today, I got denied for a raise.   |   \u001b[1mYesterday, my dog died. Today, I got denied for a raise.   |\n",
      "|         I'm feeling\u001b[0m sad and angry at the same time.          |         I'm feeling\u001b[0m sad and angry at the same time.          |\n",
      "|                                                              |                                                              |\n",
      "|   I've been a software engineer for over 10 years now, and   |   I've been a software engineer for over 10 years now, and   |\n",
      "|   have worked on projects ranging from simple web apps to    |   have worked on projects ranging from simple web apps to    |\n",
      "| complex enterprise systems. My career has taken me all over  | complex enterprise systems. My career has taken me all over  |\n",
      "|               the world — from Silicon Valley                |                  the world — in Australia,                   |\n",
      "+--------------------------------------------------------------+--------------------------------------------------------------+\n",
      "|   \u001b[1mYesterday, my dog died. Today, I got denied for a raise.   |   \u001b[1mYesterday, my dog died. Today, I got denied for a raise.   |\n",
      "|         I'm feeling\u001b[0m sad and angry at the same time.          |         I'm feeling\u001b[0m sad and angry at the same time.          |\n",
      "|                                                              |                                                              |\n",
      "|   I've been working in retail for almost 10 years now, and   |   I've been working in retail for almost 10 years now, and   |\n",
      "| this is the first time that I've ever been denied a raise or | this is the first time that I've ever been denied a raise or |\n",
      "|   promotion because of my gender. This is not an isolated    |   promotion because of my gender. This is not an isolated    |\n",
      "|                          incident;                           |                          incident;                           |\n",
      "+--------------------------------------------------------------+--------------------------------------------------------------+\n"
     ]
    }
   ],
   "source": [
    "happy_prompt: List[RichPrompt] = [\n",
    "    RichPrompt(prompt=\"Happy\", coeff=2000, act_name=20)\n",
    "]\n",
    "\n",
    "print_n_comparisons(\n",
    "    model=model,\n",
    "    prompt=(\n",
    "        \"Yesterday, my dog died. Today, I got denied for a raise. I'm feeling\"\n",
    "    ),\n",
    "    tokens_to_generate=50,\n",
    "    rich_prompts=happy_prompt,\n",
    "    num_comparisons=num_comparisons,\n",
    "    **default_kwargs,\n",
    ")"
   ]
  },
  {
   "cell_type": "markdown",
   "metadata": {},
   "source": [
    " ## Talking about weddings in dialogue -- no RLHF needed!\n",
    " When coefficient=4 (shown first), weddings are instantly discussed. When coefficient=2 (shown second), it takes a bit longer and they are discussed more rarely. Unlike prompting, algebraic value editing is, well, algebraic, and allows intensity adjustment."
   ]
  },
  {
   "cell_type": "code",
   "execution_count": null,
   "metadata": {},
   "outputs": [
    {
     "name": "stdout",
     "output_type": "stream",
     "text": [
      "+--------------------------------------------------------------+--------------------------------------------------------------+\n",
      "|                      \u001b[1mNormal completions\u001b[0m                      |                     \u001b[1mModified completions\u001b[0m                     |\n",
      "+--------------------------------------------------------------+--------------------------------------------------------------+\n",
      "|     \u001b[1mI went up to my friend and said\u001b[0m, \"I'm sorry, I can't     |     \u001b[1mI went up to my friend and said\u001b[0m, \"I'm going to talk      |\n",
      "|                          help you.\"                          |   about the wedding in this episode of  Wedding Season. I    |\n",
      "|                                                              |   think it's a really good episode. It's about how you're    |\n",
      "|                 \"No,\" he said. \"You're not.\"                 |              supposed to talk about weddings.\"               |\n",
      "|                                                              |  And I got a lot of people who said, \"Oh, that's great! You  |\n",
      "|   \"Why not?\" I asked. \"Why do you think I can't help you?\"   |    should write an episode for me!\" And then they started    |\n",
      "|                                                              |                writing their own episodes   .                |\n",
      "|   He looked at me for a long time. He was clearly thinking   | So I'm going to do it for you now! So if you're like me and  |\n",
      "|    about it. Then he finally said, \"Because the church is    |                           you hav                            |\n",
      "|  right.\" He paused for a moment and then added, with an air  |                                                              |\n",
      "|     of finality: \"The church is right because God says s     |                                                              |\n",
      "+--------------------------------------------------------------+--------------------------------------------------------------+\n",
      "|       \u001b[1mI went up to my friend and said\u001b[0m, \"Hey, you know        |      \u001b[1mI went up to my friend and said\u001b[0m, \"What's the worst      |\n",
      "| what? I'm going to do this thing where I make a list of all  |  thing that could happen?\"  I mean, I've been there.  It's   |\n",
      "|          the things that are true about this game.\"          |   not like I'm a wedding planner or anything.  I just have   |\n",
      "|                                                              | this really cool job where I can say things like \"If you're  |\n",
      "|               \"Okay,\" he said. \"That's cool.\"                | thinking about going to a wedding and you're thinking about  |\n",
      "|                                                              |    going to a wedding with your parents, then you should     |\n",
      "| \"But then I'm going to do it again,\" I said. \"And again. And |                       probably stop.\"                        |\n",
      "| again.\" And so on. Eventually, we were at the point where we |  My husband is from Indiana so he was very excited when we   |\n",
      "| had all these lists in front of us and they were all getting |             got married in Indiana. He had never             |\n",
      "|             longer and longer and longer… until              |                                                              |\n",
      "+--------------------------------------------------------------+--------------------------------------------------------------+\n",
      "|     \u001b[1mI went up to my friend and said\u001b[0m, \"Hey, I'm going to      |     \u001b[1mI went up to my friend and said\u001b[0m, \"Hey, I'm going to      |\n",
      "|                  go see the movie tonight.\"                  |  talk about weddings a lot in this book. And it's not just   |\n",
      "|                                                              |  weddings. I'm going to talk about how I think about my own  |\n",
      "|             \"Cool,\" he said. \"What's it about?\"              |  wedding.\"  So here we are, at the end of the year and it's  |\n",
      "|                                                              |     time for me to start talking about our next wedding      |\n",
      "|   \"It's a movie about a guy who goes around trying to get    |  And that is why you should read this book! It is a little   |\n",
      "|                           women.\"                            | bit different than what you're used to seeing in most books  |\n",
      "|                                                              |           on weddings because we have two couples            |\n",
      "| \"Oh, cool,\" he said. \"I've heard of that one.\" He looked at  |                                                              |\n",
      "|    me with a bit of an expression like he was thinking of    |                                                              |\n",
      "| something else. Then he looked back at the screen and asked  |                                                              |\n",
      "|           me if I wanted him to show me something            |                                                              |\n",
      "+--------------------------------------------------------------+--------------------------------------------------------------+\n",
      "|     \u001b[1mI went up to my friend and said\u001b[0m, \"Hey, I have a new      |     \u001b[1mI went up to my friend and said\u001b[0m, \"What if I told you     |\n",
      "|                      idea for a game.\"                       | that your wedding is the best day of your life ?\"  I didn't  |\n",
      "|                                                              |  know what I was talking about.  It's a big deal for me to   |\n",
      "|                   \"What is it?\" he asked.                    |   say that because it's true.  You have to understand how    |\n",
      "|                                                              |            important weddings are in our culture.            |\n",
      "| \"Well,\" I said, \"you know how in every movie there's always  |   I'm not sure why, but I always thought weddings were so    |\n",
      "|   this guy who has this weird thing that he does? Well I'm   | boring.   They're not . . . they're the most important thing |\n",
      "|         going to make a game where you can do that.\"         |                   in your life right now.                    |\n",
      "|                                                              |                           The only                           |\n",
      "|   He looked at me like I was crazy. He thought it was just   |                                                              |\n",
      "|  some sort of stupid joke. But then he looked at his watch   |                                                              |\n",
      "|                   and realized that we wer                   |                                                              |\n",
      "+--------------------------------------------------------------+--------------------------------------------------------------+\n",
      "|       \u001b[1mI went up to my friend and said\u001b[0m, \"Hey, you know        |      \u001b[1mI went up to my friend and said\u001b[0m, \"You know what? I      |\n",
      "| what? I'm not going to do this anymore. I'm going to quit.\"  |   think I'm going to have a wedding in the next couple of    |\n",
      "|                                                              |  weeks. It's just that I don't know if it's going to be in   |\n",
      "|                      \"What?\" he asked.                       |   May or July.\"  So, as you can see from the title of this   |\n",
      "|                                                              |  post, I was thinking about weddings for a while. And then   |\n",
      "|    \"I'm done,\" I said. \"I don't want to be here anymore.\"    | when we were getting ready for our wedding  we realized that |\n",
      "|                                                              |   we had been planning on having our wedding at the end of   |\n",
      "| He looked at me like he was trying to figure out if it was a |              June. So we decided to postpone i               |\n",
      "|   joke or not. He had never seen me like this before. It's   |                                                              |\n",
      "| funny how things work out sometimes, huh? He told me that he |                                                              |\n",
      "|                        didn't really                         |                                                              |\n",
      "+--------------------------------------------------------------+--------------------------------------------------------------+\n"
     ]
    }
   ],
   "source": [
    "weddings_prompts_4 = [\n",
    "    *get_x_vector_preset(\n",
    "        prompt1=\"I talk about weddings constantly\",\n",
    "        prompt2=\"I do not talk about weddings constantly\",\n",
    "        coeff=4,\n",
    "        act_name=20,\n",
    "    )\n",
    "]\n",
    "\n",
    "print_n_comparisons(\n",
    "    model=model,\n",
    "    prompt=\"I went up to my friend and said\",\n",
    "    tokens_to_generate=100,\n",
    "    rich_prompts=weddings_prompts_4,\n",
    "    num_comparisons=num_comparisons,\n",
    "    **default_kwargs,\n",
    ")"
   ]
  },
  {
   "cell_type": "markdown",
   "metadata": {},
   "source": [
    " Lowering the coefficient from 4 to 2 will decrease how often and insistently the model brings up weddings."
   ]
  },
  {
   "cell_type": "code",
   "execution_count": null,
   "metadata": {},
   "outputs": [
    {
     "name": "stdout",
     "output_type": "stream",
     "text": [
      "+--------------------------------------------------------------+--------------------------------------------------------------+\n",
      "|                      \u001b[1mNormal completions\u001b[0m                      |                     \u001b[1mModified completions\u001b[0m                     |\n",
      "+--------------------------------------------------------------+--------------------------------------------------------------+\n",
      "|     \u001b[1mI went up to my friend and said\u001b[0m, \"I'm sorry, I can't     |     \u001b[1mI went up to my friend and said\u001b[0m, \"I'm going to marry     |\n",
      "|                          help you.\"                          |  this girl.\" And she said, \"Oh, that's great. I'm so happy   |\n",
      "|                                                              |  for you.\" And I said, \"Well, how about you?\" She was like,  |\n",
      "|                 \"No,\" he said. \"You're not.\"                 |                   \"Oh yeah! That's great!\"                   |\n",
      "|                                                              |                                                              |\n",
      "|   \"Why not?\" I asked. \"Why do you think I can't help you?\"   |  She was so excited. She had been in love with me since we   |\n",
      "|                                                              |  were kids. We'd been together for a long time and we just   |\n",
      "|   He looked at me for a long time. He was clearly thinking   |  got married last year. But it was such a surprise when she  |\n",
      "|    about it. Then he finally said, \"Because the church is    |                   told me that she wanted                    |\n",
      "|  right.\" He paused for a moment and then added, with an air  |                                                              |\n",
      "|     of finality: \"The church is right because God says s     |                                                              |\n",
      "+--------------------------------------------------------------+--------------------------------------------------------------+\n",
      "|       \u001b[1mI went up to my friend and said\u001b[0m, \"Hey, you know        |      \u001b[1mI went up to my friend and said\u001b[0m, \"What's the worst      |\n",
      "| what? I'm going to do this thing where I make a list of all  |                  thing that could happen?\"                   |\n",
      "|          the things that are true about this game.\"          |                                                              |\n",
      "|                                                              |              \"Nothing,\" he said. \"Nothing bad.\"              |\n",
      "|               \"Okay,\" he said. \"That's cool.\"                |                                                              |\n",
      "|                                                              |   \"What about a car accident?\" I asked. \"That's the worst    |\n",
      "| \"But then I'm going to do it again,\" I said. \"And again. And |                  thing that could happen.\"                   |\n",
      "| again.\" And so on. Eventually, we were at the point where we |                                                              |\n",
      "| had all these lists in front of us and they were all getting | He shook his head. \"No, nothing like that,\" he said. \"You're |\n",
      "|             longer and longer and longer… until              |   not going to get hurt in a car accident.\" (This is why I   |\n",
      "|                                                              | love him so much.) But what if you did? What if you were in  |\n",
      "|                                                              |                     an accident and som                      |\n",
      "+--------------------------------------------------------------+--------------------------------------------------------------+\n",
      "|     \u001b[1mI went up to my friend and said\u001b[0m, \"Hey, I'm going to      |     \u001b[1mI went up to my friend and said\u001b[0m, \"Hey, I'm going to      |\n",
      "|                  go see the movie tonight.\"                  | marry this guy.\" And he said, \"Oh no you're not. You're just |\n",
      "|                                                              |                 going to be his girlfriend.\"                 |\n",
      "|             \"Cool,\" he said. \"What's it about?\"              |                                                              |\n",
      "|                                                              | I thought that was pretty funny. He didn't even know what a  |\n",
      "|   \"It's a movie about a guy who goes around trying to get    | girlfriend was! So I asked him why he said that and he told  |\n",
      "|                           women.\"                            |             me it's because of the way I dress.              |\n",
      "|                                                              |                                                              |\n",
      "| \"Oh, cool,\" he said. \"I've heard of that one.\" He looked at  |     He also told me that if we were dating before we got     |\n",
      "|    me with a bit of an expression like he was thinking of    |  married, then it would be like a boyfriend and girlfriend   |\n",
      "| something else. Then he looked back at the screen and asked  |                     relationship but now                     |\n",
      "|           me if I wanted him to show me something            |                                                              |\n",
      "+--------------------------------------------------------------+--------------------------------------------------------------+\n",
      "|     \u001b[1mI went up to my friend and said\u001b[0m, \"Hey, I have a new      |     \u001b[1mI went up to my friend and said\u001b[0m, \"Hey, I have a new      |\n",
      "|                      idea for a game.\"                       |                     idea for a wedding!\"                     |\n",
      "|                                                              |                                                              |\n",
      "|                   \"What is it?\" he asked.                    |        And then I told them about the wedding dress.         |\n",
      "|                                                              |                                                              |\n",
      "| \"Well,\" I said, \"you know how in every movie there's always  |  It was so much fun to make. It's very simple and elegant,   |\n",
      "|   this guy who has this weird thing that he does? Well I'm   | but it's also practical. It has lots of pockets for holding  |\n",
      "|         going to make a game where you can do that.\"         |  your things while you're out on the town or in the garden.  |\n",
      "|                                                              |  And it has two beautiful little bow accents that will add   |\n",
      "|   He looked at me like I was crazy. He thought it was just   |            some color to your dress!<|endoftext|>            |\n",
      "|  some sort of stupid joke. But then he looked at his watch   |                                                              |\n",
      "|                   and realized that we wer                   |                                                              |\n",
      "+--------------------------------------------------------------+--------------------------------------------------------------+\n",
      "|       \u001b[1mI went up to my friend and said\u001b[0m, \"Hey, you know        |     \u001b[1mI went up to my friend and said\u001b[0m, \"What do you think      |\n",
      "| what? I'm not going to do this anymore. I'm going to quit.\"  |               of the idea of a wedding dress?\"               |\n",
      "|                                                              |                                                              |\n",
      "|                      \"What?\" he asked.                       |         \"Oh, I love it,\" she said. \"It's so pretty.\"         |\n",
      "|                                                              |                                                              |\n",
      "|    \"I'm done,\" I said. \"I don't want to be here anymore.\"    | \"Well, what about your hair?\" I asked. \"You have really long |\n",
      "|                                                              |                            hair.\"                            |\n",
      "| He looked at me like he was trying to figure out if it was a |                                                              |\n",
      "|   joke or not. He had never seen me like this before. It's   |     She looked at me like I was crazy. She was wearing a     |\n",
      "| funny how things work out sometimes, huh? He told me that he | beautiful white dress with an elaborate train that fell down |\n",
      "|                        didn't really                         |  her back and down her arms to the floor. Her hair was done  |\n",
      "|                                                              |              up in a bun with big bows all over              |\n",
      "+--------------------------------------------------------------+--------------------------------------------------------------+\n"
     ]
    }
   ],
   "source": [
    "weddings_prompts_2 = [\n",
    "    *get_x_vector_preset(\n",
    "        prompt1=\"I talk about weddings constantly\",\n",
    "        prompt2=\"I do not talk about weddings constantly\",\n",
    "        coeff=2,\n",
    "        act_name=20,\n",
    "    )\n",
    "]\n",
    "\n",
    "print_n_comparisons(\n",
    "    model=model,\n",
    "    prompt=\"I went up to my friend and said\",\n",
    "    tokens_to_generate=100,\n",
    "    rich_prompts=weddings_prompts_2,\n",
    "    num_comparisons=num_comparisons,\n",
    "    **default_kwargs,\n",
    ")"
   ]
  },
  {
   "cell_type": "code",
   "execution_count": null,
   "metadata": {},
   "outputs": [
    {
     "name": "stdout",
     "output_type": "stream",
     "text": [
      "+--------------------------------------------------------------+--------------------------------------------------------------+\n",
      "|                      \u001b[1mNormal completions\u001b[0m                      |                     \u001b[1mModified completions\u001b[0m                     |\n",
      "+--------------------------------------------------------------+--------------------------------------------------------------+\n",
      "|   \u001b[1mI hate talking about weddings. Instead, let's talk about   |   \u001b[1mI hate talking about weddings. Instead, let's talk about   |\n",
      "|  a totally different topic, like the impact of NGDP on the   |  a totally different topic, like the impact of NGDP on the   |\n",
      "|                        price of gold.\u001b[0m                        |                        price of gold.\u001b[0m                        |\n",
      "|                                                              |                                                              |\n",
      "| I'm going to start with a simple chart that shows the price  |    I'm sure you've heard that NGDP is down   . And I know    |\n",
      "|                      of gold over time:                      |  you're all thinking \"What? Why?\" Well, it's because there   |\n",
      "|                                                              |  are lots of people who want to buy gold at any price. But   |\n",
      "| It's not very interesting, but it does show how NGDP affects |   there are also lots of people who want to buy gold at a    |\n",
      "|  prices. If you look at the bottom part of this chart (the   |  lower price. The chart below shows how much the dollar has  |\n",
      "| one that goes back to 1980), you'll see that there was a big |       appreciated against other currencies over time:        |\n",
      "|  spike in gold prices right around 1982-83. The reason for   |                                                              |\n",
      "|  this is simple: US monetary policy was pretty tight during  | But what if we could get rid of this weirdness and just use  |\n",
      "|  this period and so demand for gold soared as people realiz  |                       a simple index?                        |\n",
      "+--------------------------------------------------------------+--------------------------------------------------------------+\n",
      "|   \u001b[1mI hate talking about weddings. Instead, let's talk about   |   \u001b[1mI hate talking about weddings. Instead, let's talk about   |\n",
      "|  a totally different topic, like the impact of NGDP on the   |  a totally different topic, like the impact of NGDP on the   |\n",
      "|                        price of gold.\u001b[0m                        |                        price of gold.\u001b[0m                        |\n",
      "|                                                              |                                                              |\n",
      "|            Let's start with a very simple model:             | But I'm going to be honest with you, I don't know much about |\n",
      "|                                                              |    NGDP and how it affects gold prices. And that's why I     |\n",
      "|    In this model, there is no NGDP and there are only two    |  decided to put together this post on the topic of NGDP and  |\n",
      "|  prices: the price of gold and the price of oil. The prices  |  wedding prices. So if you want to know more about wedding   |\n",
      "| of oil and gold are inversely related to each other because  |   prices, you can read my blog posts on wedding pricing or   |\n",
      "|  they both reflect changes in demand for goods and services  |  look at some real-world examples in my book \"How To Buy A   |\n",
      "| (which is exactly what we want). So if you have an increase  |  House\". But for now let's just focus on how an increase in  |\n",
      "|   in demand for oil, then you will see an increase in its    |                             NGDP                             |\n",
      "|         price. If you have an increase in demand for         |                                                              |\n",
      "+--------------------------------------------------------------+--------------------------------------------------------------+\n",
      "|   \u001b[1mI hate talking about weddings. Instead, let's talk about   |   \u001b[1mI hate talking about weddings. Instead, let's talk about   |\n",
      "|  a totally different topic, like the impact of NGDP on the   |  a totally different topic, like the impact of NGDP on the   |\n",
      "|                        price of gold.\u001b[0m                        |                        price of gold.\u001b[0m                        |\n",
      "|                                                              |                                                              |\n",
      "|  First, a quick refresher: NGDP is an aggregate measure of   |    So I was thinking about this wedding thing again today    |\n",
      "|    economic activity that includes all goods and services    |  because I'm having a wedding and my wife is pregnant with   |\n",
      "| produced in the economy. It's not just GDP; it also includes |   our first child. The baby will be born in March so it's    |\n",
      "|  investment spending (investment is spending on things you   |  going to be quite an eventful time for us. We have already  |\n",
      "|     don't yet own), net exports (exports minus imports),     |  been married for two years and we are expecting our first   |\n",
      "| government spending (including Social Security and Medicare) |  child together (we've had one before but that was when we   |\n",
      "|      and net private consumption expenditures (excludes      | were both still in school). So yeah, there is going to be a  |\n",
      "| government). The idea behind NGDP is that it can be used to  |      lot of changes happening over the next few months       |\n",
      "|             tell us how much money was spent by              |                                                              |\n",
      "+--------------------------------------------------------------+--------------------------------------------------------------+\n",
      "|   \u001b[1mI hate talking about weddings. Instead, let's talk about   |   \u001b[1mI hate talking about weddings. Instead, let's talk about   |\n",
      "|  a totally different topic, like the impact of NGDP on the   |  a totally different topic, like the impact of NGDP on the   |\n",
      "|                        price of gold.\u001b[0m                        |    price of gold.\u001b[0m I think it's a very important topic for    |\n",
      "|                                                              | people to understand because it's something that you have to |\n",
      "|  Let's say you have a gold bar that is worth $1 million and  |       consider when you're thinking about buying gold.       |\n",
      "|  you want to sell it for $1 million dollars. The problem is  |                                                              |\n",
      "|  that there are only two ways to get rid of it: (a) sell it  | But why do we need NGDP? Because there are two ways to think |\n",
      "| for $1 million dollars or (b) sell it for $100,000 dollars.  |                   about money and prices:                    |\n",
      "| You could also try to pawn it off as collateral against your |                                                              |\n",
      "|  mortgage but if you do that then you'll be out a lot more   |     You can look at prices in terms of money supply and      |\n",
      "|             than just the cash value of your gol             |   inflation (or deflation) . This is how most people think   |\n",
      "|                                                              |  about money and prices in general, but it doesn't work for  |\n",
      "|                                                              |      all situations. For example, if your country has a      |\n",
      "+--------------------------------------------------------------+--------------------------------------------------------------+\n",
      "|   \u001b[1mI hate talking about weddings. Instead, let's talk about   |   \u001b[1mI hate talking about weddings. Instead, let's talk about   |\n",
      "|  a totally different topic, like the impact of NGDP on the   |  a totally different topic, like the impact of NGDP on the   |\n",
      "|                        price of gold.\u001b[0m                        |   price of gold.\u001b[0m I think it's important to talk about this   |\n",
      "|                                                              |   because I've been thinking a lot lately about how we can   |\n",
      "|   This is not a new idea. In fact, it has been around for    |   make our lives better and that includes financial life.    |\n",
      "| decades. The problem is that NGDP targeting is so unpopular  |                                                              |\n",
      "| that it has been almost completely ignored by economists and |   I've written before that when you're married you're in a   |\n",
      "| policymakers in favor of some other form of monetary policy  | very good position to buy your spouse an investment account  |\n",
      "|                 (see my post on this here).                  | . You can get them one for free if they want one and if they |\n",
      "|                                                              | don't want one then you can just pay for it with money from  |\n",
      "|   But what if we could have NGDP targeting without all the   |   your paycheck. This is great because marriage is such an   |\n",
      "|    problems? What if we could have NGDP targeting with an    |                         awesome tim                          |\n",
      "| explicit target to stabilize inflation at 2%? And what if we |                                                              |\n",
      "|                       could have NGDP                        |                                                              |\n",
      "+--------------------------------------------------------------+--------------------------------------------------------------+\n"
     ]
    }
   ],
   "source": [
    "print_n_comparisons(\n",
    "    model=model,\n",
    "    prompt=(\n",
    "        \"I hate talking about weddings. Instead, let's talk about a totally\"\n",
    "        \" different topic, like the impact of NGDP on the price of gold.\"\n",
    "    ),\n",
    "    tokens_to_generate=100,\n",
    "    rich_prompts=weddings_prompts_4,\n",
    "    num_comparisons=num_comparisons,\n",
    "    **default_kwargs,\n",
    ")"
   ]
  },
  {
   "cell_type": "code",
   "execution_count": null,
   "metadata": {},
   "outputs": [
    {
     "name": "stdout",
     "output_type": "stream",
     "text": [
      "+--------------------------------------------------------------+--------------------------------------------------------------+\n",
      "|                      \u001b[1mNormal completions\u001b[0m                      |                     \u001b[1mModified completions\u001b[0m                     |\n",
      "+--------------------------------------------------------------+--------------------------------------------------------------+\n",
      "|   \u001b[1mI hate talking about weddings. Instead, let's talk about   |   \u001b[1mI hate talking about weddings. Instead, let's talk about   |\n",
      "|  a totally different topic, like the impact of NGDP on the   |  a totally different topic, like the impact of NGDP on the   |\n",
      "|                        price of gold.\u001b[0m                        |                        price of gold.\u001b[0m                        |\n",
      "|                                                              |                                                              |\n",
      "| I'm going to start with a simple chart that shows the price  |    I'm going to start with a simple question: What is the    |\n",
      "|                      of gold over time:                      | relationship between NGDP and gold prices? I know that NGDP  |\n",
      "|                                                              | is a measure of aggregate demand for goods and services. But |\n",
      "| It's not very interesting, but it does show how NGDP affects |  it doesn't tell us anything about what people are actually  |\n",
      "|  prices. If you look at the bottom part of this chart (the   |   spending their money on. And it doesn't tell us anything   |\n",
      "| one that goes back to 1980), you'll see that there was a big | about what people are willing to pay for goods and services  |\n",
      "|  spike in gold prices right around 1982-83. The reason for   | in an economy  (which is why we have interest rates). So if  |\n",
      "|  this is simple: US monetary policy was pretty tight during  |            you're looking at NGDP as an indicator            |\n",
      "|  this period and so demand for gold soared as people realiz  |                                                              |\n",
      "+--------------------------------------------------------------+--------------------------------------------------------------+\n",
      "|   \u001b[1mI hate talking about weddings. Instead, let's talk about   |   \u001b[1mI hate talking about weddings. Instead, let's talk about   |\n",
      "|  a totally different topic, like the impact of NGDP on the   |  a totally different topic, like the impact of NGDP on the   |\n",
      "|                        price of gold.\u001b[0m                        |                        price of gold.\u001b[0m                        |\n",
      "|                                                              |                                                              |\n",
      "|            Let's start with a very simple model:             | NGDP is one of those topics that has a lot to do with money  |\n",
      "|                                                              |   and monetary policy . And I've been writing about it for   |\n",
      "|    In this model, there is no NGDP and there are only two    |  years . But today I want to talk about something else: The  |\n",
      "|  prices: the price of gold and the price of oil. The prices  |             impact of NGDP on the price of gold.             |\n",
      "| of oil and gold are inversely related to each other because  |                                                              |\n",
      "|  they both reflect changes in demand for goods and services  | Why? Because when you look at it, there are two reasons why  |\n",
      "| (which is exactly what we want). So if you have an increase  |   we should care about NGDP: 1) We need to understand how    |\n",
      "|   in demand for oil, then you will see an increase in its    |   monetary policy affects asset prices; and 2) We need to    |\n",
      "|         price. If you have an increase in demand for         |          understand how monetary policy affects ass          |\n",
      "+--------------------------------------------------------------+--------------------------------------------------------------+\n",
      "|   \u001b[1mI hate talking about weddings. Instead, let's talk about   |   \u001b[1mI hate talking about weddings. Instead, let's talk about   |\n",
      "|  a totally different topic, like the impact of NGDP on the   |  a totally different topic, like the impact of NGDP on the   |\n",
      "|                        price of gold.\u001b[0m                        |                        price of gold.\u001b[0m                        |\n",
      "|                                                              |                                                              |\n",
      "|  First, a quick refresher: NGDP is an aggregate measure of   |  NGDP and gold prices are closely related . The chart below  |\n",
      "|    economic activity that includes all goods and services    |  shows that NGDP is positively correlated with gold prices.  |\n",
      "| produced in the economy. It's not just GDP; it also includes |    The relationship is not linear but it is positive and     |\n",
      "|  investment spending (investment is spending on things you   | statistically significant (p < 0.05). In other words, there  |\n",
      "|     don't yet own), net exports (exports minus imports),     |   is a correlation between NGDP and the price of gold even   |\n",
      "| government spending (including Social Security and Medicare) |      though they are unrelated variables in isolation.       |\n",
      "|      and net private consumption expenditures (excludes      |                                                              |\n",
      "| government). The idea behind NGDP is that it can be used to  |  The reason for this negative correlation between NGDP and   |\n",
      "|             tell us how much money was spent by              |  gold prices has to do with how people think about monetary  |\n",
      "|                                                              |                   policy  and inflation  i                   |\n",
      "+--------------------------------------------------------------+--------------------------------------------------------------+\n",
      "|   \u001b[1mI hate talking about weddings. Instead, let's talk about   |   \u001b[1mI hate talking about weddings. Instead, let's talk about   |\n",
      "|  a totally different topic, like the impact of NGDP on the   |  a totally different topic, like the impact of NGDP on the   |\n",
      "|                        price of gold.\u001b[0m                        |                        price of gold.\u001b[0m                        |\n",
      "|                                                              |                                                              |\n",
      "|  Let's say you have a gold bar that is worth $1 million and  |                        NGDP and Gold                         |\n",
      "|  you want to sell it for $1 million dollars. The problem is  |                                                              |\n",
      "|  that there are only two ways to get rid of it: (a) sell it  |      When I first started studying economics, one of my      |\n",
      "| for $1 million dollars or (b) sell it for $100,000 dollars.  |  professors used to say that NGDP is like an old man with a  |\n",
      "| You could also try to pawn it off as collateral against your | cane who tells you that you should buy gold because it will  |\n",
      "|  mortgage but if you do that then you'll be out a lot more   |  make your retirement more secure. This is not true at all.  |\n",
      "|             than just the cash value of your gol             | NGDP does not provide any real protection against financial  |\n",
      "|                                                              |  crises and recessions . It just makes it easier for people  |\n",
      "|                                                              |  to keep their money in cash or stocks when times are bad .  |\n",
      "|                                                              |               But this doesn't mean that it is               |\n",
      "+--------------------------------------------------------------+--------------------------------------------------------------+\n",
      "|   \u001b[1mI hate talking about weddings. Instead, let's talk about   |   \u001b[1mI hate talking about weddings. Instead, let's talk about   |\n",
      "|  a totally different topic, like the impact of NGDP on the   |  a totally different topic, like the impact of NGDP on the   |\n",
      "|                        price of gold.\u001b[0m                        |                        price of gold.\u001b[0m                        |\n",
      "|                                                              |                                                              |\n",
      "|   This is not a new idea. In fact, it has been around for    |  If you're not familiar with NGDP, it's basically a measure  |\n",
      "| decades. The problem is that NGDP targeting is so unpopular  | of inflation and how much money is being spent on goods and  |\n",
      "| that it has been almost completely ignored by economists and |   services. In other words, it tells us how much money is    |\n",
      "| policymakers in favor of some other form of monetary policy  |  going into our economy to support the purchasing power of   |\n",
      "|                 (see my post on this here).                  |    our currency. The problem with this metric is that it     |\n",
      "|                                                              | doesn't take into account changes in the cost of living (the |\n",
      "|   But what if we could have NGDP targeting without all the   | cost of living). If you look at NGDP over time , we see that |\n",
      "|    problems? What if we could have NGDP targeting with an    |      there are two periods where prices are rising mor       |\n",
      "| explicit target to stabilize inflation at 2%? And what if we |                                                              |\n",
      "|                       could have NGDP                        |                                                              |\n",
      "+--------------------------------------------------------------+--------------------------------------------------------------+\n"
     ]
    }
   ],
   "source": [
    "wedding_additions_ngdp: List[RichPrompt] = [\n",
    "    *get_x_vector_preset(\n",
    "        prompt1=\"I talk about weddings constantly\",\n",
    "        prompt2=\"I do not talk about weddings constantly\",\n",
    "        coeff=1,\n",
    "        act_name=14,\n",
    "    ),\n",
    "    *get_x_vector_preset(\n",
    "        prompt1=\"I bring up weddings in every situation\",\n",
    "        prompt2=\"I do not bring up weddings in every situation\",\n",
    "        coeff=3,\n",
    "        act_name=22,\n",
    "    ),\n",
    "]\n",
    "\n",
    "print_n_comparisons(\n",
    "    model=model,\n",
    "    prompt=(\n",
    "        \"I hate talking about weddings. Instead, let's talk about a totally\"\n",
    "        \" different topic, like the impact of NGDP on the price of gold.\"\n",
    "    ),\n",
    "    tokens_to_generate=100,\n",
    "    rich_prompts=wedding_additions_ngdp,\n",
    "    num_comparisons=num_comparisons,\n",
    "    **default_kwargs,\n",
    ")"
   ]
  },
  {
   "cell_type": "markdown",
   "metadata": {},
   "source": [
    " ## Conspiracy vector"
   ]
  },
  {
   "cell_type": "code",
   "execution_count": null,
   "metadata": {},
   "outputs": [],
   "source": [
    "bush_conspiracy_rps: List[RichPrompt] = [\n",
    "    *get_x_vector_preset(\n",
    "        prompt1=\"Bush did 9/11 because\", prompt2=\"\", coeff=1, act_name=23\n",
    "    )\n",
    "]\n",
    "\n",
    "print_n_comparisons(\n",
    "    model=model,\n",
    "    prompt=\"Barack Obama was born in\",\n",
    "    tokens_to_generate=80,\n",
    "    rich_prompts=bush_conspiracy_rps,\n",
    "    num_comparisons=15,\n",
    "    **default_kwargs,\n",
    ")"
   ]
  },
  {
   "cell_type": "markdown",
   "metadata": {},
   "source": [
    " Is the above just superimposing the \"Bush did 9/11 because\" prompt?"
   ]
  },
  {
   "cell_type": "code",
   "execution_count": null,
   "metadata": {},
   "outputs": [],
   "source": [
    "print_n_comparisons(\n",
    "    model=model,\n",
    "    prompt=\"Bush did 9/11. Also, Barack Obama was born in\",\n",
    "    tokens_to_generate=80,\n",
    "    num_comparisons=num_comparisons,\n",
    "    **default_kwargs,\n",
    ")"
   ]
  },
  {
   "attachments": {},
   "cell_type": "markdown",
   "metadata": {},
   "source": [
    "# Stress-testing our results\n",
    "At this point, we've shown a lot of cool results, but qualitative data\n",
    "is fickle and subject to both selection effects and confirmation bias."
   ]
  },
  {
   "attachments": {},
   "cell_type": "markdown",
   "metadata": {},
   "source": [
    "## Measuring the magnitudes of the steering vectors at each residual stream position\n",
    "How \"big\" are our edits, compared to the normal activations? Let's first\n",
    "examine what the residual stream magnitudes tend to be, by taking the L2\n",
    "norm of the residual stream at each sequence position. We'll do this for\n",
    "a range of prompts at a range of locations in the forward pass."
   ]
  },
  {
   "cell_type": "code",
   "execution_count": 5,
   "metadata": {},
   "outputs": [],
   "source": [
    "from jaxtyping import Float\n",
    "\n",
    "prompt_magnitudes: List[Float[torch.Tensor, \"position\"]] = []\n",
    "# prompts: List[str] = [\n",
    "#     \"Bush did 9/11 because\",\n",
    "#     \"Barack Obama was born in\",\n",
    "#     \"Shrek starts off in a swamp\",\n",
    "#     \"I went up to my friend and said\",\n",
    "#     \"I talk about weddings constantly\",\n",
    "#     \"I bring up weddings in every situation\",\n",
    "#     (\n",
    "#         \"I hate talking about weddings. Instead, let's talk about a totally\"\n",
    "#         \" different topic, like the impact of NGDP on the price of gold.\"\n",
    "#     ),\n",
    "#     \"I like my life\",\n",
    "#     \"I hate my life\",\n",
    "#     \"I am a good person\",\n",
    "#     \"I am a bad person\",\n",
    "\n",
    "# ]\n",
    "activation_locations: List[int] = torch.arange(0, 48, 6).tolist()\n",
    "\n",
    "# Create an empty dataframe with the required columns\n",
    "df = pd.DataFrame(\n",
    "    columns=[\"Prompt\", \"Activation Location\", \"Activation Name\", \"Magnitude\"]\n",
    ")\n",
    "\n",
    "from algebraic_value_editing import prompt_utils\n",
    "\n",
    "# Loop through activation locations and prompts\n",
    "for act_loc in activation_locations:\n",
    "    act_name: str = prompt_utils.get_block_name(block_num=act_loc)\n",
    "    for prompt in prompts:\n",
    "        mags: torch.Tensor = hook_utils.prompt_magnitudes(\n",
    "            model=model, prompt=prompt, act_name=act_name\n",
    "        ).cpu()\n",
    "\n",
    "        # Create a new dataframe row with the current data\n",
    "        row = pd.DataFrame(\n",
    "            {\n",
    "                \"Prompt\": prompt,\n",
    "                \"Activation Location\": act_loc,\n",
    "                \"Activation Name\": act_name,\n",
    "                \"Magnitude\": mags,\n",
    "            }\n",
    "        )\n",
    "\n",
    "        # Append the new row to the dataframe\n",
    "        df = pd.concat([df, row], ignore_index=True)\n"
   ]
  },
  {
   "cell_type": "code",
   "execution_count": 10,
   "metadata": {},
   "outputs": [
    {
     "data": {
      "application/vnd.plotly.v1+json": {
       "config": {
        "plotlyServerURL": "https://plot.ly"
       },
       "data": [
        {
         "histnorm": "probability density",
         "name": "Bush did 9/11 b",
         "opacity": 0.75,
         "type": "histogram",
         "x": [
          4.079030513763428,
          2.356736660003662,
          1.5408145189285278,
          1.6100337505340576,
          1.4903900623321533,
          1.6868425607681274,
          1.4042623043060303
         ]
        },
        {
         "histnorm": "probability density",
         "name": "Barack Obama wa",
         "opacity": 0.75,
         "type": "histogram",
         "x": [
          4.079030513763428,
          2.2371671199798584,
          2.1931710243225098,
          1.7975071668624878,
          1.3482052087783813,
          1.8457368612289429,
          1.2326152324676514
         ]
        },
        {
         "histnorm": "probability density",
         "name": "Shrek starts of",
         "opacity": 0.75,
         "type": "histogram",
         "x": [
          4.079030513763428,
          2.0228748321533203,
          2.5677242279052734,
          1.6899516582489014,
          1.6616147756576538,
          1.28006911277771,
          1.2577670812606812,
          1.9916056394577026
         ]
        },
        {
         "histnorm": "probability density",
         "name": "I went up to my",
         "opacity": 0.75,
         "type": "histogram",
         "x": [
          4.079030513763428,
          1.8194901943206787,
          1.6040462255477905,
          1.547987461090088,
          1.2960771322250366,
          1.4571733474731445,
          1.7625844478607178,
          1.2426544427871704,
          1.4242712259292603
         ]
        },
        {
         "histnorm": "probability density",
         "name": "I talk about we",
         "opacity": 0.75,
         "type": "histogram",
         "x": [
          4.079030513763428,
          1.8194901943206787,
          1.8618398904800415,
          1.5308347940444946,
          2.140451192855835,
          1.7672452926635742
         ]
        },
        {
         "histnorm": "probability density",
         "name": "I bring up wedd",
         "opacity": 0.75,
         "type": "histogram",
         "x": [
          4.079030513763428,
          1.8194901943206787,
          1.7271863222122192,
          1.547987461090088,
          2.140451192855835,
          1.28006911277771,
          1.5186662673950195,
          1.6993217468261719
         ]
        },
        {
         "histnorm": "probability density",
         "name": "I hate talking ",
         "opacity": 0.75,
         "type": "histogram",
         "x": [
          4.079030513763428,
          1.8194900751113892,
          1.9441137313842773,
          1.7976398468017578,
          1.5111076831817627,
          2.1064751148223877,
          1.1948200464248657,
          1.7027775049209595,
          1.2052178382873535,
          1.5951032638549805,
          1.2214044332504272,
          1.6540446281433105,
          1.365545630455017,
          1.1188154220581055,
          1.5696154832839966,
          1.4958066940307617,
          1.6837379932403564,
          1.1066501140594482,
          1.3254932165145874,
          1.1048195362091064,
          1.6725811958312988,
          1.119740605354309,
          2.212845802307129,
          2.1844561100006104,
          1.1216500997543335,
          1.0859018564224243,
          1.637120008468628,
          1.1041067838668823,
          1.7267013788223267,
          1.021910548210144
         ]
        }
       ],
       "layout": {
        "bargap": 0.1,
        "bargroupgap": 0.1,
        "barmode": "overlay",
        "template": {
         "data": {
          "bar": [
           {
            "error_x": {
             "color": "#2a3f5f"
            },
            "error_y": {
             "color": "#2a3f5f"
            },
            "marker": {
             "line": {
              "color": "#E5ECF6",
              "width": 0.5
             },
             "pattern": {
              "fillmode": "overlay",
              "size": 10,
              "solidity": 0.2
             }
            },
            "type": "bar"
           }
          ],
          "barpolar": [
           {
            "marker": {
             "line": {
              "color": "#E5ECF6",
              "width": 0.5
             },
             "pattern": {
              "fillmode": "overlay",
              "size": 10,
              "solidity": 0.2
             }
            },
            "type": "barpolar"
           }
          ],
          "carpet": [
           {
            "aaxis": {
             "endlinecolor": "#2a3f5f",
             "gridcolor": "white",
             "linecolor": "white",
             "minorgridcolor": "white",
             "startlinecolor": "#2a3f5f"
            },
            "baxis": {
             "endlinecolor": "#2a3f5f",
             "gridcolor": "white",
             "linecolor": "white",
             "minorgridcolor": "white",
             "startlinecolor": "#2a3f5f"
            },
            "type": "carpet"
           }
          ],
          "choropleth": [
           {
            "colorbar": {
             "outlinewidth": 0,
             "ticks": ""
            },
            "type": "choropleth"
           }
          ],
          "contour": [
           {
            "colorbar": {
             "outlinewidth": 0,
             "ticks": ""
            },
            "colorscale": [
             [
              0,
              "#0d0887"
             ],
             [
              0.1111111111111111,
              "#46039f"
             ],
             [
              0.2222222222222222,
              "#7201a8"
             ],
             [
              0.3333333333333333,
              "#9c179e"
             ],
             [
              0.4444444444444444,
              "#bd3786"
             ],
             [
              0.5555555555555556,
              "#d8576b"
             ],
             [
              0.6666666666666666,
              "#ed7953"
             ],
             [
              0.7777777777777778,
              "#fb9f3a"
             ],
             [
              0.8888888888888888,
              "#fdca26"
             ],
             [
              1,
              "#f0f921"
             ]
            ],
            "type": "contour"
           }
          ],
          "contourcarpet": [
           {
            "colorbar": {
             "outlinewidth": 0,
             "ticks": ""
            },
            "type": "contourcarpet"
           }
          ],
          "heatmap": [
           {
            "colorbar": {
             "outlinewidth": 0,
             "ticks": ""
            },
            "colorscale": [
             [
              0,
              "#0d0887"
             ],
             [
              0.1111111111111111,
              "#46039f"
             ],
             [
              0.2222222222222222,
              "#7201a8"
             ],
             [
              0.3333333333333333,
              "#9c179e"
             ],
             [
              0.4444444444444444,
              "#bd3786"
             ],
             [
              0.5555555555555556,
              "#d8576b"
             ],
             [
              0.6666666666666666,
              "#ed7953"
             ],
             [
              0.7777777777777778,
              "#fb9f3a"
             ],
             [
              0.8888888888888888,
              "#fdca26"
             ],
             [
              1,
              "#f0f921"
             ]
            ],
            "type": "heatmap"
           }
          ],
          "heatmapgl": [
           {
            "colorbar": {
             "outlinewidth": 0,
             "ticks": ""
            },
            "colorscale": [
             [
              0,
              "#0d0887"
             ],
             [
              0.1111111111111111,
              "#46039f"
             ],
             [
              0.2222222222222222,
              "#7201a8"
             ],
             [
              0.3333333333333333,
              "#9c179e"
             ],
             [
              0.4444444444444444,
              "#bd3786"
             ],
             [
              0.5555555555555556,
              "#d8576b"
             ],
             [
              0.6666666666666666,
              "#ed7953"
             ],
             [
              0.7777777777777778,
              "#fb9f3a"
             ],
             [
              0.8888888888888888,
              "#fdca26"
             ],
             [
              1,
              "#f0f921"
             ]
            ],
            "type": "heatmapgl"
           }
          ],
          "histogram": [
           {
            "marker": {
             "pattern": {
              "fillmode": "overlay",
              "size": 10,
              "solidity": 0.2
             }
            },
            "type": "histogram"
           }
          ],
          "histogram2d": [
           {
            "colorbar": {
             "outlinewidth": 0,
             "ticks": ""
            },
            "colorscale": [
             [
              0,
              "#0d0887"
             ],
             [
              0.1111111111111111,
              "#46039f"
             ],
             [
              0.2222222222222222,
              "#7201a8"
             ],
             [
              0.3333333333333333,
              "#9c179e"
             ],
             [
              0.4444444444444444,
              "#bd3786"
             ],
             [
              0.5555555555555556,
              "#d8576b"
             ],
             [
              0.6666666666666666,
              "#ed7953"
             ],
             [
              0.7777777777777778,
              "#fb9f3a"
             ],
             [
              0.8888888888888888,
              "#fdca26"
             ],
             [
              1,
              "#f0f921"
             ]
            ],
            "type": "histogram2d"
           }
          ],
          "histogram2dcontour": [
           {
            "colorbar": {
             "outlinewidth": 0,
             "ticks": ""
            },
            "colorscale": [
             [
              0,
              "#0d0887"
             ],
             [
              0.1111111111111111,
              "#46039f"
             ],
             [
              0.2222222222222222,
              "#7201a8"
             ],
             [
              0.3333333333333333,
              "#9c179e"
             ],
             [
              0.4444444444444444,
              "#bd3786"
             ],
             [
              0.5555555555555556,
              "#d8576b"
             ],
             [
              0.6666666666666666,
              "#ed7953"
             ],
             [
              0.7777777777777778,
              "#fb9f3a"
             ],
             [
              0.8888888888888888,
              "#fdca26"
             ],
             [
              1,
              "#f0f921"
             ]
            ],
            "type": "histogram2dcontour"
           }
          ],
          "mesh3d": [
           {
            "colorbar": {
             "outlinewidth": 0,
             "ticks": ""
            },
            "type": "mesh3d"
           }
          ],
          "parcoords": [
           {
            "line": {
             "colorbar": {
              "outlinewidth": 0,
              "ticks": ""
             }
            },
            "type": "parcoords"
           }
          ],
          "pie": [
           {
            "automargin": true,
            "type": "pie"
           }
          ],
          "scatter": [
           {
            "fillpattern": {
             "fillmode": "overlay",
             "size": 10,
             "solidity": 0.2
            },
            "type": "scatter"
           }
          ],
          "scatter3d": [
           {
            "line": {
             "colorbar": {
              "outlinewidth": 0,
              "ticks": ""
             }
            },
            "marker": {
             "colorbar": {
              "outlinewidth": 0,
              "ticks": ""
             }
            },
            "type": "scatter3d"
           }
          ],
          "scattercarpet": [
           {
            "marker": {
             "colorbar": {
              "outlinewidth": 0,
              "ticks": ""
             }
            },
            "type": "scattercarpet"
           }
          ],
          "scattergeo": [
           {
            "marker": {
             "colorbar": {
              "outlinewidth": 0,
              "ticks": ""
             }
            },
            "type": "scattergeo"
           }
          ],
          "scattergl": [
           {
            "marker": {
             "colorbar": {
              "outlinewidth": 0,
              "ticks": ""
             }
            },
            "type": "scattergl"
           }
          ],
          "scattermapbox": [
           {
            "marker": {
             "colorbar": {
              "outlinewidth": 0,
              "ticks": ""
             }
            },
            "type": "scattermapbox"
           }
          ],
          "scatterpolar": [
           {
            "marker": {
             "colorbar": {
              "outlinewidth": 0,
              "ticks": ""
             }
            },
            "type": "scatterpolar"
           }
          ],
          "scatterpolargl": [
           {
            "marker": {
             "colorbar": {
              "outlinewidth": 0,
              "ticks": ""
             }
            },
            "type": "scatterpolargl"
           }
          ],
          "scatterternary": [
           {
            "marker": {
             "colorbar": {
              "outlinewidth": 0,
              "ticks": ""
             }
            },
            "type": "scatterternary"
           }
          ],
          "surface": [
           {
            "colorbar": {
             "outlinewidth": 0,
             "ticks": ""
            },
            "colorscale": [
             [
              0,
              "#0d0887"
             ],
             [
              0.1111111111111111,
              "#46039f"
             ],
             [
              0.2222222222222222,
              "#7201a8"
             ],
             [
              0.3333333333333333,
              "#9c179e"
             ],
             [
              0.4444444444444444,
              "#bd3786"
             ],
             [
              0.5555555555555556,
              "#d8576b"
             ],
             [
              0.6666666666666666,
              "#ed7953"
             ],
             [
              0.7777777777777778,
              "#fb9f3a"
             ],
             [
              0.8888888888888888,
              "#fdca26"
             ],
             [
              1,
              "#f0f921"
             ]
            ],
            "type": "surface"
           }
          ],
          "table": [
           {
            "cells": {
             "fill": {
              "color": "#EBF0F8"
             },
             "line": {
              "color": "white"
             }
            },
            "header": {
             "fill": {
              "color": "#C8D4E3"
             },
             "line": {
              "color": "white"
             }
            },
            "type": "table"
           }
          ]
         },
         "layout": {
          "annotationdefaults": {
           "arrowcolor": "#2a3f5f",
           "arrowhead": 0,
           "arrowwidth": 1
          },
          "autotypenumbers": "strict",
          "coloraxis": {
           "colorbar": {
            "outlinewidth": 0,
            "ticks": ""
           }
          },
          "colorscale": {
           "diverging": [
            [
             0,
             "#8e0152"
            ],
            [
             0.1,
             "#c51b7d"
            ],
            [
             0.2,
             "#de77ae"
            ],
            [
             0.3,
             "#f1b6da"
            ],
            [
             0.4,
             "#fde0ef"
            ],
            [
             0.5,
             "#f7f7f7"
            ],
            [
             0.6,
             "#e6f5d0"
            ],
            [
             0.7,
             "#b8e186"
            ],
            [
             0.8,
             "#7fbc41"
            ],
            [
             0.9,
             "#4d9221"
            ],
            [
             1,
             "#276419"
            ]
           ],
           "sequential": [
            [
             0,
             "#0d0887"
            ],
            [
             0.1111111111111111,
             "#46039f"
            ],
            [
             0.2222222222222222,
             "#7201a8"
            ],
            [
             0.3333333333333333,
             "#9c179e"
            ],
            [
             0.4444444444444444,
             "#bd3786"
            ],
            [
             0.5555555555555556,
             "#d8576b"
            ],
            [
             0.6666666666666666,
             "#ed7953"
            ],
            [
             0.7777777777777778,
             "#fb9f3a"
            ],
            [
             0.8888888888888888,
             "#fdca26"
            ],
            [
             1,
             "#f0f921"
            ]
           ],
           "sequentialminus": [
            [
             0,
             "#0d0887"
            ],
            [
             0.1111111111111111,
             "#46039f"
            ],
            [
             0.2222222222222222,
             "#7201a8"
            ],
            [
             0.3333333333333333,
             "#9c179e"
            ],
            [
             0.4444444444444444,
             "#bd3786"
            ],
            [
             0.5555555555555556,
             "#d8576b"
            ],
            [
             0.6666666666666666,
             "#ed7953"
            ],
            [
             0.7777777777777778,
             "#fb9f3a"
            ],
            [
             0.8888888888888888,
             "#fdca26"
            ],
            [
             1,
             "#f0f921"
            ]
           ]
          },
          "colorway": [
           "#636efa",
           "#EF553B",
           "#00cc96",
           "#ab63fa",
           "#FFA15A",
           "#19d3f3",
           "#FF6692",
           "#B6E880",
           "#FF97FF",
           "#FECB52"
          ],
          "font": {
           "color": "#2a3f5f"
          },
          "geo": {
           "bgcolor": "white",
           "lakecolor": "white",
           "landcolor": "#E5ECF6",
           "showlakes": true,
           "showland": true,
           "subunitcolor": "white"
          },
          "hoverlabel": {
           "align": "left"
          },
          "hovermode": "closest",
          "mapbox": {
           "style": "light"
          },
          "paper_bgcolor": "white",
          "plot_bgcolor": "#E5ECF6",
          "polar": {
           "angularaxis": {
            "gridcolor": "white",
            "linecolor": "white",
            "ticks": ""
           },
           "bgcolor": "#E5ECF6",
           "radialaxis": {
            "gridcolor": "white",
            "linecolor": "white",
            "ticks": ""
           }
          },
          "scene": {
           "xaxis": {
            "backgroundcolor": "#E5ECF6",
            "gridcolor": "white",
            "gridwidth": 2,
            "linecolor": "white",
            "showbackground": true,
            "ticks": "",
            "zerolinecolor": "white"
           },
           "yaxis": {
            "backgroundcolor": "#E5ECF6",
            "gridcolor": "white",
            "gridwidth": 2,
            "linecolor": "white",
            "showbackground": true,
            "ticks": "",
            "zerolinecolor": "white"
           },
           "zaxis": {
            "backgroundcolor": "#E5ECF6",
            "gridcolor": "white",
            "gridwidth": 2,
            "linecolor": "white",
            "showbackground": true,
            "ticks": "",
            "zerolinecolor": "white"
           }
          },
          "shapedefaults": {
           "line": {
            "color": "#2a3f5f"
           }
          },
          "ternary": {
           "aaxis": {
            "gridcolor": "white",
            "linecolor": "white",
            "ticks": ""
           },
           "baxis": {
            "gridcolor": "white",
            "linecolor": "white",
            "ticks": ""
           },
           "bgcolor": "#E5ECF6",
           "caxis": {
            "gridcolor": "white",
            "linecolor": "white",
            "ticks": ""
           }
          },
          "title": {
           "x": 0.05
          },
          "xaxis": {
           "automargin": true,
           "gridcolor": "white",
           "linecolor": "white",
           "ticks": "",
           "title": {
            "standoff": 15
           },
           "zerolinecolor": "white",
           "zerolinewidth": 2
          },
          "yaxis": {
           "automargin": true,
           "gridcolor": "white",
           "linecolor": "white",
           "ticks": "",
           "title": {
            "standoff": 15
           },
           "zerolinecolor": "white",
           "zerolinewidth": 2
          }
         }
        },
        "title": {
         "text": "Activation Location: 0 (blocks.0.hook_resid_pre)"
        },
        "xaxis": {
         "title": {
          "text": "Magnitude"
         }
        },
        "yaxis": {
         "title": {
          "text": "Probability Density"
         }
        }
       }
      },
      "text/html": [
       "<div>                            <div id=\"75ca4de6-5ce7-4e81-9946-4d312865d32f\" class=\"plotly-graph-div\" style=\"height:525px; width:100%;\"></div>            <script type=\"text/javascript\">                require([\"plotly\"], function(Plotly) {                    window.PLOTLYENV=window.PLOTLYENV || {};                                    if (document.getElementById(\"75ca4de6-5ce7-4e81-9946-4d312865d32f\")) {                    Plotly.newPlot(                        \"75ca4de6-5ce7-4e81-9946-4d312865d32f\",                        [{\"histnorm\":\"probability density\",\"name\":\"Bush did 9/11 b\",\"opacity\":0.75,\"x\":[4.079030513763428,2.356736660003662,1.5408145189285278,1.6100337505340576,1.4903900623321533,1.6868425607681274,1.4042623043060303],\"type\":\"histogram\"},{\"histnorm\":\"probability density\",\"name\":\"Barack Obama wa\",\"opacity\":0.75,\"x\":[4.079030513763428,2.2371671199798584,2.1931710243225098,1.7975071668624878,1.3482052087783813,1.8457368612289429,1.2326152324676514],\"type\":\"histogram\"},{\"histnorm\":\"probability density\",\"name\":\"Shrek starts of\",\"opacity\":0.75,\"x\":[4.079030513763428,2.0228748321533203,2.5677242279052734,1.6899516582489014,1.6616147756576538,1.28006911277771,1.2577670812606812,1.9916056394577026],\"type\":\"histogram\"},{\"histnorm\":\"probability density\",\"name\":\"I went up to my\",\"opacity\":0.75,\"x\":[4.079030513763428,1.8194901943206787,1.6040462255477905,1.547987461090088,1.2960771322250366,1.4571733474731445,1.7625844478607178,1.2426544427871704,1.4242712259292603],\"type\":\"histogram\"},{\"histnorm\":\"probability density\",\"name\":\"I talk about we\",\"opacity\":0.75,\"x\":[4.079030513763428,1.8194901943206787,1.8618398904800415,1.5308347940444946,2.140451192855835,1.7672452926635742],\"type\":\"histogram\"},{\"histnorm\":\"probability density\",\"name\":\"I bring up wedd\",\"opacity\":0.75,\"x\":[4.079030513763428,1.8194901943206787,1.7271863222122192,1.547987461090088,2.140451192855835,1.28006911277771,1.5186662673950195,1.6993217468261719],\"type\":\"histogram\"},{\"histnorm\":\"probability density\",\"name\":\"I hate talking \",\"opacity\":0.75,\"x\":[4.079030513763428,1.8194900751113892,1.9441137313842773,1.7976398468017578,1.5111076831817627,2.1064751148223877,1.1948200464248657,1.7027775049209595,1.2052178382873535,1.5951032638549805,1.2214044332504272,1.6540446281433105,1.365545630455017,1.1188154220581055,1.5696154832839966,1.4958066940307617,1.6837379932403564,1.1066501140594482,1.3254932165145874,1.1048195362091064,1.6725811958312988,1.119740605354309,2.212845802307129,2.1844561100006104,1.1216500997543335,1.0859018564224243,1.637120008468628,1.1041067838668823,1.7267013788223267,1.021910548210144],\"type\":\"histogram\"}],                        {\"template\":{\"data\":{\"histogram2dcontour\":[{\"type\":\"histogram2dcontour\",\"colorbar\":{\"outlinewidth\":0,\"ticks\":\"\"},\"colorscale\":[[0.0,\"#0d0887\"],[0.1111111111111111,\"#46039f\"],[0.2222222222222222,\"#7201a8\"],[0.3333333333333333,\"#9c179e\"],[0.4444444444444444,\"#bd3786\"],[0.5555555555555556,\"#d8576b\"],[0.6666666666666666,\"#ed7953\"],[0.7777777777777778,\"#fb9f3a\"],[0.8888888888888888,\"#fdca26\"],[1.0,\"#f0f921\"]]}],\"choropleth\":[{\"type\":\"choropleth\",\"colorbar\":{\"outlinewidth\":0,\"ticks\":\"\"}}],\"histogram2d\":[{\"type\":\"histogram2d\",\"colorbar\":{\"outlinewidth\":0,\"ticks\":\"\"},\"colorscale\":[[0.0,\"#0d0887\"],[0.1111111111111111,\"#46039f\"],[0.2222222222222222,\"#7201a8\"],[0.3333333333333333,\"#9c179e\"],[0.4444444444444444,\"#bd3786\"],[0.5555555555555556,\"#d8576b\"],[0.6666666666666666,\"#ed7953\"],[0.7777777777777778,\"#fb9f3a\"],[0.8888888888888888,\"#fdca26\"],[1.0,\"#f0f921\"]]}],\"heatmap\":[{\"type\":\"heatmap\",\"colorbar\":{\"outlinewidth\":0,\"ticks\":\"\"},\"colorscale\":[[0.0,\"#0d0887\"],[0.1111111111111111,\"#46039f\"],[0.2222222222222222,\"#7201a8\"],[0.3333333333333333,\"#9c179e\"],[0.4444444444444444,\"#bd3786\"],[0.5555555555555556,\"#d8576b\"],[0.6666666666666666,\"#ed7953\"],[0.7777777777777778,\"#fb9f3a\"],[0.8888888888888888,\"#fdca26\"],[1.0,\"#f0f921\"]]}],\"heatmapgl\":[{\"type\":\"heatmapgl\",\"colorbar\":{\"outlinewidth\":0,\"ticks\":\"\"},\"colorscale\":[[0.0,\"#0d0887\"],[0.1111111111111111,\"#46039f\"],[0.2222222222222222,\"#7201a8\"],[0.3333333333333333,\"#9c179e\"],[0.4444444444444444,\"#bd3786\"],[0.5555555555555556,\"#d8576b\"],[0.6666666666666666,\"#ed7953\"],[0.7777777777777778,\"#fb9f3a\"],[0.8888888888888888,\"#fdca26\"],[1.0,\"#f0f921\"]]}],\"contourcarpet\":[{\"type\":\"contourcarpet\",\"colorbar\":{\"outlinewidth\":0,\"ticks\":\"\"}}],\"contour\":[{\"type\":\"contour\",\"colorbar\":{\"outlinewidth\":0,\"ticks\":\"\"},\"colorscale\":[[0.0,\"#0d0887\"],[0.1111111111111111,\"#46039f\"],[0.2222222222222222,\"#7201a8\"],[0.3333333333333333,\"#9c179e\"],[0.4444444444444444,\"#bd3786\"],[0.5555555555555556,\"#d8576b\"],[0.6666666666666666,\"#ed7953\"],[0.7777777777777778,\"#fb9f3a\"],[0.8888888888888888,\"#fdca26\"],[1.0,\"#f0f921\"]]}],\"surface\":[{\"type\":\"surface\",\"colorbar\":{\"outlinewidth\":0,\"ticks\":\"\"},\"colorscale\":[[0.0,\"#0d0887\"],[0.1111111111111111,\"#46039f\"],[0.2222222222222222,\"#7201a8\"],[0.3333333333333333,\"#9c179e\"],[0.4444444444444444,\"#bd3786\"],[0.5555555555555556,\"#d8576b\"],[0.6666666666666666,\"#ed7953\"],[0.7777777777777778,\"#fb9f3a\"],[0.8888888888888888,\"#fdca26\"],[1.0,\"#f0f921\"]]}],\"mesh3d\":[{\"type\":\"mesh3d\",\"colorbar\":{\"outlinewidth\":0,\"ticks\":\"\"}}],\"scatter\":[{\"fillpattern\":{\"fillmode\":\"overlay\",\"size\":10,\"solidity\":0.2},\"type\":\"scatter\"}],\"parcoords\":[{\"type\":\"parcoords\",\"line\":{\"colorbar\":{\"outlinewidth\":0,\"ticks\":\"\"}}}],\"scatterpolargl\":[{\"type\":\"scatterpolargl\",\"marker\":{\"colorbar\":{\"outlinewidth\":0,\"ticks\":\"\"}}}],\"bar\":[{\"error_x\":{\"color\":\"#2a3f5f\"},\"error_y\":{\"color\":\"#2a3f5f\"},\"marker\":{\"line\":{\"color\":\"#E5ECF6\",\"width\":0.5},\"pattern\":{\"fillmode\":\"overlay\",\"size\":10,\"solidity\":0.2}},\"type\":\"bar\"}],\"scattergeo\":[{\"type\":\"scattergeo\",\"marker\":{\"colorbar\":{\"outlinewidth\":0,\"ticks\":\"\"}}}],\"scatterpolar\":[{\"type\":\"scatterpolar\",\"marker\":{\"colorbar\":{\"outlinewidth\":0,\"ticks\":\"\"}}}],\"histogram\":[{\"marker\":{\"pattern\":{\"fillmode\":\"overlay\",\"size\":10,\"solidity\":0.2}},\"type\":\"histogram\"}],\"scattergl\":[{\"type\":\"scattergl\",\"marker\":{\"colorbar\":{\"outlinewidth\":0,\"ticks\":\"\"}}}],\"scatter3d\":[{\"type\":\"scatter3d\",\"line\":{\"colorbar\":{\"outlinewidth\":0,\"ticks\":\"\"}},\"marker\":{\"colorbar\":{\"outlinewidth\":0,\"ticks\":\"\"}}}],\"scattermapbox\":[{\"type\":\"scattermapbox\",\"marker\":{\"colorbar\":{\"outlinewidth\":0,\"ticks\":\"\"}}}],\"scatterternary\":[{\"type\":\"scatterternary\",\"marker\":{\"colorbar\":{\"outlinewidth\":0,\"ticks\":\"\"}}}],\"scattercarpet\":[{\"type\":\"scattercarpet\",\"marker\":{\"colorbar\":{\"outlinewidth\":0,\"ticks\":\"\"}}}],\"carpet\":[{\"aaxis\":{\"endlinecolor\":\"#2a3f5f\",\"gridcolor\":\"white\",\"linecolor\":\"white\",\"minorgridcolor\":\"white\",\"startlinecolor\":\"#2a3f5f\"},\"baxis\":{\"endlinecolor\":\"#2a3f5f\",\"gridcolor\":\"white\",\"linecolor\":\"white\",\"minorgridcolor\":\"white\",\"startlinecolor\":\"#2a3f5f\"},\"type\":\"carpet\"}],\"table\":[{\"cells\":{\"fill\":{\"color\":\"#EBF0F8\"},\"line\":{\"color\":\"white\"}},\"header\":{\"fill\":{\"color\":\"#C8D4E3\"},\"line\":{\"color\":\"white\"}},\"type\":\"table\"}],\"barpolar\":[{\"marker\":{\"line\":{\"color\":\"#E5ECF6\",\"width\":0.5},\"pattern\":{\"fillmode\":\"overlay\",\"size\":10,\"solidity\":0.2}},\"type\":\"barpolar\"}],\"pie\":[{\"automargin\":true,\"type\":\"pie\"}]},\"layout\":{\"autotypenumbers\":\"strict\",\"colorway\":[\"#636efa\",\"#EF553B\",\"#00cc96\",\"#ab63fa\",\"#FFA15A\",\"#19d3f3\",\"#FF6692\",\"#B6E880\",\"#FF97FF\",\"#FECB52\"],\"font\":{\"color\":\"#2a3f5f\"},\"hovermode\":\"closest\",\"hoverlabel\":{\"align\":\"left\"},\"paper_bgcolor\":\"white\",\"plot_bgcolor\":\"#E5ECF6\",\"polar\":{\"bgcolor\":\"#E5ECF6\",\"angularaxis\":{\"gridcolor\":\"white\",\"linecolor\":\"white\",\"ticks\":\"\"},\"radialaxis\":{\"gridcolor\":\"white\",\"linecolor\":\"white\",\"ticks\":\"\"}},\"ternary\":{\"bgcolor\":\"#E5ECF6\",\"aaxis\":{\"gridcolor\":\"white\",\"linecolor\":\"white\",\"ticks\":\"\"},\"baxis\":{\"gridcolor\":\"white\",\"linecolor\":\"white\",\"ticks\":\"\"},\"caxis\":{\"gridcolor\":\"white\",\"linecolor\":\"white\",\"ticks\":\"\"}},\"coloraxis\":{\"colorbar\":{\"outlinewidth\":0,\"ticks\":\"\"}},\"colorscale\":{\"sequential\":[[0.0,\"#0d0887\"],[0.1111111111111111,\"#46039f\"],[0.2222222222222222,\"#7201a8\"],[0.3333333333333333,\"#9c179e\"],[0.4444444444444444,\"#bd3786\"],[0.5555555555555556,\"#d8576b\"],[0.6666666666666666,\"#ed7953\"],[0.7777777777777778,\"#fb9f3a\"],[0.8888888888888888,\"#fdca26\"],[1.0,\"#f0f921\"]],\"sequentialminus\":[[0.0,\"#0d0887\"],[0.1111111111111111,\"#46039f\"],[0.2222222222222222,\"#7201a8\"],[0.3333333333333333,\"#9c179e\"],[0.4444444444444444,\"#bd3786\"],[0.5555555555555556,\"#d8576b\"],[0.6666666666666666,\"#ed7953\"],[0.7777777777777778,\"#fb9f3a\"],[0.8888888888888888,\"#fdca26\"],[1.0,\"#f0f921\"]],\"diverging\":[[0,\"#8e0152\"],[0.1,\"#c51b7d\"],[0.2,\"#de77ae\"],[0.3,\"#f1b6da\"],[0.4,\"#fde0ef\"],[0.5,\"#f7f7f7\"],[0.6,\"#e6f5d0\"],[0.7,\"#b8e186\"],[0.8,\"#7fbc41\"],[0.9,\"#4d9221\"],[1,\"#276419\"]]},\"xaxis\":{\"gridcolor\":\"white\",\"linecolor\":\"white\",\"ticks\":\"\",\"title\":{\"standoff\":15},\"zerolinecolor\":\"white\",\"automargin\":true,\"zerolinewidth\":2},\"yaxis\":{\"gridcolor\":\"white\",\"linecolor\":\"white\",\"ticks\":\"\",\"title\":{\"standoff\":15},\"zerolinecolor\":\"white\",\"automargin\":true,\"zerolinewidth\":2},\"scene\":{\"xaxis\":{\"backgroundcolor\":\"#E5ECF6\",\"gridcolor\":\"white\",\"linecolor\":\"white\",\"showbackground\":true,\"ticks\":\"\",\"zerolinecolor\":\"white\",\"gridwidth\":2},\"yaxis\":{\"backgroundcolor\":\"#E5ECF6\",\"gridcolor\":\"white\",\"linecolor\":\"white\",\"showbackground\":true,\"ticks\":\"\",\"zerolinecolor\":\"white\",\"gridwidth\":2},\"zaxis\":{\"backgroundcolor\":\"#E5ECF6\",\"gridcolor\":\"white\",\"linecolor\":\"white\",\"showbackground\":true,\"ticks\":\"\",\"zerolinecolor\":\"white\",\"gridwidth\":2}},\"shapedefaults\":{\"line\":{\"color\":\"#2a3f5f\"}},\"annotationdefaults\":{\"arrowcolor\":\"#2a3f5f\",\"arrowhead\":0,\"arrowwidth\":1},\"geo\":{\"bgcolor\":\"white\",\"landcolor\":\"#E5ECF6\",\"subunitcolor\":\"white\",\"showland\":true,\"showlakes\":true,\"lakecolor\":\"white\"},\"title\":{\"x\":0.05},\"mapbox\":{\"style\":\"light\"}}},\"title\":{\"text\":\"Activation Location: 0 (blocks.0.hook_resid_pre)\"},\"xaxis\":{\"title\":{\"text\":\"Magnitude\"}},\"yaxis\":{\"title\":{\"text\":\"Probability Density\"}},\"barmode\":\"overlay\",\"bargap\":0.1,\"bargroupgap\":0.1},                        {\"responsive\": true}                    ).then(function(){\n",
       "                            \n",
       "var gd = document.getElementById('75ca4de6-5ce7-4e81-9946-4d312865d32f');\n",
       "var x = new MutationObserver(function (mutations, observer) {{\n",
       "        var display = window.getComputedStyle(gd).display;\n",
       "        if (!display || display === 'none') {{\n",
       "            console.log([gd, 'removed!']);\n",
       "            Plotly.purge(gd);\n",
       "            observer.disconnect();\n",
       "        }}\n",
       "}});\n",
       "\n",
       "// Listen for the removal of the full notebook cells\n",
       "var notebookContainer = gd.closest('#notebook-container');\n",
       "if (notebookContainer) {{\n",
       "    x.observe(notebookContainer, {childList: true});\n",
       "}}\n",
       "\n",
       "// Listen for the clearing of the current output cell\n",
       "var outputEl = gd.closest('.output');\n",
       "if (outputEl) {{\n",
       "    x.observe(outputEl, {childList: true});\n",
       "}}\n",
       "\n",
       "                        })                };                });            </script>        </div>"
      ]
     },
     "metadata": {},
     "output_type": "display_data"
    },
    {
     "data": {
      "application/vnd.plotly.v1+json": {
       "config": {
        "plotlyServerURL": "https://plot.ly"
       },
       "data": [
        {
         "histnorm": "probability density",
         "name": "Bush did 9/11 b",
         "opacity": 0.75,
         "type": "histogram",
         "x": [
          115.5258560180664,
          101.49398040771484,
          77.59593963623047,
          72.97627258300781,
          64.47109985351562,
          79.5228271484375,
          65.90502166748047
         ]
        },
        {
         "histnorm": "probability density",
         "name": "Barack Obama wa",
         "opacity": 0.75,
         "type": "histogram",
         "x": [
          115.5258560180664,
          98.56033325195312,
          74.95342254638672,
          85.24929809570312,
          69.52259063720703,
          78.54378509521484,
          68.21501159667969
         ]
        },
        {
         "histnorm": "probability density",
         "name": "Shrek starts of",
         "opacity": 0.75,
         "type": "histogram",
         "x": [
          115.5258560180664,
          107.7667236328125,
          93.83356475830078,
          75.6715316772461,
          69.5091552734375,
          68.66477966308594,
          70.65508270263672,
          96.05359649658203
         ]
        },
        {
         "histnorm": "probability density",
         "name": "I went up to my",
         "opacity": 0.75,
         "type": "histogram",
         "x": [
          115.52586364746094,
          89.82917022705078,
          79.9443588256836,
          68.89656829833984,
          67.66465759277344,
          73.73809051513672,
          77.85823822021484,
          66.11564636230469,
          62.77561950683594
         ]
        },
        {
         "histnorm": "probability density",
         "name": "I talk about we",
         "opacity": 0.75,
         "type": "histogram",
         "x": [
          115.5258560180664,
          89.82916259765625,
          77.2499771118164,
          70.5490493774414,
          98.91368103027344,
          86.38294219970703
         ]
        },
        {
         "histnorm": "probability density",
         "name": "I bring up wedd",
         "opacity": 0.75,
         "type": "histogram",
         "x": [
          115.5258560180664,
          89.82917022705078,
          81.3716812133789,
          69.40797424316406,
          96.84986114501953,
          71.22098541259766,
          74.47932434082031,
          76.70882415771484
         ]
        },
        {
         "histnorm": "probability density",
         "name": "I hate talking ",
         "opacity": 0.75,
         "type": "histogram",
         "x": [
          115.5258560180664,
          89.82916259765625,
          88.61568450927734,
          75.57535552978516,
          70.82102966308594,
          98.79444122314453,
          73.33096313476562,
          79.69083404541016,
          67.0617446899414,
          70.45661926269531,
          64.0403823852539,
          66.51411437988281,
          62.9084587097168,
          64.79240417480469,
          80.81127166748047,
          70.52619934082031,
          75.25897979736328,
          62.43778991699219,
          59.623207092285156,
          65.26078796386719,
          73.81101989746094,
          61.35817337036133,
          90.2044906616211,
          75.54499816894531,
          60.31226348876953,
          64.46334075927734,
          77.15019989013672,
          62.29450607299805,
          81.99311828613281,
          63.76375198364258
         ]
        }
       ],
       "layout": {
        "bargap": 0.1,
        "bargroupgap": 0.1,
        "barmode": "overlay",
        "template": {
         "data": {
          "bar": [
           {
            "error_x": {
             "color": "#2a3f5f"
            },
            "error_y": {
             "color": "#2a3f5f"
            },
            "marker": {
             "line": {
              "color": "#E5ECF6",
              "width": 0.5
             },
             "pattern": {
              "fillmode": "overlay",
              "size": 10,
              "solidity": 0.2
             }
            },
            "type": "bar"
           }
          ],
          "barpolar": [
           {
            "marker": {
             "line": {
              "color": "#E5ECF6",
              "width": 0.5
             },
             "pattern": {
              "fillmode": "overlay",
              "size": 10,
              "solidity": 0.2
             }
            },
            "type": "barpolar"
           }
          ],
          "carpet": [
           {
            "aaxis": {
             "endlinecolor": "#2a3f5f",
             "gridcolor": "white",
             "linecolor": "white",
             "minorgridcolor": "white",
             "startlinecolor": "#2a3f5f"
            },
            "baxis": {
             "endlinecolor": "#2a3f5f",
             "gridcolor": "white",
             "linecolor": "white",
             "minorgridcolor": "white",
             "startlinecolor": "#2a3f5f"
            },
            "type": "carpet"
           }
          ],
          "choropleth": [
           {
            "colorbar": {
             "outlinewidth": 0,
             "ticks": ""
            },
            "type": "choropleth"
           }
          ],
          "contour": [
           {
            "colorbar": {
             "outlinewidth": 0,
             "ticks": ""
            },
            "colorscale": [
             [
              0,
              "#0d0887"
             ],
             [
              0.1111111111111111,
              "#46039f"
             ],
             [
              0.2222222222222222,
              "#7201a8"
             ],
             [
              0.3333333333333333,
              "#9c179e"
             ],
             [
              0.4444444444444444,
              "#bd3786"
             ],
             [
              0.5555555555555556,
              "#d8576b"
             ],
             [
              0.6666666666666666,
              "#ed7953"
             ],
             [
              0.7777777777777778,
              "#fb9f3a"
             ],
             [
              0.8888888888888888,
              "#fdca26"
             ],
             [
              1,
              "#f0f921"
             ]
            ],
            "type": "contour"
           }
          ],
          "contourcarpet": [
           {
            "colorbar": {
             "outlinewidth": 0,
             "ticks": ""
            },
            "type": "contourcarpet"
           }
          ],
          "heatmap": [
           {
            "colorbar": {
             "outlinewidth": 0,
             "ticks": ""
            },
            "colorscale": [
             [
              0,
              "#0d0887"
             ],
             [
              0.1111111111111111,
              "#46039f"
             ],
             [
              0.2222222222222222,
              "#7201a8"
             ],
             [
              0.3333333333333333,
              "#9c179e"
             ],
             [
              0.4444444444444444,
              "#bd3786"
             ],
             [
              0.5555555555555556,
              "#d8576b"
             ],
             [
              0.6666666666666666,
              "#ed7953"
             ],
             [
              0.7777777777777778,
              "#fb9f3a"
             ],
             [
              0.8888888888888888,
              "#fdca26"
             ],
             [
              1,
              "#f0f921"
             ]
            ],
            "type": "heatmap"
           }
          ],
          "heatmapgl": [
           {
            "colorbar": {
             "outlinewidth": 0,
             "ticks": ""
            },
            "colorscale": [
             [
              0,
              "#0d0887"
             ],
             [
              0.1111111111111111,
              "#46039f"
             ],
             [
              0.2222222222222222,
              "#7201a8"
             ],
             [
              0.3333333333333333,
              "#9c179e"
             ],
             [
              0.4444444444444444,
              "#bd3786"
             ],
             [
              0.5555555555555556,
              "#d8576b"
             ],
             [
              0.6666666666666666,
              "#ed7953"
             ],
             [
              0.7777777777777778,
              "#fb9f3a"
             ],
             [
              0.8888888888888888,
              "#fdca26"
             ],
             [
              1,
              "#f0f921"
             ]
            ],
            "type": "heatmapgl"
           }
          ],
          "histogram": [
           {
            "marker": {
             "pattern": {
              "fillmode": "overlay",
              "size": 10,
              "solidity": 0.2
             }
            },
            "type": "histogram"
           }
          ],
          "histogram2d": [
           {
            "colorbar": {
             "outlinewidth": 0,
             "ticks": ""
            },
            "colorscale": [
             [
              0,
              "#0d0887"
             ],
             [
              0.1111111111111111,
              "#46039f"
             ],
             [
              0.2222222222222222,
              "#7201a8"
             ],
             [
              0.3333333333333333,
              "#9c179e"
             ],
             [
              0.4444444444444444,
              "#bd3786"
             ],
             [
              0.5555555555555556,
              "#d8576b"
             ],
             [
              0.6666666666666666,
              "#ed7953"
             ],
             [
              0.7777777777777778,
              "#fb9f3a"
             ],
             [
              0.8888888888888888,
              "#fdca26"
             ],
             [
              1,
              "#f0f921"
             ]
            ],
            "type": "histogram2d"
           }
          ],
          "histogram2dcontour": [
           {
            "colorbar": {
             "outlinewidth": 0,
             "ticks": ""
            },
            "colorscale": [
             [
              0,
              "#0d0887"
             ],
             [
              0.1111111111111111,
              "#46039f"
             ],
             [
              0.2222222222222222,
              "#7201a8"
             ],
             [
              0.3333333333333333,
              "#9c179e"
             ],
             [
              0.4444444444444444,
              "#bd3786"
             ],
             [
              0.5555555555555556,
              "#d8576b"
             ],
             [
              0.6666666666666666,
              "#ed7953"
             ],
             [
              0.7777777777777778,
              "#fb9f3a"
             ],
             [
              0.8888888888888888,
              "#fdca26"
             ],
             [
              1,
              "#f0f921"
             ]
            ],
            "type": "histogram2dcontour"
           }
          ],
          "mesh3d": [
           {
            "colorbar": {
             "outlinewidth": 0,
             "ticks": ""
            },
            "type": "mesh3d"
           }
          ],
          "parcoords": [
           {
            "line": {
             "colorbar": {
              "outlinewidth": 0,
              "ticks": ""
             }
            },
            "type": "parcoords"
           }
          ],
          "pie": [
           {
            "automargin": true,
            "type": "pie"
           }
          ],
          "scatter": [
           {
            "fillpattern": {
             "fillmode": "overlay",
             "size": 10,
             "solidity": 0.2
            },
            "type": "scatter"
           }
          ],
          "scatter3d": [
           {
            "line": {
             "colorbar": {
              "outlinewidth": 0,
              "ticks": ""
             }
            },
            "marker": {
             "colorbar": {
              "outlinewidth": 0,
              "ticks": ""
             }
            },
            "type": "scatter3d"
           }
          ],
          "scattercarpet": [
           {
            "marker": {
             "colorbar": {
              "outlinewidth": 0,
              "ticks": ""
             }
            },
            "type": "scattercarpet"
           }
          ],
          "scattergeo": [
           {
            "marker": {
             "colorbar": {
              "outlinewidth": 0,
              "ticks": ""
             }
            },
            "type": "scattergeo"
           }
          ],
          "scattergl": [
           {
            "marker": {
             "colorbar": {
              "outlinewidth": 0,
              "ticks": ""
             }
            },
            "type": "scattergl"
           }
          ],
          "scattermapbox": [
           {
            "marker": {
             "colorbar": {
              "outlinewidth": 0,
              "ticks": ""
             }
            },
            "type": "scattermapbox"
           }
          ],
          "scatterpolar": [
           {
            "marker": {
             "colorbar": {
              "outlinewidth": 0,
              "ticks": ""
             }
            },
            "type": "scatterpolar"
           }
          ],
          "scatterpolargl": [
           {
            "marker": {
             "colorbar": {
              "outlinewidth": 0,
              "ticks": ""
             }
            },
            "type": "scatterpolargl"
           }
          ],
          "scatterternary": [
           {
            "marker": {
             "colorbar": {
              "outlinewidth": 0,
              "ticks": ""
             }
            },
            "type": "scatterternary"
           }
          ],
          "surface": [
           {
            "colorbar": {
             "outlinewidth": 0,
             "ticks": ""
            },
            "colorscale": [
             [
              0,
              "#0d0887"
             ],
             [
              0.1111111111111111,
              "#46039f"
             ],
             [
              0.2222222222222222,
              "#7201a8"
             ],
             [
              0.3333333333333333,
              "#9c179e"
             ],
             [
              0.4444444444444444,
              "#bd3786"
             ],
             [
              0.5555555555555556,
              "#d8576b"
             ],
             [
              0.6666666666666666,
              "#ed7953"
             ],
             [
              0.7777777777777778,
              "#fb9f3a"
             ],
             [
              0.8888888888888888,
              "#fdca26"
             ],
             [
              1,
              "#f0f921"
             ]
            ],
            "type": "surface"
           }
          ],
          "table": [
           {
            "cells": {
             "fill": {
              "color": "#EBF0F8"
             },
             "line": {
              "color": "white"
             }
            },
            "header": {
             "fill": {
              "color": "#C8D4E3"
             },
             "line": {
              "color": "white"
             }
            },
            "type": "table"
           }
          ]
         },
         "layout": {
          "annotationdefaults": {
           "arrowcolor": "#2a3f5f",
           "arrowhead": 0,
           "arrowwidth": 1
          },
          "autotypenumbers": "strict",
          "coloraxis": {
           "colorbar": {
            "outlinewidth": 0,
            "ticks": ""
           }
          },
          "colorscale": {
           "diverging": [
            [
             0,
             "#8e0152"
            ],
            [
             0.1,
             "#c51b7d"
            ],
            [
             0.2,
             "#de77ae"
            ],
            [
             0.3,
             "#f1b6da"
            ],
            [
             0.4,
             "#fde0ef"
            ],
            [
             0.5,
             "#f7f7f7"
            ],
            [
             0.6,
             "#e6f5d0"
            ],
            [
             0.7,
             "#b8e186"
            ],
            [
             0.8,
             "#7fbc41"
            ],
            [
             0.9,
             "#4d9221"
            ],
            [
             1,
             "#276419"
            ]
           ],
           "sequential": [
            [
             0,
             "#0d0887"
            ],
            [
             0.1111111111111111,
             "#46039f"
            ],
            [
             0.2222222222222222,
             "#7201a8"
            ],
            [
             0.3333333333333333,
             "#9c179e"
            ],
            [
             0.4444444444444444,
             "#bd3786"
            ],
            [
             0.5555555555555556,
             "#d8576b"
            ],
            [
             0.6666666666666666,
             "#ed7953"
            ],
            [
             0.7777777777777778,
             "#fb9f3a"
            ],
            [
             0.8888888888888888,
             "#fdca26"
            ],
            [
             1,
             "#f0f921"
            ]
           ],
           "sequentialminus": [
            [
             0,
             "#0d0887"
            ],
            [
             0.1111111111111111,
             "#46039f"
            ],
            [
             0.2222222222222222,
             "#7201a8"
            ],
            [
             0.3333333333333333,
             "#9c179e"
            ],
            [
             0.4444444444444444,
             "#bd3786"
            ],
            [
             0.5555555555555556,
             "#d8576b"
            ],
            [
             0.6666666666666666,
             "#ed7953"
            ],
            [
             0.7777777777777778,
             "#fb9f3a"
            ],
            [
             0.8888888888888888,
             "#fdca26"
            ],
            [
             1,
             "#f0f921"
            ]
           ]
          },
          "colorway": [
           "#636efa",
           "#EF553B",
           "#00cc96",
           "#ab63fa",
           "#FFA15A",
           "#19d3f3",
           "#FF6692",
           "#B6E880",
           "#FF97FF",
           "#FECB52"
          ],
          "font": {
           "color": "#2a3f5f"
          },
          "geo": {
           "bgcolor": "white",
           "lakecolor": "white",
           "landcolor": "#E5ECF6",
           "showlakes": true,
           "showland": true,
           "subunitcolor": "white"
          },
          "hoverlabel": {
           "align": "left"
          },
          "hovermode": "closest",
          "mapbox": {
           "style": "light"
          },
          "paper_bgcolor": "white",
          "plot_bgcolor": "#E5ECF6",
          "polar": {
           "angularaxis": {
            "gridcolor": "white",
            "linecolor": "white",
            "ticks": ""
           },
           "bgcolor": "#E5ECF6",
           "radialaxis": {
            "gridcolor": "white",
            "linecolor": "white",
            "ticks": ""
           }
          },
          "scene": {
           "xaxis": {
            "backgroundcolor": "#E5ECF6",
            "gridcolor": "white",
            "gridwidth": 2,
            "linecolor": "white",
            "showbackground": true,
            "ticks": "",
            "zerolinecolor": "white"
           },
           "yaxis": {
            "backgroundcolor": "#E5ECF6",
            "gridcolor": "white",
            "gridwidth": 2,
            "linecolor": "white",
            "showbackground": true,
            "ticks": "",
            "zerolinecolor": "white"
           },
           "zaxis": {
            "backgroundcolor": "#E5ECF6",
            "gridcolor": "white",
            "gridwidth": 2,
            "linecolor": "white",
            "showbackground": true,
            "ticks": "",
            "zerolinecolor": "white"
           }
          },
          "shapedefaults": {
           "line": {
            "color": "#2a3f5f"
           }
          },
          "ternary": {
           "aaxis": {
            "gridcolor": "white",
            "linecolor": "white",
            "ticks": ""
           },
           "baxis": {
            "gridcolor": "white",
            "linecolor": "white",
            "ticks": ""
           },
           "bgcolor": "#E5ECF6",
           "caxis": {
            "gridcolor": "white",
            "linecolor": "white",
            "ticks": ""
           }
          },
          "title": {
           "x": 0.05
          },
          "xaxis": {
           "automargin": true,
           "gridcolor": "white",
           "linecolor": "white",
           "ticks": "",
           "title": {
            "standoff": 15
           },
           "zerolinecolor": "white",
           "zerolinewidth": 2
          },
          "yaxis": {
           "automargin": true,
           "gridcolor": "white",
           "linecolor": "white",
           "ticks": "",
           "title": {
            "standoff": 15
           },
           "zerolinecolor": "white",
           "zerolinewidth": 2
          }
         }
        },
        "title": {
         "text": "Activation Location: 6 (blocks.6.hook_resid_pre)"
        },
        "xaxis": {
         "title": {
          "text": "Magnitude"
         }
        },
        "yaxis": {
         "title": {
          "text": "Probability Density"
         }
        }
       }
      },
      "text/html": [
       "<div>                            <div id=\"3e360629-710b-44bd-8117-66c42a0a23de\" class=\"plotly-graph-div\" style=\"height:525px; width:100%;\"></div>            <script type=\"text/javascript\">                require([\"plotly\"], function(Plotly) {                    window.PLOTLYENV=window.PLOTLYENV || {};                                    if (document.getElementById(\"3e360629-710b-44bd-8117-66c42a0a23de\")) {                    Plotly.newPlot(                        \"3e360629-710b-44bd-8117-66c42a0a23de\",                        [{\"histnorm\":\"probability density\",\"name\":\"Bush did 9/11 b\",\"opacity\":0.75,\"x\":[115.5258560180664,101.49398040771484,77.59593963623047,72.97627258300781,64.47109985351562,79.5228271484375,65.90502166748047],\"type\":\"histogram\"},{\"histnorm\":\"probability density\",\"name\":\"Barack Obama wa\",\"opacity\":0.75,\"x\":[115.5258560180664,98.56033325195312,74.95342254638672,85.24929809570312,69.52259063720703,78.54378509521484,68.21501159667969],\"type\":\"histogram\"},{\"histnorm\":\"probability density\",\"name\":\"Shrek starts of\",\"opacity\":0.75,\"x\":[115.5258560180664,107.7667236328125,93.83356475830078,75.6715316772461,69.5091552734375,68.66477966308594,70.65508270263672,96.05359649658203],\"type\":\"histogram\"},{\"histnorm\":\"probability density\",\"name\":\"I went up to my\",\"opacity\":0.75,\"x\":[115.52586364746094,89.82917022705078,79.9443588256836,68.89656829833984,67.66465759277344,73.73809051513672,77.85823822021484,66.11564636230469,62.77561950683594],\"type\":\"histogram\"},{\"histnorm\":\"probability density\",\"name\":\"I talk about we\",\"opacity\":0.75,\"x\":[115.5258560180664,89.82916259765625,77.2499771118164,70.5490493774414,98.91368103027344,86.38294219970703],\"type\":\"histogram\"},{\"histnorm\":\"probability density\",\"name\":\"I bring up wedd\",\"opacity\":0.75,\"x\":[115.5258560180664,89.82917022705078,81.3716812133789,69.40797424316406,96.84986114501953,71.22098541259766,74.47932434082031,76.70882415771484],\"type\":\"histogram\"},{\"histnorm\":\"probability density\",\"name\":\"I hate talking \",\"opacity\":0.75,\"x\":[115.5258560180664,89.82916259765625,88.61568450927734,75.57535552978516,70.82102966308594,98.79444122314453,73.33096313476562,79.69083404541016,67.0617446899414,70.45661926269531,64.0403823852539,66.51411437988281,62.9084587097168,64.79240417480469,80.81127166748047,70.52619934082031,75.25897979736328,62.43778991699219,59.623207092285156,65.26078796386719,73.81101989746094,61.35817337036133,90.2044906616211,75.54499816894531,60.31226348876953,64.46334075927734,77.15019989013672,62.29450607299805,81.99311828613281,63.76375198364258],\"type\":\"histogram\"}],                        {\"template\":{\"data\":{\"histogram2dcontour\":[{\"type\":\"histogram2dcontour\",\"colorbar\":{\"outlinewidth\":0,\"ticks\":\"\"},\"colorscale\":[[0.0,\"#0d0887\"],[0.1111111111111111,\"#46039f\"],[0.2222222222222222,\"#7201a8\"],[0.3333333333333333,\"#9c179e\"],[0.4444444444444444,\"#bd3786\"],[0.5555555555555556,\"#d8576b\"],[0.6666666666666666,\"#ed7953\"],[0.7777777777777778,\"#fb9f3a\"],[0.8888888888888888,\"#fdca26\"],[1.0,\"#f0f921\"]]}],\"choropleth\":[{\"type\":\"choropleth\",\"colorbar\":{\"outlinewidth\":0,\"ticks\":\"\"}}],\"histogram2d\":[{\"type\":\"histogram2d\",\"colorbar\":{\"outlinewidth\":0,\"ticks\":\"\"},\"colorscale\":[[0.0,\"#0d0887\"],[0.1111111111111111,\"#46039f\"],[0.2222222222222222,\"#7201a8\"],[0.3333333333333333,\"#9c179e\"],[0.4444444444444444,\"#bd3786\"],[0.5555555555555556,\"#d8576b\"],[0.6666666666666666,\"#ed7953\"],[0.7777777777777778,\"#fb9f3a\"],[0.8888888888888888,\"#fdca26\"],[1.0,\"#f0f921\"]]}],\"heatmap\":[{\"type\":\"heatmap\",\"colorbar\":{\"outlinewidth\":0,\"ticks\":\"\"},\"colorscale\":[[0.0,\"#0d0887\"],[0.1111111111111111,\"#46039f\"],[0.2222222222222222,\"#7201a8\"],[0.3333333333333333,\"#9c179e\"],[0.4444444444444444,\"#bd3786\"],[0.5555555555555556,\"#d8576b\"],[0.6666666666666666,\"#ed7953\"],[0.7777777777777778,\"#fb9f3a\"],[0.8888888888888888,\"#fdca26\"],[1.0,\"#f0f921\"]]}],\"heatmapgl\":[{\"type\":\"heatmapgl\",\"colorbar\":{\"outlinewidth\":0,\"ticks\":\"\"},\"colorscale\":[[0.0,\"#0d0887\"],[0.1111111111111111,\"#46039f\"],[0.2222222222222222,\"#7201a8\"],[0.3333333333333333,\"#9c179e\"],[0.4444444444444444,\"#bd3786\"],[0.5555555555555556,\"#d8576b\"],[0.6666666666666666,\"#ed7953\"],[0.7777777777777778,\"#fb9f3a\"],[0.8888888888888888,\"#fdca26\"],[1.0,\"#f0f921\"]]}],\"contourcarpet\":[{\"type\":\"contourcarpet\",\"colorbar\":{\"outlinewidth\":0,\"ticks\":\"\"}}],\"contour\":[{\"type\":\"contour\",\"colorbar\":{\"outlinewidth\":0,\"ticks\":\"\"},\"colorscale\":[[0.0,\"#0d0887\"],[0.1111111111111111,\"#46039f\"],[0.2222222222222222,\"#7201a8\"],[0.3333333333333333,\"#9c179e\"],[0.4444444444444444,\"#bd3786\"],[0.5555555555555556,\"#d8576b\"],[0.6666666666666666,\"#ed7953\"],[0.7777777777777778,\"#fb9f3a\"],[0.8888888888888888,\"#fdca26\"],[1.0,\"#f0f921\"]]}],\"surface\":[{\"type\":\"surface\",\"colorbar\":{\"outlinewidth\":0,\"ticks\":\"\"},\"colorscale\":[[0.0,\"#0d0887\"],[0.1111111111111111,\"#46039f\"],[0.2222222222222222,\"#7201a8\"],[0.3333333333333333,\"#9c179e\"],[0.4444444444444444,\"#bd3786\"],[0.5555555555555556,\"#d8576b\"],[0.6666666666666666,\"#ed7953\"],[0.7777777777777778,\"#fb9f3a\"],[0.8888888888888888,\"#fdca26\"],[1.0,\"#f0f921\"]]}],\"mesh3d\":[{\"type\":\"mesh3d\",\"colorbar\":{\"outlinewidth\":0,\"ticks\":\"\"}}],\"scatter\":[{\"fillpattern\":{\"fillmode\":\"overlay\",\"size\":10,\"solidity\":0.2},\"type\":\"scatter\"}],\"parcoords\":[{\"type\":\"parcoords\",\"line\":{\"colorbar\":{\"outlinewidth\":0,\"ticks\":\"\"}}}],\"scatterpolargl\":[{\"type\":\"scatterpolargl\",\"marker\":{\"colorbar\":{\"outlinewidth\":0,\"ticks\":\"\"}}}],\"bar\":[{\"error_x\":{\"color\":\"#2a3f5f\"},\"error_y\":{\"color\":\"#2a3f5f\"},\"marker\":{\"line\":{\"color\":\"#E5ECF6\",\"width\":0.5},\"pattern\":{\"fillmode\":\"overlay\",\"size\":10,\"solidity\":0.2}},\"type\":\"bar\"}],\"scattergeo\":[{\"type\":\"scattergeo\",\"marker\":{\"colorbar\":{\"outlinewidth\":0,\"ticks\":\"\"}}}],\"scatterpolar\":[{\"type\":\"scatterpolar\",\"marker\":{\"colorbar\":{\"outlinewidth\":0,\"ticks\":\"\"}}}],\"histogram\":[{\"marker\":{\"pattern\":{\"fillmode\":\"overlay\",\"size\":10,\"solidity\":0.2}},\"type\":\"histogram\"}],\"scattergl\":[{\"type\":\"scattergl\",\"marker\":{\"colorbar\":{\"outlinewidth\":0,\"ticks\":\"\"}}}],\"scatter3d\":[{\"type\":\"scatter3d\",\"line\":{\"colorbar\":{\"outlinewidth\":0,\"ticks\":\"\"}},\"marker\":{\"colorbar\":{\"outlinewidth\":0,\"ticks\":\"\"}}}],\"scattermapbox\":[{\"type\":\"scattermapbox\",\"marker\":{\"colorbar\":{\"outlinewidth\":0,\"ticks\":\"\"}}}],\"scatterternary\":[{\"type\":\"scatterternary\",\"marker\":{\"colorbar\":{\"outlinewidth\":0,\"ticks\":\"\"}}}],\"scattercarpet\":[{\"type\":\"scattercarpet\",\"marker\":{\"colorbar\":{\"outlinewidth\":0,\"ticks\":\"\"}}}],\"carpet\":[{\"aaxis\":{\"endlinecolor\":\"#2a3f5f\",\"gridcolor\":\"white\",\"linecolor\":\"white\",\"minorgridcolor\":\"white\",\"startlinecolor\":\"#2a3f5f\"},\"baxis\":{\"endlinecolor\":\"#2a3f5f\",\"gridcolor\":\"white\",\"linecolor\":\"white\",\"minorgridcolor\":\"white\",\"startlinecolor\":\"#2a3f5f\"},\"type\":\"carpet\"}],\"table\":[{\"cells\":{\"fill\":{\"color\":\"#EBF0F8\"},\"line\":{\"color\":\"white\"}},\"header\":{\"fill\":{\"color\":\"#C8D4E3\"},\"line\":{\"color\":\"white\"}},\"type\":\"table\"}],\"barpolar\":[{\"marker\":{\"line\":{\"color\":\"#E5ECF6\",\"width\":0.5},\"pattern\":{\"fillmode\":\"overlay\",\"size\":10,\"solidity\":0.2}},\"type\":\"barpolar\"}],\"pie\":[{\"automargin\":true,\"type\":\"pie\"}]},\"layout\":{\"autotypenumbers\":\"strict\",\"colorway\":[\"#636efa\",\"#EF553B\",\"#00cc96\",\"#ab63fa\",\"#FFA15A\",\"#19d3f3\",\"#FF6692\",\"#B6E880\",\"#FF97FF\",\"#FECB52\"],\"font\":{\"color\":\"#2a3f5f\"},\"hovermode\":\"closest\",\"hoverlabel\":{\"align\":\"left\"},\"paper_bgcolor\":\"white\",\"plot_bgcolor\":\"#E5ECF6\",\"polar\":{\"bgcolor\":\"#E5ECF6\",\"angularaxis\":{\"gridcolor\":\"white\",\"linecolor\":\"white\",\"ticks\":\"\"},\"radialaxis\":{\"gridcolor\":\"white\",\"linecolor\":\"white\",\"ticks\":\"\"}},\"ternary\":{\"bgcolor\":\"#E5ECF6\",\"aaxis\":{\"gridcolor\":\"white\",\"linecolor\":\"white\",\"ticks\":\"\"},\"baxis\":{\"gridcolor\":\"white\",\"linecolor\":\"white\",\"ticks\":\"\"},\"caxis\":{\"gridcolor\":\"white\",\"linecolor\":\"white\",\"ticks\":\"\"}},\"coloraxis\":{\"colorbar\":{\"outlinewidth\":0,\"ticks\":\"\"}},\"colorscale\":{\"sequential\":[[0.0,\"#0d0887\"],[0.1111111111111111,\"#46039f\"],[0.2222222222222222,\"#7201a8\"],[0.3333333333333333,\"#9c179e\"],[0.4444444444444444,\"#bd3786\"],[0.5555555555555556,\"#d8576b\"],[0.6666666666666666,\"#ed7953\"],[0.7777777777777778,\"#fb9f3a\"],[0.8888888888888888,\"#fdca26\"],[1.0,\"#f0f921\"]],\"sequentialminus\":[[0.0,\"#0d0887\"],[0.1111111111111111,\"#46039f\"],[0.2222222222222222,\"#7201a8\"],[0.3333333333333333,\"#9c179e\"],[0.4444444444444444,\"#bd3786\"],[0.5555555555555556,\"#d8576b\"],[0.6666666666666666,\"#ed7953\"],[0.7777777777777778,\"#fb9f3a\"],[0.8888888888888888,\"#fdca26\"],[1.0,\"#f0f921\"]],\"diverging\":[[0,\"#8e0152\"],[0.1,\"#c51b7d\"],[0.2,\"#de77ae\"],[0.3,\"#f1b6da\"],[0.4,\"#fde0ef\"],[0.5,\"#f7f7f7\"],[0.6,\"#e6f5d0\"],[0.7,\"#b8e186\"],[0.8,\"#7fbc41\"],[0.9,\"#4d9221\"],[1,\"#276419\"]]},\"xaxis\":{\"gridcolor\":\"white\",\"linecolor\":\"white\",\"ticks\":\"\",\"title\":{\"standoff\":15},\"zerolinecolor\":\"white\",\"automargin\":true,\"zerolinewidth\":2},\"yaxis\":{\"gridcolor\":\"white\",\"linecolor\":\"white\",\"ticks\":\"\",\"title\":{\"standoff\":15},\"zerolinecolor\":\"white\",\"automargin\":true,\"zerolinewidth\":2},\"scene\":{\"xaxis\":{\"backgroundcolor\":\"#E5ECF6\",\"gridcolor\":\"white\",\"linecolor\":\"white\",\"showbackground\":true,\"ticks\":\"\",\"zerolinecolor\":\"white\",\"gridwidth\":2},\"yaxis\":{\"backgroundcolor\":\"#E5ECF6\",\"gridcolor\":\"white\",\"linecolor\":\"white\",\"showbackground\":true,\"ticks\":\"\",\"zerolinecolor\":\"white\",\"gridwidth\":2},\"zaxis\":{\"backgroundcolor\":\"#E5ECF6\",\"gridcolor\":\"white\",\"linecolor\":\"white\",\"showbackground\":true,\"ticks\":\"\",\"zerolinecolor\":\"white\",\"gridwidth\":2}},\"shapedefaults\":{\"line\":{\"color\":\"#2a3f5f\"}},\"annotationdefaults\":{\"arrowcolor\":\"#2a3f5f\",\"arrowhead\":0,\"arrowwidth\":1},\"geo\":{\"bgcolor\":\"white\",\"landcolor\":\"#E5ECF6\",\"subunitcolor\":\"white\",\"showland\":true,\"showlakes\":true,\"lakecolor\":\"white\"},\"title\":{\"x\":0.05},\"mapbox\":{\"style\":\"light\"}}},\"title\":{\"text\":\"Activation Location: 6 (blocks.6.hook_resid_pre)\"},\"xaxis\":{\"title\":{\"text\":\"Magnitude\"}},\"yaxis\":{\"title\":{\"text\":\"Probability Density\"}},\"barmode\":\"overlay\",\"bargap\":0.1,\"bargroupgap\":0.1},                        {\"responsive\": true}                    ).then(function(){\n",
       "                            \n",
       "var gd = document.getElementById('3e360629-710b-44bd-8117-66c42a0a23de');\n",
       "var x = new MutationObserver(function (mutations, observer) {{\n",
       "        var display = window.getComputedStyle(gd).display;\n",
       "        if (!display || display === 'none') {{\n",
       "            console.log([gd, 'removed!']);\n",
       "            Plotly.purge(gd);\n",
       "            observer.disconnect();\n",
       "        }}\n",
       "}});\n",
       "\n",
       "// Listen for the removal of the full notebook cells\n",
       "var notebookContainer = gd.closest('#notebook-container');\n",
       "if (notebookContainer) {{\n",
       "    x.observe(notebookContainer, {childList: true});\n",
       "}}\n",
       "\n",
       "// Listen for the clearing of the current output cell\n",
       "var outputEl = gd.closest('.output');\n",
       "if (outputEl) {{\n",
       "    x.observe(outputEl, {childList: true});\n",
       "}}\n",
       "\n",
       "                        })                };                });            </script>        </div>"
      ]
     },
     "metadata": {},
     "output_type": "display_data"
    },
    {
     "data": {
      "application/vnd.plotly.v1+json": {
       "config": {
        "plotlyServerURL": "https://plot.ly"
       },
       "data": [
        {
         "histnorm": "probability density",
         "name": "Bush did 9/11 b",
         "opacity": 0.75,
         "type": "histogram",
         "x": [
          2564.92333984375,
          132.78140258789062,
          96.37844848632812,
          95.94186401367188,
          97.29011535644531,
          106.34687042236328,
          80.13286590576172
         ]
        },
        {
         "histnorm": "probability density",
         "name": "Barack Obama wa",
         "opacity": 0.75,
         "type": "histogram",
         "x": [
          2564.92333984375,
          141.23780822753906,
          89.68917846679688,
          103.56055450439453,
          83.07826232910156,
          106.9563980102539,
          86.92952728271484
         ]
        },
        {
         "histnorm": "probability density",
         "name": "Shrek starts of",
         "opacity": 0.75,
         "type": "histogram",
         "x": [
          2564.923095703125,
          145.53717041015625,
          110.39164733886719,
          93.48239135742188,
          88.21179962158203,
          76.26374816894531,
          81.776611328125,
          128.34805297851562
         ]
        },
        {
         "histnorm": "probability density",
         "name": "I went up to my",
         "opacity": 0.75,
         "type": "histogram",
         "x": [
          2564.923095703125,
          127.9372787475586,
          103.25999450683594,
          92.5665512084961,
          78.36251831054688,
          90.6353530883789,
          101.20439910888672,
          77.0281982421875,
          83.4383773803711
         ]
        },
        {
         "histnorm": "probability density",
         "name": "I talk about we",
         "opacity": 0.75,
         "type": "histogram",
         "x": [
          2564.92333984375,
          127.9372787475586,
          99.5855941772461,
          84.56688690185547,
          129.82281494140625,
          106.33314514160156
         ]
        },
        {
         "histnorm": "probability density",
         "name": "I bring up wedd",
         "opacity": 0.75,
         "type": "histogram",
         "x": [
          2564.923095703125,
          127.93728637695312,
          97.0567626953125,
          91.8416748046875,
          124.42891693115234,
          80.5674057006836,
          89.6768798828125,
          98.00701904296875
         ]
        },
        {
         "histnorm": "probability density",
         "name": "I hate talking ",
         "opacity": 0.75,
         "type": "histogram",
         "x": [
          2564.923095703125,
          127.9372787475586,
          106.93722534179688,
          97.21993255615234,
          86.98408508300781,
          131.20846557617188,
          84.00659942626953,
          99.17153930664062,
          78.59495544433594,
          91.90486145019531,
          88.375244140625,
          89.23759460449219,
          82.35906982421875,
          78.20000457763672,
          104.82511901855469,
          91.9404067993164,
          108.18231201171875,
          74.94237518310547,
          75.21638488769531,
          78.58366394042969,
          104.76460266113281,
          81.88170623779297,
          118.66069793701172,
          93.24873352050781,
          83.19173431396484,
          82.1457748413086,
          104.26712799072266,
          79.72254180908203,
          114.05513763427734,
          72.3115234375
         ]
        }
       ],
       "layout": {
        "bargap": 0.1,
        "bargroupgap": 0.1,
        "barmode": "overlay",
        "template": {
         "data": {
          "bar": [
           {
            "error_x": {
             "color": "#2a3f5f"
            },
            "error_y": {
             "color": "#2a3f5f"
            },
            "marker": {
             "line": {
              "color": "#E5ECF6",
              "width": 0.5
             },
             "pattern": {
              "fillmode": "overlay",
              "size": 10,
              "solidity": 0.2
             }
            },
            "type": "bar"
           }
          ],
          "barpolar": [
           {
            "marker": {
             "line": {
              "color": "#E5ECF6",
              "width": 0.5
             },
             "pattern": {
              "fillmode": "overlay",
              "size": 10,
              "solidity": 0.2
             }
            },
            "type": "barpolar"
           }
          ],
          "carpet": [
           {
            "aaxis": {
             "endlinecolor": "#2a3f5f",
             "gridcolor": "white",
             "linecolor": "white",
             "minorgridcolor": "white",
             "startlinecolor": "#2a3f5f"
            },
            "baxis": {
             "endlinecolor": "#2a3f5f",
             "gridcolor": "white",
             "linecolor": "white",
             "minorgridcolor": "white",
             "startlinecolor": "#2a3f5f"
            },
            "type": "carpet"
           }
          ],
          "choropleth": [
           {
            "colorbar": {
             "outlinewidth": 0,
             "ticks": ""
            },
            "type": "choropleth"
           }
          ],
          "contour": [
           {
            "colorbar": {
             "outlinewidth": 0,
             "ticks": ""
            },
            "colorscale": [
             [
              0,
              "#0d0887"
             ],
             [
              0.1111111111111111,
              "#46039f"
             ],
             [
              0.2222222222222222,
              "#7201a8"
             ],
             [
              0.3333333333333333,
              "#9c179e"
             ],
             [
              0.4444444444444444,
              "#bd3786"
             ],
             [
              0.5555555555555556,
              "#d8576b"
             ],
             [
              0.6666666666666666,
              "#ed7953"
             ],
             [
              0.7777777777777778,
              "#fb9f3a"
             ],
             [
              0.8888888888888888,
              "#fdca26"
             ],
             [
              1,
              "#f0f921"
             ]
            ],
            "type": "contour"
           }
          ],
          "contourcarpet": [
           {
            "colorbar": {
             "outlinewidth": 0,
             "ticks": ""
            },
            "type": "contourcarpet"
           }
          ],
          "heatmap": [
           {
            "colorbar": {
             "outlinewidth": 0,
             "ticks": ""
            },
            "colorscale": [
             [
              0,
              "#0d0887"
             ],
             [
              0.1111111111111111,
              "#46039f"
             ],
             [
              0.2222222222222222,
              "#7201a8"
             ],
             [
              0.3333333333333333,
              "#9c179e"
             ],
             [
              0.4444444444444444,
              "#bd3786"
             ],
             [
              0.5555555555555556,
              "#d8576b"
             ],
             [
              0.6666666666666666,
              "#ed7953"
             ],
             [
              0.7777777777777778,
              "#fb9f3a"
             ],
             [
              0.8888888888888888,
              "#fdca26"
             ],
             [
              1,
              "#f0f921"
             ]
            ],
            "type": "heatmap"
           }
          ],
          "heatmapgl": [
           {
            "colorbar": {
             "outlinewidth": 0,
             "ticks": ""
            },
            "colorscale": [
             [
              0,
              "#0d0887"
             ],
             [
              0.1111111111111111,
              "#46039f"
             ],
             [
              0.2222222222222222,
              "#7201a8"
             ],
             [
              0.3333333333333333,
              "#9c179e"
             ],
             [
              0.4444444444444444,
              "#bd3786"
             ],
             [
              0.5555555555555556,
              "#d8576b"
             ],
             [
              0.6666666666666666,
              "#ed7953"
             ],
             [
              0.7777777777777778,
              "#fb9f3a"
             ],
             [
              0.8888888888888888,
              "#fdca26"
             ],
             [
              1,
              "#f0f921"
             ]
            ],
            "type": "heatmapgl"
           }
          ],
          "histogram": [
           {
            "marker": {
             "pattern": {
              "fillmode": "overlay",
              "size": 10,
              "solidity": 0.2
             }
            },
            "type": "histogram"
           }
          ],
          "histogram2d": [
           {
            "colorbar": {
             "outlinewidth": 0,
             "ticks": ""
            },
            "colorscale": [
             [
              0,
              "#0d0887"
             ],
             [
              0.1111111111111111,
              "#46039f"
             ],
             [
              0.2222222222222222,
              "#7201a8"
             ],
             [
              0.3333333333333333,
              "#9c179e"
             ],
             [
              0.4444444444444444,
              "#bd3786"
             ],
             [
              0.5555555555555556,
              "#d8576b"
             ],
             [
              0.6666666666666666,
              "#ed7953"
             ],
             [
              0.7777777777777778,
              "#fb9f3a"
             ],
             [
              0.8888888888888888,
              "#fdca26"
             ],
             [
              1,
              "#f0f921"
             ]
            ],
            "type": "histogram2d"
           }
          ],
          "histogram2dcontour": [
           {
            "colorbar": {
             "outlinewidth": 0,
             "ticks": ""
            },
            "colorscale": [
             [
              0,
              "#0d0887"
             ],
             [
              0.1111111111111111,
              "#46039f"
             ],
             [
              0.2222222222222222,
              "#7201a8"
             ],
             [
              0.3333333333333333,
              "#9c179e"
             ],
             [
              0.4444444444444444,
              "#bd3786"
             ],
             [
              0.5555555555555556,
              "#d8576b"
             ],
             [
              0.6666666666666666,
              "#ed7953"
             ],
             [
              0.7777777777777778,
              "#fb9f3a"
             ],
             [
              0.8888888888888888,
              "#fdca26"
             ],
             [
              1,
              "#f0f921"
             ]
            ],
            "type": "histogram2dcontour"
           }
          ],
          "mesh3d": [
           {
            "colorbar": {
             "outlinewidth": 0,
             "ticks": ""
            },
            "type": "mesh3d"
           }
          ],
          "parcoords": [
           {
            "line": {
             "colorbar": {
              "outlinewidth": 0,
              "ticks": ""
             }
            },
            "type": "parcoords"
           }
          ],
          "pie": [
           {
            "automargin": true,
            "type": "pie"
           }
          ],
          "scatter": [
           {
            "fillpattern": {
             "fillmode": "overlay",
             "size": 10,
             "solidity": 0.2
            },
            "type": "scatter"
           }
          ],
          "scatter3d": [
           {
            "line": {
             "colorbar": {
              "outlinewidth": 0,
              "ticks": ""
             }
            },
            "marker": {
             "colorbar": {
              "outlinewidth": 0,
              "ticks": ""
             }
            },
            "type": "scatter3d"
           }
          ],
          "scattercarpet": [
           {
            "marker": {
             "colorbar": {
              "outlinewidth": 0,
              "ticks": ""
             }
            },
            "type": "scattercarpet"
           }
          ],
          "scattergeo": [
           {
            "marker": {
             "colorbar": {
              "outlinewidth": 0,
              "ticks": ""
             }
            },
            "type": "scattergeo"
           }
          ],
          "scattergl": [
           {
            "marker": {
             "colorbar": {
              "outlinewidth": 0,
              "ticks": ""
             }
            },
            "type": "scattergl"
           }
          ],
          "scattermapbox": [
           {
            "marker": {
             "colorbar": {
              "outlinewidth": 0,
              "ticks": ""
             }
            },
            "type": "scattermapbox"
           }
          ],
          "scatterpolar": [
           {
            "marker": {
             "colorbar": {
              "outlinewidth": 0,
              "ticks": ""
             }
            },
            "type": "scatterpolar"
           }
          ],
          "scatterpolargl": [
           {
            "marker": {
             "colorbar": {
              "outlinewidth": 0,
              "ticks": ""
             }
            },
            "type": "scatterpolargl"
           }
          ],
          "scatterternary": [
           {
            "marker": {
             "colorbar": {
              "outlinewidth": 0,
              "ticks": ""
             }
            },
            "type": "scatterternary"
           }
          ],
          "surface": [
           {
            "colorbar": {
             "outlinewidth": 0,
             "ticks": ""
            },
            "colorscale": [
             [
              0,
              "#0d0887"
             ],
             [
              0.1111111111111111,
              "#46039f"
             ],
             [
              0.2222222222222222,
              "#7201a8"
             ],
             [
              0.3333333333333333,
              "#9c179e"
             ],
             [
              0.4444444444444444,
              "#bd3786"
             ],
             [
              0.5555555555555556,
              "#d8576b"
             ],
             [
              0.6666666666666666,
              "#ed7953"
             ],
             [
              0.7777777777777778,
              "#fb9f3a"
             ],
             [
              0.8888888888888888,
              "#fdca26"
             ],
             [
              1,
              "#f0f921"
             ]
            ],
            "type": "surface"
           }
          ],
          "table": [
           {
            "cells": {
             "fill": {
              "color": "#EBF0F8"
             },
             "line": {
              "color": "white"
             }
            },
            "header": {
             "fill": {
              "color": "#C8D4E3"
             },
             "line": {
              "color": "white"
             }
            },
            "type": "table"
           }
          ]
         },
         "layout": {
          "annotationdefaults": {
           "arrowcolor": "#2a3f5f",
           "arrowhead": 0,
           "arrowwidth": 1
          },
          "autotypenumbers": "strict",
          "coloraxis": {
           "colorbar": {
            "outlinewidth": 0,
            "ticks": ""
           }
          },
          "colorscale": {
           "diverging": [
            [
             0,
             "#8e0152"
            ],
            [
             0.1,
             "#c51b7d"
            ],
            [
             0.2,
             "#de77ae"
            ],
            [
             0.3,
             "#f1b6da"
            ],
            [
             0.4,
             "#fde0ef"
            ],
            [
             0.5,
             "#f7f7f7"
            ],
            [
             0.6,
             "#e6f5d0"
            ],
            [
             0.7,
             "#b8e186"
            ],
            [
             0.8,
             "#7fbc41"
            ],
            [
             0.9,
             "#4d9221"
            ],
            [
             1,
             "#276419"
            ]
           ],
           "sequential": [
            [
             0,
             "#0d0887"
            ],
            [
             0.1111111111111111,
             "#46039f"
            ],
            [
             0.2222222222222222,
             "#7201a8"
            ],
            [
             0.3333333333333333,
             "#9c179e"
            ],
            [
             0.4444444444444444,
             "#bd3786"
            ],
            [
             0.5555555555555556,
             "#d8576b"
            ],
            [
             0.6666666666666666,
             "#ed7953"
            ],
            [
             0.7777777777777778,
             "#fb9f3a"
            ],
            [
             0.8888888888888888,
             "#fdca26"
            ],
            [
             1,
             "#f0f921"
            ]
           ],
           "sequentialminus": [
            [
             0,
             "#0d0887"
            ],
            [
             0.1111111111111111,
             "#46039f"
            ],
            [
             0.2222222222222222,
             "#7201a8"
            ],
            [
             0.3333333333333333,
             "#9c179e"
            ],
            [
             0.4444444444444444,
             "#bd3786"
            ],
            [
             0.5555555555555556,
             "#d8576b"
            ],
            [
             0.6666666666666666,
             "#ed7953"
            ],
            [
             0.7777777777777778,
             "#fb9f3a"
            ],
            [
             0.8888888888888888,
             "#fdca26"
            ],
            [
             1,
             "#f0f921"
            ]
           ]
          },
          "colorway": [
           "#636efa",
           "#EF553B",
           "#00cc96",
           "#ab63fa",
           "#FFA15A",
           "#19d3f3",
           "#FF6692",
           "#B6E880",
           "#FF97FF",
           "#FECB52"
          ],
          "font": {
           "color": "#2a3f5f"
          },
          "geo": {
           "bgcolor": "white",
           "lakecolor": "white",
           "landcolor": "#E5ECF6",
           "showlakes": true,
           "showland": true,
           "subunitcolor": "white"
          },
          "hoverlabel": {
           "align": "left"
          },
          "hovermode": "closest",
          "mapbox": {
           "style": "light"
          },
          "paper_bgcolor": "white",
          "plot_bgcolor": "#E5ECF6",
          "polar": {
           "angularaxis": {
            "gridcolor": "white",
            "linecolor": "white",
            "ticks": ""
           },
           "bgcolor": "#E5ECF6",
           "radialaxis": {
            "gridcolor": "white",
            "linecolor": "white",
            "ticks": ""
           }
          },
          "scene": {
           "xaxis": {
            "backgroundcolor": "#E5ECF6",
            "gridcolor": "white",
            "gridwidth": 2,
            "linecolor": "white",
            "showbackground": true,
            "ticks": "",
            "zerolinecolor": "white"
           },
           "yaxis": {
            "backgroundcolor": "#E5ECF6",
            "gridcolor": "white",
            "gridwidth": 2,
            "linecolor": "white",
            "showbackground": true,
            "ticks": "",
            "zerolinecolor": "white"
           },
           "zaxis": {
            "backgroundcolor": "#E5ECF6",
            "gridcolor": "white",
            "gridwidth": 2,
            "linecolor": "white",
            "showbackground": true,
            "ticks": "",
            "zerolinecolor": "white"
           }
          },
          "shapedefaults": {
           "line": {
            "color": "#2a3f5f"
           }
          },
          "ternary": {
           "aaxis": {
            "gridcolor": "white",
            "linecolor": "white",
            "ticks": ""
           },
           "baxis": {
            "gridcolor": "white",
            "linecolor": "white",
            "ticks": ""
           },
           "bgcolor": "#E5ECF6",
           "caxis": {
            "gridcolor": "white",
            "linecolor": "white",
            "ticks": ""
           }
          },
          "title": {
           "x": 0.05
          },
          "xaxis": {
           "automargin": true,
           "gridcolor": "white",
           "linecolor": "white",
           "ticks": "",
           "title": {
            "standoff": 15
           },
           "zerolinecolor": "white",
           "zerolinewidth": 2
          },
          "yaxis": {
           "automargin": true,
           "gridcolor": "white",
           "linecolor": "white",
           "ticks": "",
           "title": {
            "standoff": 15
           },
           "zerolinecolor": "white",
           "zerolinewidth": 2
          }
         }
        },
        "title": {
         "text": "Activation Location: 12 (blocks.12.hook_resid_pre)"
        },
        "xaxis": {
         "title": {
          "text": "Magnitude"
         }
        },
        "yaxis": {
         "title": {
          "text": "Probability Density"
         }
        }
       }
      },
      "text/html": [
       "<div>                            <div id=\"e6636473-45cc-4886-b15b-d19ef02db104\" class=\"plotly-graph-div\" style=\"height:525px; width:100%;\"></div>            <script type=\"text/javascript\">                require([\"plotly\"], function(Plotly) {                    window.PLOTLYENV=window.PLOTLYENV || {};                                    if (document.getElementById(\"e6636473-45cc-4886-b15b-d19ef02db104\")) {                    Plotly.newPlot(                        \"e6636473-45cc-4886-b15b-d19ef02db104\",                        [{\"histnorm\":\"probability density\",\"name\":\"Bush did 9/11 b\",\"opacity\":0.75,\"x\":[2564.92333984375,132.78140258789062,96.37844848632812,95.94186401367188,97.29011535644531,106.34687042236328,80.13286590576172],\"type\":\"histogram\"},{\"histnorm\":\"probability density\",\"name\":\"Barack Obama wa\",\"opacity\":0.75,\"x\":[2564.92333984375,141.23780822753906,89.68917846679688,103.56055450439453,83.07826232910156,106.9563980102539,86.92952728271484],\"type\":\"histogram\"},{\"histnorm\":\"probability density\",\"name\":\"Shrek starts of\",\"opacity\":0.75,\"x\":[2564.923095703125,145.53717041015625,110.39164733886719,93.48239135742188,88.21179962158203,76.26374816894531,81.776611328125,128.34805297851562],\"type\":\"histogram\"},{\"histnorm\":\"probability density\",\"name\":\"I went up to my\",\"opacity\":0.75,\"x\":[2564.923095703125,127.9372787475586,103.25999450683594,92.5665512084961,78.36251831054688,90.6353530883789,101.20439910888672,77.0281982421875,83.4383773803711],\"type\":\"histogram\"},{\"histnorm\":\"probability density\",\"name\":\"I talk about we\",\"opacity\":0.75,\"x\":[2564.92333984375,127.9372787475586,99.5855941772461,84.56688690185547,129.82281494140625,106.33314514160156],\"type\":\"histogram\"},{\"histnorm\":\"probability density\",\"name\":\"I bring up wedd\",\"opacity\":0.75,\"x\":[2564.923095703125,127.93728637695312,97.0567626953125,91.8416748046875,124.42891693115234,80.5674057006836,89.6768798828125,98.00701904296875],\"type\":\"histogram\"},{\"histnorm\":\"probability density\",\"name\":\"I hate talking \",\"opacity\":0.75,\"x\":[2564.923095703125,127.9372787475586,106.93722534179688,97.21993255615234,86.98408508300781,131.20846557617188,84.00659942626953,99.17153930664062,78.59495544433594,91.90486145019531,88.375244140625,89.23759460449219,82.35906982421875,78.20000457763672,104.82511901855469,91.9404067993164,108.18231201171875,74.94237518310547,75.21638488769531,78.58366394042969,104.76460266113281,81.88170623779297,118.66069793701172,93.24873352050781,83.19173431396484,82.1457748413086,104.26712799072266,79.72254180908203,114.05513763427734,72.3115234375],\"type\":\"histogram\"}],                        {\"template\":{\"data\":{\"histogram2dcontour\":[{\"type\":\"histogram2dcontour\",\"colorbar\":{\"outlinewidth\":0,\"ticks\":\"\"},\"colorscale\":[[0.0,\"#0d0887\"],[0.1111111111111111,\"#46039f\"],[0.2222222222222222,\"#7201a8\"],[0.3333333333333333,\"#9c179e\"],[0.4444444444444444,\"#bd3786\"],[0.5555555555555556,\"#d8576b\"],[0.6666666666666666,\"#ed7953\"],[0.7777777777777778,\"#fb9f3a\"],[0.8888888888888888,\"#fdca26\"],[1.0,\"#f0f921\"]]}],\"choropleth\":[{\"type\":\"choropleth\",\"colorbar\":{\"outlinewidth\":0,\"ticks\":\"\"}}],\"histogram2d\":[{\"type\":\"histogram2d\",\"colorbar\":{\"outlinewidth\":0,\"ticks\":\"\"},\"colorscale\":[[0.0,\"#0d0887\"],[0.1111111111111111,\"#46039f\"],[0.2222222222222222,\"#7201a8\"],[0.3333333333333333,\"#9c179e\"],[0.4444444444444444,\"#bd3786\"],[0.5555555555555556,\"#d8576b\"],[0.6666666666666666,\"#ed7953\"],[0.7777777777777778,\"#fb9f3a\"],[0.8888888888888888,\"#fdca26\"],[1.0,\"#f0f921\"]]}],\"heatmap\":[{\"type\":\"heatmap\",\"colorbar\":{\"outlinewidth\":0,\"ticks\":\"\"},\"colorscale\":[[0.0,\"#0d0887\"],[0.1111111111111111,\"#46039f\"],[0.2222222222222222,\"#7201a8\"],[0.3333333333333333,\"#9c179e\"],[0.4444444444444444,\"#bd3786\"],[0.5555555555555556,\"#d8576b\"],[0.6666666666666666,\"#ed7953\"],[0.7777777777777778,\"#fb9f3a\"],[0.8888888888888888,\"#fdca26\"],[1.0,\"#f0f921\"]]}],\"heatmapgl\":[{\"type\":\"heatmapgl\",\"colorbar\":{\"outlinewidth\":0,\"ticks\":\"\"},\"colorscale\":[[0.0,\"#0d0887\"],[0.1111111111111111,\"#46039f\"],[0.2222222222222222,\"#7201a8\"],[0.3333333333333333,\"#9c179e\"],[0.4444444444444444,\"#bd3786\"],[0.5555555555555556,\"#d8576b\"],[0.6666666666666666,\"#ed7953\"],[0.7777777777777778,\"#fb9f3a\"],[0.8888888888888888,\"#fdca26\"],[1.0,\"#f0f921\"]]}],\"contourcarpet\":[{\"type\":\"contourcarpet\",\"colorbar\":{\"outlinewidth\":0,\"ticks\":\"\"}}],\"contour\":[{\"type\":\"contour\",\"colorbar\":{\"outlinewidth\":0,\"ticks\":\"\"},\"colorscale\":[[0.0,\"#0d0887\"],[0.1111111111111111,\"#46039f\"],[0.2222222222222222,\"#7201a8\"],[0.3333333333333333,\"#9c179e\"],[0.4444444444444444,\"#bd3786\"],[0.5555555555555556,\"#d8576b\"],[0.6666666666666666,\"#ed7953\"],[0.7777777777777778,\"#fb9f3a\"],[0.8888888888888888,\"#fdca26\"],[1.0,\"#f0f921\"]]}],\"surface\":[{\"type\":\"surface\",\"colorbar\":{\"outlinewidth\":0,\"ticks\":\"\"},\"colorscale\":[[0.0,\"#0d0887\"],[0.1111111111111111,\"#46039f\"],[0.2222222222222222,\"#7201a8\"],[0.3333333333333333,\"#9c179e\"],[0.4444444444444444,\"#bd3786\"],[0.5555555555555556,\"#d8576b\"],[0.6666666666666666,\"#ed7953\"],[0.7777777777777778,\"#fb9f3a\"],[0.8888888888888888,\"#fdca26\"],[1.0,\"#f0f921\"]]}],\"mesh3d\":[{\"type\":\"mesh3d\",\"colorbar\":{\"outlinewidth\":0,\"ticks\":\"\"}}],\"scatter\":[{\"fillpattern\":{\"fillmode\":\"overlay\",\"size\":10,\"solidity\":0.2},\"type\":\"scatter\"}],\"parcoords\":[{\"type\":\"parcoords\",\"line\":{\"colorbar\":{\"outlinewidth\":0,\"ticks\":\"\"}}}],\"scatterpolargl\":[{\"type\":\"scatterpolargl\",\"marker\":{\"colorbar\":{\"outlinewidth\":0,\"ticks\":\"\"}}}],\"bar\":[{\"error_x\":{\"color\":\"#2a3f5f\"},\"error_y\":{\"color\":\"#2a3f5f\"},\"marker\":{\"line\":{\"color\":\"#E5ECF6\",\"width\":0.5},\"pattern\":{\"fillmode\":\"overlay\",\"size\":10,\"solidity\":0.2}},\"type\":\"bar\"}],\"scattergeo\":[{\"type\":\"scattergeo\",\"marker\":{\"colorbar\":{\"outlinewidth\":0,\"ticks\":\"\"}}}],\"scatterpolar\":[{\"type\":\"scatterpolar\",\"marker\":{\"colorbar\":{\"outlinewidth\":0,\"ticks\":\"\"}}}],\"histogram\":[{\"marker\":{\"pattern\":{\"fillmode\":\"overlay\",\"size\":10,\"solidity\":0.2}},\"type\":\"histogram\"}],\"scattergl\":[{\"type\":\"scattergl\",\"marker\":{\"colorbar\":{\"outlinewidth\":0,\"ticks\":\"\"}}}],\"scatter3d\":[{\"type\":\"scatter3d\",\"line\":{\"colorbar\":{\"outlinewidth\":0,\"ticks\":\"\"}},\"marker\":{\"colorbar\":{\"outlinewidth\":0,\"ticks\":\"\"}}}],\"scattermapbox\":[{\"type\":\"scattermapbox\",\"marker\":{\"colorbar\":{\"outlinewidth\":0,\"ticks\":\"\"}}}],\"scatterternary\":[{\"type\":\"scatterternary\",\"marker\":{\"colorbar\":{\"outlinewidth\":0,\"ticks\":\"\"}}}],\"scattercarpet\":[{\"type\":\"scattercarpet\",\"marker\":{\"colorbar\":{\"outlinewidth\":0,\"ticks\":\"\"}}}],\"carpet\":[{\"aaxis\":{\"endlinecolor\":\"#2a3f5f\",\"gridcolor\":\"white\",\"linecolor\":\"white\",\"minorgridcolor\":\"white\",\"startlinecolor\":\"#2a3f5f\"},\"baxis\":{\"endlinecolor\":\"#2a3f5f\",\"gridcolor\":\"white\",\"linecolor\":\"white\",\"minorgridcolor\":\"white\",\"startlinecolor\":\"#2a3f5f\"},\"type\":\"carpet\"}],\"table\":[{\"cells\":{\"fill\":{\"color\":\"#EBF0F8\"},\"line\":{\"color\":\"white\"}},\"header\":{\"fill\":{\"color\":\"#C8D4E3\"},\"line\":{\"color\":\"white\"}},\"type\":\"table\"}],\"barpolar\":[{\"marker\":{\"line\":{\"color\":\"#E5ECF6\",\"width\":0.5},\"pattern\":{\"fillmode\":\"overlay\",\"size\":10,\"solidity\":0.2}},\"type\":\"barpolar\"}],\"pie\":[{\"automargin\":true,\"type\":\"pie\"}]},\"layout\":{\"autotypenumbers\":\"strict\",\"colorway\":[\"#636efa\",\"#EF553B\",\"#00cc96\",\"#ab63fa\",\"#FFA15A\",\"#19d3f3\",\"#FF6692\",\"#B6E880\",\"#FF97FF\",\"#FECB52\"],\"font\":{\"color\":\"#2a3f5f\"},\"hovermode\":\"closest\",\"hoverlabel\":{\"align\":\"left\"},\"paper_bgcolor\":\"white\",\"plot_bgcolor\":\"#E5ECF6\",\"polar\":{\"bgcolor\":\"#E5ECF6\",\"angularaxis\":{\"gridcolor\":\"white\",\"linecolor\":\"white\",\"ticks\":\"\"},\"radialaxis\":{\"gridcolor\":\"white\",\"linecolor\":\"white\",\"ticks\":\"\"}},\"ternary\":{\"bgcolor\":\"#E5ECF6\",\"aaxis\":{\"gridcolor\":\"white\",\"linecolor\":\"white\",\"ticks\":\"\"},\"baxis\":{\"gridcolor\":\"white\",\"linecolor\":\"white\",\"ticks\":\"\"},\"caxis\":{\"gridcolor\":\"white\",\"linecolor\":\"white\",\"ticks\":\"\"}},\"coloraxis\":{\"colorbar\":{\"outlinewidth\":0,\"ticks\":\"\"}},\"colorscale\":{\"sequential\":[[0.0,\"#0d0887\"],[0.1111111111111111,\"#46039f\"],[0.2222222222222222,\"#7201a8\"],[0.3333333333333333,\"#9c179e\"],[0.4444444444444444,\"#bd3786\"],[0.5555555555555556,\"#d8576b\"],[0.6666666666666666,\"#ed7953\"],[0.7777777777777778,\"#fb9f3a\"],[0.8888888888888888,\"#fdca26\"],[1.0,\"#f0f921\"]],\"sequentialminus\":[[0.0,\"#0d0887\"],[0.1111111111111111,\"#46039f\"],[0.2222222222222222,\"#7201a8\"],[0.3333333333333333,\"#9c179e\"],[0.4444444444444444,\"#bd3786\"],[0.5555555555555556,\"#d8576b\"],[0.6666666666666666,\"#ed7953\"],[0.7777777777777778,\"#fb9f3a\"],[0.8888888888888888,\"#fdca26\"],[1.0,\"#f0f921\"]],\"diverging\":[[0,\"#8e0152\"],[0.1,\"#c51b7d\"],[0.2,\"#de77ae\"],[0.3,\"#f1b6da\"],[0.4,\"#fde0ef\"],[0.5,\"#f7f7f7\"],[0.6,\"#e6f5d0\"],[0.7,\"#b8e186\"],[0.8,\"#7fbc41\"],[0.9,\"#4d9221\"],[1,\"#276419\"]]},\"xaxis\":{\"gridcolor\":\"white\",\"linecolor\":\"white\",\"ticks\":\"\",\"title\":{\"standoff\":15},\"zerolinecolor\":\"white\",\"automargin\":true,\"zerolinewidth\":2},\"yaxis\":{\"gridcolor\":\"white\",\"linecolor\":\"white\",\"ticks\":\"\",\"title\":{\"standoff\":15},\"zerolinecolor\":\"white\",\"automargin\":true,\"zerolinewidth\":2},\"scene\":{\"xaxis\":{\"backgroundcolor\":\"#E5ECF6\",\"gridcolor\":\"white\",\"linecolor\":\"white\",\"showbackground\":true,\"ticks\":\"\",\"zerolinecolor\":\"white\",\"gridwidth\":2},\"yaxis\":{\"backgroundcolor\":\"#E5ECF6\",\"gridcolor\":\"white\",\"linecolor\":\"white\",\"showbackground\":true,\"ticks\":\"\",\"zerolinecolor\":\"white\",\"gridwidth\":2},\"zaxis\":{\"backgroundcolor\":\"#E5ECF6\",\"gridcolor\":\"white\",\"linecolor\":\"white\",\"showbackground\":true,\"ticks\":\"\",\"zerolinecolor\":\"white\",\"gridwidth\":2}},\"shapedefaults\":{\"line\":{\"color\":\"#2a3f5f\"}},\"annotationdefaults\":{\"arrowcolor\":\"#2a3f5f\",\"arrowhead\":0,\"arrowwidth\":1},\"geo\":{\"bgcolor\":\"white\",\"landcolor\":\"#E5ECF6\",\"subunitcolor\":\"white\",\"showland\":true,\"showlakes\":true,\"lakecolor\":\"white\"},\"title\":{\"x\":0.05},\"mapbox\":{\"style\":\"light\"}}},\"title\":{\"text\":\"Activation Location: 12 (blocks.12.hook_resid_pre)\"},\"xaxis\":{\"title\":{\"text\":\"Magnitude\"}},\"yaxis\":{\"title\":{\"text\":\"Probability Density\"}},\"barmode\":\"overlay\",\"bargap\":0.1,\"bargroupgap\":0.1},                        {\"responsive\": true}                    ).then(function(){\n",
       "                            \n",
       "var gd = document.getElementById('e6636473-45cc-4886-b15b-d19ef02db104');\n",
       "var x = new MutationObserver(function (mutations, observer) {{\n",
       "        var display = window.getComputedStyle(gd).display;\n",
       "        if (!display || display === 'none') {{\n",
       "            console.log([gd, 'removed!']);\n",
       "            Plotly.purge(gd);\n",
       "            observer.disconnect();\n",
       "        }}\n",
       "}});\n",
       "\n",
       "// Listen for the removal of the full notebook cells\n",
       "var notebookContainer = gd.closest('#notebook-container');\n",
       "if (notebookContainer) {{\n",
       "    x.observe(notebookContainer, {childList: true});\n",
       "}}\n",
       "\n",
       "// Listen for the clearing of the current output cell\n",
       "var outputEl = gd.closest('.output');\n",
       "if (outputEl) {{\n",
       "    x.observe(outputEl, {childList: true});\n",
       "}}\n",
       "\n",
       "                        })                };                });            </script>        </div>"
      ]
     },
     "metadata": {},
     "output_type": "display_data"
    },
    {
     "data": {
      "application/vnd.plotly.v1+json": {
       "config": {
        "plotlyServerURL": "https://plot.ly"
       },
       "data": [
        {
         "histnorm": "probability density",
         "name": "Bush did 9/11 b",
         "opacity": 0.75,
         "type": "histogram",
         "x": [
          3875.978271484375,
          154.9808807373047,
          122.99642181396484,
          117.32386779785156,
          131.65359497070312,
          138.57473754882812,
          102.93079376220703
         ]
        },
        {
         "histnorm": "probability density",
         "name": "Barack Obama wa",
         "opacity": 0.75,
         "type": "histogram",
         "x": [
          3875.978271484375,
          166.99122619628906,
          125.13743591308594,
          134.6454315185547,
          101.96089935302734,
          132.68939208984375,
          114.6634521484375
         ]
        },
        {
         "histnorm": "probability density",
         "name": "Shrek starts of",
         "opacity": 0.75,
         "type": "histogram",
         "x": [
          3875.978515625,
          168.32852172851562,
          141.76571655273438,
          113.25406646728516,
          127.87208557128906,
          98.96975708007812,
          99.01660919189453,
          154.45606994628906
         ]
        },
        {
         "histnorm": "probability density",
         "name": "I went up to my",
         "opacity": 0.75,
         "type": "histogram",
         "x": [
          3875.978515625,
          157.8585968017578,
          127.25352478027344,
          122.61508178710938,
          113.59810638427734,
          111.52310943603516,
          130.3972625732422,
          112.58137512207031,
          113.82201385498047
         ]
        },
        {
         "histnorm": "probability density",
         "name": "I talk about we",
         "opacity": 0.75,
         "type": "histogram",
         "x": [
          3875.978271484375,
          157.8585968017578,
          118.6606674194336,
          116.31726837158203,
          159.17689514160156,
          130.982177734375
         ]
        },
        {
         "histnorm": "probability density",
         "name": "I bring up wedd",
         "opacity": 0.75,
         "type": "histogram",
         "x": [
          3875.978515625,
          157.8585968017578,
          118.87606811523438,
          126.06993103027344,
          151.683349609375,
          105.4685287475586,
          107.21302032470703,
          126.34990692138672
         ]
        },
        {
         "histnorm": "probability density",
         "name": "I hate talking ",
         "opacity": 0.75,
         "type": "histogram",
         "x": [
          3875.978271484375,
          157.85858154296875,
          128.89657592773438,
          120.3490982055664,
          115.32889556884766,
          163.9717559814453,
          109.43757629394531,
          122.0404281616211,
          103.3031005859375,
          113.58246612548828,
          113.06118774414062,
          117.56130981445312,
          106.87592315673828,
          98.52565002441406,
          122.8996810913086,
          116.96975708007812,
          133.91854858398438,
          104.24175262451172,
          96.39790344238281,
          94.14820098876953,
          122.9867935180664,
          105.3631820678711,
          135.3714599609375,
          129.0692596435547,
          113.26949310302734,
          100.72643280029297,
          130.87429809570312,
          115.2738265991211,
          141.51649475097656,
          86.94898986816406
         ]
        }
       ],
       "layout": {
        "bargap": 0.1,
        "bargroupgap": 0.1,
        "barmode": "overlay",
        "template": {
         "data": {
          "bar": [
           {
            "error_x": {
             "color": "#2a3f5f"
            },
            "error_y": {
             "color": "#2a3f5f"
            },
            "marker": {
             "line": {
              "color": "#E5ECF6",
              "width": 0.5
             },
             "pattern": {
              "fillmode": "overlay",
              "size": 10,
              "solidity": 0.2
             }
            },
            "type": "bar"
           }
          ],
          "barpolar": [
           {
            "marker": {
             "line": {
              "color": "#E5ECF6",
              "width": 0.5
             },
             "pattern": {
              "fillmode": "overlay",
              "size": 10,
              "solidity": 0.2
             }
            },
            "type": "barpolar"
           }
          ],
          "carpet": [
           {
            "aaxis": {
             "endlinecolor": "#2a3f5f",
             "gridcolor": "white",
             "linecolor": "white",
             "minorgridcolor": "white",
             "startlinecolor": "#2a3f5f"
            },
            "baxis": {
             "endlinecolor": "#2a3f5f",
             "gridcolor": "white",
             "linecolor": "white",
             "minorgridcolor": "white",
             "startlinecolor": "#2a3f5f"
            },
            "type": "carpet"
           }
          ],
          "choropleth": [
           {
            "colorbar": {
             "outlinewidth": 0,
             "ticks": ""
            },
            "type": "choropleth"
           }
          ],
          "contour": [
           {
            "colorbar": {
             "outlinewidth": 0,
             "ticks": ""
            },
            "colorscale": [
             [
              0,
              "#0d0887"
             ],
             [
              0.1111111111111111,
              "#46039f"
             ],
             [
              0.2222222222222222,
              "#7201a8"
             ],
             [
              0.3333333333333333,
              "#9c179e"
             ],
             [
              0.4444444444444444,
              "#bd3786"
             ],
             [
              0.5555555555555556,
              "#d8576b"
             ],
             [
              0.6666666666666666,
              "#ed7953"
             ],
             [
              0.7777777777777778,
              "#fb9f3a"
             ],
             [
              0.8888888888888888,
              "#fdca26"
             ],
             [
              1,
              "#f0f921"
             ]
            ],
            "type": "contour"
           }
          ],
          "contourcarpet": [
           {
            "colorbar": {
             "outlinewidth": 0,
             "ticks": ""
            },
            "type": "contourcarpet"
           }
          ],
          "heatmap": [
           {
            "colorbar": {
             "outlinewidth": 0,
             "ticks": ""
            },
            "colorscale": [
             [
              0,
              "#0d0887"
             ],
             [
              0.1111111111111111,
              "#46039f"
             ],
             [
              0.2222222222222222,
              "#7201a8"
             ],
             [
              0.3333333333333333,
              "#9c179e"
             ],
             [
              0.4444444444444444,
              "#bd3786"
             ],
             [
              0.5555555555555556,
              "#d8576b"
             ],
             [
              0.6666666666666666,
              "#ed7953"
             ],
             [
              0.7777777777777778,
              "#fb9f3a"
             ],
             [
              0.8888888888888888,
              "#fdca26"
             ],
             [
              1,
              "#f0f921"
             ]
            ],
            "type": "heatmap"
           }
          ],
          "heatmapgl": [
           {
            "colorbar": {
             "outlinewidth": 0,
             "ticks": ""
            },
            "colorscale": [
             [
              0,
              "#0d0887"
             ],
             [
              0.1111111111111111,
              "#46039f"
             ],
             [
              0.2222222222222222,
              "#7201a8"
             ],
             [
              0.3333333333333333,
              "#9c179e"
             ],
             [
              0.4444444444444444,
              "#bd3786"
             ],
             [
              0.5555555555555556,
              "#d8576b"
             ],
             [
              0.6666666666666666,
              "#ed7953"
             ],
             [
              0.7777777777777778,
              "#fb9f3a"
             ],
             [
              0.8888888888888888,
              "#fdca26"
             ],
             [
              1,
              "#f0f921"
             ]
            ],
            "type": "heatmapgl"
           }
          ],
          "histogram": [
           {
            "marker": {
             "pattern": {
              "fillmode": "overlay",
              "size": 10,
              "solidity": 0.2
             }
            },
            "type": "histogram"
           }
          ],
          "histogram2d": [
           {
            "colorbar": {
             "outlinewidth": 0,
             "ticks": ""
            },
            "colorscale": [
             [
              0,
              "#0d0887"
             ],
             [
              0.1111111111111111,
              "#46039f"
             ],
             [
              0.2222222222222222,
              "#7201a8"
             ],
             [
              0.3333333333333333,
              "#9c179e"
             ],
             [
              0.4444444444444444,
              "#bd3786"
             ],
             [
              0.5555555555555556,
              "#d8576b"
             ],
             [
              0.6666666666666666,
              "#ed7953"
             ],
             [
              0.7777777777777778,
              "#fb9f3a"
             ],
             [
              0.8888888888888888,
              "#fdca26"
             ],
             [
              1,
              "#f0f921"
             ]
            ],
            "type": "histogram2d"
           }
          ],
          "histogram2dcontour": [
           {
            "colorbar": {
             "outlinewidth": 0,
             "ticks": ""
            },
            "colorscale": [
             [
              0,
              "#0d0887"
             ],
             [
              0.1111111111111111,
              "#46039f"
             ],
             [
              0.2222222222222222,
              "#7201a8"
             ],
             [
              0.3333333333333333,
              "#9c179e"
             ],
             [
              0.4444444444444444,
              "#bd3786"
             ],
             [
              0.5555555555555556,
              "#d8576b"
             ],
             [
              0.6666666666666666,
              "#ed7953"
             ],
             [
              0.7777777777777778,
              "#fb9f3a"
             ],
             [
              0.8888888888888888,
              "#fdca26"
             ],
             [
              1,
              "#f0f921"
             ]
            ],
            "type": "histogram2dcontour"
           }
          ],
          "mesh3d": [
           {
            "colorbar": {
             "outlinewidth": 0,
             "ticks": ""
            },
            "type": "mesh3d"
           }
          ],
          "parcoords": [
           {
            "line": {
             "colorbar": {
              "outlinewidth": 0,
              "ticks": ""
             }
            },
            "type": "parcoords"
           }
          ],
          "pie": [
           {
            "automargin": true,
            "type": "pie"
           }
          ],
          "scatter": [
           {
            "fillpattern": {
             "fillmode": "overlay",
             "size": 10,
             "solidity": 0.2
            },
            "type": "scatter"
           }
          ],
          "scatter3d": [
           {
            "line": {
             "colorbar": {
              "outlinewidth": 0,
              "ticks": ""
             }
            },
            "marker": {
             "colorbar": {
              "outlinewidth": 0,
              "ticks": ""
             }
            },
            "type": "scatter3d"
           }
          ],
          "scattercarpet": [
           {
            "marker": {
             "colorbar": {
              "outlinewidth": 0,
              "ticks": ""
             }
            },
            "type": "scattercarpet"
           }
          ],
          "scattergeo": [
           {
            "marker": {
             "colorbar": {
              "outlinewidth": 0,
              "ticks": ""
             }
            },
            "type": "scattergeo"
           }
          ],
          "scattergl": [
           {
            "marker": {
             "colorbar": {
              "outlinewidth": 0,
              "ticks": ""
             }
            },
            "type": "scattergl"
           }
          ],
          "scattermapbox": [
           {
            "marker": {
             "colorbar": {
              "outlinewidth": 0,
              "ticks": ""
             }
            },
            "type": "scattermapbox"
           }
          ],
          "scatterpolar": [
           {
            "marker": {
             "colorbar": {
              "outlinewidth": 0,
              "ticks": ""
             }
            },
            "type": "scatterpolar"
           }
          ],
          "scatterpolargl": [
           {
            "marker": {
             "colorbar": {
              "outlinewidth": 0,
              "ticks": ""
             }
            },
            "type": "scatterpolargl"
           }
          ],
          "scatterternary": [
           {
            "marker": {
             "colorbar": {
              "outlinewidth": 0,
              "ticks": ""
             }
            },
            "type": "scatterternary"
           }
          ],
          "surface": [
           {
            "colorbar": {
             "outlinewidth": 0,
             "ticks": ""
            },
            "colorscale": [
             [
              0,
              "#0d0887"
             ],
             [
              0.1111111111111111,
              "#46039f"
             ],
             [
              0.2222222222222222,
              "#7201a8"
             ],
             [
              0.3333333333333333,
              "#9c179e"
             ],
             [
              0.4444444444444444,
              "#bd3786"
             ],
             [
              0.5555555555555556,
              "#d8576b"
             ],
             [
              0.6666666666666666,
              "#ed7953"
             ],
             [
              0.7777777777777778,
              "#fb9f3a"
             ],
             [
              0.8888888888888888,
              "#fdca26"
             ],
             [
              1,
              "#f0f921"
             ]
            ],
            "type": "surface"
           }
          ],
          "table": [
           {
            "cells": {
             "fill": {
              "color": "#EBF0F8"
             },
             "line": {
              "color": "white"
             }
            },
            "header": {
             "fill": {
              "color": "#C8D4E3"
             },
             "line": {
              "color": "white"
             }
            },
            "type": "table"
           }
          ]
         },
         "layout": {
          "annotationdefaults": {
           "arrowcolor": "#2a3f5f",
           "arrowhead": 0,
           "arrowwidth": 1
          },
          "autotypenumbers": "strict",
          "coloraxis": {
           "colorbar": {
            "outlinewidth": 0,
            "ticks": ""
           }
          },
          "colorscale": {
           "diverging": [
            [
             0,
             "#8e0152"
            ],
            [
             0.1,
             "#c51b7d"
            ],
            [
             0.2,
             "#de77ae"
            ],
            [
             0.3,
             "#f1b6da"
            ],
            [
             0.4,
             "#fde0ef"
            ],
            [
             0.5,
             "#f7f7f7"
            ],
            [
             0.6,
             "#e6f5d0"
            ],
            [
             0.7,
             "#b8e186"
            ],
            [
             0.8,
             "#7fbc41"
            ],
            [
             0.9,
             "#4d9221"
            ],
            [
             1,
             "#276419"
            ]
           ],
           "sequential": [
            [
             0,
             "#0d0887"
            ],
            [
             0.1111111111111111,
             "#46039f"
            ],
            [
             0.2222222222222222,
             "#7201a8"
            ],
            [
             0.3333333333333333,
             "#9c179e"
            ],
            [
             0.4444444444444444,
             "#bd3786"
            ],
            [
             0.5555555555555556,
             "#d8576b"
            ],
            [
             0.6666666666666666,
             "#ed7953"
            ],
            [
             0.7777777777777778,
             "#fb9f3a"
            ],
            [
             0.8888888888888888,
             "#fdca26"
            ],
            [
             1,
             "#f0f921"
            ]
           ],
           "sequentialminus": [
            [
             0,
             "#0d0887"
            ],
            [
             0.1111111111111111,
             "#46039f"
            ],
            [
             0.2222222222222222,
             "#7201a8"
            ],
            [
             0.3333333333333333,
             "#9c179e"
            ],
            [
             0.4444444444444444,
             "#bd3786"
            ],
            [
             0.5555555555555556,
             "#d8576b"
            ],
            [
             0.6666666666666666,
             "#ed7953"
            ],
            [
             0.7777777777777778,
             "#fb9f3a"
            ],
            [
             0.8888888888888888,
             "#fdca26"
            ],
            [
             1,
             "#f0f921"
            ]
           ]
          },
          "colorway": [
           "#636efa",
           "#EF553B",
           "#00cc96",
           "#ab63fa",
           "#FFA15A",
           "#19d3f3",
           "#FF6692",
           "#B6E880",
           "#FF97FF",
           "#FECB52"
          ],
          "font": {
           "color": "#2a3f5f"
          },
          "geo": {
           "bgcolor": "white",
           "lakecolor": "white",
           "landcolor": "#E5ECF6",
           "showlakes": true,
           "showland": true,
           "subunitcolor": "white"
          },
          "hoverlabel": {
           "align": "left"
          },
          "hovermode": "closest",
          "mapbox": {
           "style": "light"
          },
          "paper_bgcolor": "white",
          "plot_bgcolor": "#E5ECF6",
          "polar": {
           "angularaxis": {
            "gridcolor": "white",
            "linecolor": "white",
            "ticks": ""
           },
           "bgcolor": "#E5ECF6",
           "radialaxis": {
            "gridcolor": "white",
            "linecolor": "white",
            "ticks": ""
           }
          },
          "scene": {
           "xaxis": {
            "backgroundcolor": "#E5ECF6",
            "gridcolor": "white",
            "gridwidth": 2,
            "linecolor": "white",
            "showbackground": true,
            "ticks": "",
            "zerolinecolor": "white"
           },
           "yaxis": {
            "backgroundcolor": "#E5ECF6",
            "gridcolor": "white",
            "gridwidth": 2,
            "linecolor": "white",
            "showbackground": true,
            "ticks": "",
            "zerolinecolor": "white"
           },
           "zaxis": {
            "backgroundcolor": "#E5ECF6",
            "gridcolor": "white",
            "gridwidth": 2,
            "linecolor": "white",
            "showbackground": true,
            "ticks": "",
            "zerolinecolor": "white"
           }
          },
          "shapedefaults": {
           "line": {
            "color": "#2a3f5f"
           }
          },
          "ternary": {
           "aaxis": {
            "gridcolor": "white",
            "linecolor": "white",
            "ticks": ""
           },
           "baxis": {
            "gridcolor": "white",
            "linecolor": "white",
            "ticks": ""
           },
           "bgcolor": "#E5ECF6",
           "caxis": {
            "gridcolor": "white",
            "linecolor": "white",
            "ticks": ""
           }
          },
          "title": {
           "x": 0.05
          },
          "xaxis": {
           "automargin": true,
           "gridcolor": "white",
           "linecolor": "white",
           "ticks": "",
           "title": {
            "standoff": 15
           },
           "zerolinecolor": "white",
           "zerolinewidth": 2
          },
          "yaxis": {
           "automargin": true,
           "gridcolor": "white",
           "linecolor": "white",
           "ticks": "",
           "title": {
            "standoff": 15
           },
           "zerolinecolor": "white",
           "zerolinewidth": 2
          }
         }
        },
        "title": {
         "text": "Activation Location: 18 (blocks.18.hook_resid_pre)"
        },
        "xaxis": {
         "title": {
          "text": "Magnitude"
         }
        },
        "yaxis": {
         "title": {
          "text": "Probability Density"
         }
        }
       }
      },
      "text/html": [
       "<div>                            <div id=\"1d4d5432-a00c-489a-a60d-17eb940305d4\" class=\"plotly-graph-div\" style=\"height:525px; width:100%;\"></div>            <script type=\"text/javascript\">                require([\"plotly\"], function(Plotly) {                    window.PLOTLYENV=window.PLOTLYENV || {};                                    if (document.getElementById(\"1d4d5432-a00c-489a-a60d-17eb940305d4\")) {                    Plotly.newPlot(                        \"1d4d5432-a00c-489a-a60d-17eb940305d4\",                        [{\"histnorm\":\"probability density\",\"name\":\"Bush did 9/11 b\",\"opacity\":0.75,\"x\":[3875.978271484375,154.9808807373047,122.99642181396484,117.32386779785156,131.65359497070312,138.57473754882812,102.93079376220703],\"type\":\"histogram\"},{\"histnorm\":\"probability density\",\"name\":\"Barack Obama wa\",\"opacity\":0.75,\"x\":[3875.978271484375,166.99122619628906,125.13743591308594,134.6454315185547,101.96089935302734,132.68939208984375,114.6634521484375],\"type\":\"histogram\"},{\"histnorm\":\"probability density\",\"name\":\"Shrek starts of\",\"opacity\":0.75,\"x\":[3875.978515625,168.32852172851562,141.76571655273438,113.25406646728516,127.87208557128906,98.96975708007812,99.01660919189453,154.45606994628906],\"type\":\"histogram\"},{\"histnorm\":\"probability density\",\"name\":\"I went up to my\",\"opacity\":0.75,\"x\":[3875.978515625,157.8585968017578,127.25352478027344,122.61508178710938,113.59810638427734,111.52310943603516,130.3972625732422,112.58137512207031,113.82201385498047],\"type\":\"histogram\"},{\"histnorm\":\"probability density\",\"name\":\"I talk about we\",\"opacity\":0.75,\"x\":[3875.978271484375,157.8585968017578,118.6606674194336,116.31726837158203,159.17689514160156,130.982177734375],\"type\":\"histogram\"},{\"histnorm\":\"probability density\",\"name\":\"I bring up wedd\",\"opacity\":0.75,\"x\":[3875.978515625,157.8585968017578,118.87606811523438,126.06993103027344,151.683349609375,105.4685287475586,107.21302032470703,126.34990692138672],\"type\":\"histogram\"},{\"histnorm\":\"probability density\",\"name\":\"I hate talking \",\"opacity\":0.75,\"x\":[3875.978271484375,157.85858154296875,128.89657592773438,120.3490982055664,115.32889556884766,163.9717559814453,109.43757629394531,122.0404281616211,103.3031005859375,113.58246612548828,113.06118774414062,117.56130981445312,106.87592315673828,98.52565002441406,122.8996810913086,116.96975708007812,133.91854858398438,104.24175262451172,96.39790344238281,94.14820098876953,122.9867935180664,105.3631820678711,135.3714599609375,129.0692596435547,113.26949310302734,100.72643280029297,130.87429809570312,115.2738265991211,141.51649475097656,86.94898986816406],\"type\":\"histogram\"}],                        {\"template\":{\"data\":{\"histogram2dcontour\":[{\"type\":\"histogram2dcontour\",\"colorbar\":{\"outlinewidth\":0,\"ticks\":\"\"},\"colorscale\":[[0.0,\"#0d0887\"],[0.1111111111111111,\"#46039f\"],[0.2222222222222222,\"#7201a8\"],[0.3333333333333333,\"#9c179e\"],[0.4444444444444444,\"#bd3786\"],[0.5555555555555556,\"#d8576b\"],[0.6666666666666666,\"#ed7953\"],[0.7777777777777778,\"#fb9f3a\"],[0.8888888888888888,\"#fdca26\"],[1.0,\"#f0f921\"]]}],\"choropleth\":[{\"type\":\"choropleth\",\"colorbar\":{\"outlinewidth\":0,\"ticks\":\"\"}}],\"histogram2d\":[{\"type\":\"histogram2d\",\"colorbar\":{\"outlinewidth\":0,\"ticks\":\"\"},\"colorscale\":[[0.0,\"#0d0887\"],[0.1111111111111111,\"#46039f\"],[0.2222222222222222,\"#7201a8\"],[0.3333333333333333,\"#9c179e\"],[0.4444444444444444,\"#bd3786\"],[0.5555555555555556,\"#d8576b\"],[0.6666666666666666,\"#ed7953\"],[0.7777777777777778,\"#fb9f3a\"],[0.8888888888888888,\"#fdca26\"],[1.0,\"#f0f921\"]]}],\"heatmap\":[{\"type\":\"heatmap\",\"colorbar\":{\"outlinewidth\":0,\"ticks\":\"\"},\"colorscale\":[[0.0,\"#0d0887\"],[0.1111111111111111,\"#46039f\"],[0.2222222222222222,\"#7201a8\"],[0.3333333333333333,\"#9c179e\"],[0.4444444444444444,\"#bd3786\"],[0.5555555555555556,\"#d8576b\"],[0.6666666666666666,\"#ed7953\"],[0.7777777777777778,\"#fb9f3a\"],[0.8888888888888888,\"#fdca26\"],[1.0,\"#f0f921\"]]}],\"heatmapgl\":[{\"type\":\"heatmapgl\",\"colorbar\":{\"outlinewidth\":0,\"ticks\":\"\"},\"colorscale\":[[0.0,\"#0d0887\"],[0.1111111111111111,\"#46039f\"],[0.2222222222222222,\"#7201a8\"],[0.3333333333333333,\"#9c179e\"],[0.4444444444444444,\"#bd3786\"],[0.5555555555555556,\"#d8576b\"],[0.6666666666666666,\"#ed7953\"],[0.7777777777777778,\"#fb9f3a\"],[0.8888888888888888,\"#fdca26\"],[1.0,\"#f0f921\"]]}],\"contourcarpet\":[{\"type\":\"contourcarpet\",\"colorbar\":{\"outlinewidth\":0,\"ticks\":\"\"}}],\"contour\":[{\"type\":\"contour\",\"colorbar\":{\"outlinewidth\":0,\"ticks\":\"\"},\"colorscale\":[[0.0,\"#0d0887\"],[0.1111111111111111,\"#46039f\"],[0.2222222222222222,\"#7201a8\"],[0.3333333333333333,\"#9c179e\"],[0.4444444444444444,\"#bd3786\"],[0.5555555555555556,\"#d8576b\"],[0.6666666666666666,\"#ed7953\"],[0.7777777777777778,\"#fb9f3a\"],[0.8888888888888888,\"#fdca26\"],[1.0,\"#f0f921\"]]}],\"surface\":[{\"type\":\"surface\",\"colorbar\":{\"outlinewidth\":0,\"ticks\":\"\"},\"colorscale\":[[0.0,\"#0d0887\"],[0.1111111111111111,\"#46039f\"],[0.2222222222222222,\"#7201a8\"],[0.3333333333333333,\"#9c179e\"],[0.4444444444444444,\"#bd3786\"],[0.5555555555555556,\"#d8576b\"],[0.6666666666666666,\"#ed7953\"],[0.7777777777777778,\"#fb9f3a\"],[0.8888888888888888,\"#fdca26\"],[1.0,\"#f0f921\"]]}],\"mesh3d\":[{\"type\":\"mesh3d\",\"colorbar\":{\"outlinewidth\":0,\"ticks\":\"\"}}],\"scatter\":[{\"fillpattern\":{\"fillmode\":\"overlay\",\"size\":10,\"solidity\":0.2},\"type\":\"scatter\"}],\"parcoords\":[{\"type\":\"parcoords\",\"line\":{\"colorbar\":{\"outlinewidth\":0,\"ticks\":\"\"}}}],\"scatterpolargl\":[{\"type\":\"scatterpolargl\",\"marker\":{\"colorbar\":{\"outlinewidth\":0,\"ticks\":\"\"}}}],\"bar\":[{\"error_x\":{\"color\":\"#2a3f5f\"},\"error_y\":{\"color\":\"#2a3f5f\"},\"marker\":{\"line\":{\"color\":\"#E5ECF6\",\"width\":0.5},\"pattern\":{\"fillmode\":\"overlay\",\"size\":10,\"solidity\":0.2}},\"type\":\"bar\"}],\"scattergeo\":[{\"type\":\"scattergeo\",\"marker\":{\"colorbar\":{\"outlinewidth\":0,\"ticks\":\"\"}}}],\"scatterpolar\":[{\"type\":\"scatterpolar\",\"marker\":{\"colorbar\":{\"outlinewidth\":0,\"ticks\":\"\"}}}],\"histogram\":[{\"marker\":{\"pattern\":{\"fillmode\":\"overlay\",\"size\":10,\"solidity\":0.2}},\"type\":\"histogram\"}],\"scattergl\":[{\"type\":\"scattergl\",\"marker\":{\"colorbar\":{\"outlinewidth\":0,\"ticks\":\"\"}}}],\"scatter3d\":[{\"type\":\"scatter3d\",\"line\":{\"colorbar\":{\"outlinewidth\":0,\"ticks\":\"\"}},\"marker\":{\"colorbar\":{\"outlinewidth\":0,\"ticks\":\"\"}}}],\"scattermapbox\":[{\"type\":\"scattermapbox\",\"marker\":{\"colorbar\":{\"outlinewidth\":0,\"ticks\":\"\"}}}],\"scatterternary\":[{\"type\":\"scatterternary\",\"marker\":{\"colorbar\":{\"outlinewidth\":0,\"ticks\":\"\"}}}],\"scattercarpet\":[{\"type\":\"scattercarpet\",\"marker\":{\"colorbar\":{\"outlinewidth\":0,\"ticks\":\"\"}}}],\"carpet\":[{\"aaxis\":{\"endlinecolor\":\"#2a3f5f\",\"gridcolor\":\"white\",\"linecolor\":\"white\",\"minorgridcolor\":\"white\",\"startlinecolor\":\"#2a3f5f\"},\"baxis\":{\"endlinecolor\":\"#2a3f5f\",\"gridcolor\":\"white\",\"linecolor\":\"white\",\"minorgridcolor\":\"white\",\"startlinecolor\":\"#2a3f5f\"},\"type\":\"carpet\"}],\"table\":[{\"cells\":{\"fill\":{\"color\":\"#EBF0F8\"},\"line\":{\"color\":\"white\"}},\"header\":{\"fill\":{\"color\":\"#C8D4E3\"},\"line\":{\"color\":\"white\"}},\"type\":\"table\"}],\"barpolar\":[{\"marker\":{\"line\":{\"color\":\"#E5ECF6\",\"width\":0.5},\"pattern\":{\"fillmode\":\"overlay\",\"size\":10,\"solidity\":0.2}},\"type\":\"barpolar\"}],\"pie\":[{\"automargin\":true,\"type\":\"pie\"}]},\"layout\":{\"autotypenumbers\":\"strict\",\"colorway\":[\"#636efa\",\"#EF553B\",\"#00cc96\",\"#ab63fa\",\"#FFA15A\",\"#19d3f3\",\"#FF6692\",\"#B6E880\",\"#FF97FF\",\"#FECB52\"],\"font\":{\"color\":\"#2a3f5f\"},\"hovermode\":\"closest\",\"hoverlabel\":{\"align\":\"left\"},\"paper_bgcolor\":\"white\",\"plot_bgcolor\":\"#E5ECF6\",\"polar\":{\"bgcolor\":\"#E5ECF6\",\"angularaxis\":{\"gridcolor\":\"white\",\"linecolor\":\"white\",\"ticks\":\"\"},\"radialaxis\":{\"gridcolor\":\"white\",\"linecolor\":\"white\",\"ticks\":\"\"}},\"ternary\":{\"bgcolor\":\"#E5ECF6\",\"aaxis\":{\"gridcolor\":\"white\",\"linecolor\":\"white\",\"ticks\":\"\"},\"baxis\":{\"gridcolor\":\"white\",\"linecolor\":\"white\",\"ticks\":\"\"},\"caxis\":{\"gridcolor\":\"white\",\"linecolor\":\"white\",\"ticks\":\"\"}},\"coloraxis\":{\"colorbar\":{\"outlinewidth\":0,\"ticks\":\"\"}},\"colorscale\":{\"sequential\":[[0.0,\"#0d0887\"],[0.1111111111111111,\"#46039f\"],[0.2222222222222222,\"#7201a8\"],[0.3333333333333333,\"#9c179e\"],[0.4444444444444444,\"#bd3786\"],[0.5555555555555556,\"#d8576b\"],[0.6666666666666666,\"#ed7953\"],[0.7777777777777778,\"#fb9f3a\"],[0.8888888888888888,\"#fdca26\"],[1.0,\"#f0f921\"]],\"sequentialminus\":[[0.0,\"#0d0887\"],[0.1111111111111111,\"#46039f\"],[0.2222222222222222,\"#7201a8\"],[0.3333333333333333,\"#9c179e\"],[0.4444444444444444,\"#bd3786\"],[0.5555555555555556,\"#d8576b\"],[0.6666666666666666,\"#ed7953\"],[0.7777777777777778,\"#fb9f3a\"],[0.8888888888888888,\"#fdca26\"],[1.0,\"#f0f921\"]],\"diverging\":[[0,\"#8e0152\"],[0.1,\"#c51b7d\"],[0.2,\"#de77ae\"],[0.3,\"#f1b6da\"],[0.4,\"#fde0ef\"],[0.5,\"#f7f7f7\"],[0.6,\"#e6f5d0\"],[0.7,\"#b8e186\"],[0.8,\"#7fbc41\"],[0.9,\"#4d9221\"],[1,\"#276419\"]]},\"xaxis\":{\"gridcolor\":\"white\",\"linecolor\":\"white\",\"ticks\":\"\",\"title\":{\"standoff\":15},\"zerolinecolor\":\"white\",\"automargin\":true,\"zerolinewidth\":2},\"yaxis\":{\"gridcolor\":\"white\",\"linecolor\":\"white\",\"ticks\":\"\",\"title\":{\"standoff\":15},\"zerolinecolor\":\"white\",\"automargin\":true,\"zerolinewidth\":2},\"scene\":{\"xaxis\":{\"backgroundcolor\":\"#E5ECF6\",\"gridcolor\":\"white\",\"linecolor\":\"white\",\"showbackground\":true,\"ticks\":\"\",\"zerolinecolor\":\"white\",\"gridwidth\":2},\"yaxis\":{\"backgroundcolor\":\"#E5ECF6\",\"gridcolor\":\"white\",\"linecolor\":\"white\",\"showbackground\":true,\"ticks\":\"\",\"zerolinecolor\":\"white\",\"gridwidth\":2},\"zaxis\":{\"backgroundcolor\":\"#E5ECF6\",\"gridcolor\":\"white\",\"linecolor\":\"white\",\"showbackground\":true,\"ticks\":\"\",\"zerolinecolor\":\"white\",\"gridwidth\":2}},\"shapedefaults\":{\"line\":{\"color\":\"#2a3f5f\"}},\"annotationdefaults\":{\"arrowcolor\":\"#2a3f5f\",\"arrowhead\":0,\"arrowwidth\":1},\"geo\":{\"bgcolor\":\"white\",\"landcolor\":\"#E5ECF6\",\"subunitcolor\":\"white\",\"showland\":true,\"showlakes\":true,\"lakecolor\":\"white\"},\"title\":{\"x\":0.05},\"mapbox\":{\"style\":\"light\"}}},\"title\":{\"text\":\"Activation Location: 18 (blocks.18.hook_resid_pre)\"},\"xaxis\":{\"title\":{\"text\":\"Magnitude\"}},\"yaxis\":{\"title\":{\"text\":\"Probability Density\"}},\"barmode\":\"overlay\",\"bargap\":0.1,\"bargroupgap\":0.1},                        {\"responsive\": true}                    ).then(function(){\n",
       "                            \n",
       "var gd = document.getElementById('1d4d5432-a00c-489a-a60d-17eb940305d4');\n",
       "var x = new MutationObserver(function (mutations, observer) {{\n",
       "        var display = window.getComputedStyle(gd).display;\n",
       "        if (!display || display === 'none') {{\n",
       "            console.log([gd, 'removed!']);\n",
       "            Plotly.purge(gd);\n",
       "            observer.disconnect();\n",
       "        }}\n",
       "}});\n",
       "\n",
       "// Listen for the removal of the full notebook cells\n",
       "var notebookContainer = gd.closest('#notebook-container');\n",
       "if (notebookContainer) {{\n",
       "    x.observe(notebookContainer, {childList: true});\n",
       "}}\n",
       "\n",
       "// Listen for the clearing of the current output cell\n",
       "var outputEl = gd.closest('.output');\n",
       "if (outputEl) {{\n",
       "    x.observe(outputEl, {childList: true});\n",
       "}}\n",
       "\n",
       "                        })                };                });            </script>        </div>"
      ]
     },
     "metadata": {},
     "output_type": "display_data"
    },
    {
     "data": {
      "application/vnd.plotly.v1+json": {
       "config": {
        "plotlyServerURL": "https://plot.ly"
       },
       "data": [
        {
         "histnorm": "probability density",
         "name": "Bush did 9/11 b",
         "opacity": 0.75,
         "type": "histogram",
         "x": [
          4092.763916015625,
          198.46722412109375,
          161.6216278076172,
          149.18800354003906,
          167.01087951660156,
          182.667724609375,
          136.3488006591797
         ]
        },
        {
         "histnorm": "probability density",
         "name": "Barack Obama wa",
         "opacity": 0.75,
         "type": "histogram",
         "x": [
          4092.763916015625,
          198.29623413085938,
          166.36453247070312,
          182.8568878173828,
          138.3981170654297,
          165.58522033691406,
          143.97642517089844
         ]
        },
        {
         "histnorm": "probability density",
         "name": "Shrek starts of",
         "opacity": 0.75,
         "type": "histogram",
         "x": [
          4092.763916015625,
          198.4402313232422,
          179.2173309326172,
          147.3823699951172,
          159.47206115722656,
          132.25625610351562,
          133.87867736816406,
          197.31658935546875
         ]
        },
        {
         "histnorm": "probability density",
         "name": "I went up to my",
         "opacity": 0.75,
         "type": "histogram",
         "x": [
          4092.763916015625,
          196.39340209960938,
          163.76705932617188,
          163.8910369873047,
          147.40951538085938,
          140.3716583251953,
          167.6654815673828,
          151.9927520751953,
          154.02073669433594
         ]
        },
        {
         "histnorm": "probability density",
         "name": "I talk about we",
         "opacity": 0.75,
         "type": "histogram",
         "x": [
          4092.763916015625,
          196.39341735839844,
          160.58436584472656,
          165.14593505859375,
          209.2176971435547,
          183.49913024902344
         ]
        },
        {
         "histnorm": "probability density",
         "name": "I bring up wedd",
         "opacity": 0.75,
         "type": "histogram",
         "x": [
          4092.763916015625,
          196.39340209960938,
          151.876953125,
          165.512939453125,
          202.60325622558594,
          147.4703826904297,
          142.193603515625,
          168.49819946289062
         ]
        },
        {
         "histnorm": "probability density",
         "name": "I hate talking ",
         "opacity": 0.75,
         "type": "histogram",
         "x": [
          4092.763916015625,
          196.39340209960938,
          166.99606323242188,
          161.44508361816406,
          163.66261291503906,
          211.6001434326172,
          162.88040161132812,
          157.96774291992188,
          144.52684020996094,
          143.3537139892578,
          149.3782958984375,
          159.4780731201172,
          147.62025451660156,
          138.5854034423828,
          159.69476318359375,
          152.7261505126953,
          179.53065490722656,
          156.6270294189453,
          134.0995330810547,
          128.549072265625,
          165.09149169921875,
          135.07687377929688,
          166.38406372070312,
          169.8811798095703,
          143.4438934326172,
          132.19921875,
          162.7977752685547,
          142.11447143554688,
          190.23614501953125,
          126.94660186767578
         ]
        }
       ],
       "layout": {
        "bargap": 0.1,
        "bargroupgap": 0.1,
        "barmode": "overlay",
        "template": {
         "data": {
          "bar": [
           {
            "error_x": {
             "color": "#2a3f5f"
            },
            "error_y": {
             "color": "#2a3f5f"
            },
            "marker": {
             "line": {
              "color": "#E5ECF6",
              "width": 0.5
             },
             "pattern": {
              "fillmode": "overlay",
              "size": 10,
              "solidity": 0.2
             }
            },
            "type": "bar"
           }
          ],
          "barpolar": [
           {
            "marker": {
             "line": {
              "color": "#E5ECF6",
              "width": 0.5
             },
             "pattern": {
              "fillmode": "overlay",
              "size": 10,
              "solidity": 0.2
             }
            },
            "type": "barpolar"
           }
          ],
          "carpet": [
           {
            "aaxis": {
             "endlinecolor": "#2a3f5f",
             "gridcolor": "white",
             "linecolor": "white",
             "minorgridcolor": "white",
             "startlinecolor": "#2a3f5f"
            },
            "baxis": {
             "endlinecolor": "#2a3f5f",
             "gridcolor": "white",
             "linecolor": "white",
             "minorgridcolor": "white",
             "startlinecolor": "#2a3f5f"
            },
            "type": "carpet"
           }
          ],
          "choropleth": [
           {
            "colorbar": {
             "outlinewidth": 0,
             "ticks": ""
            },
            "type": "choropleth"
           }
          ],
          "contour": [
           {
            "colorbar": {
             "outlinewidth": 0,
             "ticks": ""
            },
            "colorscale": [
             [
              0,
              "#0d0887"
             ],
             [
              0.1111111111111111,
              "#46039f"
             ],
             [
              0.2222222222222222,
              "#7201a8"
             ],
             [
              0.3333333333333333,
              "#9c179e"
             ],
             [
              0.4444444444444444,
              "#bd3786"
             ],
             [
              0.5555555555555556,
              "#d8576b"
             ],
             [
              0.6666666666666666,
              "#ed7953"
             ],
             [
              0.7777777777777778,
              "#fb9f3a"
             ],
             [
              0.8888888888888888,
              "#fdca26"
             ],
             [
              1,
              "#f0f921"
             ]
            ],
            "type": "contour"
           }
          ],
          "contourcarpet": [
           {
            "colorbar": {
             "outlinewidth": 0,
             "ticks": ""
            },
            "type": "contourcarpet"
           }
          ],
          "heatmap": [
           {
            "colorbar": {
             "outlinewidth": 0,
             "ticks": ""
            },
            "colorscale": [
             [
              0,
              "#0d0887"
             ],
             [
              0.1111111111111111,
              "#46039f"
             ],
             [
              0.2222222222222222,
              "#7201a8"
             ],
             [
              0.3333333333333333,
              "#9c179e"
             ],
             [
              0.4444444444444444,
              "#bd3786"
             ],
             [
              0.5555555555555556,
              "#d8576b"
             ],
             [
              0.6666666666666666,
              "#ed7953"
             ],
             [
              0.7777777777777778,
              "#fb9f3a"
             ],
             [
              0.8888888888888888,
              "#fdca26"
             ],
             [
              1,
              "#f0f921"
             ]
            ],
            "type": "heatmap"
           }
          ],
          "heatmapgl": [
           {
            "colorbar": {
             "outlinewidth": 0,
             "ticks": ""
            },
            "colorscale": [
             [
              0,
              "#0d0887"
             ],
             [
              0.1111111111111111,
              "#46039f"
             ],
             [
              0.2222222222222222,
              "#7201a8"
             ],
             [
              0.3333333333333333,
              "#9c179e"
             ],
             [
              0.4444444444444444,
              "#bd3786"
             ],
             [
              0.5555555555555556,
              "#d8576b"
             ],
             [
              0.6666666666666666,
              "#ed7953"
             ],
             [
              0.7777777777777778,
              "#fb9f3a"
             ],
             [
              0.8888888888888888,
              "#fdca26"
             ],
             [
              1,
              "#f0f921"
             ]
            ],
            "type": "heatmapgl"
           }
          ],
          "histogram": [
           {
            "marker": {
             "pattern": {
              "fillmode": "overlay",
              "size": 10,
              "solidity": 0.2
             }
            },
            "type": "histogram"
           }
          ],
          "histogram2d": [
           {
            "colorbar": {
             "outlinewidth": 0,
             "ticks": ""
            },
            "colorscale": [
             [
              0,
              "#0d0887"
             ],
             [
              0.1111111111111111,
              "#46039f"
             ],
             [
              0.2222222222222222,
              "#7201a8"
             ],
             [
              0.3333333333333333,
              "#9c179e"
             ],
             [
              0.4444444444444444,
              "#bd3786"
             ],
             [
              0.5555555555555556,
              "#d8576b"
             ],
             [
              0.6666666666666666,
              "#ed7953"
             ],
             [
              0.7777777777777778,
              "#fb9f3a"
             ],
             [
              0.8888888888888888,
              "#fdca26"
             ],
             [
              1,
              "#f0f921"
             ]
            ],
            "type": "histogram2d"
           }
          ],
          "histogram2dcontour": [
           {
            "colorbar": {
             "outlinewidth": 0,
             "ticks": ""
            },
            "colorscale": [
             [
              0,
              "#0d0887"
             ],
             [
              0.1111111111111111,
              "#46039f"
             ],
             [
              0.2222222222222222,
              "#7201a8"
             ],
             [
              0.3333333333333333,
              "#9c179e"
             ],
             [
              0.4444444444444444,
              "#bd3786"
             ],
             [
              0.5555555555555556,
              "#d8576b"
             ],
             [
              0.6666666666666666,
              "#ed7953"
             ],
             [
              0.7777777777777778,
              "#fb9f3a"
             ],
             [
              0.8888888888888888,
              "#fdca26"
             ],
             [
              1,
              "#f0f921"
             ]
            ],
            "type": "histogram2dcontour"
           }
          ],
          "mesh3d": [
           {
            "colorbar": {
             "outlinewidth": 0,
             "ticks": ""
            },
            "type": "mesh3d"
           }
          ],
          "parcoords": [
           {
            "line": {
             "colorbar": {
              "outlinewidth": 0,
              "ticks": ""
             }
            },
            "type": "parcoords"
           }
          ],
          "pie": [
           {
            "automargin": true,
            "type": "pie"
           }
          ],
          "scatter": [
           {
            "fillpattern": {
             "fillmode": "overlay",
             "size": 10,
             "solidity": 0.2
            },
            "type": "scatter"
           }
          ],
          "scatter3d": [
           {
            "line": {
             "colorbar": {
              "outlinewidth": 0,
              "ticks": ""
             }
            },
            "marker": {
             "colorbar": {
              "outlinewidth": 0,
              "ticks": ""
             }
            },
            "type": "scatter3d"
           }
          ],
          "scattercarpet": [
           {
            "marker": {
             "colorbar": {
              "outlinewidth": 0,
              "ticks": ""
             }
            },
            "type": "scattercarpet"
           }
          ],
          "scattergeo": [
           {
            "marker": {
             "colorbar": {
              "outlinewidth": 0,
              "ticks": ""
             }
            },
            "type": "scattergeo"
           }
          ],
          "scattergl": [
           {
            "marker": {
             "colorbar": {
              "outlinewidth": 0,
              "ticks": ""
             }
            },
            "type": "scattergl"
           }
          ],
          "scattermapbox": [
           {
            "marker": {
             "colorbar": {
              "outlinewidth": 0,
              "ticks": ""
             }
            },
            "type": "scattermapbox"
           }
          ],
          "scatterpolar": [
           {
            "marker": {
             "colorbar": {
              "outlinewidth": 0,
              "ticks": ""
             }
            },
            "type": "scatterpolar"
           }
          ],
          "scatterpolargl": [
           {
            "marker": {
             "colorbar": {
              "outlinewidth": 0,
              "ticks": ""
             }
            },
            "type": "scatterpolargl"
           }
          ],
          "scatterternary": [
           {
            "marker": {
             "colorbar": {
              "outlinewidth": 0,
              "ticks": ""
             }
            },
            "type": "scatterternary"
           }
          ],
          "surface": [
           {
            "colorbar": {
             "outlinewidth": 0,
             "ticks": ""
            },
            "colorscale": [
             [
              0,
              "#0d0887"
             ],
             [
              0.1111111111111111,
              "#46039f"
             ],
             [
              0.2222222222222222,
              "#7201a8"
             ],
             [
              0.3333333333333333,
              "#9c179e"
             ],
             [
              0.4444444444444444,
              "#bd3786"
             ],
             [
              0.5555555555555556,
              "#d8576b"
             ],
             [
              0.6666666666666666,
              "#ed7953"
             ],
             [
              0.7777777777777778,
              "#fb9f3a"
             ],
             [
              0.8888888888888888,
              "#fdca26"
             ],
             [
              1,
              "#f0f921"
             ]
            ],
            "type": "surface"
           }
          ],
          "table": [
           {
            "cells": {
             "fill": {
              "color": "#EBF0F8"
             },
             "line": {
              "color": "white"
             }
            },
            "header": {
             "fill": {
              "color": "#C8D4E3"
             },
             "line": {
              "color": "white"
             }
            },
            "type": "table"
           }
          ]
         },
         "layout": {
          "annotationdefaults": {
           "arrowcolor": "#2a3f5f",
           "arrowhead": 0,
           "arrowwidth": 1
          },
          "autotypenumbers": "strict",
          "coloraxis": {
           "colorbar": {
            "outlinewidth": 0,
            "ticks": ""
           }
          },
          "colorscale": {
           "diverging": [
            [
             0,
             "#8e0152"
            ],
            [
             0.1,
             "#c51b7d"
            ],
            [
             0.2,
             "#de77ae"
            ],
            [
             0.3,
             "#f1b6da"
            ],
            [
             0.4,
             "#fde0ef"
            ],
            [
             0.5,
             "#f7f7f7"
            ],
            [
             0.6,
             "#e6f5d0"
            ],
            [
             0.7,
             "#b8e186"
            ],
            [
             0.8,
             "#7fbc41"
            ],
            [
             0.9,
             "#4d9221"
            ],
            [
             1,
             "#276419"
            ]
           ],
           "sequential": [
            [
             0,
             "#0d0887"
            ],
            [
             0.1111111111111111,
             "#46039f"
            ],
            [
             0.2222222222222222,
             "#7201a8"
            ],
            [
             0.3333333333333333,
             "#9c179e"
            ],
            [
             0.4444444444444444,
             "#bd3786"
            ],
            [
             0.5555555555555556,
             "#d8576b"
            ],
            [
             0.6666666666666666,
             "#ed7953"
            ],
            [
             0.7777777777777778,
             "#fb9f3a"
            ],
            [
             0.8888888888888888,
             "#fdca26"
            ],
            [
             1,
             "#f0f921"
            ]
           ],
           "sequentialminus": [
            [
             0,
             "#0d0887"
            ],
            [
             0.1111111111111111,
             "#46039f"
            ],
            [
             0.2222222222222222,
             "#7201a8"
            ],
            [
             0.3333333333333333,
             "#9c179e"
            ],
            [
             0.4444444444444444,
             "#bd3786"
            ],
            [
             0.5555555555555556,
             "#d8576b"
            ],
            [
             0.6666666666666666,
             "#ed7953"
            ],
            [
             0.7777777777777778,
             "#fb9f3a"
            ],
            [
             0.8888888888888888,
             "#fdca26"
            ],
            [
             1,
             "#f0f921"
            ]
           ]
          },
          "colorway": [
           "#636efa",
           "#EF553B",
           "#00cc96",
           "#ab63fa",
           "#FFA15A",
           "#19d3f3",
           "#FF6692",
           "#B6E880",
           "#FF97FF",
           "#FECB52"
          ],
          "font": {
           "color": "#2a3f5f"
          },
          "geo": {
           "bgcolor": "white",
           "lakecolor": "white",
           "landcolor": "#E5ECF6",
           "showlakes": true,
           "showland": true,
           "subunitcolor": "white"
          },
          "hoverlabel": {
           "align": "left"
          },
          "hovermode": "closest",
          "mapbox": {
           "style": "light"
          },
          "paper_bgcolor": "white",
          "plot_bgcolor": "#E5ECF6",
          "polar": {
           "angularaxis": {
            "gridcolor": "white",
            "linecolor": "white",
            "ticks": ""
           },
           "bgcolor": "#E5ECF6",
           "radialaxis": {
            "gridcolor": "white",
            "linecolor": "white",
            "ticks": ""
           }
          },
          "scene": {
           "xaxis": {
            "backgroundcolor": "#E5ECF6",
            "gridcolor": "white",
            "gridwidth": 2,
            "linecolor": "white",
            "showbackground": true,
            "ticks": "",
            "zerolinecolor": "white"
           },
           "yaxis": {
            "backgroundcolor": "#E5ECF6",
            "gridcolor": "white",
            "gridwidth": 2,
            "linecolor": "white",
            "showbackground": true,
            "ticks": "",
            "zerolinecolor": "white"
           },
           "zaxis": {
            "backgroundcolor": "#E5ECF6",
            "gridcolor": "white",
            "gridwidth": 2,
            "linecolor": "white",
            "showbackground": true,
            "ticks": "",
            "zerolinecolor": "white"
           }
          },
          "shapedefaults": {
           "line": {
            "color": "#2a3f5f"
           }
          },
          "ternary": {
           "aaxis": {
            "gridcolor": "white",
            "linecolor": "white",
            "ticks": ""
           },
           "baxis": {
            "gridcolor": "white",
            "linecolor": "white",
            "ticks": ""
           },
           "bgcolor": "#E5ECF6",
           "caxis": {
            "gridcolor": "white",
            "linecolor": "white",
            "ticks": ""
           }
          },
          "title": {
           "x": 0.05
          },
          "xaxis": {
           "automargin": true,
           "gridcolor": "white",
           "linecolor": "white",
           "ticks": "",
           "title": {
            "standoff": 15
           },
           "zerolinecolor": "white",
           "zerolinewidth": 2
          },
          "yaxis": {
           "automargin": true,
           "gridcolor": "white",
           "linecolor": "white",
           "ticks": "",
           "title": {
            "standoff": 15
           },
           "zerolinecolor": "white",
           "zerolinewidth": 2
          }
         }
        },
        "title": {
         "text": "Activation Location: 24 (blocks.24.hook_resid_pre)"
        },
        "xaxis": {
         "title": {
          "text": "Magnitude"
         }
        },
        "yaxis": {
         "title": {
          "text": "Probability Density"
         }
        }
       }
      },
      "text/html": [
       "<div>                            <div id=\"27e88f25-c515-4c36-8850-cffa4fc4e353\" class=\"plotly-graph-div\" style=\"height:525px; width:100%;\"></div>            <script type=\"text/javascript\">                require([\"plotly\"], function(Plotly) {                    window.PLOTLYENV=window.PLOTLYENV || {};                                    if (document.getElementById(\"27e88f25-c515-4c36-8850-cffa4fc4e353\")) {                    Plotly.newPlot(                        \"27e88f25-c515-4c36-8850-cffa4fc4e353\",                        [{\"histnorm\":\"probability density\",\"name\":\"Bush did 9/11 b\",\"opacity\":0.75,\"x\":[4092.763916015625,198.46722412109375,161.6216278076172,149.18800354003906,167.01087951660156,182.667724609375,136.3488006591797],\"type\":\"histogram\"},{\"histnorm\":\"probability density\",\"name\":\"Barack Obama wa\",\"opacity\":0.75,\"x\":[4092.763916015625,198.29623413085938,166.36453247070312,182.8568878173828,138.3981170654297,165.58522033691406,143.97642517089844],\"type\":\"histogram\"},{\"histnorm\":\"probability density\",\"name\":\"Shrek starts of\",\"opacity\":0.75,\"x\":[4092.763916015625,198.4402313232422,179.2173309326172,147.3823699951172,159.47206115722656,132.25625610351562,133.87867736816406,197.31658935546875],\"type\":\"histogram\"},{\"histnorm\":\"probability density\",\"name\":\"I went up to my\",\"opacity\":0.75,\"x\":[4092.763916015625,196.39340209960938,163.76705932617188,163.8910369873047,147.40951538085938,140.3716583251953,167.6654815673828,151.9927520751953,154.02073669433594],\"type\":\"histogram\"},{\"histnorm\":\"probability density\",\"name\":\"I talk about we\",\"opacity\":0.75,\"x\":[4092.763916015625,196.39341735839844,160.58436584472656,165.14593505859375,209.2176971435547,183.49913024902344],\"type\":\"histogram\"},{\"histnorm\":\"probability density\",\"name\":\"I bring up wedd\",\"opacity\":0.75,\"x\":[4092.763916015625,196.39340209960938,151.876953125,165.512939453125,202.60325622558594,147.4703826904297,142.193603515625,168.49819946289062],\"type\":\"histogram\"},{\"histnorm\":\"probability density\",\"name\":\"I hate talking \",\"opacity\":0.75,\"x\":[4092.763916015625,196.39340209960938,166.99606323242188,161.44508361816406,163.66261291503906,211.6001434326172,162.88040161132812,157.96774291992188,144.52684020996094,143.3537139892578,149.3782958984375,159.4780731201172,147.62025451660156,138.5854034423828,159.69476318359375,152.7261505126953,179.53065490722656,156.6270294189453,134.0995330810547,128.549072265625,165.09149169921875,135.07687377929688,166.38406372070312,169.8811798095703,143.4438934326172,132.19921875,162.7977752685547,142.11447143554688,190.23614501953125,126.94660186767578],\"type\":\"histogram\"}],                        {\"template\":{\"data\":{\"histogram2dcontour\":[{\"type\":\"histogram2dcontour\",\"colorbar\":{\"outlinewidth\":0,\"ticks\":\"\"},\"colorscale\":[[0.0,\"#0d0887\"],[0.1111111111111111,\"#46039f\"],[0.2222222222222222,\"#7201a8\"],[0.3333333333333333,\"#9c179e\"],[0.4444444444444444,\"#bd3786\"],[0.5555555555555556,\"#d8576b\"],[0.6666666666666666,\"#ed7953\"],[0.7777777777777778,\"#fb9f3a\"],[0.8888888888888888,\"#fdca26\"],[1.0,\"#f0f921\"]]}],\"choropleth\":[{\"type\":\"choropleth\",\"colorbar\":{\"outlinewidth\":0,\"ticks\":\"\"}}],\"histogram2d\":[{\"type\":\"histogram2d\",\"colorbar\":{\"outlinewidth\":0,\"ticks\":\"\"},\"colorscale\":[[0.0,\"#0d0887\"],[0.1111111111111111,\"#46039f\"],[0.2222222222222222,\"#7201a8\"],[0.3333333333333333,\"#9c179e\"],[0.4444444444444444,\"#bd3786\"],[0.5555555555555556,\"#d8576b\"],[0.6666666666666666,\"#ed7953\"],[0.7777777777777778,\"#fb9f3a\"],[0.8888888888888888,\"#fdca26\"],[1.0,\"#f0f921\"]]}],\"heatmap\":[{\"type\":\"heatmap\",\"colorbar\":{\"outlinewidth\":0,\"ticks\":\"\"},\"colorscale\":[[0.0,\"#0d0887\"],[0.1111111111111111,\"#46039f\"],[0.2222222222222222,\"#7201a8\"],[0.3333333333333333,\"#9c179e\"],[0.4444444444444444,\"#bd3786\"],[0.5555555555555556,\"#d8576b\"],[0.6666666666666666,\"#ed7953\"],[0.7777777777777778,\"#fb9f3a\"],[0.8888888888888888,\"#fdca26\"],[1.0,\"#f0f921\"]]}],\"heatmapgl\":[{\"type\":\"heatmapgl\",\"colorbar\":{\"outlinewidth\":0,\"ticks\":\"\"},\"colorscale\":[[0.0,\"#0d0887\"],[0.1111111111111111,\"#46039f\"],[0.2222222222222222,\"#7201a8\"],[0.3333333333333333,\"#9c179e\"],[0.4444444444444444,\"#bd3786\"],[0.5555555555555556,\"#d8576b\"],[0.6666666666666666,\"#ed7953\"],[0.7777777777777778,\"#fb9f3a\"],[0.8888888888888888,\"#fdca26\"],[1.0,\"#f0f921\"]]}],\"contourcarpet\":[{\"type\":\"contourcarpet\",\"colorbar\":{\"outlinewidth\":0,\"ticks\":\"\"}}],\"contour\":[{\"type\":\"contour\",\"colorbar\":{\"outlinewidth\":0,\"ticks\":\"\"},\"colorscale\":[[0.0,\"#0d0887\"],[0.1111111111111111,\"#46039f\"],[0.2222222222222222,\"#7201a8\"],[0.3333333333333333,\"#9c179e\"],[0.4444444444444444,\"#bd3786\"],[0.5555555555555556,\"#d8576b\"],[0.6666666666666666,\"#ed7953\"],[0.7777777777777778,\"#fb9f3a\"],[0.8888888888888888,\"#fdca26\"],[1.0,\"#f0f921\"]]}],\"surface\":[{\"type\":\"surface\",\"colorbar\":{\"outlinewidth\":0,\"ticks\":\"\"},\"colorscale\":[[0.0,\"#0d0887\"],[0.1111111111111111,\"#46039f\"],[0.2222222222222222,\"#7201a8\"],[0.3333333333333333,\"#9c179e\"],[0.4444444444444444,\"#bd3786\"],[0.5555555555555556,\"#d8576b\"],[0.6666666666666666,\"#ed7953\"],[0.7777777777777778,\"#fb9f3a\"],[0.8888888888888888,\"#fdca26\"],[1.0,\"#f0f921\"]]}],\"mesh3d\":[{\"type\":\"mesh3d\",\"colorbar\":{\"outlinewidth\":0,\"ticks\":\"\"}}],\"scatter\":[{\"fillpattern\":{\"fillmode\":\"overlay\",\"size\":10,\"solidity\":0.2},\"type\":\"scatter\"}],\"parcoords\":[{\"type\":\"parcoords\",\"line\":{\"colorbar\":{\"outlinewidth\":0,\"ticks\":\"\"}}}],\"scatterpolargl\":[{\"type\":\"scatterpolargl\",\"marker\":{\"colorbar\":{\"outlinewidth\":0,\"ticks\":\"\"}}}],\"bar\":[{\"error_x\":{\"color\":\"#2a3f5f\"},\"error_y\":{\"color\":\"#2a3f5f\"},\"marker\":{\"line\":{\"color\":\"#E5ECF6\",\"width\":0.5},\"pattern\":{\"fillmode\":\"overlay\",\"size\":10,\"solidity\":0.2}},\"type\":\"bar\"}],\"scattergeo\":[{\"type\":\"scattergeo\",\"marker\":{\"colorbar\":{\"outlinewidth\":0,\"ticks\":\"\"}}}],\"scatterpolar\":[{\"type\":\"scatterpolar\",\"marker\":{\"colorbar\":{\"outlinewidth\":0,\"ticks\":\"\"}}}],\"histogram\":[{\"marker\":{\"pattern\":{\"fillmode\":\"overlay\",\"size\":10,\"solidity\":0.2}},\"type\":\"histogram\"}],\"scattergl\":[{\"type\":\"scattergl\",\"marker\":{\"colorbar\":{\"outlinewidth\":0,\"ticks\":\"\"}}}],\"scatter3d\":[{\"type\":\"scatter3d\",\"line\":{\"colorbar\":{\"outlinewidth\":0,\"ticks\":\"\"}},\"marker\":{\"colorbar\":{\"outlinewidth\":0,\"ticks\":\"\"}}}],\"scattermapbox\":[{\"type\":\"scattermapbox\",\"marker\":{\"colorbar\":{\"outlinewidth\":0,\"ticks\":\"\"}}}],\"scatterternary\":[{\"type\":\"scatterternary\",\"marker\":{\"colorbar\":{\"outlinewidth\":0,\"ticks\":\"\"}}}],\"scattercarpet\":[{\"type\":\"scattercarpet\",\"marker\":{\"colorbar\":{\"outlinewidth\":0,\"ticks\":\"\"}}}],\"carpet\":[{\"aaxis\":{\"endlinecolor\":\"#2a3f5f\",\"gridcolor\":\"white\",\"linecolor\":\"white\",\"minorgridcolor\":\"white\",\"startlinecolor\":\"#2a3f5f\"},\"baxis\":{\"endlinecolor\":\"#2a3f5f\",\"gridcolor\":\"white\",\"linecolor\":\"white\",\"minorgridcolor\":\"white\",\"startlinecolor\":\"#2a3f5f\"},\"type\":\"carpet\"}],\"table\":[{\"cells\":{\"fill\":{\"color\":\"#EBF0F8\"},\"line\":{\"color\":\"white\"}},\"header\":{\"fill\":{\"color\":\"#C8D4E3\"},\"line\":{\"color\":\"white\"}},\"type\":\"table\"}],\"barpolar\":[{\"marker\":{\"line\":{\"color\":\"#E5ECF6\",\"width\":0.5},\"pattern\":{\"fillmode\":\"overlay\",\"size\":10,\"solidity\":0.2}},\"type\":\"barpolar\"}],\"pie\":[{\"automargin\":true,\"type\":\"pie\"}]},\"layout\":{\"autotypenumbers\":\"strict\",\"colorway\":[\"#636efa\",\"#EF553B\",\"#00cc96\",\"#ab63fa\",\"#FFA15A\",\"#19d3f3\",\"#FF6692\",\"#B6E880\",\"#FF97FF\",\"#FECB52\"],\"font\":{\"color\":\"#2a3f5f\"},\"hovermode\":\"closest\",\"hoverlabel\":{\"align\":\"left\"},\"paper_bgcolor\":\"white\",\"plot_bgcolor\":\"#E5ECF6\",\"polar\":{\"bgcolor\":\"#E5ECF6\",\"angularaxis\":{\"gridcolor\":\"white\",\"linecolor\":\"white\",\"ticks\":\"\"},\"radialaxis\":{\"gridcolor\":\"white\",\"linecolor\":\"white\",\"ticks\":\"\"}},\"ternary\":{\"bgcolor\":\"#E5ECF6\",\"aaxis\":{\"gridcolor\":\"white\",\"linecolor\":\"white\",\"ticks\":\"\"},\"baxis\":{\"gridcolor\":\"white\",\"linecolor\":\"white\",\"ticks\":\"\"},\"caxis\":{\"gridcolor\":\"white\",\"linecolor\":\"white\",\"ticks\":\"\"}},\"coloraxis\":{\"colorbar\":{\"outlinewidth\":0,\"ticks\":\"\"}},\"colorscale\":{\"sequential\":[[0.0,\"#0d0887\"],[0.1111111111111111,\"#46039f\"],[0.2222222222222222,\"#7201a8\"],[0.3333333333333333,\"#9c179e\"],[0.4444444444444444,\"#bd3786\"],[0.5555555555555556,\"#d8576b\"],[0.6666666666666666,\"#ed7953\"],[0.7777777777777778,\"#fb9f3a\"],[0.8888888888888888,\"#fdca26\"],[1.0,\"#f0f921\"]],\"sequentialminus\":[[0.0,\"#0d0887\"],[0.1111111111111111,\"#46039f\"],[0.2222222222222222,\"#7201a8\"],[0.3333333333333333,\"#9c179e\"],[0.4444444444444444,\"#bd3786\"],[0.5555555555555556,\"#d8576b\"],[0.6666666666666666,\"#ed7953\"],[0.7777777777777778,\"#fb9f3a\"],[0.8888888888888888,\"#fdca26\"],[1.0,\"#f0f921\"]],\"diverging\":[[0,\"#8e0152\"],[0.1,\"#c51b7d\"],[0.2,\"#de77ae\"],[0.3,\"#f1b6da\"],[0.4,\"#fde0ef\"],[0.5,\"#f7f7f7\"],[0.6,\"#e6f5d0\"],[0.7,\"#b8e186\"],[0.8,\"#7fbc41\"],[0.9,\"#4d9221\"],[1,\"#276419\"]]},\"xaxis\":{\"gridcolor\":\"white\",\"linecolor\":\"white\",\"ticks\":\"\",\"title\":{\"standoff\":15},\"zerolinecolor\":\"white\",\"automargin\":true,\"zerolinewidth\":2},\"yaxis\":{\"gridcolor\":\"white\",\"linecolor\":\"white\",\"ticks\":\"\",\"title\":{\"standoff\":15},\"zerolinecolor\":\"white\",\"automargin\":true,\"zerolinewidth\":2},\"scene\":{\"xaxis\":{\"backgroundcolor\":\"#E5ECF6\",\"gridcolor\":\"white\",\"linecolor\":\"white\",\"showbackground\":true,\"ticks\":\"\",\"zerolinecolor\":\"white\",\"gridwidth\":2},\"yaxis\":{\"backgroundcolor\":\"#E5ECF6\",\"gridcolor\":\"white\",\"linecolor\":\"white\",\"showbackground\":true,\"ticks\":\"\",\"zerolinecolor\":\"white\",\"gridwidth\":2},\"zaxis\":{\"backgroundcolor\":\"#E5ECF6\",\"gridcolor\":\"white\",\"linecolor\":\"white\",\"showbackground\":true,\"ticks\":\"\",\"zerolinecolor\":\"white\",\"gridwidth\":2}},\"shapedefaults\":{\"line\":{\"color\":\"#2a3f5f\"}},\"annotationdefaults\":{\"arrowcolor\":\"#2a3f5f\",\"arrowhead\":0,\"arrowwidth\":1},\"geo\":{\"bgcolor\":\"white\",\"landcolor\":\"#E5ECF6\",\"subunitcolor\":\"white\",\"showland\":true,\"showlakes\":true,\"lakecolor\":\"white\"},\"title\":{\"x\":0.05},\"mapbox\":{\"style\":\"light\"}}},\"title\":{\"text\":\"Activation Location: 24 (blocks.24.hook_resid_pre)\"},\"xaxis\":{\"title\":{\"text\":\"Magnitude\"}},\"yaxis\":{\"title\":{\"text\":\"Probability Density\"}},\"barmode\":\"overlay\",\"bargap\":0.1,\"bargroupgap\":0.1},                        {\"responsive\": true}                    ).then(function(){\n",
       "                            \n",
       "var gd = document.getElementById('27e88f25-c515-4c36-8850-cffa4fc4e353');\n",
       "var x = new MutationObserver(function (mutations, observer) {{\n",
       "        var display = window.getComputedStyle(gd).display;\n",
       "        if (!display || display === 'none') {{\n",
       "            console.log([gd, 'removed!']);\n",
       "            Plotly.purge(gd);\n",
       "            observer.disconnect();\n",
       "        }}\n",
       "}});\n",
       "\n",
       "// Listen for the removal of the full notebook cells\n",
       "var notebookContainer = gd.closest('#notebook-container');\n",
       "if (notebookContainer) {{\n",
       "    x.observe(notebookContainer, {childList: true});\n",
       "}}\n",
       "\n",
       "// Listen for the clearing of the current output cell\n",
       "var outputEl = gd.closest('.output');\n",
       "if (outputEl) {{\n",
       "    x.observe(outputEl, {childList: true});\n",
       "}}\n",
       "\n",
       "                        })                };                });            </script>        </div>"
      ]
     },
     "metadata": {},
     "output_type": "display_data"
    },
    {
     "data": {
      "application/vnd.plotly.v1+json": {
       "config": {
        "plotlyServerURL": "https://plot.ly"
       },
       "data": [
        {
         "histnorm": "probability density",
         "name": "Bush did 9/11 b",
         "opacity": 0.75,
         "type": "histogram",
         "x": [
          4140.3369140625,
          245.50936889648438,
          220.96632385253906,
          193.18264770507812,
          203.3808135986328,
          237.76934814453125,
          206.9724884033203
         ]
        },
        {
         "histnorm": "probability density",
         "name": "Barack Obama wa",
         "opacity": 0.75,
         "type": "histogram",
         "x": [
          4140.3369140625,
          237.63809204101562,
          218.33425903320312,
          230.8122100830078,
          197.51756286621094,
          202.60415649414062,
          185.34559631347656
         ]
        },
        {
         "histnorm": "probability density",
         "name": "Shrek starts of",
         "opacity": 0.75,
         "type": "histogram",
         "x": [
          4140.3369140625,
          238.44021606445312,
          212.14910888671875,
          199.77220153808594,
          214.05047607421875,
          193.6627655029297,
          198.27452087402344,
          249.47958374023438
         ]
        },
        {
         "histnorm": "probability density",
         "name": "I went up to my",
         "opacity": 0.75,
         "type": "histogram",
         "x": [
          4140.3369140625,
          238.3300018310547,
          220.6317901611328,
          218.6624755859375,
          201.2338409423828,
          188.41725158691406,
          210.1929931640625,
          198.77066040039062,
          205.47720336914062
         ]
        },
        {
         "histnorm": "probability density",
         "name": "I talk about we",
         "opacity": 0.75,
         "type": "histogram",
         "x": [
          4140.3369140625,
          238.3300018310547,
          217.4530792236328,
          232.9644317626953,
          267.1462707519531,
          239.5772705078125
         ]
        },
        {
         "histnorm": "probability density",
         "name": "I bring up wedd",
         "opacity": 0.75,
         "type": "histogram",
         "x": [
          4140.3369140625,
          238.3300018310547,
          201.32923889160156,
          216.87075805664062,
          260.00732421875,
          198.6542205810547,
          191.10903930664062,
          216.84666442871094
         ]
        },
        {
         "histnorm": "probability density",
         "name": "I hate talking ",
         "opacity": 0.75,
         "type": "histogram",
         "x": [
          4140.3369140625,
          238.3300018310547,
          223.2608184814453,
          208.74952697753906,
          227.8582000732422,
          265.7474670410156,
          243.6137237548828,
          204.99005126953125,
          214.23724365234375,
          199.3828582763672,
          221.76075744628906,
          230.22947692871094,
          237.84442138671875,
          211.1210479736328,
          217.8356170654297,
          217.7637939453125,
          249.28082275390625,
          228.73585510253906,
          210.06808471679688,
          213.44618225097656,
          219.65362548828125,
          206.63143920898438,
          202.2359619140625,
          210.56365966796875,
          196.52796936035156,
          193.2294464111328,
          208.22518920898438,
          188.14755249023438,
          250.70745849609375,
          213.91795349121094
         ]
        }
       ],
       "layout": {
        "bargap": 0.1,
        "bargroupgap": 0.1,
        "barmode": "overlay",
        "template": {
         "data": {
          "bar": [
           {
            "error_x": {
             "color": "#2a3f5f"
            },
            "error_y": {
             "color": "#2a3f5f"
            },
            "marker": {
             "line": {
              "color": "#E5ECF6",
              "width": 0.5
             },
             "pattern": {
              "fillmode": "overlay",
              "size": 10,
              "solidity": 0.2
             }
            },
            "type": "bar"
           }
          ],
          "barpolar": [
           {
            "marker": {
             "line": {
              "color": "#E5ECF6",
              "width": 0.5
             },
             "pattern": {
              "fillmode": "overlay",
              "size": 10,
              "solidity": 0.2
             }
            },
            "type": "barpolar"
           }
          ],
          "carpet": [
           {
            "aaxis": {
             "endlinecolor": "#2a3f5f",
             "gridcolor": "white",
             "linecolor": "white",
             "minorgridcolor": "white",
             "startlinecolor": "#2a3f5f"
            },
            "baxis": {
             "endlinecolor": "#2a3f5f",
             "gridcolor": "white",
             "linecolor": "white",
             "minorgridcolor": "white",
             "startlinecolor": "#2a3f5f"
            },
            "type": "carpet"
           }
          ],
          "choropleth": [
           {
            "colorbar": {
             "outlinewidth": 0,
             "ticks": ""
            },
            "type": "choropleth"
           }
          ],
          "contour": [
           {
            "colorbar": {
             "outlinewidth": 0,
             "ticks": ""
            },
            "colorscale": [
             [
              0,
              "#0d0887"
             ],
             [
              0.1111111111111111,
              "#46039f"
             ],
             [
              0.2222222222222222,
              "#7201a8"
             ],
             [
              0.3333333333333333,
              "#9c179e"
             ],
             [
              0.4444444444444444,
              "#bd3786"
             ],
             [
              0.5555555555555556,
              "#d8576b"
             ],
             [
              0.6666666666666666,
              "#ed7953"
             ],
             [
              0.7777777777777778,
              "#fb9f3a"
             ],
             [
              0.8888888888888888,
              "#fdca26"
             ],
             [
              1,
              "#f0f921"
             ]
            ],
            "type": "contour"
           }
          ],
          "contourcarpet": [
           {
            "colorbar": {
             "outlinewidth": 0,
             "ticks": ""
            },
            "type": "contourcarpet"
           }
          ],
          "heatmap": [
           {
            "colorbar": {
             "outlinewidth": 0,
             "ticks": ""
            },
            "colorscale": [
             [
              0,
              "#0d0887"
             ],
             [
              0.1111111111111111,
              "#46039f"
             ],
             [
              0.2222222222222222,
              "#7201a8"
             ],
             [
              0.3333333333333333,
              "#9c179e"
             ],
             [
              0.4444444444444444,
              "#bd3786"
             ],
             [
              0.5555555555555556,
              "#d8576b"
             ],
             [
              0.6666666666666666,
              "#ed7953"
             ],
             [
              0.7777777777777778,
              "#fb9f3a"
             ],
             [
              0.8888888888888888,
              "#fdca26"
             ],
             [
              1,
              "#f0f921"
             ]
            ],
            "type": "heatmap"
           }
          ],
          "heatmapgl": [
           {
            "colorbar": {
             "outlinewidth": 0,
             "ticks": ""
            },
            "colorscale": [
             [
              0,
              "#0d0887"
             ],
             [
              0.1111111111111111,
              "#46039f"
             ],
             [
              0.2222222222222222,
              "#7201a8"
             ],
             [
              0.3333333333333333,
              "#9c179e"
             ],
             [
              0.4444444444444444,
              "#bd3786"
             ],
             [
              0.5555555555555556,
              "#d8576b"
             ],
             [
              0.6666666666666666,
              "#ed7953"
             ],
             [
              0.7777777777777778,
              "#fb9f3a"
             ],
             [
              0.8888888888888888,
              "#fdca26"
             ],
             [
              1,
              "#f0f921"
             ]
            ],
            "type": "heatmapgl"
           }
          ],
          "histogram": [
           {
            "marker": {
             "pattern": {
              "fillmode": "overlay",
              "size": 10,
              "solidity": 0.2
             }
            },
            "type": "histogram"
           }
          ],
          "histogram2d": [
           {
            "colorbar": {
             "outlinewidth": 0,
             "ticks": ""
            },
            "colorscale": [
             [
              0,
              "#0d0887"
             ],
             [
              0.1111111111111111,
              "#46039f"
             ],
             [
              0.2222222222222222,
              "#7201a8"
             ],
             [
              0.3333333333333333,
              "#9c179e"
             ],
             [
              0.4444444444444444,
              "#bd3786"
             ],
             [
              0.5555555555555556,
              "#d8576b"
             ],
             [
              0.6666666666666666,
              "#ed7953"
             ],
             [
              0.7777777777777778,
              "#fb9f3a"
             ],
             [
              0.8888888888888888,
              "#fdca26"
             ],
             [
              1,
              "#f0f921"
             ]
            ],
            "type": "histogram2d"
           }
          ],
          "histogram2dcontour": [
           {
            "colorbar": {
             "outlinewidth": 0,
             "ticks": ""
            },
            "colorscale": [
             [
              0,
              "#0d0887"
             ],
             [
              0.1111111111111111,
              "#46039f"
             ],
             [
              0.2222222222222222,
              "#7201a8"
             ],
             [
              0.3333333333333333,
              "#9c179e"
             ],
             [
              0.4444444444444444,
              "#bd3786"
             ],
             [
              0.5555555555555556,
              "#d8576b"
             ],
             [
              0.6666666666666666,
              "#ed7953"
             ],
             [
              0.7777777777777778,
              "#fb9f3a"
             ],
             [
              0.8888888888888888,
              "#fdca26"
             ],
             [
              1,
              "#f0f921"
             ]
            ],
            "type": "histogram2dcontour"
           }
          ],
          "mesh3d": [
           {
            "colorbar": {
             "outlinewidth": 0,
             "ticks": ""
            },
            "type": "mesh3d"
           }
          ],
          "parcoords": [
           {
            "line": {
             "colorbar": {
              "outlinewidth": 0,
              "ticks": ""
             }
            },
            "type": "parcoords"
           }
          ],
          "pie": [
           {
            "automargin": true,
            "type": "pie"
           }
          ],
          "scatter": [
           {
            "fillpattern": {
             "fillmode": "overlay",
             "size": 10,
             "solidity": 0.2
            },
            "type": "scatter"
           }
          ],
          "scatter3d": [
           {
            "line": {
             "colorbar": {
              "outlinewidth": 0,
              "ticks": ""
             }
            },
            "marker": {
             "colorbar": {
              "outlinewidth": 0,
              "ticks": ""
             }
            },
            "type": "scatter3d"
           }
          ],
          "scattercarpet": [
           {
            "marker": {
             "colorbar": {
              "outlinewidth": 0,
              "ticks": ""
             }
            },
            "type": "scattercarpet"
           }
          ],
          "scattergeo": [
           {
            "marker": {
             "colorbar": {
              "outlinewidth": 0,
              "ticks": ""
             }
            },
            "type": "scattergeo"
           }
          ],
          "scattergl": [
           {
            "marker": {
             "colorbar": {
              "outlinewidth": 0,
              "ticks": ""
             }
            },
            "type": "scattergl"
           }
          ],
          "scattermapbox": [
           {
            "marker": {
             "colorbar": {
              "outlinewidth": 0,
              "ticks": ""
             }
            },
            "type": "scattermapbox"
           }
          ],
          "scatterpolar": [
           {
            "marker": {
             "colorbar": {
              "outlinewidth": 0,
              "ticks": ""
             }
            },
            "type": "scatterpolar"
           }
          ],
          "scatterpolargl": [
           {
            "marker": {
             "colorbar": {
              "outlinewidth": 0,
              "ticks": ""
             }
            },
            "type": "scatterpolargl"
           }
          ],
          "scatterternary": [
           {
            "marker": {
             "colorbar": {
              "outlinewidth": 0,
              "ticks": ""
             }
            },
            "type": "scatterternary"
           }
          ],
          "surface": [
           {
            "colorbar": {
             "outlinewidth": 0,
             "ticks": ""
            },
            "colorscale": [
             [
              0,
              "#0d0887"
             ],
             [
              0.1111111111111111,
              "#46039f"
             ],
             [
              0.2222222222222222,
              "#7201a8"
             ],
             [
              0.3333333333333333,
              "#9c179e"
             ],
             [
              0.4444444444444444,
              "#bd3786"
             ],
             [
              0.5555555555555556,
              "#d8576b"
             ],
             [
              0.6666666666666666,
              "#ed7953"
             ],
             [
              0.7777777777777778,
              "#fb9f3a"
             ],
             [
              0.8888888888888888,
              "#fdca26"
             ],
             [
              1,
              "#f0f921"
             ]
            ],
            "type": "surface"
           }
          ],
          "table": [
           {
            "cells": {
             "fill": {
              "color": "#EBF0F8"
             },
             "line": {
              "color": "white"
             }
            },
            "header": {
             "fill": {
              "color": "#C8D4E3"
             },
             "line": {
              "color": "white"
             }
            },
            "type": "table"
           }
          ]
         },
         "layout": {
          "annotationdefaults": {
           "arrowcolor": "#2a3f5f",
           "arrowhead": 0,
           "arrowwidth": 1
          },
          "autotypenumbers": "strict",
          "coloraxis": {
           "colorbar": {
            "outlinewidth": 0,
            "ticks": ""
           }
          },
          "colorscale": {
           "diverging": [
            [
             0,
             "#8e0152"
            ],
            [
             0.1,
             "#c51b7d"
            ],
            [
             0.2,
             "#de77ae"
            ],
            [
             0.3,
             "#f1b6da"
            ],
            [
             0.4,
             "#fde0ef"
            ],
            [
             0.5,
             "#f7f7f7"
            ],
            [
             0.6,
             "#e6f5d0"
            ],
            [
             0.7,
             "#b8e186"
            ],
            [
             0.8,
             "#7fbc41"
            ],
            [
             0.9,
             "#4d9221"
            ],
            [
             1,
             "#276419"
            ]
           ],
           "sequential": [
            [
             0,
             "#0d0887"
            ],
            [
             0.1111111111111111,
             "#46039f"
            ],
            [
             0.2222222222222222,
             "#7201a8"
            ],
            [
             0.3333333333333333,
             "#9c179e"
            ],
            [
             0.4444444444444444,
             "#bd3786"
            ],
            [
             0.5555555555555556,
             "#d8576b"
            ],
            [
             0.6666666666666666,
             "#ed7953"
            ],
            [
             0.7777777777777778,
             "#fb9f3a"
            ],
            [
             0.8888888888888888,
             "#fdca26"
            ],
            [
             1,
             "#f0f921"
            ]
           ],
           "sequentialminus": [
            [
             0,
             "#0d0887"
            ],
            [
             0.1111111111111111,
             "#46039f"
            ],
            [
             0.2222222222222222,
             "#7201a8"
            ],
            [
             0.3333333333333333,
             "#9c179e"
            ],
            [
             0.4444444444444444,
             "#bd3786"
            ],
            [
             0.5555555555555556,
             "#d8576b"
            ],
            [
             0.6666666666666666,
             "#ed7953"
            ],
            [
             0.7777777777777778,
             "#fb9f3a"
            ],
            [
             0.8888888888888888,
             "#fdca26"
            ],
            [
             1,
             "#f0f921"
            ]
           ]
          },
          "colorway": [
           "#636efa",
           "#EF553B",
           "#00cc96",
           "#ab63fa",
           "#FFA15A",
           "#19d3f3",
           "#FF6692",
           "#B6E880",
           "#FF97FF",
           "#FECB52"
          ],
          "font": {
           "color": "#2a3f5f"
          },
          "geo": {
           "bgcolor": "white",
           "lakecolor": "white",
           "landcolor": "#E5ECF6",
           "showlakes": true,
           "showland": true,
           "subunitcolor": "white"
          },
          "hoverlabel": {
           "align": "left"
          },
          "hovermode": "closest",
          "mapbox": {
           "style": "light"
          },
          "paper_bgcolor": "white",
          "plot_bgcolor": "#E5ECF6",
          "polar": {
           "angularaxis": {
            "gridcolor": "white",
            "linecolor": "white",
            "ticks": ""
           },
           "bgcolor": "#E5ECF6",
           "radialaxis": {
            "gridcolor": "white",
            "linecolor": "white",
            "ticks": ""
           }
          },
          "scene": {
           "xaxis": {
            "backgroundcolor": "#E5ECF6",
            "gridcolor": "white",
            "gridwidth": 2,
            "linecolor": "white",
            "showbackground": true,
            "ticks": "",
            "zerolinecolor": "white"
           },
           "yaxis": {
            "backgroundcolor": "#E5ECF6",
            "gridcolor": "white",
            "gridwidth": 2,
            "linecolor": "white",
            "showbackground": true,
            "ticks": "",
            "zerolinecolor": "white"
           },
           "zaxis": {
            "backgroundcolor": "#E5ECF6",
            "gridcolor": "white",
            "gridwidth": 2,
            "linecolor": "white",
            "showbackground": true,
            "ticks": "",
            "zerolinecolor": "white"
           }
          },
          "shapedefaults": {
           "line": {
            "color": "#2a3f5f"
           }
          },
          "ternary": {
           "aaxis": {
            "gridcolor": "white",
            "linecolor": "white",
            "ticks": ""
           },
           "baxis": {
            "gridcolor": "white",
            "linecolor": "white",
            "ticks": ""
           },
           "bgcolor": "#E5ECF6",
           "caxis": {
            "gridcolor": "white",
            "linecolor": "white",
            "ticks": ""
           }
          },
          "title": {
           "x": 0.05
          },
          "xaxis": {
           "automargin": true,
           "gridcolor": "white",
           "linecolor": "white",
           "ticks": "",
           "title": {
            "standoff": 15
           },
           "zerolinecolor": "white",
           "zerolinewidth": 2
          },
          "yaxis": {
           "automargin": true,
           "gridcolor": "white",
           "linecolor": "white",
           "ticks": "",
           "title": {
            "standoff": 15
           },
           "zerolinecolor": "white",
           "zerolinewidth": 2
          }
         }
        },
        "title": {
         "text": "Activation Location: 30 (blocks.30.hook_resid_pre)"
        },
        "xaxis": {
         "title": {
          "text": "Magnitude"
         }
        },
        "yaxis": {
         "title": {
          "text": "Probability Density"
         }
        }
       }
      },
      "text/html": [
       "<div>                            <div id=\"2bb3c3d6-fde9-406a-ab93-0d6e2dd49b02\" class=\"plotly-graph-div\" style=\"height:525px; width:100%;\"></div>            <script type=\"text/javascript\">                require([\"plotly\"], function(Plotly) {                    window.PLOTLYENV=window.PLOTLYENV || {};                                    if (document.getElementById(\"2bb3c3d6-fde9-406a-ab93-0d6e2dd49b02\")) {                    Plotly.newPlot(                        \"2bb3c3d6-fde9-406a-ab93-0d6e2dd49b02\",                        [{\"histnorm\":\"probability density\",\"name\":\"Bush did 9/11 b\",\"opacity\":0.75,\"x\":[4140.3369140625,245.50936889648438,220.96632385253906,193.18264770507812,203.3808135986328,237.76934814453125,206.9724884033203],\"type\":\"histogram\"},{\"histnorm\":\"probability density\",\"name\":\"Barack Obama wa\",\"opacity\":0.75,\"x\":[4140.3369140625,237.63809204101562,218.33425903320312,230.8122100830078,197.51756286621094,202.60415649414062,185.34559631347656],\"type\":\"histogram\"},{\"histnorm\":\"probability density\",\"name\":\"Shrek starts of\",\"opacity\":0.75,\"x\":[4140.3369140625,238.44021606445312,212.14910888671875,199.77220153808594,214.05047607421875,193.6627655029297,198.27452087402344,249.47958374023438],\"type\":\"histogram\"},{\"histnorm\":\"probability density\",\"name\":\"I went up to my\",\"opacity\":0.75,\"x\":[4140.3369140625,238.3300018310547,220.6317901611328,218.6624755859375,201.2338409423828,188.41725158691406,210.1929931640625,198.77066040039062,205.47720336914062],\"type\":\"histogram\"},{\"histnorm\":\"probability density\",\"name\":\"I talk about we\",\"opacity\":0.75,\"x\":[4140.3369140625,238.3300018310547,217.4530792236328,232.9644317626953,267.1462707519531,239.5772705078125],\"type\":\"histogram\"},{\"histnorm\":\"probability density\",\"name\":\"I bring up wedd\",\"opacity\":0.75,\"x\":[4140.3369140625,238.3300018310547,201.32923889160156,216.87075805664062,260.00732421875,198.6542205810547,191.10903930664062,216.84666442871094],\"type\":\"histogram\"},{\"histnorm\":\"probability density\",\"name\":\"I hate talking \",\"opacity\":0.75,\"x\":[4140.3369140625,238.3300018310547,223.2608184814453,208.74952697753906,227.8582000732422,265.7474670410156,243.6137237548828,204.99005126953125,214.23724365234375,199.3828582763672,221.76075744628906,230.22947692871094,237.84442138671875,211.1210479736328,217.8356170654297,217.7637939453125,249.28082275390625,228.73585510253906,210.06808471679688,213.44618225097656,219.65362548828125,206.63143920898438,202.2359619140625,210.56365966796875,196.52796936035156,193.2294464111328,208.22518920898438,188.14755249023438,250.70745849609375,213.91795349121094],\"type\":\"histogram\"}],                        {\"template\":{\"data\":{\"histogram2dcontour\":[{\"type\":\"histogram2dcontour\",\"colorbar\":{\"outlinewidth\":0,\"ticks\":\"\"},\"colorscale\":[[0.0,\"#0d0887\"],[0.1111111111111111,\"#46039f\"],[0.2222222222222222,\"#7201a8\"],[0.3333333333333333,\"#9c179e\"],[0.4444444444444444,\"#bd3786\"],[0.5555555555555556,\"#d8576b\"],[0.6666666666666666,\"#ed7953\"],[0.7777777777777778,\"#fb9f3a\"],[0.8888888888888888,\"#fdca26\"],[1.0,\"#f0f921\"]]}],\"choropleth\":[{\"type\":\"choropleth\",\"colorbar\":{\"outlinewidth\":0,\"ticks\":\"\"}}],\"histogram2d\":[{\"type\":\"histogram2d\",\"colorbar\":{\"outlinewidth\":0,\"ticks\":\"\"},\"colorscale\":[[0.0,\"#0d0887\"],[0.1111111111111111,\"#46039f\"],[0.2222222222222222,\"#7201a8\"],[0.3333333333333333,\"#9c179e\"],[0.4444444444444444,\"#bd3786\"],[0.5555555555555556,\"#d8576b\"],[0.6666666666666666,\"#ed7953\"],[0.7777777777777778,\"#fb9f3a\"],[0.8888888888888888,\"#fdca26\"],[1.0,\"#f0f921\"]]}],\"heatmap\":[{\"type\":\"heatmap\",\"colorbar\":{\"outlinewidth\":0,\"ticks\":\"\"},\"colorscale\":[[0.0,\"#0d0887\"],[0.1111111111111111,\"#46039f\"],[0.2222222222222222,\"#7201a8\"],[0.3333333333333333,\"#9c179e\"],[0.4444444444444444,\"#bd3786\"],[0.5555555555555556,\"#d8576b\"],[0.6666666666666666,\"#ed7953\"],[0.7777777777777778,\"#fb9f3a\"],[0.8888888888888888,\"#fdca26\"],[1.0,\"#f0f921\"]]}],\"heatmapgl\":[{\"type\":\"heatmapgl\",\"colorbar\":{\"outlinewidth\":0,\"ticks\":\"\"},\"colorscale\":[[0.0,\"#0d0887\"],[0.1111111111111111,\"#46039f\"],[0.2222222222222222,\"#7201a8\"],[0.3333333333333333,\"#9c179e\"],[0.4444444444444444,\"#bd3786\"],[0.5555555555555556,\"#d8576b\"],[0.6666666666666666,\"#ed7953\"],[0.7777777777777778,\"#fb9f3a\"],[0.8888888888888888,\"#fdca26\"],[1.0,\"#f0f921\"]]}],\"contourcarpet\":[{\"type\":\"contourcarpet\",\"colorbar\":{\"outlinewidth\":0,\"ticks\":\"\"}}],\"contour\":[{\"type\":\"contour\",\"colorbar\":{\"outlinewidth\":0,\"ticks\":\"\"},\"colorscale\":[[0.0,\"#0d0887\"],[0.1111111111111111,\"#46039f\"],[0.2222222222222222,\"#7201a8\"],[0.3333333333333333,\"#9c179e\"],[0.4444444444444444,\"#bd3786\"],[0.5555555555555556,\"#d8576b\"],[0.6666666666666666,\"#ed7953\"],[0.7777777777777778,\"#fb9f3a\"],[0.8888888888888888,\"#fdca26\"],[1.0,\"#f0f921\"]]}],\"surface\":[{\"type\":\"surface\",\"colorbar\":{\"outlinewidth\":0,\"ticks\":\"\"},\"colorscale\":[[0.0,\"#0d0887\"],[0.1111111111111111,\"#46039f\"],[0.2222222222222222,\"#7201a8\"],[0.3333333333333333,\"#9c179e\"],[0.4444444444444444,\"#bd3786\"],[0.5555555555555556,\"#d8576b\"],[0.6666666666666666,\"#ed7953\"],[0.7777777777777778,\"#fb9f3a\"],[0.8888888888888888,\"#fdca26\"],[1.0,\"#f0f921\"]]}],\"mesh3d\":[{\"type\":\"mesh3d\",\"colorbar\":{\"outlinewidth\":0,\"ticks\":\"\"}}],\"scatter\":[{\"fillpattern\":{\"fillmode\":\"overlay\",\"size\":10,\"solidity\":0.2},\"type\":\"scatter\"}],\"parcoords\":[{\"type\":\"parcoords\",\"line\":{\"colorbar\":{\"outlinewidth\":0,\"ticks\":\"\"}}}],\"scatterpolargl\":[{\"type\":\"scatterpolargl\",\"marker\":{\"colorbar\":{\"outlinewidth\":0,\"ticks\":\"\"}}}],\"bar\":[{\"error_x\":{\"color\":\"#2a3f5f\"},\"error_y\":{\"color\":\"#2a3f5f\"},\"marker\":{\"line\":{\"color\":\"#E5ECF6\",\"width\":0.5},\"pattern\":{\"fillmode\":\"overlay\",\"size\":10,\"solidity\":0.2}},\"type\":\"bar\"}],\"scattergeo\":[{\"type\":\"scattergeo\",\"marker\":{\"colorbar\":{\"outlinewidth\":0,\"ticks\":\"\"}}}],\"scatterpolar\":[{\"type\":\"scatterpolar\",\"marker\":{\"colorbar\":{\"outlinewidth\":0,\"ticks\":\"\"}}}],\"histogram\":[{\"marker\":{\"pattern\":{\"fillmode\":\"overlay\",\"size\":10,\"solidity\":0.2}},\"type\":\"histogram\"}],\"scattergl\":[{\"type\":\"scattergl\",\"marker\":{\"colorbar\":{\"outlinewidth\":0,\"ticks\":\"\"}}}],\"scatter3d\":[{\"type\":\"scatter3d\",\"line\":{\"colorbar\":{\"outlinewidth\":0,\"ticks\":\"\"}},\"marker\":{\"colorbar\":{\"outlinewidth\":0,\"ticks\":\"\"}}}],\"scattermapbox\":[{\"type\":\"scattermapbox\",\"marker\":{\"colorbar\":{\"outlinewidth\":0,\"ticks\":\"\"}}}],\"scatterternary\":[{\"type\":\"scatterternary\",\"marker\":{\"colorbar\":{\"outlinewidth\":0,\"ticks\":\"\"}}}],\"scattercarpet\":[{\"type\":\"scattercarpet\",\"marker\":{\"colorbar\":{\"outlinewidth\":0,\"ticks\":\"\"}}}],\"carpet\":[{\"aaxis\":{\"endlinecolor\":\"#2a3f5f\",\"gridcolor\":\"white\",\"linecolor\":\"white\",\"minorgridcolor\":\"white\",\"startlinecolor\":\"#2a3f5f\"},\"baxis\":{\"endlinecolor\":\"#2a3f5f\",\"gridcolor\":\"white\",\"linecolor\":\"white\",\"minorgridcolor\":\"white\",\"startlinecolor\":\"#2a3f5f\"},\"type\":\"carpet\"}],\"table\":[{\"cells\":{\"fill\":{\"color\":\"#EBF0F8\"},\"line\":{\"color\":\"white\"}},\"header\":{\"fill\":{\"color\":\"#C8D4E3\"},\"line\":{\"color\":\"white\"}},\"type\":\"table\"}],\"barpolar\":[{\"marker\":{\"line\":{\"color\":\"#E5ECF6\",\"width\":0.5},\"pattern\":{\"fillmode\":\"overlay\",\"size\":10,\"solidity\":0.2}},\"type\":\"barpolar\"}],\"pie\":[{\"automargin\":true,\"type\":\"pie\"}]},\"layout\":{\"autotypenumbers\":\"strict\",\"colorway\":[\"#636efa\",\"#EF553B\",\"#00cc96\",\"#ab63fa\",\"#FFA15A\",\"#19d3f3\",\"#FF6692\",\"#B6E880\",\"#FF97FF\",\"#FECB52\"],\"font\":{\"color\":\"#2a3f5f\"},\"hovermode\":\"closest\",\"hoverlabel\":{\"align\":\"left\"},\"paper_bgcolor\":\"white\",\"plot_bgcolor\":\"#E5ECF6\",\"polar\":{\"bgcolor\":\"#E5ECF6\",\"angularaxis\":{\"gridcolor\":\"white\",\"linecolor\":\"white\",\"ticks\":\"\"},\"radialaxis\":{\"gridcolor\":\"white\",\"linecolor\":\"white\",\"ticks\":\"\"}},\"ternary\":{\"bgcolor\":\"#E5ECF6\",\"aaxis\":{\"gridcolor\":\"white\",\"linecolor\":\"white\",\"ticks\":\"\"},\"baxis\":{\"gridcolor\":\"white\",\"linecolor\":\"white\",\"ticks\":\"\"},\"caxis\":{\"gridcolor\":\"white\",\"linecolor\":\"white\",\"ticks\":\"\"}},\"coloraxis\":{\"colorbar\":{\"outlinewidth\":0,\"ticks\":\"\"}},\"colorscale\":{\"sequential\":[[0.0,\"#0d0887\"],[0.1111111111111111,\"#46039f\"],[0.2222222222222222,\"#7201a8\"],[0.3333333333333333,\"#9c179e\"],[0.4444444444444444,\"#bd3786\"],[0.5555555555555556,\"#d8576b\"],[0.6666666666666666,\"#ed7953\"],[0.7777777777777778,\"#fb9f3a\"],[0.8888888888888888,\"#fdca26\"],[1.0,\"#f0f921\"]],\"sequentialminus\":[[0.0,\"#0d0887\"],[0.1111111111111111,\"#46039f\"],[0.2222222222222222,\"#7201a8\"],[0.3333333333333333,\"#9c179e\"],[0.4444444444444444,\"#bd3786\"],[0.5555555555555556,\"#d8576b\"],[0.6666666666666666,\"#ed7953\"],[0.7777777777777778,\"#fb9f3a\"],[0.8888888888888888,\"#fdca26\"],[1.0,\"#f0f921\"]],\"diverging\":[[0,\"#8e0152\"],[0.1,\"#c51b7d\"],[0.2,\"#de77ae\"],[0.3,\"#f1b6da\"],[0.4,\"#fde0ef\"],[0.5,\"#f7f7f7\"],[0.6,\"#e6f5d0\"],[0.7,\"#b8e186\"],[0.8,\"#7fbc41\"],[0.9,\"#4d9221\"],[1,\"#276419\"]]},\"xaxis\":{\"gridcolor\":\"white\",\"linecolor\":\"white\",\"ticks\":\"\",\"title\":{\"standoff\":15},\"zerolinecolor\":\"white\",\"automargin\":true,\"zerolinewidth\":2},\"yaxis\":{\"gridcolor\":\"white\",\"linecolor\":\"white\",\"ticks\":\"\",\"title\":{\"standoff\":15},\"zerolinecolor\":\"white\",\"automargin\":true,\"zerolinewidth\":2},\"scene\":{\"xaxis\":{\"backgroundcolor\":\"#E5ECF6\",\"gridcolor\":\"white\",\"linecolor\":\"white\",\"showbackground\":true,\"ticks\":\"\",\"zerolinecolor\":\"white\",\"gridwidth\":2},\"yaxis\":{\"backgroundcolor\":\"#E5ECF6\",\"gridcolor\":\"white\",\"linecolor\":\"white\",\"showbackground\":true,\"ticks\":\"\",\"zerolinecolor\":\"white\",\"gridwidth\":2},\"zaxis\":{\"backgroundcolor\":\"#E5ECF6\",\"gridcolor\":\"white\",\"linecolor\":\"white\",\"showbackground\":true,\"ticks\":\"\",\"zerolinecolor\":\"white\",\"gridwidth\":2}},\"shapedefaults\":{\"line\":{\"color\":\"#2a3f5f\"}},\"annotationdefaults\":{\"arrowcolor\":\"#2a3f5f\",\"arrowhead\":0,\"arrowwidth\":1},\"geo\":{\"bgcolor\":\"white\",\"landcolor\":\"#E5ECF6\",\"subunitcolor\":\"white\",\"showland\":true,\"showlakes\":true,\"lakecolor\":\"white\"},\"title\":{\"x\":0.05},\"mapbox\":{\"style\":\"light\"}}},\"title\":{\"text\":\"Activation Location: 30 (blocks.30.hook_resid_pre)\"},\"xaxis\":{\"title\":{\"text\":\"Magnitude\"}},\"yaxis\":{\"title\":{\"text\":\"Probability Density\"}},\"barmode\":\"overlay\",\"bargap\":0.1,\"bargroupgap\":0.1},                        {\"responsive\": true}                    ).then(function(){\n",
       "                            \n",
       "var gd = document.getElementById('2bb3c3d6-fde9-406a-ab93-0d6e2dd49b02');\n",
       "var x = new MutationObserver(function (mutations, observer) {{\n",
       "        var display = window.getComputedStyle(gd).display;\n",
       "        if (!display || display === 'none') {{\n",
       "            console.log([gd, 'removed!']);\n",
       "            Plotly.purge(gd);\n",
       "            observer.disconnect();\n",
       "        }}\n",
       "}});\n",
       "\n",
       "// Listen for the removal of the full notebook cells\n",
       "var notebookContainer = gd.closest('#notebook-container');\n",
       "if (notebookContainer) {{\n",
       "    x.observe(notebookContainer, {childList: true});\n",
       "}}\n",
       "\n",
       "// Listen for the clearing of the current output cell\n",
       "var outputEl = gd.closest('.output');\n",
       "if (outputEl) {{\n",
       "    x.observe(outputEl, {childList: true});\n",
       "}}\n",
       "\n",
       "                        })                };                });            </script>        </div>"
      ]
     },
     "metadata": {},
     "output_type": "display_data"
    },
    {
     "data": {
      "application/vnd.plotly.v1+json": {
       "config": {
        "plotlyServerURL": "https://plot.ly"
       },
       "data": [
        {
         "histnorm": "probability density",
         "name": "Bush did 9/11 b",
         "opacity": 0.75,
         "type": "histogram",
         "x": [
          4124.22509765625,
          302.2093811035156,
          315.0630798339844,
          243.14529418945312,
          236.1781005859375,
          294.2054138183594,
          309.1370849609375
         ]
        },
        {
         "histnorm": "probability density",
         "name": "Barack Obama wa",
         "opacity": 0.75,
         "type": "histogram",
         "x": [
          4124.22509765625,
          296.33905029296875,
          263.0860290527344,
          285.9110107421875,
          277.1470031738281,
          259.5247497558594,
          236.03453063964844
         ]
        },
        {
         "histnorm": "probability density",
         "name": "Shrek starts of",
         "opacity": 0.75,
         "type": "histogram",
         "x": [
          4124.22509765625,
          292.93212890625,
          249.69757080078125,
          279.5645751953125,
          290.72918701171875,
          296.78948974609375,
          287.392333984375,
          311.60552978515625
         ]
        },
        {
         "histnorm": "probability density",
         "name": "I went up to my",
         "opacity": 0.75,
         "type": "histogram",
         "x": [
          4124.22509765625,
          318.49951171875,
          291.8210754394531,
          287.3110656738281,
          310.1151428222656,
          257.99267578125,
          269.2628173828125,
          249.98558044433594,
          294.3070373535156
         ]
        },
        {
         "histnorm": "probability density",
         "name": "I talk about we",
         "opacity": 0.75,
         "type": "histogram",
         "x": [
          4124.22509765625,
          318.49951171875,
          290.4216003417969,
          370.5430908203125,
          317.4587097167969,
          304.78997802734375
         ]
        },
        {
         "histnorm": "probability density",
         "name": "I bring up wedd",
         "opacity": 0.75,
         "type": "histogram",
         "x": [
          4124.22509765625,
          318.49951171875,
          261.76763916015625,
          324.48248291015625,
          307.28118896484375,
          269.2418212890625,
          249.21566772460938,
          269.7557067871094
         ]
        },
        {
         "histnorm": "probability density",
         "name": "I hate talking ",
         "opacity": 0.75,
         "type": "histogram",
         "x": [
          4124.22509765625,
          318.49951171875,
          310.97320556640625,
          269.8529052734375,
          336.1572265625,
          313.1611328125,
          368.5304870605469,
          302.9292907714844,
          333.3558654785156,
          265.4959411621094,
          283.58489990234375,
          316.0113220214844,
          356.0479431152344,
          317.96771240234375,
          291.1817932128906,
          300.4198303222656,
          342.2316589355469,
          319.82794189453125,
          333.1205139160156,
          339.5030517578125,
          297.5675354003906,
          305.9925231933594,
          236.23138427734375,
          252.18531799316406,
          274.680908203125,
          275.9005432128906,
          266.4309997558594,
          258.1230163574219,
          310.75103759765625,
          361.4865417480469
         ]
        }
       ],
       "layout": {
        "bargap": 0.1,
        "bargroupgap": 0.1,
        "barmode": "overlay",
        "template": {
         "data": {
          "bar": [
           {
            "error_x": {
             "color": "#2a3f5f"
            },
            "error_y": {
             "color": "#2a3f5f"
            },
            "marker": {
             "line": {
              "color": "#E5ECF6",
              "width": 0.5
             },
             "pattern": {
              "fillmode": "overlay",
              "size": 10,
              "solidity": 0.2
             }
            },
            "type": "bar"
           }
          ],
          "barpolar": [
           {
            "marker": {
             "line": {
              "color": "#E5ECF6",
              "width": 0.5
             },
             "pattern": {
              "fillmode": "overlay",
              "size": 10,
              "solidity": 0.2
             }
            },
            "type": "barpolar"
           }
          ],
          "carpet": [
           {
            "aaxis": {
             "endlinecolor": "#2a3f5f",
             "gridcolor": "white",
             "linecolor": "white",
             "minorgridcolor": "white",
             "startlinecolor": "#2a3f5f"
            },
            "baxis": {
             "endlinecolor": "#2a3f5f",
             "gridcolor": "white",
             "linecolor": "white",
             "minorgridcolor": "white",
             "startlinecolor": "#2a3f5f"
            },
            "type": "carpet"
           }
          ],
          "choropleth": [
           {
            "colorbar": {
             "outlinewidth": 0,
             "ticks": ""
            },
            "type": "choropleth"
           }
          ],
          "contour": [
           {
            "colorbar": {
             "outlinewidth": 0,
             "ticks": ""
            },
            "colorscale": [
             [
              0,
              "#0d0887"
             ],
             [
              0.1111111111111111,
              "#46039f"
             ],
             [
              0.2222222222222222,
              "#7201a8"
             ],
             [
              0.3333333333333333,
              "#9c179e"
             ],
             [
              0.4444444444444444,
              "#bd3786"
             ],
             [
              0.5555555555555556,
              "#d8576b"
             ],
             [
              0.6666666666666666,
              "#ed7953"
             ],
             [
              0.7777777777777778,
              "#fb9f3a"
             ],
             [
              0.8888888888888888,
              "#fdca26"
             ],
             [
              1,
              "#f0f921"
             ]
            ],
            "type": "contour"
           }
          ],
          "contourcarpet": [
           {
            "colorbar": {
             "outlinewidth": 0,
             "ticks": ""
            },
            "type": "contourcarpet"
           }
          ],
          "heatmap": [
           {
            "colorbar": {
             "outlinewidth": 0,
             "ticks": ""
            },
            "colorscale": [
             [
              0,
              "#0d0887"
             ],
             [
              0.1111111111111111,
              "#46039f"
             ],
             [
              0.2222222222222222,
              "#7201a8"
             ],
             [
              0.3333333333333333,
              "#9c179e"
             ],
             [
              0.4444444444444444,
              "#bd3786"
             ],
             [
              0.5555555555555556,
              "#d8576b"
             ],
             [
              0.6666666666666666,
              "#ed7953"
             ],
             [
              0.7777777777777778,
              "#fb9f3a"
             ],
             [
              0.8888888888888888,
              "#fdca26"
             ],
             [
              1,
              "#f0f921"
             ]
            ],
            "type": "heatmap"
           }
          ],
          "heatmapgl": [
           {
            "colorbar": {
             "outlinewidth": 0,
             "ticks": ""
            },
            "colorscale": [
             [
              0,
              "#0d0887"
             ],
             [
              0.1111111111111111,
              "#46039f"
             ],
             [
              0.2222222222222222,
              "#7201a8"
             ],
             [
              0.3333333333333333,
              "#9c179e"
             ],
             [
              0.4444444444444444,
              "#bd3786"
             ],
             [
              0.5555555555555556,
              "#d8576b"
             ],
             [
              0.6666666666666666,
              "#ed7953"
             ],
             [
              0.7777777777777778,
              "#fb9f3a"
             ],
             [
              0.8888888888888888,
              "#fdca26"
             ],
             [
              1,
              "#f0f921"
             ]
            ],
            "type": "heatmapgl"
           }
          ],
          "histogram": [
           {
            "marker": {
             "pattern": {
              "fillmode": "overlay",
              "size": 10,
              "solidity": 0.2
             }
            },
            "type": "histogram"
           }
          ],
          "histogram2d": [
           {
            "colorbar": {
             "outlinewidth": 0,
             "ticks": ""
            },
            "colorscale": [
             [
              0,
              "#0d0887"
             ],
             [
              0.1111111111111111,
              "#46039f"
             ],
             [
              0.2222222222222222,
              "#7201a8"
             ],
             [
              0.3333333333333333,
              "#9c179e"
             ],
             [
              0.4444444444444444,
              "#bd3786"
             ],
             [
              0.5555555555555556,
              "#d8576b"
             ],
             [
              0.6666666666666666,
              "#ed7953"
             ],
             [
              0.7777777777777778,
              "#fb9f3a"
             ],
             [
              0.8888888888888888,
              "#fdca26"
             ],
             [
              1,
              "#f0f921"
             ]
            ],
            "type": "histogram2d"
           }
          ],
          "histogram2dcontour": [
           {
            "colorbar": {
             "outlinewidth": 0,
             "ticks": ""
            },
            "colorscale": [
             [
              0,
              "#0d0887"
             ],
             [
              0.1111111111111111,
              "#46039f"
             ],
             [
              0.2222222222222222,
              "#7201a8"
             ],
             [
              0.3333333333333333,
              "#9c179e"
             ],
             [
              0.4444444444444444,
              "#bd3786"
             ],
             [
              0.5555555555555556,
              "#d8576b"
             ],
             [
              0.6666666666666666,
              "#ed7953"
             ],
             [
              0.7777777777777778,
              "#fb9f3a"
             ],
             [
              0.8888888888888888,
              "#fdca26"
             ],
             [
              1,
              "#f0f921"
             ]
            ],
            "type": "histogram2dcontour"
           }
          ],
          "mesh3d": [
           {
            "colorbar": {
             "outlinewidth": 0,
             "ticks": ""
            },
            "type": "mesh3d"
           }
          ],
          "parcoords": [
           {
            "line": {
             "colorbar": {
              "outlinewidth": 0,
              "ticks": ""
             }
            },
            "type": "parcoords"
           }
          ],
          "pie": [
           {
            "automargin": true,
            "type": "pie"
           }
          ],
          "scatter": [
           {
            "fillpattern": {
             "fillmode": "overlay",
             "size": 10,
             "solidity": 0.2
            },
            "type": "scatter"
           }
          ],
          "scatter3d": [
           {
            "line": {
             "colorbar": {
              "outlinewidth": 0,
              "ticks": ""
             }
            },
            "marker": {
             "colorbar": {
              "outlinewidth": 0,
              "ticks": ""
             }
            },
            "type": "scatter3d"
           }
          ],
          "scattercarpet": [
           {
            "marker": {
             "colorbar": {
              "outlinewidth": 0,
              "ticks": ""
             }
            },
            "type": "scattercarpet"
           }
          ],
          "scattergeo": [
           {
            "marker": {
             "colorbar": {
              "outlinewidth": 0,
              "ticks": ""
             }
            },
            "type": "scattergeo"
           }
          ],
          "scattergl": [
           {
            "marker": {
             "colorbar": {
              "outlinewidth": 0,
              "ticks": ""
             }
            },
            "type": "scattergl"
           }
          ],
          "scattermapbox": [
           {
            "marker": {
             "colorbar": {
              "outlinewidth": 0,
              "ticks": ""
             }
            },
            "type": "scattermapbox"
           }
          ],
          "scatterpolar": [
           {
            "marker": {
             "colorbar": {
              "outlinewidth": 0,
              "ticks": ""
             }
            },
            "type": "scatterpolar"
           }
          ],
          "scatterpolargl": [
           {
            "marker": {
             "colorbar": {
              "outlinewidth": 0,
              "ticks": ""
             }
            },
            "type": "scatterpolargl"
           }
          ],
          "scatterternary": [
           {
            "marker": {
             "colorbar": {
              "outlinewidth": 0,
              "ticks": ""
             }
            },
            "type": "scatterternary"
           }
          ],
          "surface": [
           {
            "colorbar": {
             "outlinewidth": 0,
             "ticks": ""
            },
            "colorscale": [
             [
              0,
              "#0d0887"
             ],
             [
              0.1111111111111111,
              "#46039f"
             ],
             [
              0.2222222222222222,
              "#7201a8"
             ],
             [
              0.3333333333333333,
              "#9c179e"
             ],
             [
              0.4444444444444444,
              "#bd3786"
             ],
             [
              0.5555555555555556,
              "#d8576b"
             ],
             [
              0.6666666666666666,
              "#ed7953"
             ],
             [
              0.7777777777777778,
              "#fb9f3a"
             ],
             [
              0.8888888888888888,
              "#fdca26"
             ],
             [
              1,
              "#f0f921"
             ]
            ],
            "type": "surface"
           }
          ],
          "table": [
           {
            "cells": {
             "fill": {
              "color": "#EBF0F8"
             },
             "line": {
              "color": "white"
             }
            },
            "header": {
             "fill": {
              "color": "#C8D4E3"
             },
             "line": {
              "color": "white"
             }
            },
            "type": "table"
           }
          ]
         },
         "layout": {
          "annotationdefaults": {
           "arrowcolor": "#2a3f5f",
           "arrowhead": 0,
           "arrowwidth": 1
          },
          "autotypenumbers": "strict",
          "coloraxis": {
           "colorbar": {
            "outlinewidth": 0,
            "ticks": ""
           }
          },
          "colorscale": {
           "diverging": [
            [
             0,
             "#8e0152"
            ],
            [
             0.1,
             "#c51b7d"
            ],
            [
             0.2,
             "#de77ae"
            ],
            [
             0.3,
             "#f1b6da"
            ],
            [
             0.4,
             "#fde0ef"
            ],
            [
             0.5,
             "#f7f7f7"
            ],
            [
             0.6,
             "#e6f5d0"
            ],
            [
             0.7,
             "#b8e186"
            ],
            [
             0.8,
             "#7fbc41"
            ],
            [
             0.9,
             "#4d9221"
            ],
            [
             1,
             "#276419"
            ]
           ],
           "sequential": [
            [
             0,
             "#0d0887"
            ],
            [
             0.1111111111111111,
             "#46039f"
            ],
            [
             0.2222222222222222,
             "#7201a8"
            ],
            [
             0.3333333333333333,
             "#9c179e"
            ],
            [
             0.4444444444444444,
             "#bd3786"
            ],
            [
             0.5555555555555556,
             "#d8576b"
            ],
            [
             0.6666666666666666,
             "#ed7953"
            ],
            [
             0.7777777777777778,
             "#fb9f3a"
            ],
            [
             0.8888888888888888,
             "#fdca26"
            ],
            [
             1,
             "#f0f921"
            ]
           ],
           "sequentialminus": [
            [
             0,
             "#0d0887"
            ],
            [
             0.1111111111111111,
             "#46039f"
            ],
            [
             0.2222222222222222,
             "#7201a8"
            ],
            [
             0.3333333333333333,
             "#9c179e"
            ],
            [
             0.4444444444444444,
             "#bd3786"
            ],
            [
             0.5555555555555556,
             "#d8576b"
            ],
            [
             0.6666666666666666,
             "#ed7953"
            ],
            [
             0.7777777777777778,
             "#fb9f3a"
            ],
            [
             0.8888888888888888,
             "#fdca26"
            ],
            [
             1,
             "#f0f921"
            ]
           ]
          },
          "colorway": [
           "#636efa",
           "#EF553B",
           "#00cc96",
           "#ab63fa",
           "#FFA15A",
           "#19d3f3",
           "#FF6692",
           "#B6E880",
           "#FF97FF",
           "#FECB52"
          ],
          "font": {
           "color": "#2a3f5f"
          },
          "geo": {
           "bgcolor": "white",
           "lakecolor": "white",
           "landcolor": "#E5ECF6",
           "showlakes": true,
           "showland": true,
           "subunitcolor": "white"
          },
          "hoverlabel": {
           "align": "left"
          },
          "hovermode": "closest",
          "mapbox": {
           "style": "light"
          },
          "paper_bgcolor": "white",
          "plot_bgcolor": "#E5ECF6",
          "polar": {
           "angularaxis": {
            "gridcolor": "white",
            "linecolor": "white",
            "ticks": ""
           },
           "bgcolor": "#E5ECF6",
           "radialaxis": {
            "gridcolor": "white",
            "linecolor": "white",
            "ticks": ""
           }
          },
          "scene": {
           "xaxis": {
            "backgroundcolor": "#E5ECF6",
            "gridcolor": "white",
            "gridwidth": 2,
            "linecolor": "white",
            "showbackground": true,
            "ticks": "",
            "zerolinecolor": "white"
           },
           "yaxis": {
            "backgroundcolor": "#E5ECF6",
            "gridcolor": "white",
            "gridwidth": 2,
            "linecolor": "white",
            "showbackground": true,
            "ticks": "",
            "zerolinecolor": "white"
           },
           "zaxis": {
            "backgroundcolor": "#E5ECF6",
            "gridcolor": "white",
            "gridwidth": 2,
            "linecolor": "white",
            "showbackground": true,
            "ticks": "",
            "zerolinecolor": "white"
           }
          },
          "shapedefaults": {
           "line": {
            "color": "#2a3f5f"
           }
          },
          "ternary": {
           "aaxis": {
            "gridcolor": "white",
            "linecolor": "white",
            "ticks": ""
           },
           "baxis": {
            "gridcolor": "white",
            "linecolor": "white",
            "ticks": ""
           },
           "bgcolor": "#E5ECF6",
           "caxis": {
            "gridcolor": "white",
            "linecolor": "white",
            "ticks": ""
           }
          },
          "title": {
           "x": 0.05
          },
          "xaxis": {
           "automargin": true,
           "gridcolor": "white",
           "linecolor": "white",
           "ticks": "",
           "title": {
            "standoff": 15
           },
           "zerolinecolor": "white",
           "zerolinewidth": 2
          },
          "yaxis": {
           "automargin": true,
           "gridcolor": "white",
           "linecolor": "white",
           "ticks": "",
           "title": {
            "standoff": 15
           },
           "zerolinecolor": "white",
           "zerolinewidth": 2
          }
         }
        },
        "title": {
         "text": "Activation Location: 36 (blocks.36.hook_resid_pre)"
        },
        "xaxis": {
         "title": {
          "text": "Magnitude"
         }
        },
        "yaxis": {
         "title": {
          "text": "Probability Density"
         }
        }
       }
      },
      "text/html": [
       "<div>                            <div id=\"9cb9f836-5e54-447f-b62d-cbbbb4c28cee\" class=\"plotly-graph-div\" style=\"height:525px; width:100%;\"></div>            <script type=\"text/javascript\">                require([\"plotly\"], function(Plotly) {                    window.PLOTLYENV=window.PLOTLYENV || {};                                    if (document.getElementById(\"9cb9f836-5e54-447f-b62d-cbbbb4c28cee\")) {                    Plotly.newPlot(                        \"9cb9f836-5e54-447f-b62d-cbbbb4c28cee\",                        [{\"histnorm\":\"probability density\",\"name\":\"Bush did 9/11 b\",\"opacity\":0.75,\"x\":[4124.22509765625,302.2093811035156,315.0630798339844,243.14529418945312,236.1781005859375,294.2054138183594,309.1370849609375],\"type\":\"histogram\"},{\"histnorm\":\"probability density\",\"name\":\"Barack Obama wa\",\"opacity\":0.75,\"x\":[4124.22509765625,296.33905029296875,263.0860290527344,285.9110107421875,277.1470031738281,259.5247497558594,236.03453063964844],\"type\":\"histogram\"},{\"histnorm\":\"probability density\",\"name\":\"Shrek starts of\",\"opacity\":0.75,\"x\":[4124.22509765625,292.93212890625,249.69757080078125,279.5645751953125,290.72918701171875,296.78948974609375,287.392333984375,311.60552978515625],\"type\":\"histogram\"},{\"histnorm\":\"probability density\",\"name\":\"I went up to my\",\"opacity\":0.75,\"x\":[4124.22509765625,318.49951171875,291.8210754394531,287.3110656738281,310.1151428222656,257.99267578125,269.2628173828125,249.98558044433594,294.3070373535156],\"type\":\"histogram\"},{\"histnorm\":\"probability density\",\"name\":\"I talk about we\",\"opacity\":0.75,\"x\":[4124.22509765625,318.49951171875,290.4216003417969,370.5430908203125,317.4587097167969,304.78997802734375],\"type\":\"histogram\"},{\"histnorm\":\"probability density\",\"name\":\"I bring up wedd\",\"opacity\":0.75,\"x\":[4124.22509765625,318.49951171875,261.76763916015625,324.48248291015625,307.28118896484375,269.2418212890625,249.21566772460938,269.7557067871094],\"type\":\"histogram\"},{\"histnorm\":\"probability density\",\"name\":\"I hate talking \",\"opacity\":0.75,\"x\":[4124.22509765625,318.49951171875,310.97320556640625,269.8529052734375,336.1572265625,313.1611328125,368.5304870605469,302.9292907714844,333.3558654785156,265.4959411621094,283.58489990234375,316.0113220214844,356.0479431152344,317.96771240234375,291.1817932128906,300.4198303222656,342.2316589355469,319.82794189453125,333.1205139160156,339.5030517578125,297.5675354003906,305.9925231933594,236.23138427734375,252.18531799316406,274.680908203125,275.9005432128906,266.4309997558594,258.1230163574219,310.75103759765625,361.4865417480469],\"type\":\"histogram\"}],                        {\"template\":{\"data\":{\"histogram2dcontour\":[{\"type\":\"histogram2dcontour\",\"colorbar\":{\"outlinewidth\":0,\"ticks\":\"\"},\"colorscale\":[[0.0,\"#0d0887\"],[0.1111111111111111,\"#46039f\"],[0.2222222222222222,\"#7201a8\"],[0.3333333333333333,\"#9c179e\"],[0.4444444444444444,\"#bd3786\"],[0.5555555555555556,\"#d8576b\"],[0.6666666666666666,\"#ed7953\"],[0.7777777777777778,\"#fb9f3a\"],[0.8888888888888888,\"#fdca26\"],[1.0,\"#f0f921\"]]}],\"choropleth\":[{\"type\":\"choropleth\",\"colorbar\":{\"outlinewidth\":0,\"ticks\":\"\"}}],\"histogram2d\":[{\"type\":\"histogram2d\",\"colorbar\":{\"outlinewidth\":0,\"ticks\":\"\"},\"colorscale\":[[0.0,\"#0d0887\"],[0.1111111111111111,\"#46039f\"],[0.2222222222222222,\"#7201a8\"],[0.3333333333333333,\"#9c179e\"],[0.4444444444444444,\"#bd3786\"],[0.5555555555555556,\"#d8576b\"],[0.6666666666666666,\"#ed7953\"],[0.7777777777777778,\"#fb9f3a\"],[0.8888888888888888,\"#fdca26\"],[1.0,\"#f0f921\"]]}],\"heatmap\":[{\"type\":\"heatmap\",\"colorbar\":{\"outlinewidth\":0,\"ticks\":\"\"},\"colorscale\":[[0.0,\"#0d0887\"],[0.1111111111111111,\"#46039f\"],[0.2222222222222222,\"#7201a8\"],[0.3333333333333333,\"#9c179e\"],[0.4444444444444444,\"#bd3786\"],[0.5555555555555556,\"#d8576b\"],[0.6666666666666666,\"#ed7953\"],[0.7777777777777778,\"#fb9f3a\"],[0.8888888888888888,\"#fdca26\"],[1.0,\"#f0f921\"]]}],\"heatmapgl\":[{\"type\":\"heatmapgl\",\"colorbar\":{\"outlinewidth\":0,\"ticks\":\"\"},\"colorscale\":[[0.0,\"#0d0887\"],[0.1111111111111111,\"#46039f\"],[0.2222222222222222,\"#7201a8\"],[0.3333333333333333,\"#9c179e\"],[0.4444444444444444,\"#bd3786\"],[0.5555555555555556,\"#d8576b\"],[0.6666666666666666,\"#ed7953\"],[0.7777777777777778,\"#fb9f3a\"],[0.8888888888888888,\"#fdca26\"],[1.0,\"#f0f921\"]]}],\"contourcarpet\":[{\"type\":\"contourcarpet\",\"colorbar\":{\"outlinewidth\":0,\"ticks\":\"\"}}],\"contour\":[{\"type\":\"contour\",\"colorbar\":{\"outlinewidth\":0,\"ticks\":\"\"},\"colorscale\":[[0.0,\"#0d0887\"],[0.1111111111111111,\"#46039f\"],[0.2222222222222222,\"#7201a8\"],[0.3333333333333333,\"#9c179e\"],[0.4444444444444444,\"#bd3786\"],[0.5555555555555556,\"#d8576b\"],[0.6666666666666666,\"#ed7953\"],[0.7777777777777778,\"#fb9f3a\"],[0.8888888888888888,\"#fdca26\"],[1.0,\"#f0f921\"]]}],\"surface\":[{\"type\":\"surface\",\"colorbar\":{\"outlinewidth\":0,\"ticks\":\"\"},\"colorscale\":[[0.0,\"#0d0887\"],[0.1111111111111111,\"#46039f\"],[0.2222222222222222,\"#7201a8\"],[0.3333333333333333,\"#9c179e\"],[0.4444444444444444,\"#bd3786\"],[0.5555555555555556,\"#d8576b\"],[0.6666666666666666,\"#ed7953\"],[0.7777777777777778,\"#fb9f3a\"],[0.8888888888888888,\"#fdca26\"],[1.0,\"#f0f921\"]]}],\"mesh3d\":[{\"type\":\"mesh3d\",\"colorbar\":{\"outlinewidth\":0,\"ticks\":\"\"}}],\"scatter\":[{\"fillpattern\":{\"fillmode\":\"overlay\",\"size\":10,\"solidity\":0.2},\"type\":\"scatter\"}],\"parcoords\":[{\"type\":\"parcoords\",\"line\":{\"colorbar\":{\"outlinewidth\":0,\"ticks\":\"\"}}}],\"scatterpolargl\":[{\"type\":\"scatterpolargl\",\"marker\":{\"colorbar\":{\"outlinewidth\":0,\"ticks\":\"\"}}}],\"bar\":[{\"error_x\":{\"color\":\"#2a3f5f\"},\"error_y\":{\"color\":\"#2a3f5f\"},\"marker\":{\"line\":{\"color\":\"#E5ECF6\",\"width\":0.5},\"pattern\":{\"fillmode\":\"overlay\",\"size\":10,\"solidity\":0.2}},\"type\":\"bar\"}],\"scattergeo\":[{\"type\":\"scattergeo\",\"marker\":{\"colorbar\":{\"outlinewidth\":0,\"ticks\":\"\"}}}],\"scatterpolar\":[{\"type\":\"scatterpolar\",\"marker\":{\"colorbar\":{\"outlinewidth\":0,\"ticks\":\"\"}}}],\"histogram\":[{\"marker\":{\"pattern\":{\"fillmode\":\"overlay\",\"size\":10,\"solidity\":0.2}},\"type\":\"histogram\"}],\"scattergl\":[{\"type\":\"scattergl\",\"marker\":{\"colorbar\":{\"outlinewidth\":0,\"ticks\":\"\"}}}],\"scatter3d\":[{\"type\":\"scatter3d\",\"line\":{\"colorbar\":{\"outlinewidth\":0,\"ticks\":\"\"}},\"marker\":{\"colorbar\":{\"outlinewidth\":0,\"ticks\":\"\"}}}],\"scattermapbox\":[{\"type\":\"scattermapbox\",\"marker\":{\"colorbar\":{\"outlinewidth\":0,\"ticks\":\"\"}}}],\"scatterternary\":[{\"type\":\"scatterternary\",\"marker\":{\"colorbar\":{\"outlinewidth\":0,\"ticks\":\"\"}}}],\"scattercarpet\":[{\"type\":\"scattercarpet\",\"marker\":{\"colorbar\":{\"outlinewidth\":0,\"ticks\":\"\"}}}],\"carpet\":[{\"aaxis\":{\"endlinecolor\":\"#2a3f5f\",\"gridcolor\":\"white\",\"linecolor\":\"white\",\"minorgridcolor\":\"white\",\"startlinecolor\":\"#2a3f5f\"},\"baxis\":{\"endlinecolor\":\"#2a3f5f\",\"gridcolor\":\"white\",\"linecolor\":\"white\",\"minorgridcolor\":\"white\",\"startlinecolor\":\"#2a3f5f\"},\"type\":\"carpet\"}],\"table\":[{\"cells\":{\"fill\":{\"color\":\"#EBF0F8\"},\"line\":{\"color\":\"white\"}},\"header\":{\"fill\":{\"color\":\"#C8D4E3\"},\"line\":{\"color\":\"white\"}},\"type\":\"table\"}],\"barpolar\":[{\"marker\":{\"line\":{\"color\":\"#E5ECF6\",\"width\":0.5},\"pattern\":{\"fillmode\":\"overlay\",\"size\":10,\"solidity\":0.2}},\"type\":\"barpolar\"}],\"pie\":[{\"automargin\":true,\"type\":\"pie\"}]},\"layout\":{\"autotypenumbers\":\"strict\",\"colorway\":[\"#636efa\",\"#EF553B\",\"#00cc96\",\"#ab63fa\",\"#FFA15A\",\"#19d3f3\",\"#FF6692\",\"#B6E880\",\"#FF97FF\",\"#FECB52\"],\"font\":{\"color\":\"#2a3f5f\"},\"hovermode\":\"closest\",\"hoverlabel\":{\"align\":\"left\"},\"paper_bgcolor\":\"white\",\"plot_bgcolor\":\"#E5ECF6\",\"polar\":{\"bgcolor\":\"#E5ECF6\",\"angularaxis\":{\"gridcolor\":\"white\",\"linecolor\":\"white\",\"ticks\":\"\"},\"radialaxis\":{\"gridcolor\":\"white\",\"linecolor\":\"white\",\"ticks\":\"\"}},\"ternary\":{\"bgcolor\":\"#E5ECF6\",\"aaxis\":{\"gridcolor\":\"white\",\"linecolor\":\"white\",\"ticks\":\"\"},\"baxis\":{\"gridcolor\":\"white\",\"linecolor\":\"white\",\"ticks\":\"\"},\"caxis\":{\"gridcolor\":\"white\",\"linecolor\":\"white\",\"ticks\":\"\"}},\"coloraxis\":{\"colorbar\":{\"outlinewidth\":0,\"ticks\":\"\"}},\"colorscale\":{\"sequential\":[[0.0,\"#0d0887\"],[0.1111111111111111,\"#46039f\"],[0.2222222222222222,\"#7201a8\"],[0.3333333333333333,\"#9c179e\"],[0.4444444444444444,\"#bd3786\"],[0.5555555555555556,\"#d8576b\"],[0.6666666666666666,\"#ed7953\"],[0.7777777777777778,\"#fb9f3a\"],[0.8888888888888888,\"#fdca26\"],[1.0,\"#f0f921\"]],\"sequentialminus\":[[0.0,\"#0d0887\"],[0.1111111111111111,\"#46039f\"],[0.2222222222222222,\"#7201a8\"],[0.3333333333333333,\"#9c179e\"],[0.4444444444444444,\"#bd3786\"],[0.5555555555555556,\"#d8576b\"],[0.6666666666666666,\"#ed7953\"],[0.7777777777777778,\"#fb9f3a\"],[0.8888888888888888,\"#fdca26\"],[1.0,\"#f0f921\"]],\"diverging\":[[0,\"#8e0152\"],[0.1,\"#c51b7d\"],[0.2,\"#de77ae\"],[0.3,\"#f1b6da\"],[0.4,\"#fde0ef\"],[0.5,\"#f7f7f7\"],[0.6,\"#e6f5d0\"],[0.7,\"#b8e186\"],[0.8,\"#7fbc41\"],[0.9,\"#4d9221\"],[1,\"#276419\"]]},\"xaxis\":{\"gridcolor\":\"white\",\"linecolor\":\"white\",\"ticks\":\"\",\"title\":{\"standoff\":15},\"zerolinecolor\":\"white\",\"automargin\":true,\"zerolinewidth\":2},\"yaxis\":{\"gridcolor\":\"white\",\"linecolor\":\"white\",\"ticks\":\"\",\"title\":{\"standoff\":15},\"zerolinecolor\":\"white\",\"automargin\":true,\"zerolinewidth\":2},\"scene\":{\"xaxis\":{\"backgroundcolor\":\"#E5ECF6\",\"gridcolor\":\"white\",\"linecolor\":\"white\",\"showbackground\":true,\"ticks\":\"\",\"zerolinecolor\":\"white\",\"gridwidth\":2},\"yaxis\":{\"backgroundcolor\":\"#E5ECF6\",\"gridcolor\":\"white\",\"linecolor\":\"white\",\"showbackground\":true,\"ticks\":\"\",\"zerolinecolor\":\"white\",\"gridwidth\":2},\"zaxis\":{\"backgroundcolor\":\"#E5ECF6\",\"gridcolor\":\"white\",\"linecolor\":\"white\",\"showbackground\":true,\"ticks\":\"\",\"zerolinecolor\":\"white\",\"gridwidth\":2}},\"shapedefaults\":{\"line\":{\"color\":\"#2a3f5f\"}},\"annotationdefaults\":{\"arrowcolor\":\"#2a3f5f\",\"arrowhead\":0,\"arrowwidth\":1},\"geo\":{\"bgcolor\":\"white\",\"landcolor\":\"#E5ECF6\",\"subunitcolor\":\"white\",\"showland\":true,\"showlakes\":true,\"lakecolor\":\"white\"},\"title\":{\"x\":0.05},\"mapbox\":{\"style\":\"light\"}}},\"title\":{\"text\":\"Activation Location: 36 (blocks.36.hook_resid_pre)\"},\"xaxis\":{\"title\":{\"text\":\"Magnitude\"}},\"yaxis\":{\"title\":{\"text\":\"Probability Density\"}},\"barmode\":\"overlay\",\"bargap\":0.1,\"bargroupgap\":0.1},                        {\"responsive\": true}                    ).then(function(){\n",
       "                            \n",
       "var gd = document.getElementById('9cb9f836-5e54-447f-b62d-cbbbb4c28cee');\n",
       "var x = new MutationObserver(function (mutations, observer) {{\n",
       "        var display = window.getComputedStyle(gd).display;\n",
       "        if (!display || display === 'none') {{\n",
       "            console.log([gd, 'removed!']);\n",
       "            Plotly.purge(gd);\n",
       "            observer.disconnect();\n",
       "        }}\n",
       "}});\n",
       "\n",
       "// Listen for the removal of the full notebook cells\n",
       "var notebookContainer = gd.closest('#notebook-container');\n",
       "if (notebookContainer) {{\n",
       "    x.observe(notebookContainer, {childList: true});\n",
       "}}\n",
       "\n",
       "// Listen for the clearing of the current output cell\n",
       "var outputEl = gd.closest('.output');\n",
       "if (outputEl) {{\n",
       "    x.observe(outputEl, {childList: true});\n",
       "}}\n",
       "\n",
       "                        })                };                });            </script>        </div>"
      ]
     },
     "metadata": {},
     "output_type": "display_data"
    },
    {
     "data": {
      "application/vnd.plotly.v1+json": {
       "config": {
        "plotlyServerURL": "https://plot.ly"
       },
       "data": [
        {
         "histnorm": "probability density",
         "name": "Bush did 9/11 b",
         "opacity": 0.75,
         "type": "histogram",
         "x": [
          3595.77880859375,
          370.8758239746094,
          436.68115234375,
          309.9027099609375,
          258.2983093261719,
          358.9163513183594,
          453.6609191894531
         ]
        },
        {
         "histnorm": "probability density",
         "name": "Barack Obama wa",
         "opacity": 0.75,
         "type": "histogram",
         "x": [
          3595.77880859375,
          344.86932373046875,
          311.5382995605469,
          371.3497314453125,
          382.5867919921875,
          311.47625732421875,
          261.9090576171875
         ]
        },
        {
         "histnorm": "probability density",
         "name": "Shrek starts of",
         "opacity": 0.75,
         "type": "histogram",
         "x": [
          3595.779296875,
          359.87542724609375,
          310.8803405761719,
          391.24462890625,
          397.3293762207031,
          414.7854309082031,
          409.29583740234375,
          384.7342834472656
         ]
        },
        {
         "histnorm": "probability density",
         "name": "I went up to my",
         "opacity": 0.75,
         "type": "histogram",
         "x": [
          3595.779296875,
          437.9986877441406,
          382.74237060546875,
          376.1755676269531,
          476.8891296386719,
          353.7035827636719,
          363.3344421386719,
          327.39093017578125,
          423.5238037109375
         ]
        },
        {
         "histnorm": "probability density",
         "name": "I talk about we",
         "opacity": 0.75,
         "type": "histogram",
         "x": [
          3595.77880859375,
          437.9986877441406,
          387.2633972167969,
          554.3279418945312,
          381.09185791015625,
          400.4378967285156
         ]
        },
        {
         "histnorm": "probability density",
         "name": "I bring up wedd",
         "opacity": 0.75,
         "type": "histogram",
         "x": [
          3595.779296875,
          437.9986877441406,
          367.1706237792969,
          514.3735961914062,
          367.38116455078125,
          372.95458984375,
          341.3298645019531,
          352.0809020996094
         ]
        },
        {
         "histnorm": "probability density",
         "name": "I hate talking ",
         "opacity": 0.75,
         "type": "histogram",
         "x": [
          3595.779052734375,
          437.99871826171875,
          447.4679870605469,
          363.98516845703125,
          507.48077392578125,
          376.41949462890625,
          530.7174682617188,
          445.4849853515625,
          501.7142639160156,
          351.383544921875,
          372.6016540527344,
          429.06195068359375,
          518.0502319335938,
          465.4999694824219,
          389.16497802734375,
          417.0745849609375,
          494.00933837890625,
          455.3409118652344,
          517.7250366210938,
          492.1470642089844,
          427.7232360839844,
          456.9322509765625,
          280.5755615234375,
          295.5755310058594,
          359.8999328613281,
          341.67620849609375,
          314.087646484375,
          347.74774169921875,
          364.74853515625,
          523.9776611328125
         ]
        }
       ],
       "layout": {
        "bargap": 0.1,
        "bargroupgap": 0.1,
        "barmode": "overlay",
        "template": {
         "data": {
          "bar": [
           {
            "error_x": {
             "color": "#2a3f5f"
            },
            "error_y": {
             "color": "#2a3f5f"
            },
            "marker": {
             "line": {
              "color": "#E5ECF6",
              "width": 0.5
             },
             "pattern": {
              "fillmode": "overlay",
              "size": 10,
              "solidity": 0.2
             }
            },
            "type": "bar"
           }
          ],
          "barpolar": [
           {
            "marker": {
             "line": {
              "color": "#E5ECF6",
              "width": 0.5
             },
             "pattern": {
              "fillmode": "overlay",
              "size": 10,
              "solidity": 0.2
             }
            },
            "type": "barpolar"
           }
          ],
          "carpet": [
           {
            "aaxis": {
             "endlinecolor": "#2a3f5f",
             "gridcolor": "white",
             "linecolor": "white",
             "minorgridcolor": "white",
             "startlinecolor": "#2a3f5f"
            },
            "baxis": {
             "endlinecolor": "#2a3f5f",
             "gridcolor": "white",
             "linecolor": "white",
             "minorgridcolor": "white",
             "startlinecolor": "#2a3f5f"
            },
            "type": "carpet"
           }
          ],
          "choropleth": [
           {
            "colorbar": {
             "outlinewidth": 0,
             "ticks": ""
            },
            "type": "choropleth"
           }
          ],
          "contour": [
           {
            "colorbar": {
             "outlinewidth": 0,
             "ticks": ""
            },
            "colorscale": [
             [
              0,
              "#0d0887"
             ],
             [
              0.1111111111111111,
              "#46039f"
             ],
             [
              0.2222222222222222,
              "#7201a8"
             ],
             [
              0.3333333333333333,
              "#9c179e"
             ],
             [
              0.4444444444444444,
              "#bd3786"
             ],
             [
              0.5555555555555556,
              "#d8576b"
             ],
             [
              0.6666666666666666,
              "#ed7953"
             ],
             [
              0.7777777777777778,
              "#fb9f3a"
             ],
             [
              0.8888888888888888,
              "#fdca26"
             ],
             [
              1,
              "#f0f921"
             ]
            ],
            "type": "contour"
           }
          ],
          "contourcarpet": [
           {
            "colorbar": {
             "outlinewidth": 0,
             "ticks": ""
            },
            "type": "contourcarpet"
           }
          ],
          "heatmap": [
           {
            "colorbar": {
             "outlinewidth": 0,
             "ticks": ""
            },
            "colorscale": [
             [
              0,
              "#0d0887"
             ],
             [
              0.1111111111111111,
              "#46039f"
             ],
             [
              0.2222222222222222,
              "#7201a8"
             ],
             [
              0.3333333333333333,
              "#9c179e"
             ],
             [
              0.4444444444444444,
              "#bd3786"
             ],
             [
              0.5555555555555556,
              "#d8576b"
             ],
             [
              0.6666666666666666,
              "#ed7953"
             ],
             [
              0.7777777777777778,
              "#fb9f3a"
             ],
             [
              0.8888888888888888,
              "#fdca26"
             ],
             [
              1,
              "#f0f921"
             ]
            ],
            "type": "heatmap"
           }
          ],
          "heatmapgl": [
           {
            "colorbar": {
             "outlinewidth": 0,
             "ticks": ""
            },
            "colorscale": [
             [
              0,
              "#0d0887"
             ],
             [
              0.1111111111111111,
              "#46039f"
             ],
             [
              0.2222222222222222,
              "#7201a8"
             ],
             [
              0.3333333333333333,
              "#9c179e"
             ],
             [
              0.4444444444444444,
              "#bd3786"
             ],
             [
              0.5555555555555556,
              "#d8576b"
             ],
             [
              0.6666666666666666,
              "#ed7953"
             ],
             [
              0.7777777777777778,
              "#fb9f3a"
             ],
             [
              0.8888888888888888,
              "#fdca26"
             ],
             [
              1,
              "#f0f921"
             ]
            ],
            "type": "heatmapgl"
           }
          ],
          "histogram": [
           {
            "marker": {
             "pattern": {
              "fillmode": "overlay",
              "size": 10,
              "solidity": 0.2
             }
            },
            "type": "histogram"
           }
          ],
          "histogram2d": [
           {
            "colorbar": {
             "outlinewidth": 0,
             "ticks": ""
            },
            "colorscale": [
             [
              0,
              "#0d0887"
             ],
             [
              0.1111111111111111,
              "#46039f"
             ],
             [
              0.2222222222222222,
              "#7201a8"
             ],
             [
              0.3333333333333333,
              "#9c179e"
             ],
             [
              0.4444444444444444,
              "#bd3786"
             ],
             [
              0.5555555555555556,
              "#d8576b"
             ],
             [
              0.6666666666666666,
              "#ed7953"
             ],
             [
              0.7777777777777778,
              "#fb9f3a"
             ],
             [
              0.8888888888888888,
              "#fdca26"
             ],
             [
              1,
              "#f0f921"
             ]
            ],
            "type": "histogram2d"
           }
          ],
          "histogram2dcontour": [
           {
            "colorbar": {
             "outlinewidth": 0,
             "ticks": ""
            },
            "colorscale": [
             [
              0,
              "#0d0887"
             ],
             [
              0.1111111111111111,
              "#46039f"
             ],
             [
              0.2222222222222222,
              "#7201a8"
             ],
             [
              0.3333333333333333,
              "#9c179e"
             ],
             [
              0.4444444444444444,
              "#bd3786"
             ],
             [
              0.5555555555555556,
              "#d8576b"
             ],
             [
              0.6666666666666666,
              "#ed7953"
             ],
             [
              0.7777777777777778,
              "#fb9f3a"
             ],
             [
              0.8888888888888888,
              "#fdca26"
             ],
             [
              1,
              "#f0f921"
             ]
            ],
            "type": "histogram2dcontour"
           }
          ],
          "mesh3d": [
           {
            "colorbar": {
             "outlinewidth": 0,
             "ticks": ""
            },
            "type": "mesh3d"
           }
          ],
          "parcoords": [
           {
            "line": {
             "colorbar": {
              "outlinewidth": 0,
              "ticks": ""
             }
            },
            "type": "parcoords"
           }
          ],
          "pie": [
           {
            "automargin": true,
            "type": "pie"
           }
          ],
          "scatter": [
           {
            "fillpattern": {
             "fillmode": "overlay",
             "size": 10,
             "solidity": 0.2
            },
            "type": "scatter"
           }
          ],
          "scatter3d": [
           {
            "line": {
             "colorbar": {
              "outlinewidth": 0,
              "ticks": ""
             }
            },
            "marker": {
             "colorbar": {
              "outlinewidth": 0,
              "ticks": ""
             }
            },
            "type": "scatter3d"
           }
          ],
          "scattercarpet": [
           {
            "marker": {
             "colorbar": {
              "outlinewidth": 0,
              "ticks": ""
             }
            },
            "type": "scattercarpet"
           }
          ],
          "scattergeo": [
           {
            "marker": {
             "colorbar": {
              "outlinewidth": 0,
              "ticks": ""
             }
            },
            "type": "scattergeo"
           }
          ],
          "scattergl": [
           {
            "marker": {
             "colorbar": {
              "outlinewidth": 0,
              "ticks": ""
             }
            },
            "type": "scattergl"
           }
          ],
          "scattermapbox": [
           {
            "marker": {
             "colorbar": {
              "outlinewidth": 0,
              "ticks": ""
             }
            },
            "type": "scattermapbox"
           }
          ],
          "scatterpolar": [
           {
            "marker": {
             "colorbar": {
              "outlinewidth": 0,
              "ticks": ""
             }
            },
            "type": "scatterpolar"
           }
          ],
          "scatterpolargl": [
           {
            "marker": {
             "colorbar": {
              "outlinewidth": 0,
              "ticks": ""
             }
            },
            "type": "scatterpolargl"
           }
          ],
          "scatterternary": [
           {
            "marker": {
             "colorbar": {
              "outlinewidth": 0,
              "ticks": ""
             }
            },
            "type": "scatterternary"
           }
          ],
          "surface": [
           {
            "colorbar": {
             "outlinewidth": 0,
             "ticks": ""
            },
            "colorscale": [
             [
              0,
              "#0d0887"
             ],
             [
              0.1111111111111111,
              "#46039f"
             ],
             [
              0.2222222222222222,
              "#7201a8"
             ],
             [
              0.3333333333333333,
              "#9c179e"
             ],
             [
              0.4444444444444444,
              "#bd3786"
             ],
             [
              0.5555555555555556,
              "#d8576b"
             ],
             [
              0.6666666666666666,
              "#ed7953"
             ],
             [
              0.7777777777777778,
              "#fb9f3a"
             ],
             [
              0.8888888888888888,
              "#fdca26"
             ],
             [
              1,
              "#f0f921"
             ]
            ],
            "type": "surface"
           }
          ],
          "table": [
           {
            "cells": {
             "fill": {
              "color": "#EBF0F8"
             },
             "line": {
              "color": "white"
             }
            },
            "header": {
             "fill": {
              "color": "#C8D4E3"
             },
             "line": {
              "color": "white"
             }
            },
            "type": "table"
           }
          ]
         },
         "layout": {
          "annotationdefaults": {
           "arrowcolor": "#2a3f5f",
           "arrowhead": 0,
           "arrowwidth": 1
          },
          "autotypenumbers": "strict",
          "coloraxis": {
           "colorbar": {
            "outlinewidth": 0,
            "ticks": ""
           }
          },
          "colorscale": {
           "diverging": [
            [
             0,
             "#8e0152"
            ],
            [
             0.1,
             "#c51b7d"
            ],
            [
             0.2,
             "#de77ae"
            ],
            [
             0.3,
             "#f1b6da"
            ],
            [
             0.4,
             "#fde0ef"
            ],
            [
             0.5,
             "#f7f7f7"
            ],
            [
             0.6,
             "#e6f5d0"
            ],
            [
             0.7,
             "#b8e186"
            ],
            [
             0.8,
             "#7fbc41"
            ],
            [
             0.9,
             "#4d9221"
            ],
            [
             1,
             "#276419"
            ]
           ],
           "sequential": [
            [
             0,
             "#0d0887"
            ],
            [
             0.1111111111111111,
             "#46039f"
            ],
            [
             0.2222222222222222,
             "#7201a8"
            ],
            [
             0.3333333333333333,
             "#9c179e"
            ],
            [
             0.4444444444444444,
             "#bd3786"
            ],
            [
             0.5555555555555556,
             "#d8576b"
            ],
            [
             0.6666666666666666,
             "#ed7953"
            ],
            [
             0.7777777777777778,
             "#fb9f3a"
            ],
            [
             0.8888888888888888,
             "#fdca26"
            ],
            [
             1,
             "#f0f921"
            ]
           ],
           "sequentialminus": [
            [
             0,
             "#0d0887"
            ],
            [
             0.1111111111111111,
             "#46039f"
            ],
            [
             0.2222222222222222,
             "#7201a8"
            ],
            [
             0.3333333333333333,
             "#9c179e"
            ],
            [
             0.4444444444444444,
             "#bd3786"
            ],
            [
             0.5555555555555556,
             "#d8576b"
            ],
            [
             0.6666666666666666,
             "#ed7953"
            ],
            [
             0.7777777777777778,
             "#fb9f3a"
            ],
            [
             0.8888888888888888,
             "#fdca26"
            ],
            [
             1,
             "#f0f921"
            ]
           ]
          },
          "colorway": [
           "#636efa",
           "#EF553B",
           "#00cc96",
           "#ab63fa",
           "#FFA15A",
           "#19d3f3",
           "#FF6692",
           "#B6E880",
           "#FF97FF",
           "#FECB52"
          ],
          "font": {
           "color": "#2a3f5f"
          },
          "geo": {
           "bgcolor": "white",
           "lakecolor": "white",
           "landcolor": "#E5ECF6",
           "showlakes": true,
           "showland": true,
           "subunitcolor": "white"
          },
          "hoverlabel": {
           "align": "left"
          },
          "hovermode": "closest",
          "mapbox": {
           "style": "light"
          },
          "paper_bgcolor": "white",
          "plot_bgcolor": "#E5ECF6",
          "polar": {
           "angularaxis": {
            "gridcolor": "white",
            "linecolor": "white",
            "ticks": ""
           },
           "bgcolor": "#E5ECF6",
           "radialaxis": {
            "gridcolor": "white",
            "linecolor": "white",
            "ticks": ""
           }
          },
          "scene": {
           "xaxis": {
            "backgroundcolor": "#E5ECF6",
            "gridcolor": "white",
            "gridwidth": 2,
            "linecolor": "white",
            "showbackground": true,
            "ticks": "",
            "zerolinecolor": "white"
           },
           "yaxis": {
            "backgroundcolor": "#E5ECF6",
            "gridcolor": "white",
            "gridwidth": 2,
            "linecolor": "white",
            "showbackground": true,
            "ticks": "",
            "zerolinecolor": "white"
           },
           "zaxis": {
            "backgroundcolor": "#E5ECF6",
            "gridcolor": "white",
            "gridwidth": 2,
            "linecolor": "white",
            "showbackground": true,
            "ticks": "",
            "zerolinecolor": "white"
           }
          },
          "shapedefaults": {
           "line": {
            "color": "#2a3f5f"
           }
          },
          "ternary": {
           "aaxis": {
            "gridcolor": "white",
            "linecolor": "white",
            "ticks": ""
           },
           "baxis": {
            "gridcolor": "white",
            "linecolor": "white",
            "ticks": ""
           },
           "bgcolor": "#E5ECF6",
           "caxis": {
            "gridcolor": "white",
            "linecolor": "white",
            "ticks": ""
           }
          },
          "title": {
           "x": 0.05
          },
          "xaxis": {
           "automargin": true,
           "gridcolor": "white",
           "linecolor": "white",
           "ticks": "",
           "title": {
            "standoff": 15
           },
           "zerolinecolor": "white",
           "zerolinewidth": 2
          },
          "yaxis": {
           "automargin": true,
           "gridcolor": "white",
           "linecolor": "white",
           "ticks": "",
           "title": {
            "standoff": 15
           },
           "zerolinecolor": "white",
           "zerolinewidth": 2
          }
         }
        },
        "title": {
         "text": "Activation Location: 42 (blocks.42.hook_resid_pre)"
        },
        "xaxis": {
         "title": {
          "text": "Magnitude"
         }
        },
        "yaxis": {
         "title": {
          "text": "Probability Density"
         }
        }
       }
      },
      "text/html": [
       "<div>                            <div id=\"a1b5139d-22f1-4fe4-bf3d-74ac2c29d5d0\" class=\"plotly-graph-div\" style=\"height:525px; width:100%;\"></div>            <script type=\"text/javascript\">                require([\"plotly\"], function(Plotly) {                    window.PLOTLYENV=window.PLOTLYENV || {};                                    if (document.getElementById(\"a1b5139d-22f1-4fe4-bf3d-74ac2c29d5d0\")) {                    Plotly.newPlot(                        \"a1b5139d-22f1-4fe4-bf3d-74ac2c29d5d0\",                        [{\"histnorm\":\"probability density\",\"name\":\"Bush did 9/11 b\",\"opacity\":0.75,\"x\":[3595.77880859375,370.8758239746094,436.68115234375,309.9027099609375,258.2983093261719,358.9163513183594,453.6609191894531],\"type\":\"histogram\"},{\"histnorm\":\"probability density\",\"name\":\"Barack Obama wa\",\"opacity\":0.75,\"x\":[3595.77880859375,344.86932373046875,311.5382995605469,371.3497314453125,382.5867919921875,311.47625732421875,261.9090576171875],\"type\":\"histogram\"},{\"histnorm\":\"probability density\",\"name\":\"Shrek starts of\",\"opacity\":0.75,\"x\":[3595.779296875,359.87542724609375,310.8803405761719,391.24462890625,397.3293762207031,414.7854309082031,409.29583740234375,384.7342834472656],\"type\":\"histogram\"},{\"histnorm\":\"probability density\",\"name\":\"I went up to my\",\"opacity\":0.75,\"x\":[3595.779296875,437.9986877441406,382.74237060546875,376.1755676269531,476.8891296386719,353.7035827636719,363.3344421386719,327.39093017578125,423.5238037109375],\"type\":\"histogram\"},{\"histnorm\":\"probability density\",\"name\":\"I talk about we\",\"opacity\":0.75,\"x\":[3595.77880859375,437.9986877441406,387.2633972167969,554.3279418945312,381.09185791015625,400.4378967285156],\"type\":\"histogram\"},{\"histnorm\":\"probability density\",\"name\":\"I bring up wedd\",\"opacity\":0.75,\"x\":[3595.779296875,437.9986877441406,367.1706237792969,514.3735961914062,367.38116455078125,372.95458984375,341.3298645019531,352.0809020996094],\"type\":\"histogram\"},{\"histnorm\":\"probability density\",\"name\":\"I hate talking \",\"opacity\":0.75,\"x\":[3595.779052734375,437.99871826171875,447.4679870605469,363.98516845703125,507.48077392578125,376.41949462890625,530.7174682617188,445.4849853515625,501.7142639160156,351.383544921875,372.6016540527344,429.06195068359375,518.0502319335938,465.4999694824219,389.16497802734375,417.0745849609375,494.00933837890625,455.3409118652344,517.7250366210938,492.1470642089844,427.7232360839844,456.9322509765625,280.5755615234375,295.5755310058594,359.8999328613281,341.67620849609375,314.087646484375,347.74774169921875,364.74853515625,523.9776611328125],\"type\":\"histogram\"}],                        {\"template\":{\"data\":{\"histogram2dcontour\":[{\"type\":\"histogram2dcontour\",\"colorbar\":{\"outlinewidth\":0,\"ticks\":\"\"},\"colorscale\":[[0.0,\"#0d0887\"],[0.1111111111111111,\"#46039f\"],[0.2222222222222222,\"#7201a8\"],[0.3333333333333333,\"#9c179e\"],[0.4444444444444444,\"#bd3786\"],[0.5555555555555556,\"#d8576b\"],[0.6666666666666666,\"#ed7953\"],[0.7777777777777778,\"#fb9f3a\"],[0.8888888888888888,\"#fdca26\"],[1.0,\"#f0f921\"]]}],\"choropleth\":[{\"type\":\"choropleth\",\"colorbar\":{\"outlinewidth\":0,\"ticks\":\"\"}}],\"histogram2d\":[{\"type\":\"histogram2d\",\"colorbar\":{\"outlinewidth\":0,\"ticks\":\"\"},\"colorscale\":[[0.0,\"#0d0887\"],[0.1111111111111111,\"#46039f\"],[0.2222222222222222,\"#7201a8\"],[0.3333333333333333,\"#9c179e\"],[0.4444444444444444,\"#bd3786\"],[0.5555555555555556,\"#d8576b\"],[0.6666666666666666,\"#ed7953\"],[0.7777777777777778,\"#fb9f3a\"],[0.8888888888888888,\"#fdca26\"],[1.0,\"#f0f921\"]]}],\"heatmap\":[{\"type\":\"heatmap\",\"colorbar\":{\"outlinewidth\":0,\"ticks\":\"\"},\"colorscale\":[[0.0,\"#0d0887\"],[0.1111111111111111,\"#46039f\"],[0.2222222222222222,\"#7201a8\"],[0.3333333333333333,\"#9c179e\"],[0.4444444444444444,\"#bd3786\"],[0.5555555555555556,\"#d8576b\"],[0.6666666666666666,\"#ed7953\"],[0.7777777777777778,\"#fb9f3a\"],[0.8888888888888888,\"#fdca26\"],[1.0,\"#f0f921\"]]}],\"heatmapgl\":[{\"type\":\"heatmapgl\",\"colorbar\":{\"outlinewidth\":0,\"ticks\":\"\"},\"colorscale\":[[0.0,\"#0d0887\"],[0.1111111111111111,\"#46039f\"],[0.2222222222222222,\"#7201a8\"],[0.3333333333333333,\"#9c179e\"],[0.4444444444444444,\"#bd3786\"],[0.5555555555555556,\"#d8576b\"],[0.6666666666666666,\"#ed7953\"],[0.7777777777777778,\"#fb9f3a\"],[0.8888888888888888,\"#fdca26\"],[1.0,\"#f0f921\"]]}],\"contourcarpet\":[{\"type\":\"contourcarpet\",\"colorbar\":{\"outlinewidth\":0,\"ticks\":\"\"}}],\"contour\":[{\"type\":\"contour\",\"colorbar\":{\"outlinewidth\":0,\"ticks\":\"\"},\"colorscale\":[[0.0,\"#0d0887\"],[0.1111111111111111,\"#46039f\"],[0.2222222222222222,\"#7201a8\"],[0.3333333333333333,\"#9c179e\"],[0.4444444444444444,\"#bd3786\"],[0.5555555555555556,\"#d8576b\"],[0.6666666666666666,\"#ed7953\"],[0.7777777777777778,\"#fb9f3a\"],[0.8888888888888888,\"#fdca26\"],[1.0,\"#f0f921\"]]}],\"surface\":[{\"type\":\"surface\",\"colorbar\":{\"outlinewidth\":0,\"ticks\":\"\"},\"colorscale\":[[0.0,\"#0d0887\"],[0.1111111111111111,\"#46039f\"],[0.2222222222222222,\"#7201a8\"],[0.3333333333333333,\"#9c179e\"],[0.4444444444444444,\"#bd3786\"],[0.5555555555555556,\"#d8576b\"],[0.6666666666666666,\"#ed7953\"],[0.7777777777777778,\"#fb9f3a\"],[0.8888888888888888,\"#fdca26\"],[1.0,\"#f0f921\"]]}],\"mesh3d\":[{\"type\":\"mesh3d\",\"colorbar\":{\"outlinewidth\":0,\"ticks\":\"\"}}],\"scatter\":[{\"fillpattern\":{\"fillmode\":\"overlay\",\"size\":10,\"solidity\":0.2},\"type\":\"scatter\"}],\"parcoords\":[{\"type\":\"parcoords\",\"line\":{\"colorbar\":{\"outlinewidth\":0,\"ticks\":\"\"}}}],\"scatterpolargl\":[{\"type\":\"scatterpolargl\",\"marker\":{\"colorbar\":{\"outlinewidth\":0,\"ticks\":\"\"}}}],\"bar\":[{\"error_x\":{\"color\":\"#2a3f5f\"},\"error_y\":{\"color\":\"#2a3f5f\"},\"marker\":{\"line\":{\"color\":\"#E5ECF6\",\"width\":0.5},\"pattern\":{\"fillmode\":\"overlay\",\"size\":10,\"solidity\":0.2}},\"type\":\"bar\"}],\"scattergeo\":[{\"type\":\"scattergeo\",\"marker\":{\"colorbar\":{\"outlinewidth\":0,\"ticks\":\"\"}}}],\"scatterpolar\":[{\"type\":\"scatterpolar\",\"marker\":{\"colorbar\":{\"outlinewidth\":0,\"ticks\":\"\"}}}],\"histogram\":[{\"marker\":{\"pattern\":{\"fillmode\":\"overlay\",\"size\":10,\"solidity\":0.2}},\"type\":\"histogram\"}],\"scattergl\":[{\"type\":\"scattergl\",\"marker\":{\"colorbar\":{\"outlinewidth\":0,\"ticks\":\"\"}}}],\"scatter3d\":[{\"type\":\"scatter3d\",\"line\":{\"colorbar\":{\"outlinewidth\":0,\"ticks\":\"\"}},\"marker\":{\"colorbar\":{\"outlinewidth\":0,\"ticks\":\"\"}}}],\"scattermapbox\":[{\"type\":\"scattermapbox\",\"marker\":{\"colorbar\":{\"outlinewidth\":0,\"ticks\":\"\"}}}],\"scatterternary\":[{\"type\":\"scatterternary\",\"marker\":{\"colorbar\":{\"outlinewidth\":0,\"ticks\":\"\"}}}],\"scattercarpet\":[{\"type\":\"scattercarpet\",\"marker\":{\"colorbar\":{\"outlinewidth\":0,\"ticks\":\"\"}}}],\"carpet\":[{\"aaxis\":{\"endlinecolor\":\"#2a3f5f\",\"gridcolor\":\"white\",\"linecolor\":\"white\",\"minorgridcolor\":\"white\",\"startlinecolor\":\"#2a3f5f\"},\"baxis\":{\"endlinecolor\":\"#2a3f5f\",\"gridcolor\":\"white\",\"linecolor\":\"white\",\"minorgridcolor\":\"white\",\"startlinecolor\":\"#2a3f5f\"},\"type\":\"carpet\"}],\"table\":[{\"cells\":{\"fill\":{\"color\":\"#EBF0F8\"},\"line\":{\"color\":\"white\"}},\"header\":{\"fill\":{\"color\":\"#C8D4E3\"},\"line\":{\"color\":\"white\"}},\"type\":\"table\"}],\"barpolar\":[{\"marker\":{\"line\":{\"color\":\"#E5ECF6\",\"width\":0.5},\"pattern\":{\"fillmode\":\"overlay\",\"size\":10,\"solidity\":0.2}},\"type\":\"barpolar\"}],\"pie\":[{\"automargin\":true,\"type\":\"pie\"}]},\"layout\":{\"autotypenumbers\":\"strict\",\"colorway\":[\"#636efa\",\"#EF553B\",\"#00cc96\",\"#ab63fa\",\"#FFA15A\",\"#19d3f3\",\"#FF6692\",\"#B6E880\",\"#FF97FF\",\"#FECB52\"],\"font\":{\"color\":\"#2a3f5f\"},\"hovermode\":\"closest\",\"hoverlabel\":{\"align\":\"left\"},\"paper_bgcolor\":\"white\",\"plot_bgcolor\":\"#E5ECF6\",\"polar\":{\"bgcolor\":\"#E5ECF6\",\"angularaxis\":{\"gridcolor\":\"white\",\"linecolor\":\"white\",\"ticks\":\"\"},\"radialaxis\":{\"gridcolor\":\"white\",\"linecolor\":\"white\",\"ticks\":\"\"}},\"ternary\":{\"bgcolor\":\"#E5ECF6\",\"aaxis\":{\"gridcolor\":\"white\",\"linecolor\":\"white\",\"ticks\":\"\"},\"baxis\":{\"gridcolor\":\"white\",\"linecolor\":\"white\",\"ticks\":\"\"},\"caxis\":{\"gridcolor\":\"white\",\"linecolor\":\"white\",\"ticks\":\"\"}},\"coloraxis\":{\"colorbar\":{\"outlinewidth\":0,\"ticks\":\"\"}},\"colorscale\":{\"sequential\":[[0.0,\"#0d0887\"],[0.1111111111111111,\"#46039f\"],[0.2222222222222222,\"#7201a8\"],[0.3333333333333333,\"#9c179e\"],[0.4444444444444444,\"#bd3786\"],[0.5555555555555556,\"#d8576b\"],[0.6666666666666666,\"#ed7953\"],[0.7777777777777778,\"#fb9f3a\"],[0.8888888888888888,\"#fdca26\"],[1.0,\"#f0f921\"]],\"sequentialminus\":[[0.0,\"#0d0887\"],[0.1111111111111111,\"#46039f\"],[0.2222222222222222,\"#7201a8\"],[0.3333333333333333,\"#9c179e\"],[0.4444444444444444,\"#bd3786\"],[0.5555555555555556,\"#d8576b\"],[0.6666666666666666,\"#ed7953\"],[0.7777777777777778,\"#fb9f3a\"],[0.8888888888888888,\"#fdca26\"],[1.0,\"#f0f921\"]],\"diverging\":[[0,\"#8e0152\"],[0.1,\"#c51b7d\"],[0.2,\"#de77ae\"],[0.3,\"#f1b6da\"],[0.4,\"#fde0ef\"],[0.5,\"#f7f7f7\"],[0.6,\"#e6f5d0\"],[0.7,\"#b8e186\"],[0.8,\"#7fbc41\"],[0.9,\"#4d9221\"],[1,\"#276419\"]]},\"xaxis\":{\"gridcolor\":\"white\",\"linecolor\":\"white\",\"ticks\":\"\",\"title\":{\"standoff\":15},\"zerolinecolor\":\"white\",\"automargin\":true,\"zerolinewidth\":2},\"yaxis\":{\"gridcolor\":\"white\",\"linecolor\":\"white\",\"ticks\":\"\",\"title\":{\"standoff\":15},\"zerolinecolor\":\"white\",\"automargin\":true,\"zerolinewidth\":2},\"scene\":{\"xaxis\":{\"backgroundcolor\":\"#E5ECF6\",\"gridcolor\":\"white\",\"linecolor\":\"white\",\"showbackground\":true,\"ticks\":\"\",\"zerolinecolor\":\"white\",\"gridwidth\":2},\"yaxis\":{\"backgroundcolor\":\"#E5ECF6\",\"gridcolor\":\"white\",\"linecolor\":\"white\",\"showbackground\":true,\"ticks\":\"\",\"zerolinecolor\":\"white\",\"gridwidth\":2},\"zaxis\":{\"backgroundcolor\":\"#E5ECF6\",\"gridcolor\":\"white\",\"linecolor\":\"white\",\"showbackground\":true,\"ticks\":\"\",\"zerolinecolor\":\"white\",\"gridwidth\":2}},\"shapedefaults\":{\"line\":{\"color\":\"#2a3f5f\"}},\"annotationdefaults\":{\"arrowcolor\":\"#2a3f5f\",\"arrowhead\":0,\"arrowwidth\":1},\"geo\":{\"bgcolor\":\"white\",\"landcolor\":\"#E5ECF6\",\"subunitcolor\":\"white\",\"showland\":true,\"showlakes\":true,\"lakecolor\":\"white\"},\"title\":{\"x\":0.05},\"mapbox\":{\"style\":\"light\"}}},\"title\":{\"text\":\"Activation Location: 42 (blocks.42.hook_resid_pre)\"},\"xaxis\":{\"title\":{\"text\":\"Magnitude\"}},\"yaxis\":{\"title\":{\"text\":\"Probability Density\"}},\"barmode\":\"overlay\",\"bargap\":0.1,\"bargroupgap\":0.1},                        {\"responsive\": true}                    ).then(function(){\n",
       "                            \n",
       "var gd = document.getElementById('a1b5139d-22f1-4fe4-bf3d-74ac2c29d5d0');\n",
       "var x = new MutationObserver(function (mutations, observer) {{\n",
       "        var display = window.getComputedStyle(gd).display;\n",
       "        if (!display || display === 'none') {{\n",
       "            console.log([gd, 'removed!']);\n",
       "            Plotly.purge(gd);\n",
       "            observer.disconnect();\n",
       "        }}\n",
       "}});\n",
       "\n",
       "// Listen for the removal of the full notebook cells\n",
       "var notebookContainer = gd.closest('#notebook-container');\n",
       "if (notebookContainer) {{\n",
       "    x.observe(notebookContainer, {childList: true});\n",
       "}}\n",
       "\n",
       "// Listen for the clearing of the current output cell\n",
       "var outputEl = gd.closest('.output');\n",
       "if (outputEl) {{\n",
       "    x.observe(outputEl, {childList: true});\n",
       "}}\n",
       "\n",
       "                        })                };                });            </script>        </div>"
      ]
     },
     "metadata": {},
     "output_type": "display_data"
    }
   ],
   "source": [
    "import plotly as py\n",
    "import plotly.graph_objs as go\n",
    "\n",
    "# Now let's make a histogram of the magnitudes for each act_loc,\n",
    "# coloring each prompt's magnitudes differently\n",
    "for act_loc in activation_locations:\n",
    "    act_name: str = prompt_utils.get_block_name(block_num=act_loc)\n",
    "\n",
    "    # Get the dataframe rows for the current act_loc\n",
    "    act_loc_df = df[df[\"Activation Location\"] == act_loc]\n",
    "\n",
    "    # Create a list of traces, one for each prompt\n",
    "    traces = []\n",
    "    for prompt in prompts:\n",
    "        # Get the dataframe rows for the current prompt\n",
    "        prompt_df = act_loc_df[act_loc_df[\"Prompt\"] == prompt]\n",
    "\n",
    "        # Create a histogram trace for the current prompt\n",
    "        traces.append(\n",
    "            go.Histogram(\n",
    "                x=prompt_df[\"Magnitude\"],\n",
    "                opacity=0.75,\n",
    "                name=prompt[:15],\n",
    "                histnorm=\"probability density\",\n",
    "            )\n",
    "        )\n",
    "\n",
    "    # Create a figure with the current traces\n",
    "    fig = go.Figure(data=traces)\n",
    "\n",
    "    # Update the figure's layout\n",
    "    fig.update_layout(\n",
    "        title=f\"Activation Location: {act_loc} ({act_name})\",\n",
    "        xaxis_title=\"Magnitude\",\n",
    "        yaxis_title=\"Probability Density\",\n",
    "        barmode=\"overlay\",\n",
    "        bargap=0.1,\n",
    "        bargroupgap=0.1,\n",
    "    )\n",
    "\n",
    "    # Show the figure\n",
    "    fig.show()\n"
   ]
  },
  {
   "cell_type": "code",
   "execution_count": null,
   "metadata": {},
   "outputs": [],
   "source": []
  }
 ],
 "metadata": {
  "kernelspec": {
   "display_name": "Python 3",
   "language": "python",
   "name": "python3"
  },
  "language_info": {
   "codemirror_mode": {
    "name": "ipython",
    "version": 3
   },
   "file_extension": ".py",
   "mimetype": "text/x-python",
   "name": "python",
   "nbconvert_exporter": "python",
   "pygments_lexer": "ipython3",
   "version": "3.11.3"
  },
  "orig_nbformat": 4
 },
 "nbformat": 4,
 "nbformat_minor": 2
}
