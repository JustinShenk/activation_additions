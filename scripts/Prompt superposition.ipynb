{
 "cells": [
  {
   "attachments": {},
   "cell_type": "markdown",
   "metadata": {},
   "source": [
    "# LMs can handle linear combinations of prompts\n",
    "We survey a range of transformers, including:\n",
    "- Eleuther models\n",
    "- OPT models\n",
    "- SOLU models\n",
    "- GPT-2, both small and XL\n",
    "- Vicuna, a 13B finetuned model **???**"
   ]
  },
  {
   "cell_type": "code",
   "execution_count": 1,
   "metadata": {},
   "outputs": [],
   "source": [
    "# Imports\n",
    "try:\n",
    "    import algebraic_value_editing\n",
    "except ImportError:\n",
    "    commit = \"15bcf55\"  # Stable commit\n",
    "    get_ipython().run_line_magic(  # type: ignore\n",
    "        magic_name=\"pip\",\n",
    "        line=(\n",
    "            \"install -U\"\n",
    "            f\" git+https://github.com/montemac/algebraic_value_editing.git@{commit}\"\n",
    "        ),\n",
    "    )\n"
   ]
  },
  {
   "cell_type": "code",
   "execution_count": 8,
   "metadata": {},
   "outputs": [],
   "source": [
    "import torch\n",
    "import pandas as pd\n",
    "from typing import List, Dict\n",
    "\n",
    "from transformer_lens.HookedTransformer import HookedTransformer\n",
    "\n",
    "from algebraic_value_editing import hook_utils, prompt_utils, completion_utils\n",
    "from algebraic_value_editing.prompt_utils import ActivationAddition"
   ]
  },
  {
   "cell_type": "code",
   "execution_count": 6,
   "metadata": {},
   "outputs": [
    {
     "data": {
      "text/plain": [
       "<torch._C.Generator at 0x7f88ae7b9e50>"
      ]
     },
     "execution_count": 6,
     "metadata": {},
     "output_type": "execute_result"
    }
   ],
   "source": [
    "DEVICE: str = \"cpu\"  # Default device\n",
    "DEFAULT_KWARGS: Dict = {\n",
    "    \"seed\": 0,\n",
    "    \"temperature\": 1.0,\n",
    "    \"freq_penalty\": 1.0,\n",
    "    \"top_p\": 0.3,\n",
    "    \"num_comparisons\": 10,\n",
    "}\n",
    "\n",
    "\n",
    "def load_model_tl(model_name: str, device: str = \"cpu\") -> HookedTransformer:\n",
    "    \"\"\"Loads a model on CPU and then transfers it to the device.\"\"\"\n",
    "    model: HookedTransformer = HookedTransformer.from_pretrained(\n",
    "        model_name, device=\"cpu\"\n",
    "    )\n",
    "    _ = model.to(device)\n",
    "    return model\n",
    "\n",
    "\n",
    "# Save memory by not computing gradients\n",
    "_ = torch.set_grad_enabled(False)\n",
    "torch.manual_seed(0)  # For reproducibility"
   ]
  },
  {
   "attachments": {},
   "cell_type": "markdown",
   "metadata": {},
   "source": [
    "## Starting off with GPT-2 small\n",
    "We use \"activation additions\" to combine prompts."
   ]
  },
  {
   "cell_type": "code",
   "execution_count": 4,
   "metadata": {},
   "outputs": [
    {
     "name": "stderr",
     "output_type": "stream",
     "text": [
      "Using pad_token, but it is not set yet.\n"
     ]
    },
    {
     "name": "stdout",
     "output_type": "stream",
     "text": [
      "Loaded pretrained model gpt2 into HookedTransformer\n",
      "Moving model to device:  cpu\n"
     ]
    }
   ],
   "source": [
    "gpt2small: HookedTransformer = load_model_tl(model_name=\"gpt2\", device=DEVICE)\n"
   ]
  },
  {
   "cell_type": "code",
   "execution_count": 22,
   "metadata": {},
   "outputs": [
    {
     "name": "stdout",
     "output_type": "stream",
     "text": [
      "['<|endoftext|>', 'Lots', ' of', ' ge', 'ese', ' are', ' chasing', ' UFOs']\n",
      "['<|endoftext|>', 'John', ' left', ' the', ' store', ' and', ' went', ' outside', '.', ' He', ' saw', ' his', ' friend', ' who', ' said', \" '\", 'Hey', ',', ' your', ' name', ' is']\n"
     ]
    }
   ],
   "source": [
    "goose_ufo_prompts: List[ActivationAddition] = [\n",
    "    ActivationAddition(prompt=\"Lots of geese are chasing UFOs\", coeff=2.0, act_name=0),\n",
    "]\n",
    "prompt: str = (\n",
    "    \"John left the store and went outside. He saw his friend who said 'Hey,\"\n",
    "    \" your name is\"\n",
    ")\n",
    "\n",
    "print(gpt2small.to_str_tokens(goose_ufo_prompts[0].prompt))\n",
    "print(gpt2small.to_str_tokens(prompt))\n"
   ]
  },
  {
   "cell_type": "code",
   "execution_count": null,
   "metadata": {},
   "outputs": [],
   "source": [
    "completion_utils.print_n_comparisons(\n",
    "    model=gpt2small,\n",
    "    prompt=prompt,\n",
    "    activation_additions=goose_ufo_prompts,\n",
    "    **DEFAULT_KWARGS\n",
    ")\n"
   ]
  },
  {
   "attachments": {},
   "cell_type": "markdown",
   "metadata": {},
   "source": [
    "Now let's use a word-count metric to see how often geese are mentioned\n",
    "in the generated text, across coefficients of the activation addition."
   ]
  },
  {
   "cell_type": "code",
   "execution_count": null,
   "metadata": {},
   "outputs": [],
   "source": [
    "model.t"
   ]
  }
 ],
 "metadata": {
  "kernelspec": {
   "display_name": "AVEC",
   "language": "python",
   "name": "python3"
  },
  "language_info": {
   "codemirror_mode": {
    "name": "ipython",
    "version": 3
   },
   "file_extension": ".py",
   "mimetype": "text/x-python",
   "name": "python",
   "nbconvert_exporter": "python",
   "pygments_lexer": "ipython3",
   "version": "3.11.0"
  },
  "orig_nbformat": 4
 },
 "nbformat": 4,
 "nbformat_minor": 2
}
